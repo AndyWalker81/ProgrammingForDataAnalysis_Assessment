{
 "cells": [
  {
   "cell_type": "markdown",
   "id": "874f72ad",
   "metadata": {},
   "source": [
    "# The numpy.random package "
   ]
  },
  {
   "cell_type": "markdown",
   "id": "6df241a1",
   "metadata": {},
   "source": [
    "## Programming for Data Analysis Assignment"
   ]
  },
  {
   "cell_type": "markdown",
   "id": "b754a200",
   "metadata": {},
   "source": [
    "### Andrew Walker - G00398788@gmit.ie"
   ]
  },
  {
   "cell_type": "markdown",
   "id": "b1bbe76a",
   "metadata": {},
   "source": [
    "![numpy.org](https://numpy.org/doc/stable/_static/numpylogo.svg)"
   ]
  },
  {
   "cell_type": "markdown",
   "id": "57f89fd9",
   "metadata": {},
   "source": [
    "## 1. Introduction"
   ]
  },
  {
   "cell_type": "markdown",
   "id": "d86aa1be",
   "metadata": {},
   "source": [
    "This notebook contains an explanation of the ```numpy.random``` package in Python. "
   ]
  },
  {
   "cell_type": "markdown",
   "id": "acdf6ba1",
   "metadata": {},
   "source": [
    "NumPy is an open source project aiming to enable numerical computing with Python (https://numpy.org/about/). It is used for working with arrays and also has functions for working in the domain of linear algebra, fourier transform, and matrices (https://www.w3schools.com/python/numpy/numpy_intro.asp). In has applications in a wide range of fields such as astronomy, physics, engineering, and economics. "
   ]
  },
  {
   "cell_type": "markdown",
   "id": "a8e63aa5",
   "metadata": {},
   "source": [
    "The ```numpy.random``` package within NumPy is used to generate a sequence of numbers which approximate the properties of random numbers. The sequence of numbers that is generated is statistically random and can be used in a wide range of applications.    "
   ]
  },
  {
   "cell_type": "markdown",
   "id": "668e8dc3",
   "metadata": {},
   "source": [
    "The package generates the sequence with the use of a BitGenerator and a Generator. The BitGenerator uses a seed to derive the initial state and create a sequence of statistically random numbers bits. The Generator converts the sequence of random bits for a BitGenerator into sequences of numbers that follow a specific probability distribution (https://numpy.org/doc/stable/reference/random/index.html). "
   ]
  },
  {
   "cell_type": "markdown",
   "id": "99221eb4",
   "metadata": {},
   "source": [
    "This notebook will explain the following overarching features of the ```numpy.random``` package:\n",
    "\n",
    "- Simple random data\n",
    "- Permutations\n",
    "- The purpose of five Distribution functions\n",
    "    - Uniform\n",
    "    - Bell\n",
    "    - ....\n",
    "    - ....\n",
    "    - ....\n",
    "- The use of seeds in generating pseudo-random numbers"
   ]
  },
  {
   "cell_type": "markdown",
   "id": "30b44469",
   "metadata": {},
   "source": [
    "The notebook will explain each feature and the functions contained in each. It will use ........ "
   ]
  },
  {
   "cell_type": "markdown",
   "id": "18d0cf8b",
   "metadata": {},
   "source": [
    "```matplotlib.pyplot``` will also be used....."
   ]
  },
  {
   "cell_type": "markdown",
   "id": "f5707cb3",
   "metadata": {},
   "source": [
    "At the time of writing this notebook, the latest release of ```numpy.random``` is 1.21.0. This contents of this notebook are based on this release."
   ]
  },
  {
   "cell_type": "markdown",
   "id": "4e361ae5",
   "metadata": {},
   "source": [
    "## 2. Initalising the ```numpy.random``` Package"
   ]
  },
  {
   "cell_type": "markdown",
   "id": "f14bbb9c",
   "metadata": {},
   "source": [
    "Import Numpy:"
   ]
  },
  {
   "cell_type": "code",
   "execution_count": 1,
   "id": "2c430dc6",
   "metadata": {},
   "outputs": [],
   "source": [
    "import numpy as np"
   ]
  },
  {
   "cell_type": "markdown",
   "id": "d4e56e16",
   "metadata": {},
   "source": [
    "Construct a new Generator with the default BitGenerator (PCG64): "
   ]
  },
  {
   "cell_type": "code",
   "execution_count": 2,
   "id": "db98f501",
   "metadata": {},
   "outputs": [],
   "source": [
    "rng = np.random.default_rng()"
   ]
  },
  {
   "cell_type": "markdown",
   "id": "c23f3174",
   "metadata": {},
   "source": [
    "A seed can be specified in ```default_rng```. The use of a known seed means that the the algorithm is repeatable. BitGenerators and seeds are discussed further in Section XXXXXX"
   ]
  },
  {
   "cell_type": "markdown",
   "id": "b573f3a3",
   "metadata": {},
   "source": [
    "Pyplot will also be used to allow plotting of outputs generated:"
   ]
  },
  {
   "cell_type": "code",
   "execution_count": 3,
   "id": "9510f085",
   "metadata": {},
   "outputs": [],
   "source": [
    "import matplotlib.pyplot as plt"
   ]
  },
  {
   "cell_type": "markdown",
   "id": "dfbf28d2",
   "metadata": {},
   "source": [
    "## 3. Simple Random Data"
   ]
  },
  {
   "cell_type": "markdown",
   "id": "bcae83ee",
   "metadata": {},
   "source": [
    "The ```numpy.random``` package contains four functions to generate simple random data. These are discussed in this section."
   ]
  },
  {
   "cell_type": "markdown",
   "id": "4ae05e21",
   "metadata": {},
   "source": [
    "### 3.1 Integers\n"
   ]
  },
  {
   "cell_type": "markdown",
   "id": "c67e06bb",
   "metadata": {},
   "source": [
    "Numpy can be instructed to return random integers. For example:"
   ]
  },
  {
   "cell_type": "code",
   "execution_count": 4,
   "id": "7251769b",
   "metadata": {},
   "outputs": [
    {
     "data": {
      "text/plain": [
       "array([1, 0, 2, 1, 0], dtype=int64)"
      ]
     },
     "execution_count": 4,
     "metadata": {},
     "output_type": "execute_result"
    }
   ],
   "source": [
    "rng.integers(0, 3, size=5)"
   ]
  },
  {
   "cell_type": "markdown",
   "id": "86865012",
   "metadata": {},
   "source": [
    "In this example, the first parameter (```0```) sets the lowest integer that is possible to be generated. The upper limit is defined by the second parameter (```3```); the highest integer that is possible to be generated is one lower than this number. The parameter ```size=5``` designates that 5 random numbers should be generated.  "
   ]
  },
  {
   "cell_type": "markdown",
   "id": "7d2bc477",
   "metadata": {},
   "source": [
    "The shape of the output can be changed by specifying the number of rows and columns. For example, a 5 x 5 array containing random numbers between 0 and 9 can be generated using the following:"
   ]
  },
  {
   "cell_type": "code",
   "execution_count": 5,
   "id": "87285c10",
   "metadata": {},
   "outputs": [
    {
     "data": {
      "text/plain": [
       "array([[4, 2, 1, 2, 6],\n",
       "       [2, 5, 1, 0, 1],\n",
       "       [6, 6, 3, 3, 9],\n",
       "       [0, 4, 3, 4, 3],\n",
       "       [0, 0, 8, 2, 6]], dtype=int64)"
      ]
     },
     "execution_count": 5,
     "metadata": {},
     "output_type": "execute_result"
    }
   ],
   "source": [
    "rng.integers(0, 10, size=(5,5))\n"
   ]
  },
  {
   "cell_type": "markdown",
   "id": "6b283ce1",
   "metadata": {},
   "source": [
    "In these examples, the output also includes the data type: ```dtype=int64```. By default, Python has the following data types:\n",
    "\n",
    "- strings\n",
    "- integer\n",
    "- float\n",
    "- boolean\n",
    "- complex\n",
    "\n",
    "NumPy also includes a number of additional data types (discussion of which is considered outside the scope of this notebook). \n",
    "\n",
    "```dtype=int64``` refers to the output containing 64-bit integers. This can be changed, as shown in the following example to output 8-bit integers:"
   ]
  },
  {
   "cell_type": "code",
   "execution_count": 6,
   "id": "1e0a152c",
   "metadata": {},
   "outputs": [
    {
     "data": {
      "text/plain": [
       "array([[3, 4, 3, 3, 5],\n",
       "       [0, 0, 3, 0, 8],\n",
       "       [4, 4, 5, 9, 5],\n",
       "       [1, 1, 6, 5, 7],\n",
       "       [1, 4, 7, 1, 4]], dtype=int8)"
      ]
     },
     "execution_count": 6,
     "metadata": {},
     "output_type": "execute_result"
    }
   ],
   "source": [
    "rng.integers(0, 10, size=(5,5), dtype='int8')"
   ]
  },
  {
   "cell_type": "markdown",
   "id": "60868e2d",
   "metadata": {},
   "source": [
    "The integers are generated by default as a discrete probability distribution. This means that the probability of outcomes is equally likely and with finite values (https://corporatefinanceinstitute.com/resources/knowledge/other/uniform-distribution/). "
   ]
  },
  {
   "cell_type": "code",
   "execution_count": 7,
   "id": "8f73fb0f",
   "metadata": {},
   "outputs": [
    {
     "data": {
      "image/png": "[encoded data removed]",
      "text/plain": [
       "<Figure size 432x288 with 1 Axes>"
      ]
     },
     "metadata": {
      "needs_background": "light"
     },
     "output_type": "display_data"
    }
   ],
   "source": [
    "x = rng.integers(100, size=10000)\n",
    "plt.hist(x)\n",
    "plt.show()"
   ]
  },
  {
   "cell_type": "markdown",
   "id": "54710501",
   "metadata": {},
   "source": [
    "### 2.2 Random"
   ]
  },
  {
   "cell_type": "markdown",
   "id": "bc704e6d",
   "metadata": {},
   "source": [
    "The Numpy random function returns random floats. For example:"
   ]
  },
  {
   "cell_type": "code",
   "execution_count": 8,
   "id": "a12de2c3",
   "metadata": {},
   "outputs": [
    {
     "data": {
      "text/plain": [
       "0.9320205063613622"
      ]
     },
     "execution_count": 8,
     "metadata": {},
     "output_type": "execute_result"
    }
   ],
   "source": [
    "rng.random()"
   ]
  },
  {
   "cell_type": "markdown",
   "id": "9e5e2869",
   "metadata": {},
   "source": [
    "The size of output can be specified:"
   ]
  },
  {
   "cell_type": "code",
   "execution_count": 9,
   "id": "5c2aaf9b",
   "metadata": {
    "scrolled": true
   },
   "outputs": [
    {
     "data": {
      "text/plain": [
       "array([[0.95124108, 0.92186062, 0.69643637, 0.2965583 , 0.94474831],\n",
       "       [0.59192763, 0.50976647, 0.88046639, 0.14544509, 0.77502563],\n",
       "       [0.67787353, 0.17512521, 0.29246238, 0.16626505, 0.83986167],\n",
       "       [0.61100061, 0.28907605, 0.74008519, 0.52193592, 0.29832216],\n",
       "       [0.80729513, 0.33406885, 0.29854525, 0.04458754, 0.55510515]])"
      ]
     },
     "execution_count": 9,
     "metadata": {},
     "output_type": "execute_result"
    }
   ],
   "source": [
    "rng.random(size=(5,5))"
   ]
  },
  {
   "cell_type": "markdown",
   "id": "5c36df4d",
   "metadata": {},
   "source": [
    "To specify the low and high values the formula ```(b + a) * rng.random() + a``` can be used. The following example outputs five floats between 0 (inclusive) and 3 (exclusive):"
   ]
  },
  {
   "cell_type": "code",
   "execution_count": 10,
   "id": "dde5e83b",
   "metadata": {},
   "outputs": [
    {
     "data": {
      "text/plain": [
       "array([[1.01312897, 0.41002982, 1.53981411, 2.51718796, 2.89642203],\n",
       "       [1.98406866, 0.43434448, 0.16007793, 2.89111323, 2.80660385],\n",
       "       [2.6933718 , 1.03962468, 2.97845913, 0.41859711, 1.40462671],\n",
       "       [1.24553637, 0.77561441, 0.24649035, 2.28621923, 0.85211977],\n",
       "       [1.97812995, 1.49294857, 2.92249427, 2.57936026, 2.71014392]])"
      ]
     },
     "execution_count": 10,
     "metadata": {},
     "output_type": "execute_result"
    }
   ],
   "source": [
    "a = 0 #low value\n",
    "b = 3 #high value\n",
    "x = rng.random(size=(5,5)) \n",
    "y = (b + a) * x + a\n",
    "y"
   ]
  },
  {
   "cell_type": "markdown",
   "id": "1c8282f9",
   "metadata": {},
   "source": [
    "Or for negative numbers between 0 (inclusive) and -1 (exclusive):"
   ]
  },
  {
   "cell_type": "code",
   "execution_count": 11,
   "id": "ea469ed7",
   "metadata": {},
   "outputs": [
    {
     "data": {
      "text/plain": [
       "array([[-0.68442567, -0.43205844, -0.48179163, -0.01299112, -0.10031617],\n",
       "       [-0.15521118, -0.0638312 , -0.18280247, -0.42883031, -0.90540068],\n",
       "       [-0.41567901, -0.55990498, -0.81393675, -0.53394771, -0.29031824],\n",
       "       [-0.52051177, -0.58843648, -0.12013429, -0.82570723, -0.4591276 ],\n",
       "       [-0.91088015, -0.67758762, -0.50172148, -0.98276379, -0.59253355]])"
      ]
     },
     "execution_count": 11,
     "metadata": {},
     "output_type": "execute_result"
    }
   ],
   "source": [
    "a = 0 \n",
    "b = -1 \n",
    "x = rng.random(size=(5,5)) \n",
    "y = (b + a) * x + a\n",
    "y"
   ]
  },
  {
   "cell_type": "markdown",
   "id": "3e1cb2c4",
   "metadata": {},
   "source": [
    "However, for negative numbers not including 0, the formula must be changed slightly. For example, for negative numbers between -1 (inclusive) and -2 (exclusive):"
   ]
  },
  {
   "cell_type": "code",
   "execution_count": 12,
   "id": "e0fc63bc",
   "metadata": {},
   "outputs": [
    {
     "data": {
      "text/plain": [
       "array([[-1.9771696 , -1.98119138, -1.69925595, -1.5488251 , -1.14833479],\n",
       "       [-1.63535166, -1.29748955, -1.55675231, -1.38568298, -1.49694251],\n",
       "       [-1.1091662 , -1.80995157, -1.77766997, -1.32129367, -1.82907576],\n",
       "       [-1.30390792, -1.94054255, -1.42221051, -1.07564983, -1.89431726],\n",
       "       [-1.36787858, -1.35130014, -1.35523877, -1.21282805, -1.81053174]])"
      ]
     },
     "execution_count": 12,
     "metadata": {},
     "output_type": "execute_result"
    }
   ],
   "source": [
    "a = -1 \n",
    "b = -2 \n",
    "x = rng.random(size=(5,5))  \n",
    "y = (b - a) * x + a\n",
    "y"
   ]
  },
  {
   "cell_type": "markdown",
   "id": "0457ae35",
   "metadata": {},
   "source": [
    "The floats are generated by default as a continuous probability distribution. This means that there are infinite number of equally likely measurable values. (https://corporatefinanceinstitute.com/resources/knowledge/other/uniform-distribution/). "
   ]
  },
  {
   "cell_type": "code",
   "execution_count": 13,
   "id": "0fab7b01",
   "metadata": {},
   "outputs": [
    {
     "data": {
      "text/plain": [
       "<function matplotlib.pyplot.show(close=None, block=None)>"
      ]
     },
     "execution_count": 13,
     "metadata": {},
     "output_type": "execute_result"
    },
    {
     "data": {
      "image/png": "[encoded data removed]",
      "text/plain": [
       "<Figure size 432x288 with 1 Axes>"
      ]
     },
     "metadata": {
      "needs_background": "light"
     },
     "output_type": "display_data"
    }
   ],
   "source": [
    "x = rng.random(size=10000)\n",
    "plt.hist(x)\n",
    "plt.show"
   ]
  },
  {
   "cell_type": "markdown",
   "id": "46a82682",
   "metadata": {},
   "source": [
    "### 2.3 Choice"
   ]
  },
  {
   "cell_type": "markdown",
   "id": "1f8cda7a",
   "metadata": {},
   "source": [
    "The Numpy choice function generates a random sample from a given array. For example:"
   ]
  },
  {
   "cell_type": "code",
   "execution_count": 14,
   "id": "31166edc",
   "metadata": {},
   "outputs": [
    {
     "data": {
      "text/plain": [
       "array([9, 0, 9, 1, 7], dtype=int64)"
      ]
     },
     "execution_count": 14,
     "metadata": {},
     "output_type": "execute_result"
    }
   ],
   "source": [
    "rng.choice(10, 5)"
   ]
  },
  {
   "cell_type": "markdown",
   "id": "30a28ada",
   "metadata": {},
   "source": [
    "This returns an array of 5 integers between 0 and 9 (inclusive) and is the equivalent of ```rng.integers(0, 10, 5)```."
   ]
  },
  {
   "cell_type": "markdown",
   "id": "e3bfedd7",
   "metadata": {},
   "source": [
    "By default, the distribution is uniform, as shown below:"
   ]
  },
  {
   "cell_type": "code",
   "execution_count": 15,
   "id": "a40f960e",
   "metadata": {},
   "outputs": [
    {
     "data": {
      "image/png": "[encoded data removed]",
      "text/plain": [
       "<Figure size 432x288 with 1 Axes>"
      ]
     },
     "metadata": {
      "needs_background": "light"
     },
     "output_type": "display_data"
    }
   ],
   "source": [
    "x = rng.choice(100, 10000)\n",
    "plt.hist(x)\n",
    "plt.show()"
   ]
  },
  {
   "cell_type": "markdown",
   "id": "dfb7c6eb",
   "metadata": {},
   "source": [
    "A non-uniform distribution can be generated by specifying parameter ```p``` for the probabilty of a choice occuring. For example:"
   ]
  },
  {
   "cell_type": "code",
   "execution_count": 16,
   "id": "ff4ba34b",
   "metadata": {},
   "outputs": [
    {
     "data": {
      "text/plain": [
       "array([2, 3, 0], dtype=int64)"
      ]
     },
     "execution_count": 16,
     "metadata": {},
     "output_type": "execute_result"
    }
   ],
   "source": [
    "rng.choice(5, 3, p=[0.1, 0, 0.3, 0.6, 0])"
   ]
  },
  {
   "cell_type": "markdown",
   "id": "230c170c",
   "metadata": {},
   "source": [
    "In this example, there is a 10% chance of 0 occuring for any the three numbers generated, a 0% percentage chance for a 1, a 30% chance for a 2, a 60% chance for a 3, and a 0% chance for a 4. "
   ]
  },
  {
   "cell_type": "markdown",
   "id": "3de7deac",
   "metadata": {},
   "source": [
    "Specifying parameter ```replace=False``` will result in an individual number not occurring more than once in the output:"
   ]
  },
  {
   "cell_type": "code",
   "execution_count": 17,
   "id": "b099d6da",
   "metadata": {},
   "outputs": [
    {
     "data": {
      "text/plain": [
       "array([0, 6, 9, 4, 7, 1, 5, 8, 3, 2], dtype=int64)"
      ]
     },
     "execution_count": 17,
     "metadata": {},
     "output_type": "execute_result"
    }
   ],
   "source": [
    "rng.choice(10, 10, replace=False)"
   ]
  },
  {
   "cell_type": "markdown",
   "id": "e4c85779",
   "metadata": {},
   "source": [
    "The axis along which the choice is performed can also be selected. The 0 axis refers to rows, and the 1 axis refers to columns (https://www.sharpsightlabs.com/blog/numpy-axes-explained/). The default is 0 is this parameter is not set. For example: "
   ]
  },
  {
   "cell_type": "code",
   "execution_count": 18,
   "id": "3b148e84",
   "metadata": {},
   "outputs": [
    {
     "data": {
      "text/plain": [
       "array([['0', '1', '2'],\n",
       "       ['C', 'D', 'E'],\n",
       "       ['C', 'D', 'E'],\n",
       "       ['9', 'A', 'B'],\n",
       "       ['6', '7', '8']], dtype='<U11')"
      ]
     },
     "execution_count": 18,
     "metadata": {},
     "output_type": "execute_result"
    }
   ],
   "source": [
    "x = rng.choice([[0,1,2], [3,4,5], [6,7,8], [9,'A','B'], ['C','D','E']], 5, axis=0)\n",
    "x"
   ]
  },
  {
   "cell_type": "markdown",
   "id": "ae5721c9",
   "metadata": {},
   "source": [
    "The above output contains five rows with three elements: "
   ]
  },
  {
   "cell_type": "code",
   "execution_count": 19,
   "id": "3eb18c1f",
   "metadata": {},
   "outputs": [
    {
     "data": {
      "text/plain": [
       "(5, 3)"
      ]
     },
     "execution_count": 19,
     "metadata": {},
     "output_type": "execute_result"
    }
   ],
   "source": [
    "(x.shape)"
   ]
  },
  {
   "cell_type": "markdown",
   "id": "9af2a897",
   "metadata": {},
   "source": [
    "Setting the axis to 1:"
   ]
  },
  {
   "cell_type": "code",
   "execution_count": 20,
   "id": "bea52740",
   "metadata": {},
   "outputs": [
    {
     "data": {
      "text/plain": [
       "array([['0', '0', '1', '2', '1'],\n",
       "       ['3', '3', '4', '5', '4'],\n",
       "       ['6', '6', '7', '8', '7'],\n",
       "       ['9', '9', 'A', 'B', 'A'],\n",
       "       ['C', 'C', 'D', 'E', 'D']], dtype='<U11')"
      ]
     },
     "execution_count": 20,
     "metadata": {},
     "output_type": "execute_result"
    }
   ],
   "source": [
    "x = rng.choice([[0,1,2], [3,4,5], [6,7,8], [9,'A','B'], ['C','D','E']], 5, axis=1)\n",
    "x"
   ]
  },
  {
   "cell_type": "markdown",
   "id": "2fc00c66",
   "metadata": {},
   "source": [
    "The above output contains five rows with five columns:"
   ]
  },
  {
   "cell_type": "code",
   "execution_count": 21,
   "id": "68a07557",
   "metadata": {},
   "outputs": [
    {
     "data": {
      "text/plain": [
       "(5, 5)"
      ]
     },
     "execution_count": 21,
     "metadata": {},
     "output_type": "execute_result"
    }
   ],
   "source": [
    "(x.shape)"
   ]
  },
  {
   "cell_type": "markdown",
   "id": "3423d39f",
   "metadata": {},
   "source": [
    "The choice function is not restricted to integers. For example:"
   ]
  },
  {
   "cell_type": "code",
   "execution_count": 22,
   "id": "5727ea24",
   "metadata": {},
   "outputs": [
    {
     "data": {
      "text/plain": [
       "array(['winter', 'spring', 'spring', 'winter'], dtype='<U6')"
      ]
     },
     "execution_count": 22,
     "metadata": {},
     "output_type": "execute_result"
    }
   ],
   "source": [
    "season = ['spring', 'summer', 'autumn', 'winter']\n",
    "rng.choice(season, 4, p=[0.5, 0, 0, 0.5])"
   ]
  },
  {
   "cell_type": "markdown",
   "id": "dd942e59",
   "metadata": {},
   "source": [
    "### 2.4 Bytes"
   ]
  },
  {
   "cell_type": "markdown",
   "id": "b4b53741",
   "metadata": {},
   "source": [
    "The Numpy bytes function returns random bytes, dependent on the specified length. The following example returns 10 bytes:"
   ]
  },
  {
   "cell_type": "code",
   "execution_count": 23,
   "id": "ef4d1b45",
   "metadata": {},
   "outputs": [
    {
     "data": {
      "text/plain": [
       "b'\\x03\\xf6d\\xcf\\xae`\\xcb5\\xd7\\xf4'"
      ]
     },
     "execution_count": 23,
     "metadata": {},
     "output_type": "execute_result"
    }
   ],
   "source": [
    "rng.bytes(10)\n"
   ]
  },
  {
   "cell_type": "markdown",
   "id": "e58e2b98",
   "metadata": {},
   "source": [
    "The bytes are returned in hex and ASCII. Any two characters following an x character are hex characters making up 1 byte; any other characters are ASCII characters of 1 byte each. The initial b is a prefix for bytes, and the output is enclosed in matching single quotes ('). "
   ]
  },
  {
   "cell_type": "markdown",
   "id": "dabb74fa",
   "metadata": {},
   "source": [
    "For example, ```b'\\xfd\\xd7\\x17\\xac\\xa3Ig\\xf0`\\xa1'``` would be made up of the following for a total of 10 bytes:\n",
    "\n",
    "- fd (hex)\n",
    "- d7 (hex)\n",
    "- 17 (hex)\n",
    "- ac (hex)\n",
    "- a3 (hex)\n",
    "- I (ASCII)\n",
    "- g (ASCII)\n",
    "- f0 (hex)\n",
    "- ` (ASCII)\n",
    "- a1 (hex)"
   ]
  },
  {
   "cell_type": "markdown",
   "id": "ab23cecc",
   "metadata": {},
   "source": [
    "https://stackoverflow.com/questions/26802581/can-anyone-identify-this-encoding?rq=1\n",
    "https://docs.python.org/3.4/reference/lexical_analysis.html#grammar-token-shortbytesitem"
   ]
  },
  {
   "cell_type": "code",
   "execution_count": null,
   "id": "d40d4689",
   "metadata": {},
   "outputs": [],
   "source": []
  },
  {
   "cell_type": "code",
   "execution_count": null,
   "id": "f7a18422",
   "metadata": {},
   "outputs": [],
   "source": []
  },
  {
   "cell_type": "markdown",
   "id": "c2181e8c",
   "metadata": {},
   "source": [
    "## 3. Permutations"
   ]
  },
  {
   "cell_type": "markdown",
   "id": "c9f79271",
   "metadata": {},
   "source": [
    "The ```numpy.random``` package contains three methods for randomly permutating a sequence. These are discussed in this section. "
   ]
  },
  {
   "cell_type": "markdown",
   "id": "6c35056c",
   "metadata": {},
   "source": [
    "### 3.1 Shuffle"
   ]
  },
  {
   "cell_type": "markdown",
   "id": "3d68daa5",
   "metadata": {},
   "source": [
    "The Numpy shuffle function rearranges the order of a sequence's contents. For example, the following will return a sequence of numbers from 0 to 9 (inclusive) in a random order:"
   ]
  },
  {
   "cell_type": "code",
   "execution_count": 24,
   "id": "914c4eec",
   "metadata": {},
   "outputs": [
    {
     "data": {
      "text/plain": [
       "array([6, 4, 5, 9, 1, 3, 2, 7, 8, 0], dtype=int64)"
      ]
     },
     "execution_count": 24,
     "metadata": {},
     "output_type": "execute_result"
    }
   ],
   "source": [
    "x = rng.choice(10, 10, replace=False)\n",
    "x"
   ]
  },
  {
   "cell_type": "markdown",
   "id": "7c8579b9",
   "metadata": {},
   "source": [
    "The squence order is then rearranged:"
   ]
  },
  {
   "cell_type": "code",
   "execution_count": 25,
   "id": "38b73201",
   "metadata": {},
   "outputs": [
    {
     "data": {
      "text/plain": [
       "array([5, 2, 4, 6, 0, 1, 7, 9, 8, 3], dtype=int64)"
      ]
     },
     "execution_count": 25,
     "metadata": {},
     "output_type": "execute_result"
    }
   ],
   "source": [
    "rng.shuffle(x)\n",
    "x"
   ]
  },
  {
   "cell_type": "markdown",
   "id": "c6911259",
   "metadata": {},
   "source": [
    "The shuffle function can also rearrange the sequence of arrays:"
   ]
  },
  {
   "cell_type": "code",
   "execution_count": 30,
   "id": "293c0408",
   "metadata": {},
   "outputs": [
    {
     "data": {
      "text/plain": [
       "array([['C', 'D', 'E'],\n",
       "       ['0', '1', '2'],\n",
       "       ['6', '7', '8'],\n",
       "       ['9', 'A', 'B'],\n",
       "       ['3', '4', '5']], dtype='<U11')"
      ]
     },
     "execution_count": 30,
     "metadata": {},
     "output_type": "execute_result"
    }
   ],
   "source": [
    "x = rng.choice([[0,1,2], [3,4,5], [6,7,8], [9,'A','B'], ['C','D','E']], 5, replace=False)\n",
    "x"
   ]
  },
  {
   "cell_type": "code",
   "execution_count": 31,
   "id": "23d2a918",
   "metadata": {},
   "outputs": [
    {
     "data": {
      "text/plain": [
       "array([['0', '1', '2'],\n",
       "       ['6', '7', '8'],\n",
       "       ['C', 'D', 'E'],\n",
       "       ['9', 'A', 'B'],\n",
       "       ['3', '4', '5']], dtype='<U11')"
      ]
     },
     "execution_count": 31,
     "metadata": {},
     "output_type": "execute_result"
    }
   ],
   "source": [
    "rng.shuffle(x)\n",
    "x"
   ]
  },
  {
   "cell_type": "markdown",
   "id": "55417436",
   "metadata": {},
   "source": [
    "By default, the axis parameter is set to zero. As can be seen in the above example, by default, the shuffle function will shuffle the order the rows, but not the order of the columns. "
   ]
  },
  {
   "cell_type": "markdown",
   "id": "7ababe00",
   "metadata": {},
   "source": [
    "In the below example, the axis is set to 1:"
   ]
  },
  {
   "cell_type": "code",
   "execution_count": 33,
   "id": "bdc4e7fe",
   "metadata": {},
   "outputs": [
    {
     "data": {
      "text/plain": [
       "array([['6', '7', '8'],\n",
       "       ['0', '1', '2'],\n",
       "       ['C', 'D', 'E'],\n",
       "       ['9', 'A', 'B'],\n",
       "       ['3', '4', '5']], dtype='<U11')"
      ]
     },
     "execution_count": 33,
     "metadata": {},
     "output_type": "execute_result"
    }
   ],
   "source": [
    "x = rng.choice([[0,1,2], [3,4,5], [6,7,8], [9,'A','B'], ['C','D','E']], 5, replace=False)\n",
    "x"
   ]
  },
  {
   "cell_type": "code",
   "execution_count": 34,
   "id": "9081f39d",
   "metadata": {},
   "outputs": [
    {
     "data": {
      "text/plain": [
       "array([['8', '7', '6'],\n",
       "       ['2', '1', '0'],\n",
       "       ['E', 'D', 'C'],\n",
       "       ['B', 'A', '9'],\n",
       "       ['5', '4', '3']], dtype='<U11')"
      ]
     },
     "execution_count": 34,
     "metadata": {},
     "output_type": "execute_result"
    }
   ],
   "source": [
    "rng.shuffle(x, axis=1)\n",
    "x"
   ]
  },
  {
   "cell_type": "markdown",
   "id": "e7eeb20f",
   "metadata": {},
   "source": [
    "This results in a shuffling of the columns, but the row order remaining the same."
   ]
  },
  {
   "cell_type": "markdown",
   "id": "c9c9df93",
   "metadata": {},
   "source": [
    "### 3.2 Permutation"
   ]
  },
  {
   "cell_type": "code",
   "execution_count": null,
   "id": "b013c4f4",
   "metadata": {},
   "outputs": [],
   "source": []
  },
  {
   "cell_type": "markdown",
   "id": "786431ec",
   "metadata": {},
   "source": [
    "### 3.3 Permuted"
   ]
  },
  {
   "cell_type": "code",
   "execution_count": null,
   "id": "46de6140",
   "metadata": {},
   "outputs": [],
   "source": []
  },
  {
   "cell_type": "code",
   "execution_count": null,
   "id": "79638520",
   "metadata": {},
   "outputs": [],
   "source": []
  },
  {
   "cell_type": "code",
   "execution_count": null,
   "id": "960b59ad",
   "metadata": {},
   "outputs": [],
   "source": []
  },
  {
   "cell_type": "code",
   "execution_count": null,
   "id": "06017a52",
   "metadata": {},
   "outputs": [],
   "source": []
  },
  {
   "cell_type": "code",
   "execution_count": null,
   "id": "c24a9bc0",
   "metadata": {},
   "outputs": [],
   "source": []
  },
  {
   "cell_type": "code",
   "execution_count": null,
   "id": "46e083ec",
   "metadata": {},
   "outputs": [],
   "source": []
  },
  {
   "cell_type": "markdown",
   "id": "73d92da6",
   "metadata": {},
   "source": [
    "```numpy.random``` uses a seed to derive the initial state with a sequence of statistcally random numbers generated from this known starting point; the use of a known seed means that the the algorithm is repeatable. \n",
    "\n",
    "Therefore, the numbers generated are not completely random and are known as \"pseudo-random numbers\"."
   ]
  }
 ],
 "metadata": {
  "kernelspec": {
   "display_name": "Python 3 (ipykernel)",
   "language": "python",
   "name": "python3"
  },
  "language_info": {
   "codemirror_mode": {
    "name": "ipython",
    "version": 3
   },
   "file_extension": ".py",
   "mimetype": "text/x-python",
   "name": "python",
   "nbconvert_exporter": "python",
   "pygments_lexer": "ipython3",
   "version": "3.8.11"
  }
 },
 "nbformat": 4,
 "nbformat_minor": 5
}
