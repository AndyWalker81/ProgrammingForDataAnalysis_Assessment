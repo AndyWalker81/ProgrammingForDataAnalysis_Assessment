{
 "cells": [
  {
   "cell_type": "markdown",
   "id": "874f72ad",
   "metadata": {},
   "source": [
    "# The numpy.random package "
   ]
  },
  {
   "cell_type": "markdown",
   "id": "6df241a1",
   "metadata": {},
   "source": [
    "## Programming for Data Analysis Assignment"
   ]
  },
  {
   "cell_type": "markdown",
   "id": "b754a200",
   "metadata": {},
   "source": [
    "### Andrew Walker - G00398788@gmit.ie"
   ]
  },
  {
   "cell_type": "markdown",
   "id": "b1bbe76a",
   "metadata": {},
   "source": [
    "![numpy.org](https://numpy.org/doc/stable/_static/numpylogo.svg)"
   ]
  },
  {
   "cell_type": "markdown",
   "id": "57f89fd9",
   "metadata": {},
   "source": [
    "## 1. Introduction"
   ]
  },
  {
   "cell_type": "markdown",
   "id": "d86aa1be",
   "metadata": {},
   "source": [
    "This notebook contains an explanation of the ```numpy.random``` package in Python. "
   ]
  },
  {
   "cell_type": "markdown",
   "id": "acdf6ba1",
   "metadata": {},
   "source": [
    "NumPy is an open source project aiming to enable numerical computing with Python (https://numpy.org/about/). It is used for working with arrays and also has functions for working in the domain of linear algebra, fourier transform, and matrices (https://www.w3schools.com/python/numpy/numpy_intro.asp). In has applications in a wide range of fields such as astronomy, physics, engineering, and economics. "
   ]
  },
  {
   "cell_type": "markdown",
   "id": "a8e63aa5",
   "metadata": {},
   "source": [
    "The ```numpy.random``` package within NumPy is used to generate a sequence of numbers which approximate the properties of random numbers. The sequence of numbers that is generated is statistically random and can be used in a wide range of applications.    "
   ]
  },
  {
   "cell_type": "markdown",
   "id": "668e8dc3",
   "metadata": {},
   "source": [
    "The package generates the sequence with the use of a BitGenerator and a Generator. The BitGenerator uses a seed to derive the initial state and create a sequence of statistically random numbers bits. The Generator converts the sequence of random bits for a BitGenerator into sequences of numbers that follow a specific probability distribution (https://numpy.org/doc/stable/reference/random/index.html). "
   ]
  },
  {
   "cell_type": "markdown",
   "id": "99221eb4",
   "metadata": {},
   "source": [
    "This notebook will explain the following overarching features of the ```numpy.random``` package:\n",
    "\n",
    "- Simple random data\n",
    "- Permutations\n",
    "- The purpose of five Distribution functions\n",
    "    - Uniform\n",
    "    - Bell\n",
    "    - ....\n",
    "    - ....\n",
    "    - ....\n",
    "- The use of seeds in generating pseudo-random numbers"
   ]
  },
  {
   "cell_type": "markdown",
   "id": "30b44469",
   "metadata": {},
   "source": [
    "The notebook will explain each feature and the functions contained in each. It will use ........ "
   ]
  },
  {
   "cell_type": "markdown",
   "id": "18d0cf8b",
   "metadata": {},
   "source": [
    "```matplotlib.pyplot``` will also be used....."
   ]
  },
  {
   "cell_type": "markdown",
   "id": "f5707cb3",
   "metadata": {},
   "source": [
    "At the time of writing this notebook, the latest release of ```numpy.random``` is 1.21.0. This contents of this notebook are based on this release."
   ]
  },
  {
   "cell_type": "markdown",
   "id": "4e361ae5",
   "metadata": {},
   "source": [
    "## 2. Initalising the ```numpy.random``` Package"
   ]
  },
  {
   "cell_type": "markdown",
   "id": "f14bbb9c",
   "metadata": {},
   "source": [
    "Import Numpy:"
   ]
  },
  {
   "cell_type": "code",
   "execution_count": 1,
   "id": "2c430dc6",
   "metadata": {},
   "outputs": [],
   "source": [
    "import numpy as np"
   ]
  },
  {
   "cell_type": "markdown",
   "id": "d4e56e16",
   "metadata": {},
   "source": [
    "Construct a new Generator with the default BitGenerator (PCG64): "
   ]
  },
  {
   "cell_type": "code",
   "execution_count": 2,
   "id": "db98f501",
   "metadata": {},
   "outputs": [],
   "source": [
    "rng = np.random.default_rng()"
   ]
  },
  {
   "cell_type": "markdown",
   "id": "c23f3174",
   "metadata": {},
   "source": [
    "A seed can be specified in ```default_rng```. The use of a known seed means that the the algorithm is repeatable. BitGenerators and seeds are discussed further in Section XXXXXX"
   ]
  },
  {
   "cell_type": "markdown",
   "id": "b573f3a3",
   "metadata": {},
   "source": [
    "Pyplot will also be used to allow plotting of outputs generated, where required:"
   ]
  },
  {
   "cell_type": "code",
   "execution_count": 3,
   "id": "9510f085",
   "metadata": {},
   "outputs": [],
   "source": [
    "import matplotlib.pyplot as plt"
   ]
  },
  {
   "cell_type": "markdown",
   "id": "dfbf28d2",
   "metadata": {},
   "source": [
    "## 3. Simple Random Data"
   ]
  },
  {
   "cell_type": "markdown",
   "id": "bcae83ee",
   "metadata": {},
   "source": [
    "The ```numpy.random``` package contains four functions to generate simple random data. These are discussed in this section."
   ]
  },
  {
   "cell_type": "markdown",
   "id": "4ae05e21",
   "metadata": {},
   "source": [
    "### 3.1 Integers\n"
   ]
  },
  {
   "cell_type": "markdown",
   "id": "c67e06bb",
   "metadata": {},
   "source": [
    "Numpy can be instructed to return random integers. For example:"
   ]
  },
  {
   "cell_type": "code",
   "execution_count": 4,
   "id": "7251769b",
   "metadata": {},
   "outputs": [
    {
     "data": {
      "text/plain": [
       "array([2, 0, 2, 2, 2], dtype=int64)"
      ]
     },
     "execution_count": 4,
     "metadata": {},
     "output_type": "execute_result"
    }
   ],
   "source": [
    "rng.integers(0, 3, size=5)"
   ]
  },
  {
   "cell_type": "markdown",
   "id": "86865012",
   "metadata": {},
   "source": [
    "In this example, the first parameter (```0```) sets the lowest integer that is possible to be generated. The upper limit is defined by the second parameter (```3```); the highest integer that is possible to be generated is one lower than this number. The parameter ```size=5``` designates that 5 random numbers should be generated.  "
   ]
  },
  {
   "cell_type": "markdown",
   "id": "7d2bc477",
   "metadata": {},
   "source": [
    "The shape of the output can be changed by specifying the number of rows and columns. For example, a 5 x 5 array containing random numbers between 0 and 9 can be generated using the following:"
   ]
  },
  {
   "cell_type": "code",
   "execution_count": 5,
   "id": "87285c10",
   "metadata": {},
   "outputs": [
    {
     "data": {
      "text/plain": [
       "array([[8, 3, 2, 4, 1],\n",
       "       [6, 1, 2, 0, 5],\n",
       "       [5, 4, 3, 4, 9],\n",
       "       [9, 2, 0, 4, 4],\n",
       "       [3, 9, 2, 9, 7]], dtype=int64)"
      ]
     },
     "execution_count": 5,
     "metadata": {},
     "output_type": "execute_result"
    }
   ],
   "source": [
    "rng.integers(0, 10, size=(5,5))\n"
   ]
  },
  {
   "cell_type": "markdown",
   "id": "6b283ce1",
   "metadata": {},
   "source": [
    "In these examples, the output also includes the data type: ```dtype=int64```. By default, Python has the following data types:\n",
    "\n",
    "- strings\n",
    "- integer\n",
    "- float\n",
    "- boolean\n",
    "- complex\n",
    "\n",
    "NumPy also includes a number of additional data types (discussion of which is considered outside the scope of this notebook). \n",
    "\n",
    "```dtype=int64``` refers to the output containing 64-bit integers. This can be changed, as shown in the following example to output 8-bit integers:"
   ]
  },
  {
   "cell_type": "code",
   "execution_count": 6,
   "id": "1e0a152c",
   "metadata": {},
   "outputs": [
    {
     "data": {
      "text/plain": [
       "array([[2, 8, 5, 4, 8],\n",
       "       [5, 9, 8, 2, 8],\n",
       "       [3, 1, 8, 6, 7],\n",
       "       [8, 2, 1, 0, 9],\n",
       "       [4, 7, 6, 9, 2]], dtype=int8)"
      ]
     },
     "execution_count": 6,
     "metadata": {},
     "output_type": "execute_result"
    }
   ],
   "source": [
    "rng.integers(0, 10, size=(5,5), dtype='int8')"
   ]
  },
  {
   "cell_type": "markdown",
   "id": "60868e2d",
   "metadata": {},
   "source": [
    "The integers are generated by default as a discrete probability distribution. This means that the probability of outcomes is equally likely and with finite values (https://corporatefinanceinstitute.com/resources/knowledge/other/uniform-distribution/). "
   ]
  },
  {
   "cell_type": "code",
   "execution_count": 7,
   "id": "8f73fb0f",
   "metadata": {},
   "outputs": [
    {
     "data": {
      "image/png": "[encoded data removed]",
      "text/plain": [
       "<Figure size 432x288 with 1 Axes>"
      ]
     },
     "metadata": {
      "needs_background": "light"
     },
     "output_type": "display_data"
    }
   ],
   "source": [
    "x = rng.integers(100, size=10000)\n",
    "plt.hist(x)\n",
    "plt.show()"
   ]
  },
  {
   "cell_type": "markdown",
   "id": "54710501",
   "metadata": {},
   "source": [
    "### 2.2 Random"
   ]
  },
  {
   "cell_type": "markdown",
   "id": "bc704e6d",
   "metadata": {},
   "source": [
    "The Numpy random function returns random floats. For example:"
   ]
  },
  {
   "cell_type": "code",
   "execution_count": 8,
   "id": "a12de2c3",
   "metadata": {},
   "outputs": [
    {
     "data": {
      "text/plain": [
       "0.4551198305212868"
      ]
     },
     "execution_count": 8,
     "metadata": {},
     "output_type": "execute_result"
    }
   ],
   "source": [
    "rng.random()"
   ]
  },
  {
   "cell_type": "markdown",
   "id": "9e5e2869",
   "metadata": {},
   "source": [
    "The size of output can be specified:"
   ]
  },
  {
   "cell_type": "code",
   "execution_count": 9,
   "id": "5c2aaf9b",
   "metadata": {
    "scrolled": true
   },
   "outputs": [
    {
     "data": {
      "text/plain": [
       "array([[0.74479967, 0.82744474, 0.46299365, 0.65402903, 0.04856384],\n",
       "       [0.58922851, 0.88546409, 0.0154282 , 0.1798345 , 0.0463768 ],\n",
       "       [0.5283617 , 0.6805566 , 0.792632  , 0.84272611, 0.46893591],\n",
       "       [0.20444238, 0.59902099, 0.54884827, 0.68051712, 0.93570188],\n",
       "       [0.17148045, 0.89529628, 0.34362457, 0.21080048, 0.97414566]])"
      ]
     },
     "execution_count": 9,
     "metadata": {},
     "output_type": "execute_result"
    }
   ],
   "source": [
    "rng.random(size=(5,5))"
   ]
  },
  {
   "cell_type": "markdown",
   "id": "5c36df4d",
   "metadata": {},
   "source": [
    "To specify the low and high values the formula ```(b + a) * rng.random() + a``` can be used. The following example outputs five floats between 0 (inclusive) and 3 (exclusive):"
   ]
  },
  {
   "cell_type": "code",
   "execution_count": 10,
   "id": "dde5e83b",
   "metadata": {},
   "outputs": [
    {
     "data": {
      "text/plain": [
       "array([[2.16105944, 0.99971808, 0.09580949, 1.56736343, 1.46288223],\n",
       "       [2.70060092, 1.17290707, 1.83379135, 1.7771666 , 2.7824592 ],\n",
       "       [0.64065927, 1.13231641, 2.83150005, 0.48514768, 2.92460991],\n",
       "       [1.81459914, 1.63715292, 2.66661091, 1.20258027, 0.68944189],\n",
       "       [1.45522078, 1.80592211, 1.03926152, 1.52078016, 1.15447534]])"
      ]
     },
     "execution_count": 10,
     "metadata": {},
     "output_type": "execute_result"
    }
   ],
   "source": [
    "a = 0 #low value\n",
    "b = 3 #high value\n",
    "x = rng.random(size=(5,5)) \n",
    "y = (b + a) * x + a\n",
    "y"
   ]
  },
  {
   "cell_type": "markdown",
   "id": "1c8282f9",
   "metadata": {},
   "source": [
    "Or for negative numbers between 0 (inclusive) and -1 (exclusive):"
   ]
  },
  {
   "cell_type": "code",
   "execution_count": 11,
   "id": "ea469ed7",
   "metadata": {},
   "outputs": [
    {
     "data": {
      "text/plain": [
       "array([[-0.96990752, -0.84620923, -0.66587432, -0.31779103, -0.61300359],\n",
       "       [-0.88214549, -0.8353257 , -0.47009845, -0.74730617, -0.56179191],\n",
       "       [-0.93697742, -0.33701242, -0.83277968, -0.64110585, -0.09157858],\n",
       "       [-0.67016202, -0.66950274, -0.44235964, -0.71506292, -0.69333289],\n",
       "       [-0.24412032, -0.05307453, -0.80445549, -0.08330806, -0.68761679]])"
      ]
     },
     "execution_count": 11,
     "metadata": {},
     "output_type": "execute_result"
    }
   ],
   "source": [
    "a = 0 \n",
    "b = -1 \n",
    "x = rng.random(size=(5,5)) \n",
    "y = (b + a) * x + a\n",
    "y"
   ]
  },
  {
   "cell_type": "markdown",
   "id": "3e1cb2c4",
   "metadata": {},
   "source": [
    "However, for negative numbers not including 0, the formula must be changed slightly. For example, for negative numbers between -1 (inclusive) and -2 (exclusive):"
   ]
  },
  {
   "cell_type": "code",
   "execution_count": 12,
   "id": "e0fc63bc",
   "metadata": {},
   "outputs": [
    {
     "data": {
      "text/plain": [
       "array([[-1.67690944, -1.86962137, -1.12909116, -1.4771765 , -1.19894233],\n",
       "       [-1.71444784, -1.78083769, -1.97409919, -1.49919678, -1.4746357 ],\n",
       "       [-1.24219441, -1.9587149 , -1.81013864, -1.87359041, -1.2282859 ],\n",
       "       [-1.4165203 , -1.41981653, -1.64589705, -1.22024765, -1.31324831],\n",
       "       [-1.62975612, -1.5094889 , -1.65268037, -1.62164102, -1.49602698]])"
      ]
     },
     "execution_count": 12,
     "metadata": {},
     "output_type": "execute_result"
    }
   ],
   "source": [
    "a = -1 \n",
    "b = -2 \n",
    "x = rng.random(size=(5,5))  \n",
    "y = (b - a) * x + a\n",
    "y"
   ]
  },
  {
   "cell_type": "markdown",
   "id": "0457ae35",
   "metadata": {},
   "source": [
    "The floats are generated by default as a continuous probability distribution. This means that there are infinite number of equally likely measurable values. (https://corporatefinanceinstitute.com/resources/knowledge/other/uniform-distribution/). "
   ]
  },
  {
   "cell_type": "code",
   "execution_count": 13,
   "id": "0fab7b01",
   "metadata": {},
   "outputs": [
    {
     "data": {
      "text/plain": [
       "<function matplotlib.pyplot.show(close=None, block=None)>"
      ]
     },
     "execution_count": 13,
     "metadata": {},
     "output_type": "execute_result"
    },
    {
     "data": {
      "image/png": "[encoded data removed]",
      "text/plain": [
       "<Figure size 432x288 with 1 Axes>"
      ]
     },
     "metadata": {
      "needs_background": "light"
     },
     "output_type": "display_data"
    }
   ],
   "source": [
    "x = rng.random(size=10000)\n",
    "plt.hist(x)\n",
    "plt.show"
   ]
  },
  {
   "cell_type": "markdown",
   "id": "46a82682",
   "metadata": {},
   "source": [
    "### 2.3 Choice"
   ]
  },
  {
   "cell_type": "markdown",
   "id": "1f8cda7a",
   "metadata": {},
   "source": [
    "The Numpy choice function generates a random sample from a given array. For example:"
   ]
  },
  {
   "cell_type": "code",
   "execution_count": 14,
   "id": "31166edc",
   "metadata": {},
   "outputs": [
    {
     "data": {
      "text/plain": [
       "array([2, 4, 9, 9, 1], dtype=int64)"
      ]
     },
     "execution_count": 14,
     "metadata": {},
     "output_type": "execute_result"
    }
   ],
   "source": [
    "rng.choice(10, 5)"
   ]
  },
  {
   "cell_type": "markdown",
   "id": "30a28ada",
   "metadata": {},
   "source": [
    "This returns an array of 5 integers between 0 and 9 (inclusive) and is the equivalent of ```rng.integers(0, 10, 5)```."
   ]
  },
  {
   "cell_type": "markdown",
   "id": "e3bfedd7",
   "metadata": {},
   "source": [
    "By default, the distribution is uniform, as shown below:"
   ]
  },
  {
   "cell_type": "code",
   "execution_count": 15,
   "id": "a40f960e",
   "metadata": {},
   "outputs": [
    {
     "data": {
      "image/png": "[encoded data removed]",
      "text/plain": [
       "<Figure size 432x288 with 1 Axes>"
      ]
     },
     "metadata": {
      "needs_background": "light"
     },
     "output_type": "display_data"
    }
   ],
   "source": [
    "x = rng.choice(100, 10000)\n",
    "plt.hist(x)\n",
    "plt.show()"
   ]
  },
  {
   "cell_type": "markdown",
   "id": "dfb7c6eb",
   "metadata": {},
   "source": [
    "A non-uniform distribution can be generated by specifying parameter ```p``` for the probabilty of a choice occuring. For example:"
   ]
  },
  {
   "cell_type": "code",
   "execution_count": 16,
   "id": "ff4ba34b",
   "metadata": {},
   "outputs": [
    {
     "data": {
      "text/plain": [
       "array([3, 3, 2], dtype=int64)"
      ]
     },
     "execution_count": 16,
     "metadata": {},
     "output_type": "execute_result"
    }
   ],
   "source": [
    "rng.choice(5, 3, p=[0.1, 0, 0.3, 0.6, 0])"
   ]
  },
  {
   "cell_type": "markdown",
   "id": "230c170c",
   "metadata": {},
   "source": [
    "In this example, there is a 10% chance of 0 occuring for any the three numbers generated, a 0% percentage chance for a 1, a 30% chance for a 2, a 60% chance for a 3, and a 0% chance for a 4. "
   ]
  },
  {
   "cell_type": "markdown",
   "id": "3de7deac",
   "metadata": {},
   "source": [
    "Specifying parameter ```replace=False``` will result in an individual number not occurring more than once in the output:"
   ]
  },
  {
   "cell_type": "code",
   "execution_count": 17,
   "id": "b099d6da",
   "metadata": {},
   "outputs": [
    {
     "data": {
      "text/plain": [
       "array([1, 4, 9, 2, 6, 3, 7, 0, 5, 8], dtype=int64)"
      ]
     },
     "execution_count": 17,
     "metadata": {},
     "output_type": "execute_result"
    }
   ],
   "source": [
    "rng.choice(10, 10, replace=False)"
   ]
  },
  {
   "cell_type": "markdown",
   "id": "e4c85779",
   "metadata": {},
   "source": [
    "The axis along which the choice is performed can also be selected. The 0 axis refers to rows, and the 1 axis refers to columns (https://www.sharpsightlabs.com/blog/numpy-axes-explained/). The default is 0 is this parameter is not set. For example: "
   ]
  },
  {
   "cell_type": "code",
   "execution_count": 18,
   "id": "3b148e84",
   "metadata": {},
   "outputs": [
    {
     "data": {
      "text/plain": [
       "array([['9', 'A', 'B'],\n",
       "       ['0', '1', '2'],\n",
       "       ['6', '7', '8'],\n",
       "       ['9', 'A', 'B'],\n",
       "       ['6', '7', '8']], dtype='<U11')"
      ]
     },
     "execution_count": 18,
     "metadata": {},
     "output_type": "execute_result"
    }
   ],
   "source": [
    "x = rng.choice([[0,1,2], [3,4,5], [6,7,8], [9,'A','B'], ['C','D','E']], 5, axis=0)\n",
    "x"
   ]
  },
  {
   "cell_type": "markdown",
   "id": "ae5721c9",
   "metadata": {},
   "source": [
    "The above output contains five rows with three elements: "
   ]
  },
  {
   "cell_type": "code",
   "execution_count": 19,
   "id": "3eb18c1f",
   "metadata": {},
   "outputs": [
    {
     "data": {
      "text/plain": [
       "(5, 3)"
      ]
     },
     "execution_count": 19,
     "metadata": {},
     "output_type": "execute_result"
    }
   ],
   "source": [
    "(x.shape)"
   ]
  },
  {
   "cell_type": "markdown",
   "id": "9af2a897",
   "metadata": {},
   "source": [
    "Setting the axis to 1:"
   ]
  },
  {
   "cell_type": "code",
   "execution_count": 20,
   "id": "bea52740",
   "metadata": {},
   "outputs": [
    {
     "data": {
      "text/plain": [
       "array([['2', '0', '0', '2', '1'],\n",
       "       ['5', '3', '3', '5', '4'],\n",
       "       ['8', '6', '6', '8', '7'],\n",
       "       ['B', '9', '9', 'B', 'A'],\n",
       "       ['E', 'C', 'C', 'E', 'D']], dtype='<U11')"
      ]
     },
     "execution_count": 20,
     "metadata": {},
     "output_type": "execute_result"
    }
   ],
   "source": [
    "x = rng.choice([[0,1,2], [3,4,5], [6,7,8], [9,'A','B'], ['C','D','E']], 5, axis=1)\n",
    "x"
   ]
  },
  {
   "cell_type": "markdown",
   "id": "2fc00c66",
   "metadata": {},
   "source": [
    "The above output contains five rows with five columns:"
   ]
  },
  {
   "cell_type": "code",
   "execution_count": 21,
   "id": "68a07557",
   "metadata": {},
   "outputs": [
    {
     "data": {
      "text/plain": [
       "(5, 5)"
      ]
     },
     "execution_count": 21,
     "metadata": {},
     "output_type": "execute_result"
    }
   ],
   "source": [
    "(x.shape)"
   ]
  },
  {
   "cell_type": "markdown",
   "id": "3423d39f",
   "metadata": {},
   "source": [
    "The choice function is not restricted to integers. For example:"
   ]
  },
  {
   "cell_type": "code",
   "execution_count": 22,
   "id": "5727ea24",
   "metadata": {},
   "outputs": [
    {
     "data": {
      "text/plain": [
       "array(['spring', 'spring', 'spring', 'spring'], dtype='<U6')"
      ]
     },
     "execution_count": 22,
     "metadata": {},
     "output_type": "execute_result"
    }
   ],
   "source": [
    "season = ['spring', 'summer', 'autumn', 'winter']\n",
    "rng.choice(season, 4, p=[0.5, 0, 0, 0.5])"
   ]
  },
  {
   "cell_type": "markdown",
   "id": "dd942e59",
   "metadata": {},
   "source": [
    "### 2.4 Bytes"
   ]
  },
  {
   "cell_type": "markdown",
   "id": "b4b53741",
   "metadata": {},
   "source": [
    "The Numpy bytes function returns random bytes, dependent on the specified length. The following example returns 10 bytes:"
   ]
  },
  {
   "cell_type": "code",
   "execution_count": 23,
   "id": "ef4d1b45",
   "metadata": {},
   "outputs": [
    {
     "data": {
      "text/plain": [
       "b'>\\x13\\xee[\\x97OS\\xe0\\xc7\\xd0'"
      ]
     },
     "execution_count": 23,
     "metadata": {},
     "output_type": "execute_result"
    }
   ],
   "source": [
    "rng.bytes(10)\n"
   ]
  },
  {
   "cell_type": "markdown",
   "id": "e58e2b98",
   "metadata": {},
   "source": [
    "The bytes are returned in hex and ASCII. Any two characters following an x character are hex characters making up 1 byte; any other characters are ASCII characters of 1 byte each. The initial b is a prefix for bytes, and the output is enclosed in matching single quotes ('). "
   ]
  },
  {
   "cell_type": "markdown",
   "id": "dabb74fa",
   "metadata": {},
   "source": [
    "For example, ```b'\\xfd\\xd7\\x17\\xac\\xa3Ig\\xf0`\\xa1'``` would be made up of the following for a total of 10 bytes:\n",
    "\n",
    "- fd (hex)\n",
    "- d7 (hex)\n",
    "- 17 (hex)\n",
    "- ac (hex)\n",
    "- a3 (hex)\n",
    "- I (ASCII)\n",
    "- g (ASCII)\n",
    "- f0 (hex)\n",
    "- ` (ASCII)\n",
    "- a1 (hex)"
   ]
  },
  {
   "cell_type": "markdown",
   "id": "ab23cecc",
   "metadata": {},
   "source": [
    "https://stackoverflow.com/questions/26802581/can-anyone-identify-this-encoding?rq=1\n",
    "https://docs.python.org/3.4/reference/lexical_analysis.html#grammar-token-shortbytesitem"
   ]
  },
  {
   "cell_type": "markdown",
   "id": "c2181e8c",
   "metadata": {},
   "source": [
    "## 3. Permutations"
   ]
  },
  {
   "cell_type": "markdown",
   "id": "c9f79271",
   "metadata": {},
   "source": [
    "The ```numpy.random``` package contains three methods for randomly permutating a sequence. These are discussed in this section. "
   ]
  },
  {
   "cell_type": "markdown",
   "id": "6c35056c",
   "metadata": {},
   "source": [
    "### 3.1 Shuffle"
   ]
  },
  {
   "cell_type": "markdown",
   "id": "3d68daa5",
   "metadata": {},
   "source": [
    "The Numpy shuffle function rearranges the order of a sequence's contents. For example, the following will return a sequence of numbers from 0 to 9 (inclusive) in a random order, as detailed in Section 2.3:"
   ]
  },
  {
   "cell_type": "code",
   "execution_count": 24,
   "id": "914c4eec",
   "metadata": {},
   "outputs": [
    {
     "data": {
      "text/plain": [
       "array([2, 7, 9, 6, 3, 8, 4, 5, 0, 1], dtype=int64)"
      ]
     },
     "execution_count": 24,
     "metadata": {},
     "output_type": "execute_result"
    }
   ],
   "source": [
    "x = rng.choice(10, 10, replace=False)\n",
    "x"
   ]
  },
  {
   "cell_type": "markdown",
   "id": "7c8579b9",
   "metadata": {},
   "source": [
    "The squence order is then rearranged using the shuffle function:"
   ]
  },
  {
   "cell_type": "code",
   "execution_count": 25,
   "id": "38b73201",
   "metadata": {},
   "outputs": [
    {
     "data": {
      "text/plain": [
       "array([7, 6, 2, 9, 1, 5, 0, 8, 4, 3], dtype=int64)"
      ]
     },
     "execution_count": 25,
     "metadata": {},
     "output_type": "execute_result"
    }
   ],
   "source": [
    "rng.shuffle(x)\n",
    "x"
   ]
  },
  {
   "cell_type": "markdown",
   "id": "c6911259",
   "metadata": {},
   "source": [
    "The shuffle function can also rearrange the sequence of arrays:"
   ]
  },
  {
   "cell_type": "code",
   "execution_count": 26,
   "id": "293c0408",
   "metadata": {},
   "outputs": [
    {
     "data": {
      "text/plain": [
       "array([[ 0,  1,  2,  3,  4],\n",
       "       [ 5,  6,  7,  8,  9],\n",
       "       [10, 11, 12, 13, 14],\n",
       "       [15, 16, 17, 18, 19],\n",
       "       [20, 21, 22, 23, 24]])"
      ]
     },
     "execution_count": 26,
     "metadata": {},
     "output_type": "execute_result"
    }
   ],
   "source": [
    "x = np.arange(0, 25).reshape(5, 5)\n",
    "x"
   ]
  },
  {
   "cell_type": "code",
   "execution_count": 27,
   "id": "23d2a918",
   "metadata": {},
   "outputs": [
    {
     "data": {
      "text/plain": [
       "array([[20, 21, 22, 23, 24],\n",
       "       [ 5,  6,  7,  8,  9],\n",
       "       [10, 11, 12, 13, 14],\n",
       "       [ 0,  1,  2,  3,  4],\n",
       "       [15, 16, 17, 18, 19]])"
      ]
     },
     "execution_count": 27,
     "metadata": {},
     "output_type": "execute_result"
    }
   ],
   "source": [
    "rng.shuffle(x)\n",
    "x"
   ]
  },
  {
   "cell_type": "markdown",
   "id": "55417436",
   "metadata": {},
   "source": [
    "By default, the axis parameter is set to zero. As can be seen in the above example, by default, the shuffle function will shuffle the order the rows, but not the order of the columns. "
   ]
  },
  {
   "cell_type": "markdown",
   "id": "7ababe00",
   "metadata": {},
   "source": [
    "In the below example, the axis is set to 1:"
   ]
  },
  {
   "cell_type": "code",
   "execution_count": 28,
   "id": "bdc4e7fe",
   "metadata": {},
   "outputs": [
    {
     "data": {
      "text/plain": [
       "array([[ 0,  1,  2,  3,  4],\n",
       "       [ 5,  6,  7,  8,  9],\n",
       "       [10, 11, 12, 13, 14],\n",
       "       [15, 16, 17, 18, 19],\n",
       "       [20, 21, 22, 23, 24]])"
      ]
     },
     "execution_count": 28,
     "metadata": {},
     "output_type": "execute_result"
    }
   ],
   "source": [
    "x = np.arange(0, 25).reshape(5, 5)\n",
    "x"
   ]
  },
  {
   "cell_type": "code",
   "execution_count": 29,
   "id": "9081f39d",
   "metadata": {},
   "outputs": [
    {
     "data": {
      "text/plain": [
       "array([[ 3,  2,  0,  4,  1],\n",
       "       [ 8,  7,  5,  9,  6],\n",
       "       [13, 12, 10, 14, 11],\n",
       "       [18, 17, 15, 19, 16],\n",
       "       [23, 22, 20, 24, 21]])"
      ]
     },
     "execution_count": 29,
     "metadata": {},
     "output_type": "execute_result"
    }
   ],
   "source": [
    "rng.shuffle(x, axis=1)\n",
    "x"
   ]
  },
  {
   "cell_type": "markdown",
   "id": "e7eeb20f",
   "metadata": {},
   "source": [
    "This results in a shuffling of the contents of the columns, but the row order remaining the same."
   ]
  },
  {
   "cell_type": "markdown",
   "id": "c9c9df93",
   "metadata": {},
   "source": [
    "### 3.2 Permutation"
   ]
  },
  {
   "cell_type": "markdown",
   "id": "e7dce34d",
   "metadata": {},
   "source": [
    "The Numpy permutation function returns either a randomly permuted sequence, as shown in the example below:"
   ]
  },
  {
   "cell_type": "code",
   "execution_count": 30,
   "id": "d4a29c31",
   "metadata": {},
   "outputs": [
    {
     "data": {
      "text/plain": [
       "array([2, 3, 7, 9, 0, 1, 5, 4, 8, 6])"
      ]
     },
     "execution_count": 30,
     "metadata": {},
     "output_type": "execute_result"
    }
   ],
   "source": [
    "rng.permutation(10)\n"
   ]
  },
  {
   "cell_type": "raw",
   "id": "18c2d60b",
   "metadata": {},
   "source": [
    "Or randomly rearranges the elements of an array, as shown in the example below:"
   ]
  },
  {
   "cell_type": "markdown",
   "id": "43cffa3e",
   "metadata": {},
   "source": [
    "Or can rearrange the sequence of arrays:"
   ]
  },
  {
   "cell_type": "code",
   "execution_count": 31,
   "id": "bad2e180",
   "metadata": {},
   "outputs": [
    {
     "data": {
      "text/plain": [
       "array([[ 0,  1,  2,  3,  4],\n",
       "       [ 5,  6,  7,  8,  9],\n",
       "       [10, 11, 12, 13, 14],\n",
       "       [15, 16, 17, 18, 19],\n",
       "       [20, 21, 22, 23, 24]])"
      ]
     },
     "execution_count": 31,
     "metadata": {},
     "output_type": "execute_result"
    }
   ],
   "source": [
    "x = np.arange(0, 25).reshape(5, 5)\n",
    "x"
   ]
  },
  {
   "cell_type": "code",
   "execution_count": 32,
   "id": "494890d0",
   "metadata": {},
   "outputs": [
    {
     "data": {
      "text/plain": [
       "array([[ 0,  1,  2,  3,  4],\n",
       "       [15, 16, 17, 18, 19],\n",
       "       [ 5,  6,  7,  8,  9],\n",
       "       [20, 21, 22, 23, 24],\n",
       "       [10, 11, 12, 13, 14]])"
      ]
     },
     "execution_count": 32,
     "metadata": {},
     "output_type": "execute_result"
    }
   ],
   "source": [
    "y = rng.permutation(x)\n",
    "y"
   ]
  },
  {
   "cell_type": "markdown",
   "id": "52ee08fd",
   "metadata": {},
   "source": [
    "By default, the axis parameter is set to zero. As can be seen in the above example, by default, the permutation function will rearrange the order the rows, but not the order of the columns. "
   ]
  },
  {
   "cell_type": "markdown",
   "id": "f180c585",
   "metadata": {},
   "source": [
    "In the below example, axis is set to 1:"
   ]
  },
  {
   "cell_type": "code",
   "execution_count": 33,
   "id": "5934e028",
   "metadata": {},
   "outputs": [
    {
     "data": {
      "text/plain": [
       "array([[ 0,  1,  2,  3,  4],\n",
       "       [ 5,  6,  7,  8,  9],\n",
       "       [10, 11, 12, 13, 14],\n",
       "       [15, 16, 17, 18, 19],\n",
       "       [20, 21, 22, 23, 24]])"
      ]
     },
     "execution_count": 33,
     "metadata": {},
     "output_type": "execute_result"
    }
   ],
   "source": [
    "x = np.arange(0, 25).reshape(5, 5)\n",
    "x"
   ]
  },
  {
   "cell_type": "code",
   "execution_count": 34,
   "id": "5fe2b530",
   "metadata": {},
   "outputs": [
    {
     "data": {
      "text/plain": [
       "array([[ 3,  0,  4,  1,  2],\n",
       "       [ 8,  5,  9,  6,  7],\n",
       "       [13, 10, 14, 11, 12],\n",
       "       [18, 15, 19, 16, 17],\n",
       "       [23, 20, 24, 21, 22]])"
      ]
     },
     "execution_count": 34,
     "metadata": {},
     "output_type": "execute_result"
    }
   ],
   "source": [
    "y = rng.permutation(x, axis=1)\n",
    "y"
   ]
  },
  {
   "cell_type": "markdown",
   "id": "3444b306",
   "metadata": {},
   "source": [
    "As with the shuffle function, this results in a shuffling of the contents of the columns but the row order remaining the same."
   ]
  },
  {
   "cell_type": "markdown",
   "id": "d2a14fca",
   "metadata": {},
   "source": [
    "### 3.2.2 Difference between Shuffle and Permutation Functions"
   ]
  },
  {
   "cell_type": "markdown",
   "id": "f93ae35f",
   "metadata": {},
   "source": [
    "At first glance, the shuffle and permutation functions appear to perform similarly - both randomly rearrage a sequence or arrays. However, the key difference is that the shuffle function operates in-place, whereas the permutation function returns a copy (https://numpy.org/doc/stable/reference/random/generator.html). (https://jman4190.medium.com/explaining-the-inplace-parameter-for-beginners-5de7ffa18d2e)."
   ]
  },
  {
   "cell_type": "markdown",
   "id": "8a75d7f2",
   "metadata": {},
   "source": [
    "The in-place operation of the shuffle function means that dataframe is overwritten with the output of the function, when it is performed, For example, a sequence of numbers 0 to 9 can be generated as the variable x:"
   ]
  },
  {
   "cell_type": "code",
   "execution_count": 35,
   "id": "cf26b2a2",
   "metadata": {},
   "outputs": [],
   "source": [
    "x = np.arange(10)"
   ]
  },
  {
   "cell_type": "markdown",
   "id": "43711af3",
   "metadata": {},
   "source": [
    "The output of x is shown as the sequence:"
   ]
  },
  {
   "cell_type": "code",
   "execution_count": 36,
   "id": "6897dc4b",
   "metadata": {},
   "outputs": [
    {
     "data": {
      "text/plain": [
       "array([0, 1, 2, 3, 4, 5, 6, 7, 8, 9])"
      ]
     },
     "execution_count": 36,
     "metadata": {},
     "output_type": "execute_result"
    }
   ],
   "source": [
    "x"
   ]
  },
  {
   "cell_type": "markdown",
   "id": "60a71b7e",
   "metadata": {},
   "source": [
    "The shuffle function can then be performed:"
   ]
  },
  {
   "cell_type": "code",
   "execution_count": 37,
   "id": "76cc48f6",
   "metadata": {},
   "outputs": [],
   "source": [
    "rng.shuffle(x)\n"
   ]
  },
  {
   "cell_type": "markdown",
   "id": "5c85b5c9",
   "metadata": {},
   "source": [
    "The variable x now contains the random sequence generated by the shuffle function:"
   ]
  },
  {
   "cell_type": "code",
   "execution_count": 38,
   "id": "18dc4e3a",
   "metadata": {},
   "outputs": [
    {
     "data": {
      "text/plain": [
       "array([3, 1, 0, 7, 5, 8, 9, 6, 4, 2])"
      ]
     },
     "execution_count": 38,
     "metadata": {},
     "output_type": "execute_result"
    }
   ],
   "source": [
    "x"
   ]
  },
  {
   "cell_type": "markdown",
   "id": "68144077",
   "metadata": {},
   "source": [
    "The original sequence contained in x has now been overwritten and calling the variable x again will produce the same output as above and the original sequence is no longer stored:"
   ]
  },
  {
   "cell_type": "code",
   "execution_count": 39,
   "id": "666cde26",
   "metadata": {},
   "outputs": [
    {
     "data": {
      "text/plain": [
       "array([3, 1, 0, 7, 5, 8, 9, 6, 4, 2])"
      ]
     },
     "execution_count": 39,
     "metadata": {},
     "output_type": "execute_result"
    }
   ],
   "source": [
    "x"
   ]
  },
  {
   "cell_type": "markdown",
   "id": "ea163b04",
   "metadata": {},
   "source": [
    "Performing the shuffle function on x a further time would overwrite x again. "
   ]
  },
  {
   "cell_type": "markdown",
   "id": "71d49c8a",
   "metadata": {},
   "source": [
    "However, the permutation function operates differently and produces a copy of the original data. For example, taking the same sequence of 0 to 9:"
   ]
  },
  {
   "cell_type": "code",
   "execution_count": 40,
   "id": "aa60fd42",
   "metadata": {},
   "outputs": [
    {
     "data": {
      "text/plain": [
       "array([0, 1, 2, 3, 4, 5, 6, 7, 8, 9])"
      ]
     },
     "execution_count": 40,
     "metadata": {},
     "output_type": "execute_result"
    }
   ],
   "source": [
    "x = np.arange(10)\n",
    "x"
   ]
  },
  {
   "cell_type": "markdown",
   "id": "8ffee8c0",
   "metadata": {},
   "source": [
    "The permutation function can be called on x to output a random sequence:"
   ]
  },
  {
   "cell_type": "code",
   "execution_count": 41,
   "id": "9d2a9c0b",
   "metadata": {},
   "outputs": [
    {
     "data": {
      "text/plain": [
       "array([0, 5, 9, 4, 2, 3, 1, 6, 7, 8])"
      ]
     },
     "execution_count": 41,
     "metadata": {},
     "output_type": "execute_result"
    }
   ],
   "source": [
    "rng.permutation(x)"
   ]
  },
  {
   "cell_type": "markdown",
   "id": "247a394f",
   "metadata": {},
   "source": [
    "However, using the permutation function, the variable x contains the original data which has not been overwritten:"
   ]
  },
  {
   "cell_type": "code",
   "execution_count": 42,
   "id": "f44abc80",
   "metadata": {},
   "outputs": [
    {
     "data": {
      "text/plain": [
       "array([0, 1, 2, 3, 4, 5, 6, 7, 8, 9])"
      ]
     },
     "execution_count": 42,
     "metadata": {},
     "output_type": "execute_result"
    }
   ],
   "source": [
    "x"
   ]
  },
  {
   "cell_type": "markdown",
   "id": "122db69b",
   "metadata": {},
   "source": [
    "This could be useful if the original data is to be kept, but also a new sequence generated. For example:"
   ]
  },
  {
   "cell_type": "code",
   "execution_count": 43,
   "id": "1abfe09c",
   "metadata": {},
   "outputs": [],
   "source": [
    "y = rng.permutation(x)"
   ]
  },
  {
   "cell_type": "code",
   "execution_count": 44,
   "id": "beb83cd4",
   "metadata": {},
   "outputs": [
    {
     "data": {
      "text/plain": [
       "(array([0, 1, 2, 3, 4, 5, 6, 7, 8, 9]), array([1, 8, 9, 6, 5, 2, 4, 7, 0, 3]))"
      ]
     },
     "execution_count": 44,
     "metadata": {},
     "output_type": "execute_result"
    }
   ],
   "source": [
    "x, y "
   ]
  },
  {
   "cell_type": "markdown",
   "id": "786431ec",
   "metadata": {},
   "source": [
    "### 3.3 Permuted"
   ]
  },
  {
   "cell_type": "markdown",
   "id": "51d86427",
   "metadata": {},
   "source": [
    "The Numpy permutated function randomly permutes an array along a given axis. This function differs from the shuffle and permutation functions in that each slice of the array is shuffled independently of the others. This can be demonstrated using a 3d-array, as in the following example:"
   ]
  },
  {
   "cell_type": "code",
   "execution_count": 45,
   "id": "79638520",
   "metadata": {},
   "outputs": [
    {
     "data": {
      "text/plain": [
       "array([[[ 0,  1],\n",
       "        [ 2,  3],\n",
       "        [ 4,  5]],\n",
       "\n",
       "       [[ 6,  7],\n",
       "        [ 8,  9],\n",
       "        [10, 11]],\n",
       "\n",
       "       [[12, 13],\n",
       "        [14, 15],\n",
       "        [16, 17]],\n",
       "\n",
       "       [[18, 19],\n",
       "        [20, 21],\n",
       "        [22, 23]]])"
      ]
     },
     "execution_count": 45,
     "metadata": {},
     "output_type": "execute_result"
    }
   ],
   "source": [
    "x = np.array([[[0, 1], [2, 3], [4, 5]], [[6, 7], [8, 9], [10, 11]], [[12, 13], [14, 15], [16, 17]], [[18, 19], [20, 21], [22,23]]])\n",
    "x"
   ]
  },
  {
   "cell_type": "markdown",
   "id": "700ef10f",
   "metadata": {},
   "source": [
    "The above array has 4 lines in axis-0, 3 lines in axis-1, and 2 lines in axis-2:"
   ]
  },
  {
   "cell_type": "code",
   "execution_count": 46,
   "id": "d84a9a29",
   "metadata": {},
   "outputs": [
    {
     "data": {
      "text/plain": [
       "(4, 3, 2)"
      ]
     },
     "execution_count": 46,
     "metadata": {},
     "output_type": "execute_result"
    }
   ],
   "source": [
    "x.shape"
   ]
  },
  {
   "cell_type": "markdown",
   "id": "6eed5d34",
   "metadata": {},
   "source": [
    "The following image gives a representation of arrays in different dimensions; the 3d-array on the right is of the same 4, 3, 2 shape. "
   ]
  },
  {
   "cell_type": "markdown",
   "id": "e40fda63",
   "metadata": {},
   "source": [
    "![numpy.org](https://miro.medium.com/max/3000/0*fr4sfcnDc0KsXA8P.png)\n"
   ]
  },
  {
   "cell_type": "markdown",
   "id": "cbb24c8f",
   "metadata": {},
   "source": [
    "#3d array (https://stackoverflow.com/questions/62734866/how-to-create-a-3d-array-in-python-with-numpy)\n",
    "#https://miro.medium.com/max/3000/0*fr4sfcnDc0KsXA8P.png\n"
   ]
  },
  {
   "cell_type": "markdown",
   "id": "036931af",
   "metadata": {},
   "source": [
    "Calling the permuted function on the default axis-0 will randomly shuffle the whole array across all axis:"
   ]
  },
  {
   "cell_type": "code",
   "execution_count": 47,
   "id": "00b294b2",
   "metadata": {},
   "outputs": [
    {
     "data": {
      "text/plain": [
       "array([[[21, 13],\n",
       "        [16,  4],\n",
       "        [14,  3]],\n",
       "\n",
       "       [[ 0,  9],\n",
       "        [12, 15],\n",
       "        [ 2,  1]],\n",
       "\n",
       "       [[23,  6],\n",
       "        [22, 18],\n",
       "        [19, 10]],\n",
       "\n",
       "       [[11,  8],\n",
       "        [ 5, 17],\n",
       "        [ 7, 20]]])"
      ]
     },
     "execution_count": 47,
     "metadata": {},
     "output_type": "execute_result"
    }
   ],
   "source": [
    "rng.permuted(x)"
   ]
  },
  {
   "cell_type": "markdown",
   "id": "f9f18279",
   "metadata": {},
   "source": [
    "This differs from permutation or shuffle whereby the rows are shuffled along axis-0, but not along axis-1 or axis-2:"
   ]
  },
  {
   "cell_type": "code",
   "execution_count": 48,
   "id": "6a8a84f3",
   "metadata": {},
   "outputs": [
    {
     "data": {
      "text/plain": [
       "array([[[ 6,  7],\n",
       "        [ 8,  9],\n",
       "        [10, 11]],\n",
       "\n",
       "       [[12, 13],\n",
       "        [14, 15],\n",
       "        [16, 17]],\n",
       "\n",
       "       [[18, 19],\n",
       "        [20, 21],\n",
       "        [22, 23]],\n",
       "\n",
       "       [[ 0,  1],\n",
       "        [ 2,  3],\n",
       "        [ 4,  5]]])"
      ]
     },
     "execution_count": 48,
     "metadata": {},
     "output_type": "execute_result"
    }
   ],
   "source": [
    "rng.permutation(x, axis=0)"
   ]
  },
  {
   "cell_type": "markdown",
   "id": "cc62aa98",
   "metadata": {},
   "source": [
    "Calling permutated or permunation on axis-1 results in a shuffling of the columns along axis-1; whilst the columns are shuffled within the rows, the row order itself is not changed. "
   ]
  },
  {
   "cell_type": "code",
   "execution_count": 49,
   "id": "58cb1947",
   "metadata": {},
   "outputs": [
    {
     "data": {
      "text/plain": [
       "array([[[ 4,  1],\n",
       "        [ 0,  5],\n",
       "        [ 2,  3]],\n",
       "\n",
       "       [[ 8,  9],\n",
       "        [10,  7],\n",
       "        [ 6, 11]],\n",
       "\n",
       "       [[12, 15],\n",
       "        [16, 17],\n",
       "        [14, 13]],\n",
       "\n",
       "       [[18, 23],\n",
       "        [20, 21],\n",
       "        [22, 19]]])"
      ]
     },
     "execution_count": 49,
     "metadata": {},
     "output_type": "execute_result"
    }
   ],
   "source": [
    "rng.permuted(x, axis=1)"
   ]
  },
  {
   "cell_type": "code",
   "execution_count": 50,
   "id": "b14cfd4a",
   "metadata": {},
   "outputs": [
    {
     "data": {
      "text/plain": [
       "array([[[ 0,  1],\n",
       "        [ 4,  5],\n",
       "        [ 2,  3]],\n",
       "\n",
       "       [[ 6,  7],\n",
       "        [10, 11],\n",
       "        [ 8,  9]],\n",
       "\n",
       "       [[12, 13],\n",
       "        [16, 17],\n",
       "        [14, 15]],\n",
       "\n",
       "       [[18, 19],\n",
       "        [22, 23],\n",
       "        [20, 21]]])"
      ]
     },
     "execution_count": 50,
     "metadata": {},
     "output_type": "execute_result"
    }
   ],
   "source": [
    "rng.permutation(x, axis=1)"
   ]
  },
  {
   "cell_type": "markdown",
   "id": "4b21c0ad",
   "metadata": {},
   "source": [
    "Calling permutated on axis-2 results in a shuffling of axis-2 independently from the other axis:"
   ]
  },
  {
   "cell_type": "code",
   "execution_count": 51,
   "id": "46950b00",
   "metadata": {},
   "outputs": [
    {
     "data": {
      "text/plain": [
       "array([[[ 0,  1],\n",
       "        [ 2,  3],\n",
       "        [ 4,  5]],\n",
       "\n",
       "       [[ 7,  6],\n",
       "        [ 8,  9],\n",
       "        [10, 11]],\n",
       "\n",
       "       [[13, 12],\n",
       "        [15, 14],\n",
       "        [16, 17]],\n",
       "\n",
       "       [[18, 19],\n",
       "        [21, 20],\n",
       "        [23, 22]]])"
      ]
     },
     "execution_count": 51,
     "metadata": {},
     "output_type": "execute_result"
    }
   ],
   "source": [
    "rng.permuted(x, axis=2)"
   ]
  },
  {
   "cell_type": "markdown",
   "id": "d03f9100",
   "metadata": {},
   "source": [
    "Whereas permutatation shuffles along axis-2 but is not idependent:"
   ]
  },
  {
   "cell_type": "code",
   "execution_count": 52,
   "id": "bdcd4fa5",
   "metadata": {
    "scrolled": true
   },
   "outputs": [
    {
     "data": {
      "text/plain": [
       "array([[[ 0,  1],\n",
       "        [ 2,  3],\n",
       "        [ 4,  5]],\n",
       "\n",
       "       [[ 6,  7],\n",
       "        [ 8,  9],\n",
       "        [10, 11]],\n",
       "\n",
       "       [[12, 13],\n",
       "        [14, 15],\n",
       "        [16, 17]],\n",
       "\n",
       "       [[18, 19],\n",
       "        [20, 21],\n",
       "        [22, 23]]])"
      ]
     },
     "execution_count": 52,
     "metadata": {},
     "output_type": "execute_result"
    }
   ],
   "source": [
    "rng.permutation(x, axis=2)"
   ]
  },
  {
   "cell_type": "markdown",
   "id": "82924db2",
   "metadata": {},
   "source": [
    "By default, the permuted function returns a shuffled copy. The above examples have not overwritten x:"
   ]
  },
  {
   "cell_type": "code",
   "execution_count": 53,
   "id": "140f8d1a",
   "metadata": {},
   "outputs": [
    {
     "data": {
      "text/plain": [
       "array([[[ 0,  1],\n",
       "        [ 2,  3],\n",
       "        [ 4,  5]],\n",
       "\n",
       "       [[ 6,  7],\n",
       "        [ 8,  9],\n",
       "        [10, 11]],\n",
       "\n",
       "       [[12, 13],\n",
       "        [14, 15],\n",
       "        [16, 17]],\n",
       "\n",
       "       [[18, 19],\n",
       "        [20, 21],\n",
       "        [22, 23]]])"
      ]
     },
     "execution_count": 53,
     "metadata": {},
     "output_type": "execute_result"
    }
   ],
   "source": [
    "x"
   ]
  },
  {
   "cell_type": "markdown",
   "id": "f84e859d",
   "metadata": {},
   "source": [
    "The permuted function can be performed in-place through use of the out function. For example:"
   ]
  },
  {
   "cell_type": "code",
   "execution_count": 54,
   "id": "1b202973",
   "metadata": {},
   "outputs": [
    {
     "data": {
      "text/plain": [
       "array([[[ 6, 19],\n",
       "        [14, 15],\n",
       "        [10, 17]],\n",
       "\n",
       "       [[ 0,  7],\n",
       "        [20, 21],\n",
       "        [ 4, 11]],\n",
       "\n",
       "       [[18,  1],\n",
       "        [ 2,  9],\n",
       "        [22,  5]],\n",
       "\n",
       "       [[12, 13],\n",
       "        [ 8,  3],\n",
       "        [16, 23]]])"
      ]
     },
     "execution_count": 54,
     "metadata": {},
     "output_type": "execute_result"
    }
   ],
   "source": [
    "y = rng.permuted(x, axis=0, out=x)\n",
    "y"
   ]
  },
  {
   "cell_type": "code",
   "execution_count": 55,
   "id": "1b772b85",
   "metadata": {},
   "outputs": [
    {
     "data": {
      "text/plain": [
       "array([[[ 6, 19],\n",
       "        [14, 15],\n",
       "        [10, 17]],\n",
       "\n",
       "       [[ 0,  7],\n",
       "        [20, 21],\n",
       "        [ 4, 11]],\n",
       "\n",
       "       [[18,  1],\n",
       "        [ 2,  9],\n",
       "        [22,  5]],\n",
       "\n",
       "       [[12, 13],\n",
       "        [ 8,  3],\n",
       "        [16, 23]]])"
      ]
     },
     "execution_count": 55,
     "metadata": {},
     "output_type": "execute_result"
    }
   ],
   "source": [
    "x"
   ]
  },
  {
   "cell_type": "markdown",
   "id": "ef76c4cf",
   "metadata": {},
   "source": [
    "## 4. Distributions "
   ]
  },
  {
   "cell_type": "markdown",
   "id": "4e33d277",
   "metadata": {},
   "source": [
    "The ```numpy.random``` package contains a wide variety of distributions which can be applied to sequences generated by the Generator. Five distributions are discussed in this section:"
   ]
  },
  {
   "cell_type": "markdown",
   "id": "762cfbf5",
   "metadata": {},
   "source": [
    "1. Normal\n",
    "2. Weibull\n",
    "3. Rayleigh\n",
    "4. Uniform\n",
    "5. Exponential"
   ]
  },
  {
   "cell_type": "markdown",
   "id": "af8a976c",
   "metadata": {},
   "source": [
    "### 4.1. Normal Distribution"
   ]
  },
  {
   "cell_type": "markdown",
   "id": "397b6348",
   "metadata": {},
   "source": [
    "Normal distribution, also known as Gaussian distribution or a Bell Curve, is a common type of probability distribution for independent, randomly generated variables (https://www.britannica.com/topic/normal-distribution). A normal distribution is symmetrical around the central mean value with half of the values to the left of mean , and half to the right (https://www.mathsisfun.com/data/standard-normal-distribution.html), as reflected in the example below (https://numpy.org/doc/stable/reference/random/generated/numpy.random.Generator.normal.html#numpy.random.Generator.normal):"
   ]
  },
  {
   "cell_type": "markdown",
   "id": "79604d51",
   "metadata": {},
   "source": [
    "![numpy.org](https://numpy.org/doc/stable/_images/numpy-random-Generator-normal-1_00_00.png)"
   ]
  },
  {
   "cell_type": "markdown",
   "id": "b0de5134",
   "metadata": {},
   "source": [
    "The y-axis is the Probability Density Function (PDF) which defines the probability distribution for a random variable. In other words, it defines the likehood of an outcome occuring (https://www.investopedia.com/terms/p/pdf.asp). The x-axis is the standard deviation which is an indication of how much the data set deviates from the mean (https://medium.com/fintechexplained/ever-wondered-why-normal-distribution-is-so-important-110a482abee3). The total area under the curve is the total probability of all the values that the variable can take; the total curve area is 100% (https://medium.com/fintechexplained/ever-wondered-why-normal-distribution-is-so-important-110a482abee3) "
   ]
  },
  {
   "cell_type": "markdown",
   "id": "f3d3740f",
   "metadata": {},
   "source": [
    "The formula for normal distribution can be written as:"
   ]
  },
  {
   "cell_type": "markdown",
   "id": "3d882541",
   "metadata": {},
   "source": [
    "![brittania.com](https://www.gstatic.com/education/formulas2/397133473/en/normal_distribution.svg)"
   ]
  },
  {
   "cell_type": "markdown",
   "id": "06195ae4",
   "metadata": {},
   "source": [
    "Where:\n",
    "\n",
    "*f(x)* is the probability density function\n",
    "\n",
    "*μ* (mu) is the mean\n",
    "\n",
    "*σ* (sigma) is the standard deviation"
   ]
  },
  {
   "cell_type": "markdown",
   "id": "7326a7e0",
   "metadata": {},
   "source": [
    "In general:\n",
    "\n",
    "- approximately 68% of values are within 1 standard deviation of the mean\n",
    "- approximately 95% of values are within 2 standard deviations of the mean\n",
    "- approximately 99.7% of values are within 3 standard deviations of the mean\n",
    "(https://www.mathsisfun.com/data/standard-normal-distribution.html)"
   ]
  },
  {
   "cell_type": "markdown",
   "id": "9c586912",
   "metadata": {},
   "source": [
    "Normal distributions appear naturaly; numpy can be used to help predict how the variables might occur in real-world situations and to help understanding the behaviour of the data set. For example, the height of population would closely follow a normal distribution. Numpy can be used to provide data on expected deviations from the mean height of the population. "
   ]
  },
  {
   "cell_type": "markdown",
   "id": "dffcd147",
   "metadata": {},
   "source": [
    "In this example the mean height and standard deviation in metres are defined in the variables mu (μ) and sigma (σ): "
   ]
  },
  {
   "cell_type": "code",
   "execution_count": 56,
   "id": "b06a5dd4",
   "metadata": {},
   "outputs": [],
   "source": [
    "mu, sigma = 1.79, 0.15 "
   ]
  },
  {
   "cell_type": "markdown",
   "id": "537da589",
   "metadata": {},
   "source": [
    "The numpy.random.Generator.normal function is used to generate a number of samples, in this case 1000, in the normal distribution:"
   ]
  },
  {
   "cell_type": "code",
   "execution_count": 57,
   "id": "1fa2db98",
   "metadata": {},
   "outputs": [
    {
     "data": {
      "text/plain": [
       "array([1.58838761, 1.85820862, 1.70207668, 1.68410766, 1.89020491,\n",
       "       1.8145554 , 1.86293785, 1.79356303, 1.75206787, 1.82639046,\n",
       "       1.91337088, 1.64541164, 1.54760514, 1.8567073 , 1.96229197,\n",
       "       1.75021657, 1.70020156, 1.84881198, 1.65819727, 2.08532081,\n",
       "       2.04732748, 1.84437946, 1.68041832, 1.67605992, 1.90149815,\n",
       "       1.50714485, 1.72972702, 1.84443838, 1.93083493, 1.7008671 ,\n",
       "       1.98314601, 1.97090194, 1.94366471, 1.72051645, 2.03304155,\n",
       "       1.74044147, 1.77297709, 1.58182461, 1.68593245, 1.65271006,\n",
       "       1.95201633, 1.88408553, 1.92213306, 1.89359165, 1.90369914,\n",
       "       1.84029741, 2.17667824, 1.64659007, 1.79029446, 1.88527566,\n",
       "       1.73550162, 1.80661276, 1.7127825 , 2.15415403, 1.76018238,\n",
       "       1.55708488, 2.14818101, 1.8864421 , 1.54768743, 1.74247801,\n",
       "       1.98127909, 1.81534058, 1.74337648, 1.74576198, 1.83930068,\n",
       "       1.63652251, 2.06004292, 1.81851586, 1.98143142, 1.98604054,\n",
       "       2.02424829, 1.80020269, 1.72566929, 1.62768606, 1.75323684,\n",
       "       1.79720624, 1.79151509, 1.70194833, 1.82846829, 1.61496287,\n",
       "       1.70111366, 1.8264434 , 1.92403427, 1.73838731, 1.85190539,\n",
       "       1.68274362, 1.77488886, 2.09363847, 1.84684021, 1.88643123,\n",
       "       1.64366544, 1.9109118 , 2.08682377, 1.72301574, 1.63892284,\n",
       "       1.84193522, 1.6935748 , 1.89581343, 1.57897438, 2.00593278,\n",
       "       1.93896005, 1.64436896, 1.88299757, 1.75182793, 1.93493746,\n",
       "       1.8645334 , 1.98739925, 1.6873591 , 1.86632577, 1.8116964 ,\n",
       "       1.72423385, 1.5881019 , 1.61820662, 1.77078283, 1.66308601,\n",
       "       1.72122262, 1.75142015, 1.58775755, 1.87108435, 1.56848183,\n",
       "       1.78908216, 1.92136813, 1.87455087, 1.93300143, 1.69519074,\n",
       "       1.8787049 , 1.67808879, 1.82769779, 1.82762788, 1.7865201 ,\n",
       "       1.78577985, 1.8917921 , 1.243952  , 1.94987625, 2.0760736 ,\n",
       "       1.75451825, 1.78766045, 1.61445327, 1.78063988, 1.87369219,\n",
       "       1.71914256, 1.82914424, 1.74937176, 1.93505276, 1.82799567,\n",
       "       1.81353605, 1.53125254, 1.85716157, 2.07138739, 1.62075872,\n",
       "       1.78376726, 1.78374202, 1.71511679, 1.65036751, 1.9898655 ,\n",
       "       1.68276676, 1.83197473, 1.7237536 , 1.92057827, 1.73924611,\n",
       "       1.68569951, 1.72021145, 1.67885469, 1.88605714, 1.44333095,\n",
       "       1.84116615, 2.05196294, 1.90132652, 1.67614875, 1.70371512,\n",
       "       1.92353248, 1.91812631, 1.99830354, 1.76808224, 1.88273732,\n",
       "       1.93028092, 1.59187326, 1.87435206, 1.64155233, 1.7296915 ,\n",
       "       1.97398556, 1.56633224, 2.08862337, 1.65815657, 1.86346219,\n",
       "       1.6796013 , 1.92294231, 1.5921185 , 1.9122331 , 1.94487455,\n",
       "       1.79414409, 1.74024548, 1.59204736, 1.88542417, 1.89324824,\n",
       "       1.6827657 , 1.87266662, 1.98249938, 1.8347516 , 1.75146859,\n",
       "       1.78555996, 1.56978237, 1.96671307, 1.86981198, 1.80554492,\n",
       "       1.94521698, 2.05085657, 1.59624661, 1.71472128, 1.71629771,\n",
       "       1.94355044, 1.5287567 , 1.61610437, 1.70606399, 1.62374386,\n",
       "       1.75653789, 1.72127689, 1.98642963, 1.96089567, 1.9835201 ,\n",
       "       2.21956819, 1.88136532, 1.6292456 , 1.66828755, 1.82096097,\n",
       "       1.76104642, 1.65896757, 1.75605603, 1.81124298, 1.71752408,\n",
       "       1.80736912, 1.73230117, 1.83661323, 1.73889184, 1.78987944,\n",
       "       1.8211691 , 1.95663372, 1.82300987, 1.97700018, 1.84032128,\n",
       "       1.99955333, 1.75193727, 1.75435116, 1.63270203, 1.91805313,\n",
       "       1.94480106, 1.91881898, 1.88082139, 1.91337534, 1.75586575,\n",
       "       1.67877594, 1.77381619, 2.05612192, 1.59604735, 1.32887295,\n",
       "       1.89546243, 1.87968812, 1.8149497 , 1.77607302, 1.75182435,\n",
       "       1.76647788, 1.92991681, 1.73452418, 2.01207813, 1.82756404,\n",
       "       1.81110007, 1.84355544, 1.95272121, 1.55833563, 1.86315779,\n",
       "       1.94493198, 1.6466324 , 1.84469848, 1.81579013, 1.98852303,\n",
       "       2.12030728, 1.65212842, 2.09712343, 1.73581282, 1.80403246,\n",
       "       1.59175575, 1.80076152, 1.89640915, 1.52718418, 1.85337845,\n",
       "       1.65960994, 1.80347674, 1.7573735 , 1.79435358, 1.81119419,\n",
       "       1.69032222, 1.83308437, 1.71909934, 1.83643291, 2.00345475,\n",
       "       1.83595323, 1.69638935, 1.64763789, 1.58468036, 1.78780132,\n",
       "       1.87736349, 1.74684898, 1.72425013, 1.64791484, 1.58245577,\n",
       "       1.96788687, 1.85857321, 1.97136552, 1.87770572, 1.69618979,\n",
       "       1.74014831, 1.65966596, 1.76440355, 1.65166053, 1.65508228,\n",
       "       1.83825007, 1.74329534, 1.84084628, 1.92542293, 1.75872044,\n",
       "       2.02579048, 1.99156378, 1.69708551, 1.77802715, 1.8688383 ,\n",
       "       2.04264741, 1.93572977, 1.95499517, 1.71501775, 1.85470516,\n",
       "       1.87379779, 1.88630148, 1.77189997, 1.71182428, 1.93215959,\n",
       "       1.59480302, 1.60120823, 1.95969843, 1.68399238, 1.51759203,\n",
       "       1.38388578, 1.61292092, 1.80258652, 1.76512279, 1.83497488,\n",
       "       1.49891493, 1.52374856, 2.01980198, 1.96380856, 1.71759183,\n",
       "       1.53998307, 1.98766485, 1.65492028, 1.91871987, 2.0592039 ,\n",
       "       1.86254311, 1.85778371, 2.13049938, 1.92809021, 1.97117032,\n",
       "       1.67622032, 1.5872999 , 1.6026393 , 2.04246717, 1.52935395,\n",
       "       2.04207725, 1.56546604, 1.67098885, 1.91416737, 1.72389389,\n",
       "       1.76028072, 1.67348637, 1.73205569, 1.97325408, 1.99792949,\n",
       "       1.63631804, 1.70178179, 1.92804909, 1.80536906, 1.51396621,\n",
       "       1.60642883, 1.79528693, 1.87086619, 1.75810871, 1.71731977,\n",
       "       2.06119106, 1.7967391 , 1.97389237, 1.82427642, 1.78883588,\n",
       "       1.73952178, 1.48934794, 1.78367194, 1.6962755 , 2.0739243 ,\n",
       "       1.86547   , 1.83797651, 1.59865935, 1.74473187, 1.77067552,\n",
       "       1.96752826, 1.83890969, 2.05649603, 1.95174482, 1.40005123,\n",
       "       1.77759737, 1.66776066, 1.67890235, 2.06908556, 1.6406168 ,\n",
       "       1.81953994, 1.72598185, 1.91067899, 1.81871431, 1.74609557,\n",
       "       1.71168885, 1.77633839, 1.66628691, 1.8180107 , 1.88161886,\n",
       "       1.65868252, 1.7893227 , 1.62872402, 1.72601239, 1.7885472 ,\n",
       "       1.86985054, 1.93339744, 1.68021333, 1.90344138, 2.02657821,\n",
       "       1.69545795, 1.48140208, 1.73290135, 1.76299872, 1.90820722,\n",
       "       1.63469246, 1.97074652, 1.9985797 , 1.59237955, 1.72615769,\n",
       "       1.87658381, 1.82429887, 1.56756679, 1.71630143, 1.867282  ,\n",
       "       1.98280874, 1.63329415, 1.83595199, 1.79563381, 1.35320661,\n",
       "       1.63478938, 1.8535625 , 1.89571377, 1.69552512, 1.53276326,\n",
       "       1.74598087, 1.84290072, 1.74890584, 1.70351857, 1.60892597,\n",
       "       1.61308696, 1.74153203, 1.76602667, 1.70349624, 1.84068584,\n",
       "       1.7336388 , 1.5847334 , 1.77988755, 1.80546216, 1.83379758,\n",
       "       1.68271932, 1.96877239, 2.03045109, 1.86630277, 1.78732706,\n",
       "       2.10876152, 1.83074969, 1.72062242, 1.91706352, 1.98691586,\n",
       "       1.76015986, 1.87146264, 1.92332148, 1.63464155, 2.01614172,\n",
       "       1.79892156, 1.60592217, 1.81714177, 1.63461717, 1.75322048,\n",
       "       1.95375406, 1.72245439, 1.95490585, 1.76685405, 1.90664254,\n",
       "       1.74516279, 1.75723851, 1.8767093 , 1.74421372, 1.72023596,\n",
       "       1.70548304, 1.7970269 , 1.88495612, 1.78345902, 2.06235697,\n",
       "       1.92590866, 1.67906664, 1.68209945, 1.830767  , 1.84874475,\n",
       "       2.08406973, 1.88405249, 1.77886698, 1.80005272, 1.79621964,\n",
       "       1.81239463, 1.61468463, 1.8373058 , 1.7050046 , 1.78844546,\n",
       "       1.59899847, 1.78086276, 1.6793699 , 1.94166269, 1.89795546,\n",
       "       1.61851768, 1.70009061, 1.9314293 , 1.5620667 , 1.93546703,\n",
       "       1.76650865, 1.63852778, 1.83948169, 1.737956  , 1.66189981,\n",
       "       1.7347376 , 1.87151369, 1.64698184, 2.06172509, 1.64985104,\n",
       "       1.73125903, 1.8851016 , 1.74151963, 1.80437767, 1.63340988,\n",
       "       1.64475983, 1.74292079, 1.64750461, 1.89319917, 1.87894098,\n",
       "       1.78349424, 1.87541219, 1.90222453, 1.58449687, 1.8833224 ,\n",
       "       1.65515008, 1.85138007, 1.93513849, 1.70899926, 1.69060731,\n",
       "       1.73285879, 1.77345792, 1.69098753, 1.66146338, 1.63858953,\n",
       "       1.89870092, 1.7790188 , 1.72275006, 1.82769053, 1.88812614,\n",
       "       1.79098206, 1.87028969, 1.97508246, 1.73236883, 1.81858429,\n",
       "       1.43784797, 2.10392506, 1.87009943, 1.67118626, 1.80622745,\n",
       "       1.75598571, 1.57653701, 1.6963863 , 1.89693155, 2.01133506,\n",
       "       1.78128755, 1.83443197, 1.98316681, 2.03251753, 1.79216148,\n",
       "       1.98245351, 1.7417737 , 1.59659409, 1.88167334, 1.69342037,\n",
       "       1.56181673, 1.69742371, 1.73659669, 1.8931566 , 1.81518507,\n",
       "       1.78686876, 1.78399991, 1.5954145 , 1.81899419, 1.74350154,\n",
       "       1.82165374, 1.70451645, 1.81722268, 1.76666984, 1.85374675,\n",
       "       1.84442615, 1.7276724 , 1.6861727 , 1.72639254, 1.61014382,\n",
       "       1.74154286, 1.82342611, 1.74554581, 1.83085994, 1.67977842,\n",
       "       1.96933728, 1.56500311, 1.62535924, 1.7667441 , 1.89585494,\n",
       "       1.68374425, 1.76159339, 1.90304344, 1.73824042, 1.67453362,\n",
       "       1.79073754, 1.67249654, 1.73734568, 1.99477933, 1.84039594,\n",
       "       1.849822  , 1.94015095, 1.71019646, 1.76873272, 1.77884659,\n",
       "       1.68233596, 1.52957643, 1.6011643 , 1.84744629, 1.54473047,\n",
       "       1.81542289, 1.75684172, 2.0347312 , 1.58023464, 2.0162585 ,\n",
       "       1.67419556, 2.07255234, 1.61949311, 1.76248375, 2.09416527,\n",
       "       1.5619993 , 1.62778075, 1.71820055, 1.89951163, 1.81569524,\n",
       "       1.82088225, 1.74566143, 1.66681192, 1.49506292, 1.82850676,\n",
       "       1.79478775, 1.66849802, 1.49945341, 1.82064384, 1.7936562 ,\n",
       "       1.74687174, 1.80918732, 1.6485734 , 1.62959161, 1.73523255,\n",
       "       1.80681461, 1.7768133 , 1.68380889, 1.68752303, 1.81826355,\n",
       "       1.80174177, 1.49801892, 1.72787514, 1.60201046, 1.84451237,\n",
       "       1.77191743, 1.52507185, 1.81530771, 2.1233088 , 1.6994446 ,\n",
       "       1.86628004, 1.64785621, 1.58144604, 2.06816505, 1.60166914,\n",
       "       2.05639665, 1.88346596, 1.80350256, 1.95064705, 1.51416674,\n",
       "       1.5717073 , 1.67975537, 1.71819272, 1.80841705, 1.54540435,\n",
       "       1.94287781, 1.87625735, 1.67225559, 1.84040247, 1.6645633 ,\n",
       "       1.60018785, 1.54980434, 1.91022104, 1.68220673, 1.80171412,\n",
       "       1.75441614, 1.95747207, 2.04416438, 1.82101291, 1.89917767,\n",
       "       2.00579779, 1.84954905, 1.65235111, 1.94243233, 1.75967498,\n",
       "       1.79745494, 1.70017915, 2.01456056, 1.68792587, 1.95693699,\n",
       "       1.82244021, 1.88183323, 1.87225101, 1.72549202, 1.52019691,\n",
       "       1.93333777, 1.6709389 , 1.80892744, 1.97311825, 1.4902688 ,\n",
       "       1.68724372, 1.84322606, 1.89148955, 2.02861077, 1.87271746,\n",
       "       1.8402664 , 1.62550449, 1.69616882, 1.848678  , 1.669789  ,\n",
       "       1.71525026, 1.67829772, 1.79017277, 1.60151837, 1.83284172,\n",
       "       1.80660715, 1.68220914, 1.82124828, 1.71694316, 1.82606347,\n",
       "       1.67932516, 2.08468458, 1.93393128, 1.69959407, 1.85370828,\n",
       "       1.8914535 , 1.89103824, 2.21439572, 1.81199489, 1.58545749,\n",
       "       1.75608839, 1.92296355, 1.73443666, 1.40857389, 1.91348519,\n",
       "       1.84468389, 1.74525017, 1.85601919, 1.57162395, 1.56543026,\n",
       "       1.81179835, 1.870585  , 2.00862903, 1.66775361, 1.95893029,\n",
       "       1.62811191, 1.97537755, 1.98735891, 1.90156565, 2.03517636,\n",
       "       1.82202476, 2.03316885, 1.78575903, 2.14925365, 1.93696481,\n",
       "       1.98415947, 1.72320671, 1.8475999 , 1.88071033, 1.70617914,\n",
       "       1.85746325, 1.77637551, 1.9261225 , 2.05659563, 1.84080019,\n",
       "       1.7734151 , 1.91973659, 1.66685187, 2.02831749, 1.93252414,\n",
       "       1.82927426, 1.64664107, 1.69544246, 1.62118663, 1.84393092,\n",
       "       1.87940294, 1.97540436, 1.68432595, 1.8477732 , 1.80649579,\n",
       "       1.74128796, 1.69583035, 1.88068439, 1.82050953, 1.92727668,\n",
       "       1.81148433, 1.81226349, 1.91337099, 1.67327213, 1.80424393,\n",
       "       1.92909454, 1.58469102, 1.59206674, 1.70267073, 1.51950848,\n",
       "       2.12081183, 1.64323171, 1.76728651, 1.50913065, 2.06629682,\n",
       "       1.79517027, 1.81118759, 1.75753909, 1.60183606, 1.85502956,\n",
       "       1.90222582, 1.95328687, 1.7825083 , 1.82987121, 1.91163411,\n",
       "       1.58711507, 1.90542901, 1.75559353, 1.67906086, 1.52049151,\n",
       "       1.9365227 , 1.78259415, 1.76204275, 1.91938226, 1.69447706,\n",
       "       1.93999611, 1.63298411, 1.92451353, 1.69562424, 1.91905349,\n",
       "       1.90818238, 1.95665721, 1.81928111, 1.82464311, 1.96969427,\n",
       "       2.09785285, 1.77916391, 1.61679494, 1.50789928, 1.94505123,\n",
       "       1.95737806, 1.83423361, 1.92118752, 1.78502609, 1.8598946 ,\n",
       "       2.08170811, 1.7408149 , 1.52045289, 1.95223222, 1.76433058,\n",
       "       2.01686316, 1.57224712, 1.81928144, 1.72731157, 1.87801411,\n",
       "       2.03397449, 1.97919438, 1.72784653, 1.83002987, 1.95585114,\n",
       "       1.67180233, 1.67860325, 1.64673657, 1.70998273, 1.61615286,\n",
       "       1.79466105, 1.69380322, 1.67345582, 1.86089565, 1.73875532,\n",
       "       1.9626097 , 1.66968407, 1.82457876, 1.62540787, 1.83558506,\n",
       "       1.7638444 , 2.0392524 , 1.73297356, 1.8003515 , 1.87135421,\n",
       "       1.67456117, 1.52595991, 1.90276019, 1.91852295, 1.72016696,\n",
       "       1.43316022, 1.60711625, 1.88204173, 1.66154775, 1.68574966,\n",
       "       1.74499373, 1.83065855, 1.59136699, 1.75245251, 1.80019615,\n",
       "       1.92826951, 1.95900717, 1.62240422, 1.8277321 , 2.20253258,\n",
       "       1.66579647, 2.0289665 , 1.97089083, 1.90584409, 1.89663564,\n",
       "       1.62517025, 1.97909543, 1.7572219 , 1.72438667, 1.97481973,\n",
       "       1.89277993, 1.8534209 , 1.70074175, 1.93307444, 1.87307794,\n",
       "       1.72665686, 1.50393756, 1.66748579, 1.71969695, 1.7171375 ,\n",
       "       1.70394837, 1.79655146, 1.62052133, 1.53928344, 1.91371902,\n",
       "       1.61798947, 2.00634147, 1.42507739, 1.83890173, 1.72201274,\n",
       "       1.81516447, 2.07259947, 1.66210825, 1.69400032, 1.71008066,\n",
       "       1.54571171, 1.7871761 , 1.81848702, 1.80261293, 1.76426005,\n",
       "       2.03480801, 1.84654142, 1.82334015, 1.61729174, 1.76359202,\n",
       "       1.81243108, 1.66532391, 1.82268595, 1.58551266, 1.65984619,\n",
       "       1.99288297, 1.85936168, 1.82259093, 1.70704374, 1.99992757,\n",
       "       2.1591483 , 2.01767364, 1.59011516, 1.60136924, 1.52022125,\n",
       "       1.74444985, 1.57348377, 1.68380073, 1.7344931 , 1.77009199])"
      ]
     },
     "execution_count": 57,
     "metadata": {},
     "output_type": "execute_result"
    }
   ],
   "source": [
    "s = np.random.default_rng().normal(mu, sigma, 1000)\n",
    "s"
   ]
  },
  {
   "cell_type": "markdown",
   "id": "b1743623",
   "metadata": {},
   "source": [
    "A histogram of the distribution is shown below, with height (metres) shown along the x-axis and PDF along the y-axis. In this example, the data is sorted into 30 'bins' which the range of data grouped into these bins."
   ]
  },
  {
   "cell_type": "code",
   "execution_count": 58,
   "id": "b6844be0",
   "metadata": {},
   "outputs": [
    {
     "data": {
      "image/png": "[encoded data removed]",
      "text/plain": [
       "<Figure size 432x288 with 1 Axes>"
      ]
     },
     "metadata": {
      "needs_background": "light"
     },
     "output_type": "display_data"
    }
   ],
   "source": [
    "count, bins, ignored = plt.hist(s, 30)\n",
    "\n",
    "plt.show()"
   ]
  },
  {
   "cell_type": "markdown",
   "id": "4d520b76",
   "metadata": {},
   "source": [
    "A line plot can be produced for the data using the formula for normal distribution:"
   ]
  },
  {
   "cell_type": "code",
   "execution_count": 59,
   "id": "f6c7ce12",
   "metadata": {},
   "outputs": [
    {
     "data": {
      "image/png": "[encoded data removed]",
      "text/plain": [
       "<Figure size 432x288 with 1 Axes>"
      ]
     },
     "metadata": {
      "needs_background": "light"
     },
     "output_type": "display_data"
    }
   ],
   "source": [
    "plt.plot(bins, 1/(sigma * np.sqrt(2 * np.pi)) *\n",
    "\n",
    "               np.exp( - (bins - mu)**2 / (2 * sigma**2) ),\n",
    "\n",
    "         linewidth=2, color='r')\n",
    "plt.show()"
   ]
  },
  {
   "cell_type": "markdown",
   "id": "a6910952",
   "metadata": {},
   "source": [
    "The two plots can be displayed together:"
   ]
  },
  {
   "cell_type": "code",
   "execution_count": 60,
   "id": "06c5f5c3",
   "metadata": {},
   "outputs": [
    {
     "data": {
      "image/png": "[encoded data removed]",
      "text/plain": [
       "<Figure size 432x288 with 1 Axes>"
      ]
     },
     "metadata": {
      "needs_background": "light"
     },
     "output_type": "display_data"
    }
   ],
   "source": [
    "count, bins, ignored = plt.hist(s, 30, density=True)\n",
    "\n",
    "plt.plot(bins, 1/(sigma * np.sqrt(2 * np.pi)) *\n",
    "\n",
    "               np.exp( - (bins - mu)**2 / (2 * sigma**2) ),\n",
    "\n",
    "         linewidth=2, color='r')\n",
    "\n",
    "plt.show()"
   ]
  },
  {
   "cell_type": "markdown",
   "id": "3fec1559",
   "metadata": {},
   "source": [
    "As can be seem, the majority of the values fall around the mean, with fewer values one, two, or three standard deviations from the mean. "
   ]
  },
  {
   "cell_type": "code",
   "execution_count": 61,
   "id": "609744af",
   "metadata": {},
   "outputs": [],
   "source": [
    "#print (bins)"
   ]
  },
  {
   "cell_type": "code",
   "execution_count": 62,
   "id": "713adb99",
   "metadata": {},
   "outputs": [],
   "source": [
    "#np.average(bins)"
   ]
  },
  {
   "cell_type": "markdown",
   "id": "3d553059",
   "metadata": {},
   "source": [
    "### 4.2. Weibull Distribution"
   ]
  },
  {
   "cell_type": "code",
   "execution_count": null,
   "id": "fc1baafc",
   "metadata": {},
   "outputs": [],
   "source": []
  },
  {
   "cell_type": "code",
   "execution_count": null,
   "id": "8b20c37e",
   "metadata": {},
   "outputs": [],
   "source": []
  },
  {
   "cell_type": "code",
   "execution_count": null,
   "id": "258e2651",
   "metadata": {},
   "outputs": [],
   "source": []
  },
  {
   "cell_type": "code",
   "execution_count": null,
   "id": "e5887b45",
   "metadata": {},
   "outputs": [],
   "source": []
  },
  {
   "cell_type": "code",
   "execution_count": 63,
   "id": "7c928f43",
   "metadata": {},
   "outputs": [],
   "source": [
    "#a = 1 # shape\n",
    "\n",
    "#s = rng.weibull(a, 1000)\n"
   ]
  },
  {
   "cell_type": "code",
   "execution_count": null,
   "id": "cde8eae8",
   "metadata": {},
   "outputs": [],
   "source": []
  },
  {
   "cell_type": "code",
   "execution_count": 64,
   "id": "0bb7540e",
   "metadata": {},
   "outputs": [],
   "source": [
    "#import matplotlib.pyplot as plt\n",
    "\n",
    "#x = np.arange(1,100.)/4.\n",
    "\n",
    "#def weib(x,n,a):\n",
    "\n",
    " #   return (a / n) * (x / n)**(a - 1) * np.exp(-(x / n)**a)"
   ]
  },
  {
   "cell_type": "code",
   "execution_count": 65,
   "id": "5af59b84",
   "metadata": {},
   "outputs": [],
   "source": [
    "#count, bins, ignored = plt.hist(rng.weibull(5.,1000))\n",
    "#x = np.arange(1,100.)/4\n",
    "\n",
    "#scale = count.max()/weib(x, 1, 2).max()\n",
    "\n",
    "#plt.xlim(0, 15)\n",
    "#plt.ylim(0,3)\n",
    "\n",
    "#plt.plot(x, weib(x, 1, 2)*scale)\n",
    "\n",
    "#plt.show()"
   ]
  },
  {
   "cell_type": "code",
   "execution_count": 66,
   "id": "2fede35d",
   "metadata": {},
   "outputs": [
    {
     "data": {
      "text/plain": [
       "array([4.98462607e-01, 8.48887207e-01, 1.38192586e+00, 3.08039227e-01,\n",
       "       1.57073372e+00, 2.09759614e+00, 1.66244570e+00, 5.03664292e-02,\n",
       "       2.25813681e+00, 9.58452868e-01, 1.75559030e+00, 8.40601540e-01,\n",
       "       5.58420387e-02, 3.12421832e-01, 1.89055580e-01, 7.97163519e-01,\n",
       "       3.41559852e-01, 1.99231501e+00, 4.96319626e-01, 9.02100512e-01,\n",
       "       5.07801049e-01, 6.61358811e-01, 1.92066319e-01, 3.30612775e-01,\n",
       "       2.90166025e+00, 1.70273114e+00, 3.80971093e-01, 4.40798018e-01,\n",
       "       1.31504118e+00, 3.03991754e-01, 9.74368374e-01, 1.18100441e-01,\n",
       "       3.87847136e-01, 1.41574479e+00, 2.92398554e-01, 2.18053634e+00,\n",
       "       7.11937828e-01, 5.98324773e-01, 9.53794143e-01, 1.19208483e+00,\n",
       "       3.05087135e+00, 6.20450036e+00, 6.25733787e-01, 3.80565477e+00,\n",
       "       1.15857319e-01, 2.65577483e-01, 4.68418443e-01, 2.13022691e-01,\n",
       "       3.88880026e-01, 2.42838762e-01, 1.32952581e+00, 6.47420802e-01,\n",
       "       1.16351174e+00, 6.85804616e-01, 6.66429615e-01, 1.86057884e+00,\n",
       "       2.62366340e+00, 1.61622937e+00, 4.26763246e-02, 2.30934391e-01,\n",
       "       3.92643960e-01, 9.24132866e-01, 9.94873589e-01, 9.82713658e-01,\n",
       "       3.59291112e-01, 5.58430334e-01, 2.43239008e+00, 8.06091870e-01,\n",
       "       2.14786035e+00, 5.18518808e-01, 1.92181662e-01, 4.95514998e-01,\n",
       "       6.40982625e-01, 5.10777974e-01, 1.15823794e-01, 2.49685360e+00,\n",
       "       4.94514494e-01, 8.93759975e-01, 4.69108117e-01, 2.53196679e-01,\n",
       "       3.96766614e-01, 3.27042523e-01, 3.46755086e-03, 1.47888049e-01,\n",
       "       1.53764341e-01, 2.49241450e+00, 4.80565275e-01, 8.99273546e-01,\n",
       "       8.27431028e-01, 8.57374789e-02, 5.03763811e-01, 3.94825245e-01,\n",
       "       6.48463904e-01, 1.44625023e+00, 2.71347801e+00, 7.00329893e-01,\n",
       "       1.33743683e+00, 3.35411932e+00, 6.53605341e-01, 1.37739105e+00,\n",
       "       4.39252803e+00, 8.84981304e-01, 1.05675706e+00, 5.36654868e-01,\n",
       "       8.99556058e-01, 2.39642928e+00, 2.14218435e+00, 2.26312749e-01,\n",
       "       5.44235301e-01, 1.23149771e+00, 1.87649420e-01, 2.92778477e-01,\n",
       "       6.82389611e-01, 1.53828532e+00, 2.17112953e-01, 2.43910377e-01,\n",
       "       1.96563054e-01, 7.89910825e-01, 4.87491153e-03, 8.32398869e-01,\n",
       "       3.16656735e-01, 3.77012193e+00, 3.16626831e-01, 2.79248821e+00,\n",
       "       6.39439034e-01, 1.69885468e+00, 7.14136419e-01, 7.93380797e-01,\n",
       "       8.32292700e-01, 1.28140691e+00, 3.55042398e-01, 9.65039934e-01,\n",
       "       3.73111920e-01, 1.00423897e-01, 1.61252532e+00, 1.83000374e-02,\n",
       "       6.90306143e-01, 1.20984157e+00, 4.89853354e-01, 1.84729419e+00,\n",
       "       7.45885879e-01, 6.70856594e-01, 1.41385478e+00, 2.43326618e-01,\n",
       "       2.75669258e-01, 8.12917583e-01, 2.48067839e+00, 9.90703549e-01,\n",
       "       6.15869880e-01, 8.55499069e-01, 1.12892506e+00, 4.61565350e-01,\n",
       "       2.75411642e-01, 1.60959554e-01, 3.06681721e-01, 2.06481040e-01,\n",
       "       1.04215683e+00, 1.62744035e-01, 1.68524084e+00, 1.51185863e-01,\n",
       "       1.36364044e+00, 9.57539145e-02, 3.64159310e+00, 3.70210141e-01,\n",
       "       5.65491978e-01, 1.16075290e+00, 6.12830558e-01, 1.51496944e-01,\n",
       "       1.06494076e+00, 4.52572617e-01, 1.54692220e+00, 1.81982734e+00,\n",
       "       7.68442850e-01, 5.25385371e-01, 2.42631080e+00, 3.72790246e+00,\n",
       "       2.38328640e+00, 2.86974144e+00, 3.87247599e-02, 5.42444754e-01,\n",
       "       7.25905912e-01, 9.08565840e-01, 2.25149204e-01, 1.33754827e-01,\n",
       "       2.23214317e-01, 4.00515219e-01, 2.75949736e-01, 2.66577147e+00,\n",
       "       9.22098228e-01, 1.94356771e+00, 2.74288861e-02, 2.27015124e+00,\n",
       "       4.16341533e-01, 9.28411125e-01, 2.58470827e-01, 7.90455556e-02,\n",
       "       1.10050161e+00, 1.16223449e+00, 2.58827777e+00, 1.38699321e+00,\n",
       "       8.85772661e-01, 1.33195573e+00, 4.42562976e-02, 9.94063670e-01,\n",
       "       3.09761266e-01, 2.21275160e+00, 1.39714189e+00, 1.20114303e-01,\n",
       "       4.02326512e-01, 4.96451103e-02, 1.31015139e+00, 9.04048125e-01,\n",
       "       1.40377446e+00, 2.84058486e+00, 1.56861767e+00, 5.90242658e-01,\n",
       "       1.15429922e+00, 1.94607473e+00, 5.10982204e+00, 9.51318590e-02,\n",
       "       2.72275553e-01, 1.05311096e+00, 9.83503378e-01, 1.83867279e-01,\n",
       "       3.45907584e+00, 3.55240385e+00, 1.84049315e+00, 5.63384825e-01,\n",
       "       9.26840265e-02, 7.43217148e-01, 5.16127000e-02, 4.82740056e-01,\n",
       "       2.14702972e-01, 4.91269752e-01, 2.36082839e+00, 3.60389139e-01,\n",
       "       2.94026973e+00, 1.68252225e-01, 5.73699734e-01, 1.65602194e+00,\n",
       "       4.71782696e-01, 1.65883007e-01, 6.40709793e-01, 2.40523155e-01,\n",
       "       4.38636110e-01, 7.62426378e-01, 2.60721541e+00, 2.96529619e-01,\n",
       "       6.57335011e-02, 9.08039530e-01, 7.79605085e-01, 1.59940230e+00,\n",
       "       1.55844141e+00, 6.10908003e-01, 1.21033114e+00, 3.72440499e+00,\n",
       "       1.60569610e+00, 3.90658926e-01, 3.03493063e+00, 5.14110503e-02,\n",
       "       6.34832137e-01, 1.69155958e-01, 8.49905463e-01, 3.35915234e+00,\n",
       "       4.14264834e-01, 2.53898276e+00, 5.10972720e-01, 7.30061650e-01,\n",
       "       1.45722516e+00, 6.43623884e-02, 2.67078276e+00, 5.38725450e-01,\n",
       "       2.97307714e-01, 3.78894346e+00, 5.32066850e-01, 7.42359724e-01,\n",
       "       1.29436558e+00, 1.67123916e-01, 6.81569228e-01, 2.46197915e-01,\n",
       "       3.27216382e-01, 1.36220338e+00, 9.09585133e-01, 8.22444093e-02,\n",
       "       6.54064065e-01, 5.11937857e-01, 2.87130207e+00, 8.55685598e-02,\n",
       "       2.20696105e-01, 1.99640028e+00, 7.65641572e-02, 1.59963643e+00,\n",
       "       3.12455207e-01, 8.94723715e-01, 1.22756719e+00, 5.54050516e-01,\n",
       "       2.92219214e-01, 1.33360474e-01, 2.08716739e+00, 6.09939479e-04,\n",
       "       7.43184262e-01, 9.05981753e-01, 3.09513970e-01, 1.31117910e+00,\n",
       "       1.88214441e+00, 4.37166589e-01, 4.52082302e-01, 6.49236493e-01,\n",
       "       1.13959671e+00, 2.23285176e-01, 4.27903698e-03, 4.79837000e-01,\n",
       "       2.01038817e+00, 1.55262030e+00, 5.47148680e-01, 1.08163480e-02,\n",
       "       1.92705096e+00, 6.85594783e-02, 9.88723022e-02, 2.27424769e+00,\n",
       "       3.43626957e-01, 1.86537786e+00, 1.66722405e-01, 1.97362546e+00,\n",
       "       2.42787674e-01, 1.28201836e+00, 2.25230064e-01, 4.09159938e-01,\n",
       "       2.58900393e-01, 6.32247576e-01, 5.12892953e-01, 2.74094001e-01,\n",
       "       4.55614689e-01, 1.09004535e+00, 3.56067217e-01, 5.64259222e-01,\n",
       "       2.59744366e+00, 2.00069249e+00, 2.83006566e+00, 1.04926984e+00,\n",
       "       1.07078507e+00, 3.92703967e+00, 3.37578418e-02, 1.91779217e+00,\n",
       "       2.79616446e+00, 8.70501467e-01, 1.12290364e+00, 7.18965544e-01,\n",
       "       7.02332242e-01, 7.87275474e-01, 1.22602645e+00, 1.27488148e+00,\n",
       "       3.12530531e-01, 1.51739878e-01, 8.96905970e-01, 2.96690360e-01,\n",
       "       7.36567566e-01, 1.16369085e+00, 2.72271881e+00, 3.02810554e-01,\n",
       "       5.15892061e-02, 2.03834333e+00, 2.96574360e-01, 9.03464482e-01,\n",
       "       9.20883092e-01, 1.79965277e+00, 7.57791887e-01, 4.60618065e-01,\n",
       "       7.02630405e-02, 2.59621783e+00, 1.15964725e-01, 2.70404956e+00,\n",
       "       1.88003172e+00, 1.08666586e-01, 6.76050610e-01, 1.75100656e-01,\n",
       "       1.75804311e+00, 4.59273272e-01, 3.84600795e-01, 1.37779376e+00,\n",
       "       2.95956570e-02, 2.59614362e+00, 7.57837600e-01, 3.35960526e+00,\n",
       "       3.54423607e-01, 3.65249213e+00, 1.11732717e-01, 8.44593898e-01,\n",
       "       1.63930132e-01, 9.65252557e-01, 3.37624762e-01, 2.05036758e+00,\n",
       "       3.41995048e-01, 8.69839465e-01, 4.29075453e-02, 1.56473153e+00,\n",
       "       1.33768356e+00, 1.32026678e+00, 1.53311969e+00, 2.22644710e+00,\n",
       "       2.54242875e+00, 3.22578732e-01, 5.88578663e-01, 3.26221725e-01,\n",
       "       3.54420755e+00, 3.54031837e+00, 3.12102192e-01, 2.01039971e-01,\n",
       "       3.71305508e-01, 3.26574176e-01, 1.04101863e-01, 1.82138822e-01,\n",
       "       2.88219661e-01, 8.48828321e-01, 7.82918541e-02, 1.37845114e+00,\n",
       "       1.20061551e+00, 7.50827998e-03, 4.34267130e-01, 7.24688444e-01,\n",
       "       5.85290708e-01, 3.38147485e-01, 3.47474598e-01, 3.06559227e-01,\n",
       "       2.64643139e+00, 1.61238836e-02, 2.02537138e-01, 1.17302959e+00,\n",
       "       5.92826973e-01, 7.63149306e+00, 1.17129112e+00, 1.00907508e+00,\n",
       "       5.79731633e-01, 2.66515835e+00, 1.27171854e+00, 1.45856653e+00,\n",
       "       2.12347423e-01, 6.05101768e-01, 6.78202809e-01, 4.24329655e-01,\n",
       "       1.03615484e+00, 3.76160230e-03, 5.26211706e-01, 1.41767339e+00,\n",
       "       8.72620064e-02, 1.89096393e+00, 2.02622259e+00, 5.61479534e-01,\n",
       "       1.98270847e+00, 1.01492855e+00, 1.52731801e+00, 6.85596686e-01,\n",
       "       9.54810596e-01, 2.05309796e+00, 7.88302739e-01, 2.53555393e+00,\n",
       "       9.19474690e-02, 8.16767202e-02, 7.71043649e-01, 1.47036461e+00,\n",
       "       2.27390239e+00, 1.77285567e-01, 2.17954071e+00, 5.21063874e-01,\n",
       "       2.24421528e-01, 5.31429658e-01, 5.16254410e-01, 5.04806700e-01,\n",
       "       3.20627830e+00, 1.86257626e+00, 1.26899992e-01, 4.92179495e-01,\n",
       "       3.41735256e-02, 1.51758380e+00, 1.08403814e+00, 7.93741357e-01,\n",
       "       5.46576772e-01, 1.44107260e+00, 4.67009806e-01, 2.96417594e-01,\n",
       "       6.04549720e-01, 3.72368823e-01, 1.06855712e-01, 5.99832070e-02,\n",
       "       3.28033405e+00, 2.44879115e+00, 4.86447798e-01, 1.08730013e+00,\n",
       "       1.35974587e+00, 3.50580906e-01, 1.13799718e-01, 4.26661373e-01,\n",
       "       2.62524069e+00, 3.41663142e+00, 2.84817656e-02, 1.86052590e-01,\n",
       "       4.78512294e-01, 4.97172777e-01, 2.04961485e+00, 2.98850814e-01,\n",
       "       2.78180794e+00, 1.65551506e-01, 1.56538531e-01, 4.83712178e-01,\n",
       "       6.71431517e-01, 1.04762791e+00, 1.97617133e+00, 2.14845268e+00,\n",
       "       1.51989855e-01, 2.53779154e+00, 1.10468835e+00, 4.65636477e-01,\n",
       "       4.69499989e-02, 9.53921446e-01, 1.64314545e-01, 3.24678928e-01,\n",
       "       2.09854538e+00, 3.43726241e-01, 2.19372904e+00, 1.34466432e+00,\n",
       "       2.81649386e-02, 8.23562575e-01, 5.81133551e-01, 4.57929599e-01,\n",
       "       2.44658670e-01, 7.42329446e-01, 3.49354842e-01, 6.64127242e-01,\n",
       "       2.92942832e-01, 1.66252914e+00, 2.19933242e-01, 3.88881369e-01,\n",
       "       5.94357916e+00, 1.28751400e+00, 2.20331394e+00, 1.82105035e+00,\n",
       "       5.69476100e+00, 7.96460682e-01, 9.34403675e-01, 1.43177698e-01,\n",
       "       1.97501489e-01, 7.37016200e-03, 2.72193916e-02, 2.58125278e+00,\n",
       "       3.82026500e-01, 2.05979594e+00, 7.02031939e+00, 1.71672093e+00,\n",
       "       1.32411067e+00, 3.96889959e-02, 1.13004149e+00, 5.25898216e-01,\n",
       "       1.00535713e+00, 1.54770450e+00, 1.14449010e+00, 4.27299358e-01,\n",
       "       5.82732133e-01, 6.73924328e-02, 1.04109571e+00, 2.16750461e+00,\n",
       "       3.42600304e+00, 3.73979169e-01, 9.32241022e-01, 2.44603181e-01,\n",
       "       1.45728452e+00, 7.95062095e-01, 4.94193956e-01, 1.25159457e+00,\n",
       "       1.26737927e+00, 1.97143685e+00, 3.21868271e-01, 5.85529096e-01,\n",
       "       3.89671273e+00, 1.12853531e+00, 7.62474453e-01, 2.77348569e-02,\n",
       "       4.44441986e-01, 9.06056008e-01, 1.05480044e+00, 2.60244911e-02,\n",
       "       1.23876377e+00, 3.26256369e-01, 1.38473923e+00, 9.04185008e-02,\n",
       "       8.74204157e-01, 1.76301808e+00, 2.56177452e+00, 1.59073165e+00,\n",
       "       7.52968504e-01, 2.10113270e+00, 1.39263327e+00, 1.29017822e-01,\n",
       "       1.66853172e+00, 1.18153575e-01, 4.41988224e-01, 9.59801553e-01,\n",
       "       1.25407755e+00, 2.41008568e+00, 2.74982830e+00, 4.60767404e-01,\n",
       "       3.49993912e-01, 1.29287126e+00, 5.07675390e+00, 1.23436068e-01,\n",
       "       2.26383002e+00, 1.36410909e+00, 8.81439530e-01, 2.12346744e-01,\n",
       "       1.74358307e-01, 6.79851967e-01, 1.14552574e+00, 1.39017102e+00,\n",
       "       1.23426043e+00, 1.13151178e+00, 7.25369392e-01, 6.09186091e-01,\n",
       "       5.17960217e-01, 2.08344977e+00, 6.34382998e-01, 1.08180732e+00,\n",
       "       8.09433963e-01, 3.16322549e+00, 8.78397722e-01, 8.46803794e-01,\n",
       "       1.09400297e+00, 4.01727892e-01, 5.95668442e-03, 1.34337003e+00,\n",
       "       1.58605488e+00, 1.06234104e+00, 8.69418911e-01, 7.62298780e-01,\n",
       "       1.06601144e+00, 8.44191752e-01, 6.75287991e-03, 2.72043129e+00,\n",
       "       6.20145820e-01, 9.71516321e-01, 2.31431671e+00, 1.66662693e-01,\n",
       "       1.83434675e+00, 1.29709079e-02, 8.53527019e-01, 1.99692359e+00,\n",
       "       1.60204957e+00, 1.22544810e+00, 3.59351836e-01, 2.45041757e+00,\n",
       "       1.51163817e+00, 1.37977873e+00, 6.94483724e-01, 4.13506151e-01,\n",
       "       2.33502474e-01, 2.08846744e-01, 1.90229679e+00, 1.62485053e-01,\n",
       "       1.33926664e-01, 2.90012339e-01, 1.17183314e+00, 2.11230160e+00,\n",
       "       4.79029513e-01, 6.92371370e-01, 1.94255163e-01, 6.68770713e-01,\n",
       "       1.85415332e+00, 9.52850020e-01, 8.93731300e-02, 2.79721520e-01,\n",
       "       7.60818756e-01, 6.63217374e-01, 1.29132745e+00, 1.93741239e+00,\n",
       "       1.58601151e-01, 1.71772165e-01, 1.79512409e+00, 3.10252069e+00,\n",
       "       1.48134244e-01, 4.58356519e-01, 7.36349239e-01, 5.88744330e+00,\n",
       "       2.39300359e+00, 3.68989721e-01, 7.06445175e-01, 2.43217450e-01,\n",
       "       2.67699814e-01, 1.30240867e-01, 1.42511631e+00, 6.50163190e-01,\n",
       "       1.20217013e-01, 3.75182727e+00, 3.27795043e+00, 4.31962004e+00,\n",
       "       1.97680081e+00, 6.97971063e-01, 8.43838158e-01, 5.97652033e-01,\n",
       "       1.30875142e+00, 9.54027660e-01, 2.35112241e+00, 1.68504446e+00,\n",
       "       5.25387547e-01, 8.72789232e-01, 1.50546614e-01, 2.87649769e+00,\n",
       "       6.20818984e-01, 9.83128555e-01, 3.31226739e-01, 2.74944202e+00,\n",
       "       1.08284115e+00, 9.92192654e-01, 1.40005315e-01, 7.65658803e-01,\n",
       "       1.05046875e+00, 2.71921202e+00, 1.32758501e+00, 3.66266594e-01,\n",
       "       5.33852175e-01, 5.06136973e+00, 7.89976760e-01, 1.28218993e-01,\n",
       "       1.53458383e+00, 5.80272211e-01, 9.72268778e-01, 1.58031211e+00,\n",
       "       6.94934711e-03, 1.71959444e+00, 2.74858480e+00, 3.26263142e-01,\n",
       "       5.02869835e-01, 1.24396884e+00, 1.13067725e-01, 2.01832178e+00,\n",
       "       1.15908747e+00, 1.52871659e-01, 1.56622618e-01, 4.46635280e-01,\n",
       "       1.93734204e-01, 1.36466629e-02, 4.93745411e-01, 4.03559961e-01,\n",
       "       7.76842012e-02, 2.99159409e-01, 9.21167343e-01, 1.06175424e-01,\n",
       "       1.54605248e-01, 6.97264431e-01, 4.01341290e-01, 2.43108085e-01,\n",
       "       2.87537842e+00, 5.32200399e-01, 4.02165918e-01, 2.36231415e+00,\n",
       "       6.98646736e-02, 3.38687069e-01, 7.01198856e-01, 1.60019512e+00,\n",
       "       6.53073162e-02, 3.08226686e-01, 1.65953694e-01, 4.57226064e-01,\n",
       "       3.08826283e+00, 9.93021477e-01, 4.12299025e-01, 5.44088342e-01,\n",
       "       1.32363932e+00, 4.53110920e+00, 2.27079276e-01, 8.55348030e-01,\n",
       "       3.19942294e-01, 7.74630211e-03, 8.07314087e-02, 1.76867017e-02,\n",
       "       2.38829144e-01, 1.15079979e+00, 1.27489768e-01, 1.65451501e+00,\n",
       "       5.17707497e-01, 4.67532789e-01, 8.33735782e-01, 1.55292207e+00,\n",
       "       2.83396162e+00, 2.82556780e+00, 3.54622365e-01, 7.48986202e-01,\n",
       "       2.33521273e+00, 9.28585128e-01, 7.26238782e-01, 2.63175257e-01,\n",
       "       2.65688126e-01, 4.36349201e+00, 1.03229623e+00, 3.61188683e-01,\n",
       "       6.04849645e-01, 6.13261725e-01, 4.86065281e-01, 8.66955717e-01,\n",
       "       3.42296127e-01, 1.30329693e+00, 4.94148179e-02, 1.13210526e-01,\n",
       "       1.09544044e+00, 7.76965810e-02, 2.23374179e+00, 1.06786333e+00,\n",
       "       2.71592243e-01, 5.15027246e-02, 3.48416265e-01, 7.32799298e-01,\n",
       "       3.66366639e-01, 4.73052380e-01, 7.57046033e-02, 1.93854329e+00,\n",
       "       5.89707771e+00, 1.03279736e+00, 2.01107492e-01, 6.75869142e-01,\n",
       "       1.33294829e+00, 1.23297561e+00, 1.07392129e+00, 1.21925230e-01,\n",
       "       5.21864500e+00, 1.59142050e+00, 3.44604429e+00, 1.70823015e+00,\n",
       "       5.33566112e-01, 7.18064800e-01, 1.09065259e-01, 4.16061953e-01,\n",
       "       2.78534913e+00, 8.48456484e-01, 1.04697408e+00, 4.35123897e-01,\n",
       "       6.15662104e-01, 1.49631565e+00, 3.26102466e-01, 7.70472849e-01,\n",
       "       7.72990934e-01, 4.19473907e-01, 1.02433006e+00, 2.33257795e+00,\n",
       "       7.37502978e-01, 7.06160379e-01, 3.53130405e+00, 2.83797187e-01,\n",
       "       1.22449835e+00, 2.63413968e+00, 2.72300736e+00, 6.24229353e-01,\n",
       "       1.19522169e+00, 6.81480962e-01, 1.42839045e+00, 1.00406097e+00,\n",
       "       5.33898068e-01, 3.10471464e+00, 1.05850934e+00, 4.36434735e-01,\n",
       "       1.11963324e+00, 3.35169808e-01, 2.08297619e+00, 7.73556642e-01,\n",
       "       4.95947313e-01, 1.74908493e+00, 1.34865435e+00, 1.98592505e+00,\n",
       "       6.18303505e-01, 2.88458640e-01, 1.15629033e-01, 1.68341465e-01,\n",
       "       2.24267483e-01, 1.99992618e-01, 8.93858226e-01, 5.52817084e-01,\n",
       "       2.39186445e+00, 1.58428641e-01, 1.08798792e+00, 1.98755149e+00,\n",
       "       5.49743305e-01, 4.07128151e-01, 5.47435151e-02, 5.11360610e-01,\n",
       "       1.22021815e+00, 7.56606882e-01, 1.74620009e+00, 1.99340726e-01,\n",
       "       6.04225340e-01, 5.54808718e-01, 2.55613752e-01, 1.68875704e-01,\n",
       "       5.35247153e-01, 5.44640400e-01, 5.59980249e-01, 2.50865028e-01,\n",
       "       1.56955270e-01, 3.04372134e+00, 1.68272722e-01, 2.30212300e+00,\n",
       "       1.38697119e-01, 2.71929812e+00, 2.37425563e+00, 4.71929425e-01,\n",
       "       4.71698531e-02, 2.34510039e-02, 6.76214847e-01, 1.36834209e+00,\n",
       "       2.28444212e+00, 1.38167225e+00, 2.02653836e+00, 3.43307038e+00,\n",
       "       1.59953558e+00, 2.32660637e+00, 1.24058480e-01, 4.43575808e+00,\n",
       "       2.61697488e-01, 1.68636542e+00, 3.28539106e+00, 1.99176950e+00,\n",
       "       9.22836447e-02, 6.42274067e-01, 6.77004368e-02, 9.02551019e-01,\n",
       "       1.48321961e+00, 2.78800052e+00, 8.81354741e-02, 1.64314882e-01,\n",
       "       7.37302035e-01, 1.97175530e+00, 5.24103668e-01, 6.30463253e-01,\n",
       "       1.29158994e+00, 1.15022672e+00, 7.91503825e-02, 2.18170306e+00,\n",
       "       1.81283986e-01, 3.13731351e-01, 3.44887255e-01, 4.92983827e-01,\n",
       "       2.63031615e+00, 8.79522964e-01, 3.79149451e-02, 4.00606282e-01,\n",
       "       6.41515155e-01, 2.24771152e+00, 4.49101950e-01, 1.19636807e+00,\n",
       "       4.35503349e-01, 1.15710880e+00, 3.66692105e-01, 6.93347560e-01,\n",
       "       3.52915127e-02, 1.69297488e-01, 2.16891348e+00, 1.08326583e+00,\n",
       "       1.04141441e+00, 5.09627863e-02, 1.27076513e+00, 5.72062721e-01,\n",
       "       2.86015031e-02, 2.37897880e+00, 9.26433286e-01, 4.27304413e-01,\n",
       "       1.06847996e+00, 6.49889830e-02, 1.88581141e+00, 3.24749764e-01,\n",
       "       1.87572084e+00, 2.00869902e-01, 2.77948792e-01, 5.37457161e-01,\n",
       "       1.92853433e+00, 6.51389376e-03, 1.56489246e+00, 6.17441765e-01,\n",
       "       1.82099847e-01, 7.71320476e-01, 2.14809407e+00, 2.26395962e+00,\n",
       "       2.60288679e+00, 8.32459935e-02, 3.18271021e+00, 5.48897194e-01,\n",
       "       1.98847005e+00, 1.27372655e+00, 1.74967475e+00, 8.27788130e-02,\n",
       "       1.10726495e+00, 6.67778679e-01, 7.09491283e-01, 2.47771594e-01,\n",
       "       2.08419697e+00, 4.52122488e-02, 2.44844796e-01, 5.63685389e-01,\n",
       "       6.14664677e-01, 2.10791921e-02, 5.14003157e-01, 6.09648665e-01,\n",
       "       1.85273414e+00, 1.38743622e+00, 3.49975714e+00, 7.10094479e-02])"
      ]
     },
     "execution_count": 66,
     "metadata": {},
     "output_type": "execute_result"
    }
   ],
   "source": [
    "# = 1. # shape\n",
    "\n",
    "\n",
    "s = rng.weibull(1,1000)\n",
    "s\n",
    "\n",
    "\n"
   ]
  },
  {
   "cell_type": "code",
   "execution_count": 67,
   "id": "d586308e",
   "metadata": {},
   "outputs": [
    {
     "data": {
      "text/plain": [
       "(array([529., 231., 122.,  70.,  30.,   7.,   4.,   4.,   1.,   2.]),\n",
       " array([6.09939479e-04, 7.63698251e-01, 1.52678656e+00, 2.28987487e+00,\n",
       "        3.05296319e+00, 3.81605150e+00, 4.57913981e+00, 5.34222812e+00,\n",
       "        6.10531643e+00, 6.86840474e+00, 7.63149306e+00]),\n",
       " <BarContainer object of 10 artists>)"
      ]
     },
     "execution_count": 67,
     "metadata": {},
     "output_type": "execute_result"
    },
    {
     "data": {
      "image/png": "[encoded data removed]",
      "text/plain": [
       "<Figure size 432x288 with 1 Axes>"
      ]
     },
     "metadata": {
      "needs_background": "light"
     },
     "output_type": "display_data"
    }
   ],
   "source": [
    "plt.hist(s)"
   ]
  },
  {
   "cell_type": "code",
   "execution_count": 68,
   "id": "5ee647eb",
   "metadata": {},
   "outputs": [
    {
     "data": {
      "text/plain": [
       "(array([ 51., 139., 188., 223., 204.,  95.,  64.,  30.,   4.,   2.]),\n",
       " array([0.10988425, 0.32609429, 0.54230434, 0.75851439, 0.97472443,\n",
       "        1.19093448, 1.40714452, 1.62335457, 1.83956462, 2.05577466,\n",
       "        2.27198471]),\n",
       " <BarContainer object of 10 artists>)"
      ]
     },
     "execution_count": 68,
     "metadata": {},
     "output_type": "execute_result"
    },
    {
     "data": {
      "image/png": "[encoded data removed]",
      "text/plain": [
       "<Figure size 432x288 with 1 Axes>"
      ]
     },
     "metadata": {
      "needs_background": "light"
     },
     "output_type": "display_data"
    }
   ],
   "source": [
    "s = rng.weibull(2.5,1000)\n",
    "plt.hist(s)\n"
   ]
  },
  {
   "cell_type": "code",
   "execution_count": null,
   "id": "88322bfe",
   "metadata": {},
   "outputs": [],
   "source": []
  },
  {
   "cell_type": "code",
   "execution_count": 69,
   "id": "fe1fafdc",
   "metadata": {},
   "outputs": [
    {
     "data": {
      "text/plain": [
       "(array([ 26.,  62., 128., 158., 219., 163., 149.,  72.,  19.,   4.]),\n",
       " array([0.28085347, 0.41382219, 0.54679091, 0.67975963, 0.81272836,\n",
       "        0.94569708, 1.0786658 , 1.21163452, 1.34460325, 1.47757197,\n",
       "        1.61054069]),\n",
       " <BarContainer object of 10 artists>)"
      ]
     },
     "execution_count": 69,
     "metadata": {},
     "output_type": "execute_result"
    },
    {
     "data": {
      "image/png": "[encoded data removed]",
      "text/plain": [
       "<Figure size 432x288 with 1 Axes>"
      ]
     },
     "metadata": {
      "needs_background": "light"
     },
     "output_type": "display_data"
    }
   ],
   "source": [
    "s = rng.weibull(4,1000)\n",
    "plt.hist(s)\n"
   ]
  },
  {
   "cell_type": "code",
   "execution_count": 70,
   "id": "a16ceffa",
   "metadata": {},
   "outputs": [],
   "source": [
    "def weib(x,c,k):\n",
    "\n",
    " return (k / c) * (x / c)**(k - 1) * np.exp(-(x / c)**k)"
   ]
  },
  {
   "cell_type": "code",
   "execution_count": 71,
   "id": "33b89098",
   "metadata": {},
   "outputs": [
    {
     "data": {
      "image/png": "[encoded data removed]",
      "text/plain": [
       "<Figure size 432x288 with 1 Axes>"
      ]
     },
     "metadata": {
      "needs_background": "light"
     },
     "output_type": "display_data"
    }
   ],
   "source": [
    "x = np.arange(0,101)/4\n",
    "\n",
    "scale = count.max()/weib(x, 1, 1).max()\n",
    "\n",
    "plt.xlim(0, 15)\n",
    "plt.ylim(0, 1.2)\n",
    "\n",
    "plt.plot(x, weib(x, 4, 1.5)*scale)\n",
    "plt.plot(x, weib(x, 4, 2)*scale)\n",
    "plt.plot(x, weib(x, 4, 2.5)*scale)\n",
    "plt.plot(x, weib(x, 4, 3)*scale)\n",
    "\n",
    "\n",
    "plt.show()"
   ]
  },
  {
   "cell_type": "code",
   "execution_count": 72,
   "id": "e85a8b30",
   "metadata": {},
   "outputs": [
    {
     "data": {
      "text/plain": [
       "array([ 0.  ,  0.25,  0.5 ,  0.75,  1.  ,  1.25,  1.5 ,  1.75,  2.  ,\n",
       "        2.25,  2.5 ,  2.75,  3.  ,  3.25,  3.5 ,  3.75,  4.  ,  4.25,\n",
       "        4.5 ,  4.75,  5.  ,  5.25,  5.5 ,  5.75,  6.  ,  6.25,  6.5 ,\n",
       "        6.75,  7.  ,  7.25,  7.5 ,  7.75,  8.  ,  8.25,  8.5 ,  8.75,\n",
       "        9.  ,  9.25,  9.5 ,  9.75, 10.  , 10.25, 10.5 , 10.75, 11.  ,\n",
       "       11.25, 11.5 , 11.75, 12.  , 12.25, 12.5 , 12.75, 13.  , 13.25,\n",
       "       13.5 , 13.75, 14.  , 14.25, 14.5 , 14.75, 15.  , 15.25, 15.5 ,\n",
       "       15.75, 16.  , 16.25, 16.5 , 16.75, 17.  , 17.25, 17.5 , 17.75,\n",
       "       18.  , 18.25, 18.5 , 18.75, 19.  , 19.25, 19.5 , 19.75, 20.  ,\n",
       "       20.25, 20.5 , 20.75, 21.  , 21.25, 21.5 , 21.75, 22.  , 22.25,\n",
       "       22.5 , 22.75, 23.  , 23.25, 23.5 , 23.75, 24.  , 24.25, 24.5 ,\n",
       "       24.75, 25.  ])"
      ]
     },
     "execution_count": 72,
     "metadata": {},
     "output_type": "execute_result"
    }
   ],
   "source": [
    "x"
   ]
  },
  {
   "cell_type": "code",
   "execution_count": null,
   "id": "d2476dac",
   "metadata": {},
   "outputs": [],
   "source": []
  },
  {
   "cell_type": "code",
   "execution_count": 73,
   "id": "e7c5b89b",
   "metadata": {},
   "outputs": [
    {
     "data": {
      "text/plain": [
       "[<matplotlib.lines.Line2D at 0x143a7cefac0>]"
      ]
     },
     "execution_count": 73,
     "metadata": {},
     "output_type": "execute_result"
    },
    {
     "data": {
      "image/png": "[encoded data removed]",
      "text/plain": [
       "<Figure size 432x288 with 1 Axes>"
      ]
     },
     "metadata": {
      "needs_background": "light"
     },
     "output_type": "display_data"
    }
   ],
   "source": [
    "x = np.arange(1,100.)/4\n",
    "\n",
    "scale = count.max()/weib(x, 3, 2).max()\n",
    "\n",
    "plt.xlim(0, 15)\n",
    "plt.ylim(0, 3)\n",
    "\n",
    "plt.plot(x, weib(x, 3, 2)*scale)\n",
    "\n",
    "#plt.show()"
   ]
  },
  {
   "cell_type": "code",
   "execution_count": 74,
   "id": "f16e19b1",
   "metadata": {},
   "outputs": [
    {
     "data": {
      "text/plain": [
       "[<matplotlib.lines.Line2D at 0x143a7a81430>]"
      ]
     },
     "execution_count": 74,
     "metadata": {},
     "output_type": "execute_result"
    },
    {
     "data": {
      "image/png": "[encoded data removed]",
      "text/plain": [
       "<Figure size 432x288 with 1 Axes>"
      ]
     },
     "metadata": {
      "needs_background": "light"
     },
     "output_type": "display_data"
    }
   ],
   "source": [
    "x = np.arange(1,100.)/4\n",
    "\n",
    "scale = count.max()/weib(x, 4, 2).max()\n",
    "\n",
    "plt.xlim(0, 15)\n",
    "plt.ylim(0, 3)\n",
    "\n",
    "plt.plot(x, weib(x, 5, 2)*scale)\n",
    "\n",
    "#plt.show()"
   ]
  },
  {
   "cell_type": "code",
   "execution_count": 75,
   "id": "da46c3af",
   "metadata": {},
   "outputs": [
    {
     "data": {
      "image/png": "[encoded data removed]",
      "text/plain": [
       "<Figure size 432x288 with 1 Axes>"
      ]
     },
     "metadata": {
      "needs_background": "light"
     },
     "output_type": "display_data"
    }
   ],
   "source": [
    "x = np.arange(1,100.)/4\n",
    "\n",
    "scale = count.max()/weib(x, 4, 2).max()\n",
    "\n",
    "plt.xlim(0, 15)\n",
    "plt.ylim(0, 3)\n",
    "\n",
    "plt.plot(x, weib(x, 1.5, 2)*scale)\n",
    "\n",
    "plt.show()"
   ]
  },
  {
   "cell_type": "markdown",
   "id": "488bff0c",
   "metadata": {},
   "source": [
    "## 5. Seeds"
   ]
  },
  {
   "cell_type": "markdown",
   "id": "73d92da6",
   "metadata": {},
   "source": [
    "```numpy.random``` uses a seed to derive the initial state with a sequence of statistcally random numbers generated from this known starting point; the use of a known seed means that the the algorithm is repeatable. \n",
    "\n",
    "Therefore, the numbers generated are not completely random and are known as \"pseudo-random numbers\"."
   ]
  },
  {
   "cell_type": "code",
   "execution_count": 76,
   "id": "2f3f4389",
   "metadata": {},
   "outputs": [],
   "source": [
    "#https://www.astroml.org/book_figures/chapter3/fig_weibull_distribution.html"
   ]
  },
  {
   "cell_type": "code",
   "execution_count": 77,
   "id": "401d3a27",
   "metadata": {},
   "outputs": [
    {
     "ename": "NameError",
     "evalue": "name 'weibull_min' is not defined",
     "output_type": "error",
     "traceback": [
      "\u001b[1;31m---------------------------------------------------------------------------\u001b[0m",
      "\u001b[1;31mNameError\u001b[0m                                 Traceback (most recent call last)",
      "\u001b[1;32m~\\AppData\\Local\\Temp/ipykernel_13712/446901311.py\u001b[0m in \u001b[0;36m<module>\u001b[1;34m\u001b[0m\n\u001b[0;32m     12\u001b[0m \u001b[1;33m\u001b[0m\u001b[0m\n\u001b[0;32m     13\u001b[0m \u001b[1;32mfor\u001b[0m \u001b[1;33m(\u001b[0m\u001b[0mk\u001b[0m\u001b[1;33m,\u001b[0m \u001b[0mlam\u001b[0m\u001b[1;33m,\u001b[0m \u001b[0mls\u001b[0m\u001b[1;33m)\u001b[0m \u001b[1;32min\u001b[0m \u001b[0mzip\u001b[0m\u001b[1;33m(\u001b[0m\u001b[0mk_values\u001b[0m\u001b[1;33m,\u001b[0m \u001b[0mlam_values\u001b[0m\u001b[1;33m,\u001b[0m \u001b[0mlinestyles\u001b[0m\u001b[1;33m)\u001b[0m\u001b[1;33m:\u001b[0m\u001b[1;33m\u001b[0m\u001b[1;33m\u001b[0m\u001b[0m\n\u001b[1;32m---> 14\u001b[1;33m     \u001b[0mdist\u001b[0m \u001b[1;33m=\u001b[0m \u001b[0mweibull_min\u001b[0m\u001b[1;33m(\u001b[0m\u001b[0mk\u001b[0m\u001b[1;33m,\u001b[0m \u001b[0mmu\u001b[0m\u001b[1;33m,\u001b[0m \u001b[0mlam\u001b[0m\u001b[1;33m)\u001b[0m\u001b[1;33m\u001b[0m\u001b[1;33m\u001b[0m\u001b[0m\n\u001b[0m\u001b[0;32m     15\u001b[0m     plt.plot(x, dist.pdf(x), ls=ls, c='black',\n\u001b[0;32m     16\u001b[0m              label=r'$k=%.1f,\\ \\lambda=%i$' % (k, lam))\n",
      "\u001b[1;31mNameError\u001b[0m: name 'weibull_min' is not defined"
     ]
    },
    {
     "data": {
      "image/png": "[encoded data removed]",
      "text/plain": [
       "<Figure size 360x270 with 1 Axes>"
      ]
     },
     "metadata": {
      "needs_background": "light"
     },
     "output_type": "display_data"
    }
   ],
   "source": [
    "#------------------------------------------------------------\n",
    "# Define the distribution parameters to be plotted\n",
    "k_values = [0.5, 1, 2, 2]\n",
    "lam_values = [1, 1, 1, 2]\n",
    "linestyles = ['-', '--', ':', '-.', '--']\n",
    "mu = 0\n",
    "x = np.linspace(-10, 10, 1000)\n",
    "\n",
    "#------------------------------------------------------------\n",
    "# plot the distributions\n",
    "fig, ax = plt.subplots(figsize=(5, 3.75))\n",
    "\n",
    "for (k, lam, ls) in zip(k_values, lam_values, linestyles):\n",
    "    dist = weibull_min(k, mu, lam)\n",
    "    plt.plot(x, dist.pdf(x), ls=ls, c='black',\n",
    "             label=r'$k=%.1f,\\ \\lambda=%i$' % (k, lam))\n",
    "\n",
    "plt.xlim(0, 5)\n",
    "plt.ylim(0, 1)\n",
    "\n",
    "plt.xlabel('$x$')\n",
    "plt.ylabel(r'$p(x|k,\\lambda)$')\n",
    "plt.title('Weibull Distribution')\n",
    "\n",
    "plt.legend()\n",
    "plt.show()"
   ]
  },
  {
   "cell_type": "markdown",
   "id": "455d416b",
   "metadata": {},
   "source": [
    "## 6. Conclusion"
   ]
  },
  {
   "cell_type": "code",
   "execution_count": null,
   "id": "4c0efc7a",
   "metadata": {},
   "outputs": [],
   "source": []
  },
  {
   "cell_type": "code",
   "execution_count": null,
   "id": "9a60b755",
   "metadata": {},
   "outputs": [],
   "source": []
  }
 ],
 "metadata": {
  "kernelspec": {
   "display_name": "Python 3 (ipykernel)",
   "language": "python",
   "name": "python3"
  },
  "language_info": {
   "codemirror_mode": {
    "name": "ipython",
    "version": 3
   },
   "file_extension": ".py",
   "mimetype": "text/x-python",
   "name": "python",
   "nbconvert_exporter": "python",
   "pygments_lexer": "ipython3",
   "version": "3.8.11"
  }
 },
 "nbformat": 4,
 "nbformat_minor": 5
}
