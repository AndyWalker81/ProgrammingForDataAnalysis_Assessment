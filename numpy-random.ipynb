{
 "cells": [
  {
   "cell_type": "markdown",
   "id": "874f72ad",
   "metadata": {},
   "source": [
    "# The numpy.random package "
   ]
  },
  {
   "cell_type": "markdown",
   "id": "6df241a1",
   "metadata": {},
   "source": [
    "## Programming for Data Analysis Assignment\n",
    "\n",
    "## An investigation into the numpy.random package"
   ]
  },
  {
   "cell_type": "markdown",
   "id": "b754a200",
   "metadata": {},
   "source": [
    "### Andrew Walker - G00398788@gmit.ie"
   ]
  },
  {
   "cell_type": "markdown",
   "id": "b1bbe76a",
   "metadata": {},
   "source": [
    "![numpy.org](https://numpy.org/doc/stable/_static/numpylogo.svg)"
   ]
  },
  {
   "cell_type": "markdown",
   "id": "57f89fd9",
   "metadata": {},
   "source": [
    "## 1. Introduction"
   ]
  },
  {
   "cell_type": "markdown",
   "id": "d86aa1be",
   "metadata": {},
   "source": [
    "This notebook contains an explanation of the ```numpy.random``` package in Python. "
   ]
  },
  {
   "cell_type": "markdown",
   "id": "acdf6ba1",
   "metadata": {},
   "source": [
    "NumPy is an open source project aiming to enable numerical computing with Python<sup id=\"a1\">[1](#f1)</sup>. It is used for working with arrays and also has functions for working in the domain of linear algebra, fourier transform, and matrices<sup id=\"a2\">[2](#f2)</sup>. In has applications in a wide range of fields such as astronomy, physics, engineering, and economics. "
   ]
  },
  {
   "cell_type": "markdown",
   "id": "a8e63aa5",
   "metadata": {},
   "source": [
    "The ```numpy.random``` package within NumPy is used to generate a sequence of numbers which approximate the properties of random numbers. The sequence of numbers that is generated is statistically random and can be used in a wide range of applications.    "
   ]
  },
  {
   "cell_type": "markdown",
   "id": "668e8dc3",
   "metadata": {},
   "source": [
    "The package generates the sequence with the use of a BitGenerator and a Generator. The BitGenerator uses a seed to derive the initial state and create a sequence of statistically random numbers bits. The Generator converts the sequence of random bits from a BitGenerator into sequences of numbers that follow a specific probability distribution<sup id=\"a3\">[3](#f3)</sup>. "
   ]
  },
  {
   "cell_type": "markdown",
   "id": "99221eb4",
   "metadata": {},
   "source": [
    "This notebook will explain the following overarching features of the ```numpy.random``` package:\n",
    "\n",
    "- Simple random data\n",
    "- Permutations\n",
    "- The purpose of five Distribution functions\n",
    "    - Uniform \n",
    "    - Normal\n",
    "    - Weibull\n",
    "    - Binomial\n",
    "    - Multinomial\n",
    "- The use of seeds in generating pseudo-random numbers"
   ]
  },
  {
   "cell_type": "markdown",
   "id": "30b44469",
   "metadata": {},
   "source": [
    "The notebook will explain each feature and the functions contained in each using code, plots, and diagrams where required. "
   ]
  },
  {
   "cell_type": "markdown",
   "id": "7fe1fab1",
   "metadata": {},
   "source": [
    "Use of the notebook requires the following Python packages to be initalised:\n",
    "\n",
    "- ```numpy.random```\n",
    "- ```matplotlib.pyplot```\n",
    "\n",
    "In addition, a Generator needs to be constructed. \n",
    "\n",
    "The initialisation will be done in Section 2 of this Notebook.\n"
   ]
  },
  {
   "cell_type": "markdown",
   "id": "f5707cb3",
   "metadata": {},
   "source": [
    "At the time of writing this notebook, the most recent release of ```numpy.random``` is 1.21.0. This contents of this notebook are based on this release."
   ]
  },
  {
   "cell_type": "markdown",
   "id": "f68e5a38",
   "metadata": {},
   "source": [
    "All references are provided in Section 6 of this notebook."
   ]
  },
  {
   "cell_type": "markdown",
   "id": "4e361ae5",
   "metadata": {},
   "source": [
    "## 2. Initalising the Required Python Packages"
   ]
  },
  {
   "cell_type": "markdown",
   "id": "f14bbb9c",
   "metadata": {},
   "source": [
    "Import NumPy:"
   ]
  },
  {
   "cell_type": "code",
   "execution_count": 1,
   "id": "2c430dc6",
   "metadata": {},
   "outputs": [],
   "source": [
    "import numpy as np"
   ]
  },
  {
   "cell_type": "markdown",
   "id": "d4e56e16",
   "metadata": {},
   "source": [
    "Construct a new Generator with the default BitGenerator (PCG64): "
   ]
  },
  {
   "cell_type": "code",
   "execution_count": 2,
   "id": "db98f501",
   "metadata": {},
   "outputs": [],
   "source": [
    "rng = np.random.default_rng()"
   ]
  },
  {
   "cell_type": "markdown",
   "id": "c23f3174",
   "metadata": {},
   "source": [
    "A seed can be specified in ```default_rng```. The use of a known seed means that the the algorithm is repeatable. BitGenerators and seeds are discussed further in Section 5."
   ]
  },
  {
   "cell_type": "markdown",
   "id": "b573f3a3",
   "metadata": {},
   "source": [
    "Pyplot will also be used to allow plotting of outputs generated, where required:"
   ]
  },
  {
   "cell_type": "code",
   "execution_count": 3,
   "id": "9510f085",
   "metadata": {},
   "outputs": [],
   "source": [
    "import matplotlib.pyplot as plt"
   ]
  },
  {
   "cell_type": "markdown",
   "id": "dfbf28d2",
   "metadata": {},
   "source": [
    "## 3. Simple Random Data"
   ]
  },
  {
   "cell_type": "markdown",
   "id": "bcae83ee",
   "metadata": {},
   "source": [
    "The ```numpy.random``` package contains four functions to generate simple random data. These are discussed in this section."
   ]
  },
  {
   "cell_type": "markdown",
   "id": "4ae05e21",
   "metadata": {},
   "source": [
    "### 3.1 Integers\n"
   ]
  },
  {
   "cell_type": "markdown",
   "id": "c67e06bb",
   "metadata": {},
   "source": [
    "NumPy can be instructed to return random integers<sup id=\"a4\">[4](#f4)</sup>. For example:"
   ]
  },
  {
   "cell_type": "code",
   "execution_count": 4,
   "id": "7251769b",
   "metadata": {},
   "outputs": [
    {
     "data": {
      "text/plain": [
       "array([1, 0, 1, 1, 0], dtype=int64)"
      ]
     },
     "execution_count": 4,
     "metadata": {},
     "output_type": "execute_result"
    }
   ],
   "source": [
    "rng.integers(0, 3, size=5)"
   ]
  },
  {
   "cell_type": "markdown",
   "id": "86865012",
   "metadata": {},
   "source": [
    "In this example, the first parameter (```0```) sets the lowest integer that is possible to be generated. The upper limit is defined by the second parameter (```3```); the highest integer that is possible to be generated is one lower than this number. The parameter ```size=5``` designates that 5 random numbers should be generated.  "
   ]
  },
  {
   "cell_type": "markdown",
   "id": "7d2bc477",
   "metadata": {},
   "source": [
    "The shape of the output can be changed by specifying the number of rows and columns. For example, a 5 x 5 array containing random numbers between 0 and 9 can be generated using the following:"
   ]
  },
  {
   "cell_type": "code",
   "execution_count": 5,
   "id": "87285c10",
   "metadata": {},
   "outputs": [
    {
     "data": {
      "text/plain": [
       "array([[5, 7, 9, 1, 5],\n",
       "       [3, 2, 4, 9, 5],\n",
       "       [1, 3, 9, 3, 2],\n",
       "       [9, 3, 0, 6, 6],\n",
       "       [9, 9, 2, 9, 6]], dtype=int64)"
      ]
     },
     "execution_count": 5,
     "metadata": {},
     "output_type": "execute_result"
    }
   ],
   "source": [
    "rng.integers(0, 10, size=(5,5))\n"
   ]
  },
  {
   "cell_type": "markdown",
   "id": "6b283ce1",
   "metadata": {},
   "source": [
    "In these examples, the output also includes the data type: ```dtype=int64```. By default, Python has the following data types:\n",
    "\n",
    "- strings\n",
    "- integer\n",
    "- float\n",
    "- boolean\n",
    "- complex\n",
    "\n",
    "NumPy also includes a number of additional data types (discussion of which is considered outside the scope of this notebook). \n",
    "\n",
    "```dtype=int64``` refers to the output containing 64-bit integers. This can be changed, as shown in the following example to output 8-bit integers:"
   ]
  },
  {
   "cell_type": "code",
   "execution_count": 6,
   "id": "1e0a152c",
   "metadata": {},
   "outputs": [
    {
     "data": {
      "text/plain": [
       "array([[3, 7, 3, 0, 5],\n",
       "       [6, 4, 5, 6, 4],\n",
       "       [5, 6, 0, 6, 1],\n",
       "       [6, 5, 2, 6, 8],\n",
       "       [6, 3, 7, 2, 5]], dtype=int8)"
      ]
     },
     "execution_count": 6,
     "metadata": {},
     "output_type": "execute_result"
    }
   ],
   "source": [
    "rng.integers(0, 10, size=(5,5), dtype='int8')"
   ]
  },
  {
   "cell_type": "markdown",
   "id": "60868e2d",
   "metadata": {},
   "source": [
    "The integers are generated by default as a discrete probability distribution. This means that the probability of outcomes is equally likely and with finite values<sup id=\"a5\">[5](#f5)</sup>."
   ]
  },
  {
   "cell_type": "code",
   "execution_count": 7,
   "id": "8f73fb0f",
   "metadata": {},
   "outputs": [
    {
     "data": {
      "image/png": "[encoded data removed]",
      "text/plain": [
       "<Figure size 432x288 with 1 Axes>"
      ]
     },
     "metadata": {
      "needs_background": "light"
     },
     "output_type": "display_data"
    }
   ],
   "source": [
    "x = rng.integers(100, size=10000)\n",
    "plt.hist(x)\n",
    "plt.show()"
   ]
  },
  {
   "cell_type": "markdown",
   "id": "54710501",
   "metadata": {},
   "source": [
    "### 2.2 Random"
   ]
  },
  {
   "cell_type": "markdown",
   "id": "bc704e6d",
   "metadata": {},
   "source": [
    "The NumPy random function returns random floats<sup id=\"a6\">[6](#f6)</sup>. For example:"
   ]
  },
  {
   "cell_type": "code",
   "execution_count": 8,
   "id": "a12de2c3",
   "metadata": {},
   "outputs": [
    {
     "data": {
      "text/plain": [
       "0.6482856904989522"
      ]
     },
     "execution_count": 8,
     "metadata": {},
     "output_type": "execute_result"
    }
   ],
   "source": [
    "rng.random()"
   ]
  },
  {
   "cell_type": "markdown",
   "id": "9e5e2869",
   "metadata": {},
   "source": [
    "The size of output can be specified:"
   ]
  },
  {
   "cell_type": "code",
   "execution_count": 9,
   "id": "5c2aaf9b",
   "metadata": {
    "scrolled": true
   },
   "outputs": [
    {
     "data": {
      "text/plain": [
       "array([[0.83003459, 0.25554926, 0.69730097, 0.58769186, 0.27817021],\n",
       "       [0.15529935, 0.0359277 , 0.77951098, 0.95233083, 0.6450161 ],\n",
       "       [0.04267431, 0.91709849, 0.20986788, 0.77671527, 0.2341606 ],\n",
       "       [0.02892639, 0.49866026, 0.89717972, 0.5913434 , 0.61433594],\n",
       "       [0.26340966, 0.26447235, 0.45501371, 0.10750597, 0.39406271]])"
      ]
     },
     "execution_count": 9,
     "metadata": {},
     "output_type": "execute_result"
    }
   ],
   "source": [
    "rng.random(size=(5,5))"
   ]
  },
  {
   "cell_type": "markdown",
   "id": "5c36df4d",
   "metadata": {},
   "source": [
    "To specify the low and high values the formula ```(b + a) * rng.random() + a``` can be used. The following example outputs five floats between 0 (inclusive) and 3 (exclusive):"
   ]
  },
  {
   "cell_type": "code",
   "execution_count": 10,
   "id": "dde5e83b",
   "metadata": {},
   "outputs": [
    {
     "data": {
      "text/plain": [
       "array([[2.34213732, 0.4523683 , 2.92479689, 0.12367385, 1.06154789],\n",
       "       [2.79457857, 2.51952992, 0.19548103, 0.08998666, 0.65062321],\n",
       "       [1.97401775, 2.75279697, 0.79733561, 0.47313356, 1.67488186],\n",
       "       [2.72062706, 1.05803846, 2.2785959 , 0.31189249, 0.19672713],\n",
       "       [0.69436597, 1.09210295, 2.33380444, 1.21084642, 0.67862229]])"
      ]
     },
     "execution_count": 10,
     "metadata": {},
     "output_type": "execute_result"
    }
   ],
   "source": [
    "a = 0 #low value\n",
    "b = 3 #high value\n",
    "x = rng.random(size=(5,5)) \n",
    "y = (b + a) * x + a\n",
    "y"
   ]
  },
  {
   "cell_type": "markdown",
   "id": "1c8282f9",
   "metadata": {},
   "source": [
    "Or for negative numbers between 0 (inclusive) and -1 (exclusive):"
   ]
  },
  {
   "cell_type": "code",
   "execution_count": 11,
   "id": "ea469ed7",
   "metadata": {},
   "outputs": [
    {
     "data": {
      "text/plain": [
       "array([[-0.18496931, -0.51794656, -0.31667401, -0.32876767, -0.02046733],\n",
       "       [-0.94088118, -0.97438419, -0.74345845, -0.02707419, -0.00507022],\n",
       "       [-0.68421964, -0.17154271, -0.27694361, -0.68000472, -0.12320977],\n",
       "       [-0.30656226, -0.85624752, -0.844554  , -0.42399607, -0.20457145],\n",
       "       [-0.61049621, -0.88995058, -0.7849455 , -0.03924438, -0.82818667]])"
      ]
     },
     "execution_count": 11,
     "metadata": {},
     "output_type": "execute_result"
    }
   ],
   "source": [
    "a = 0 \n",
    "b = -1 \n",
    "x = rng.random(size=(5,5)) \n",
    "y = (b + a) * x + a\n",
    "y"
   ]
  },
  {
   "cell_type": "markdown",
   "id": "3e1cb2c4",
   "metadata": {},
   "source": [
    "However, for negative numbers not including 0, the formula must be changed slightly. For example, for negative numbers between -1 (inclusive) and -2 (exclusive):"
   ]
  },
  {
   "cell_type": "code",
   "execution_count": 12,
   "id": "e0fc63bc",
   "metadata": {},
   "outputs": [
    {
     "data": {
      "text/plain": [
       "array([[-1.6033478 , -1.61668027, -1.55570074, -1.38357769, -1.41733041],\n",
       "       [-1.2795137 , -1.80394925, -1.14509313, -1.36006371, -1.12233544],\n",
       "       [-1.79012594, -1.5467269 , -1.25086208, -1.38402254, -1.01179943],\n",
       "       [-1.27681161, -1.7621564 , -1.64583162, -1.62948372, -1.85466988],\n",
       "       [-1.90077274, -1.58547413, -1.39605061, -1.5570456 , -1.50255455]])"
      ]
     },
     "execution_count": 12,
     "metadata": {},
     "output_type": "execute_result"
    }
   ],
   "source": [
    "a = -1 \n",
    "b = -2 \n",
    "x = rng.random(size=(5,5))  \n",
    "y = (b - a) * x + a\n",
    "y"
   ]
  },
  {
   "cell_type": "markdown",
   "id": "0457ae35",
   "metadata": {},
   "source": [
    "The floats are generated by default as a continuous probability distribution. This means that there are infinite number of equally likely measurable values<sup id=\"a7\">[7](#f7)</sup>.  "
   ]
  },
  {
   "cell_type": "code",
   "execution_count": 13,
   "id": "0fab7b01",
   "metadata": {},
   "outputs": [
    {
     "data": {
      "text/plain": [
       "<function matplotlib.pyplot.show(close=None, block=None)>"
      ]
     },
     "execution_count": 13,
     "metadata": {},
     "output_type": "execute_result"
    },
    {
     "data": {
      "image/png": "[encoded data removed]",
      "text/plain": [
       "<Figure size 432x288 with 1 Axes>"
      ]
     },
     "metadata": {
      "needs_background": "light"
     },
     "output_type": "display_data"
    }
   ],
   "source": [
    "x = rng.random(size=10000)\n",
    "plt.hist(x)\n",
    "plt.show"
   ]
  },
  {
   "cell_type": "markdown",
   "id": "46a82682",
   "metadata": {},
   "source": [
    "### 2.3 Choice"
   ]
  },
  {
   "cell_type": "markdown",
   "id": "1f8cda7a",
   "metadata": {},
   "source": [
    "The NumPy choice function generates a random sample from a given array<sup id=\"a8\">[8](#f8)</sup>. For example:"
   ]
  },
  {
   "cell_type": "code",
   "execution_count": 14,
   "id": "31166edc",
   "metadata": {},
   "outputs": [
    {
     "data": {
      "text/plain": [
       "array([2, 8, 5, 2, 2], dtype=int64)"
      ]
     },
     "execution_count": 14,
     "metadata": {},
     "output_type": "execute_result"
    }
   ],
   "source": [
    "rng.choice(10, 5)"
   ]
  },
  {
   "cell_type": "markdown",
   "id": "30a28ada",
   "metadata": {},
   "source": [
    "This returns an array of 5 integers between 0 and 9 (inclusive) and is the equivalent of ```rng.integers(0, 10, 5)```."
   ]
  },
  {
   "cell_type": "markdown",
   "id": "e3bfedd7",
   "metadata": {},
   "source": [
    "By default, the distribution is uniform, as shown below:"
   ]
  },
  {
   "cell_type": "code",
   "execution_count": 15,
   "id": "a40f960e",
   "metadata": {},
   "outputs": [
    {
     "data": {
      "image/png": "[encoded data removed]",
      "text/plain": [
       "<Figure size 432x288 with 1 Axes>"
      ]
     },
     "metadata": {
      "needs_background": "light"
     },
     "output_type": "display_data"
    }
   ],
   "source": [
    "x = rng.choice(100, 10000)\n",
    "plt.hist(x)\n",
    "plt.show()"
   ]
  },
  {
   "cell_type": "markdown",
   "id": "dfb7c6eb",
   "metadata": {},
   "source": [
    "A non-uniform distribution can be generated by specifying parameter ```p``` for the probabilty of a choice occuring. For example:"
   ]
  },
  {
   "cell_type": "code",
   "execution_count": 16,
   "id": "ff4ba34b",
   "metadata": {},
   "outputs": [
    {
     "data": {
      "text/plain": [
       "array([3, 3, 3], dtype=int64)"
      ]
     },
     "execution_count": 16,
     "metadata": {},
     "output_type": "execute_result"
    }
   ],
   "source": [
    "rng.choice(5, 3, p=[0.1, 0, 0.3, 0.6, 0])"
   ]
  },
  {
   "cell_type": "markdown",
   "id": "230c170c",
   "metadata": {},
   "source": [
    "In this example, there is a 10% chance of 0 occuring for any the three numbers generated, a 0% percentage chance for a 1, a 30% chance for a 2, a 60% chance for a 3, and a 0% chance for a 4. "
   ]
  },
  {
   "cell_type": "markdown",
   "id": "3de7deac",
   "metadata": {},
   "source": [
    "Specifying parameter ```replace=False``` will result in an individual number not occurring more than once in the output:"
   ]
  },
  {
   "cell_type": "code",
   "execution_count": 17,
   "id": "b099d6da",
   "metadata": {},
   "outputs": [
    {
     "data": {
      "text/plain": [
       "array([1, 2, 8, 7, 3, 6, 9, 0, 5, 4], dtype=int64)"
      ]
     },
     "execution_count": 17,
     "metadata": {},
     "output_type": "execute_result"
    }
   ],
   "source": [
    "rng.choice(10, 10, replace=False)"
   ]
  },
  {
   "cell_type": "markdown",
   "id": "e4c85779",
   "metadata": {},
   "source": [
    "The axis along which the choice is performed can also be selected. The 0 axis refers to rows, and the 1 axis refers to columns<sup id=\"a9\">[9](#f9)</sup>. The default is 0 if this parameter is not set. For example: "
   ]
  },
  {
   "cell_type": "code",
   "execution_count": 18,
   "id": "3b148e84",
   "metadata": {},
   "outputs": [
    {
     "data": {
      "text/plain": [
       "array([['3', '4', '5'],\n",
       "       ['C', 'D', 'E'],\n",
       "       ['3', '4', '5'],\n",
       "       ['3', '4', '5'],\n",
       "       ['C', 'D', 'E']], dtype='<U11')"
      ]
     },
     "execution_count": 18,
     "metadata": {},
     "output_type": "execute_result"
    }
   ],
   "source": [
    "x = rng.choice([[0,1,2], [3,4,5], [6,7,8], [9,'A','B'], ['C','D','E']], 5, axis=0)\n",
    "x"
   ]
  },
  {
   "cell_type": "markdown",
   "id": "ae5721c9",
   "metadata": {},
   "source": [
    "The above output contains five rows with three elements: "
   ]
  },
  {
   "cell_type": "code",
   "execution_count": 19,
   "id": "3eb18c1f",
   "metadata": {},
   "outputs": [
    {
     "data": {
      "text/plain": [
       "(5, 3)"
      ]
     },
     "execution_count": 19,
     "metadata": {},
     "output_type": "execute_result"
    }
   ],
   "source": [
    "(x.shape)"
   ]
  },
  {
   "cell_type": "markdown",
   "id": "9af2a897",
   "metadata": {},
   "source": [
    "Setting the axis to 1:"
   ]
  },
  {
   "cell_type": "code",
   "execution_count": 20,
   "id": "bea52740",
   "metadata": {},
   "outputs": [
    {
     "data": {
      "text/plain": [
       "array([['2', '0', '1', '1', '1'],\n",
       "       ['5', '3', '4', '4', '4'],\n",
       "       ['8', '6', '7', '7', '7'],\n",
       "       ['B', '9', 'A', 'A', 'A'],\n",
       "       ['E', 'C', 'D', 'D', 'D']], dtype='<U11')"
      ]
     },
     "execution_count": 20,
     "metadata": {},
     "output_type": "execute_result"
    }
   ],
   "source": [
    "x = rng.choice([[0,1,2], [3,4,5], [6,7,8], [9,'A','B'], ['C','D','E']], 5, axis=1)\n",
    "x"
   ]
  },
  {
   "cell_type": "markdown",
   "id": "2fc00c66",
   "metadata": {},
   "source": [
    "The above output contains five rows with five columns:"
   ]
  },
  {
   "cell_type": "code",
   "execution_count": 21,
   "id": "68a07557",
   "metadata": {},
   "outputs": [
    {
     "data": {
      "text/plain": [
       "(5, 5)"
      ]
     },
     "execution_count": 21,
     "metadata": {},
     "output_type": "execute_result"
    }
   ],
   "source": [
    "(x.shape)"
   ]
  },
  {
   "cell_type": "markdown",
   "id": "3423d39f",
   "metadata": {},
   "source": [
    "The choice function is not restricted to integers. For example:"
   ]
  },
  {
   "cell_type": "code",
   "execution_count": 22,
   "id": "5727ea24",
   "metadata": {},
   "outputs": [
    {
     "data": {
      "text/plain": [
       "array(['spring', 'winter', 'spring', 'spring'], dtype='<U6')"
      ]
     },
     "execution_count": 22,
     "metadata": {},
     "output_type": "execute_result"
    }
   ],
   "source": [
    "season = ['spring', 'summer', 'autumn', 'winter']\n",
    "rng.choice(season, 4, p=[0.5, 0, 0, 0.5])"
   ]
  },
  {
   "cell_type": "markdown",
   "id": "dd942e59",
   "metadata": {},
   "source": [
    "### 2.4 Bytes"
   ]
  },
  {
   "cell_type": "markdown",
   "id": "b4b53741",
   "metadata": {},
   "source": [
    "The NumPy bytes function returns random bytes, dependent on the specified length<sup id=\"a10\">[10](#f10)</sup>. The following example returns 10 bytes:"
   ]
  },
  {
   "cell_type": "code",
   "execution_count": 23,
   "id": "ef4d1b45",
   "metadata": {},
   "outputs": [
    {
     "data": {
      "text/plain": [
       "b'K\\xb9o\\xda\\x9du\\xd6\\x80\\x88\\xc9'"
      ]
     },
     "execution_count": 23,
     "metadata": {},
     "output_type": "execute_result"
    }
   ],
   "source": [
    "rng.bytes(10)\n"
   ]
  },
  {
   "cell_type": "markdown",
   "id": "e58e2b98",
   "metadata": {},
   "source": [
    "The bytes are returned in hex and ASCII. Any two characters following an x character are hex characters making up 1 byte; any other characters are ASCII characters of 1 byte each. The initial ```b``` is a prefix for bytes, and the output is enclosed in matching single quotes (```'```)<sup id=\"a11\">[11](#f11)</sup>. "
   ]
  },
  {
   "cell_type": "markdown",
   "id": "dabb74fa",
   "metadata": {},
   "source": [
    "For example, ```b'\\xfd\\xd7\\x17\\xac\\xa3Ig\\xf0`\\xa1'``` would be made up of the following for a total of 10 bytes:\n",
    "\n",
    "- fd (hex)\n",
    "- d7 (hex)\n",
    "- 17 (hex)\n",
    "- ac (hex)\n",
    "- a3 (hex)\n",
    "- I (ASCII)\n",
    "- g (ASCII)\n",
    "- f0 (hex)\n",
    "- ` (ASCII)\n",
    "- a1 (hex)"
   ]
  },
  {
   "cell_type": "markdown",
   "id": "c9f79271",
   "metadata": {},
   "source": [
    "The ```numpy.random``` package contains three methods for randomly permutating a sequence. These are discussed in this section. "
   ]
  },
  {
   "cell_type": "markdown",
   "id": "c2181e8c",
   "metadata": {},
   "source": [
    "## 3. Permutations"
   ]
  },
  {
   "cell_type": "markdown",
   "id": "6c35056c",
   "metadata": {},
   "source": [
    "### 3.1 Shuffle"
   ]
  },
  {
   "cell_type": "markdown",
   "id": "3d68daa5",
   "metadata": {},
   "source": [
    "The NumPy shuffle function rearranges the order of a sequence's contents<sup id=\"a12\">[12](#f12)</sup>. For example, the following will return a sequence of numbers from 0 to 9 (inclusive) in a random order, as detailed in Section 2.3:"
   ]
  },
  {
   "cell_type": "code",
   "execution_count": 24,
   "id": "914c4eec",
   "metadata": {},
   "outputs": [
    {
     "data": {
      "text/plain": [
       "array([3, 8, 2, 0, 1, 4, 6, 9, 7, 5], dtype=int64)"
      ]
     },
     "execution_count": 24,
     "metadata": {},
     "output_type": "execute_result"
    }
   ],
   "source": [
    "x = rng.choice(10, 10, replace=False)\n",
    "x"
   ]
  },
  {
   "cell_type": "markdown",
   "id": "7c8579b9",
   "metadata": {},
   "source": [
    "The squence order is then rearranged using the shuffle function:"
   ]
  },
  {
   "cell_type": "code",
   "execution_count": 25,
   "id": "38b73201",
   "metadata": {},
   "outputs": [
    {
     "data": {
      "text/plain": [
       "array([7, 0, 2, 5, 6, 1, 4, 9, 8, 3], dtype=int64)"
      ]
     },
     "execution_count": 25,
     "metadata": {},
     "output_type": "execute_result"
    }
   ],
   "source": [
    "rng.shuffle(x)\n",
    "x"
   ]
  },
  {
   "cell_type": "markdown",
   "id": "c6911259",
   "metadata": {},
   "source": [
    "The shuffle function can also rearrange the sequence of arrays:"
   ]
  },
  {
   "cell_type": "code",
   "execution_count": 26,
   "id": "293c0408",
   "metadata": {},
   "outputs": [
    {
     "data": {
      "text/plain": [
       "array([[ 0,  1,  2,  3,  4],\n",
       "       [ 5,  6,  7,  8,  9],\n",
       "       [10, 11, 12, 13, 14],\n",
       "       [15, 16, 17, 18, 19],\n",
       "       [20, 21, 22, 23, 24]])"
      ]
     },
     "execution_count": 26,
     "metadata": {},
     "output_type": "execute_result"
    }
   ],
   "source": [
    "x = np.arange(0, 25).reshape(5, 5)\n",
    "x"
   ]
  },
  {
   "cell_type": "code",
   "execution_count": 27,
   "id": "23d2a918",
   "metadata": {},
   "outputs": [
    {
     "data": {
      "text/plain": [
       "array([[20, 21, 22, 23, 24],\n",
       "       [10, 11, 12, 13, 14],\n",
       "       [ 0,  1,  2,  3,  4],\n",
       "       [15, 16, 17, 18, 19],\n",
       "       [ 5,  6,  7,  8,  9]])"
      ]
     },
     "execution_count": 27,
     "metadata": {},
     "output_type": "execute_result"
    }
   ],
   "source": [
    "rng.shuffle(x)\n",
    "x"
   ]
  },
  {
   "cell_type": "markdown",
   "id": "55417436",
   "metadata": {},
   "source": [
    "By default, the axis parameter is set to 0. As can be seen in the above example, by default, the shuffle function will shuffle the order the rows, but not the order of the columns. "
   ]
  },
  {
   "cell_type": "markdown",
   "id": "7ababe00",
   "metadata": {},
   "source": [
    "In the below example, the axis is set to 1:"
   ]
  },
  {
   "cell_type": "code",
   "execution_count": 28,
   "id": "bdc4e7fe",
   "metadata": {},
   "outputs": [
    {
     "data": {
      "text/plain": [
       "array([[ 0,  1,  2,  3,  4],\n",
       "       [ 5,  6,  7,  8,  9],\n",
       "       [10, 11, 12, 13, 14],\n",
       "       [15, 16, 17, 18, 19],\n",
       "       [20, 21, 22, 23, 24]])"
      ]
     },
     "execution_count": 28,
     "metadata": {},
     "output_type": "execute_result"
    }
   ],
   "source": [
    "x = np.arange(0, 25).reshape(5, 5)\n",
    "x"
   ]
  },
  {
   "cell_type": "code",
   "execution_count": 29,
   "id": "9081f39d",
   "metadata": {},
   "outputs": [
    {
     "data": {
      "text/plain": [
       "array([[ 3,  4,  2,  1,  0],\n",
       "       [ 8,  9,  7,  6,  5],\n",
       "       [13, 14, 12, 11, 10],\n",
       "       [18, 19, 17, 16, 15],\n",
       "       [23, 24, 22, 21, 20]])"
      ]
     },
     "execution_count": 29,
     "metadata": {},
     "output_type": "execute_result"
    }
   ],
   "source": [
    "rng.shuffle(x, axis=1)\n",
    "x"
   ]
  },
  {
   "cell_type": "markdown",
   "id": "e7eeb20f",
   "metadata": {},
   "source": [
    "This results in a shuffling of the contents of the columns, but the row order remaining the same."
   ]
  },
  {
   "cell_type": "markdown",
   "id": "c9c9df93",
   "metadata": {},
   "source": [
    "### 3.2 Permutation"
   ]
  },
  {
   "cell_type": "markdown",
   "id": "e7dce34d",
   "metadata": {},
   "source": [
    "The NumPy permutation function returns either a randomly permuted sequence or randomly rearranges the elements of an array<sup id=\"a13\">[13](#f13)</sup>. A randomly permuted sequence is shown in the example below:"
   ]
  },
  {
   "cell_type": "code",
   "execution_count": 30,
   "id": "d4a29c31",
   "metadata": {},
   "outputs": [
    {
     "data": {
      "text/plain": [
       "array([5, 0, 3, 4, 1, 7, 8, 2, 9, 6])"
      ]
     },
     "execution_count": 30,
     "metadata": {},
     "output_type": "execute_result"
    }
   ],
   "source": [
    "rng.permutation(10)\n"
   ]
  },
  {
   "cell_type": "raw",
   "id": "18c2d60b",
   "metadata": {},
   "source": [
    "The elements of an array being rearrange is shown in the example below:"
   ]
  },
  {
   "cell_type": "code",
   "execution_count": 31,
   "id": "bad2e180",
   "metadata": {},
   "outputs": [
    {
     "data": {
      "text/plain": [
       "array([[ 0,  1,  2,  3,  4],\n",
       "       [ 5,  6,  7,  8,  9],\n",
       "       [10, 11, 12, 13, 14],\n",
       "       [15, 16, 17, 18, 19],\n",
       "       [20, 21, 22, 23, 24]])"
      ]
     },
     "execution_count": 31,
     "metadata": {},
     "output_type": "execute_result"
    }
   ],
   "source": [
    "x = np.arange(0, 25).reshape(5, 5)\n",
    "x"
   ]
  },
  {
   "cell_type": "code",
   "execution_count": 32,
   "id": "494890d0",
   "metadata": {},
   "outputs": [
    {
     "data": {
      "text/plain": [
       "array([[10, 11, 12, 13, 14],\n",
       "       [15, 16, 17, 18, 19],\n",
       "       [ 5,  6,  7,  8,  9],\n",
       "       [ 0,  1,  2,  3,  4],\n",
       "       [20, 21, 22, 23, 24]])"
      ]
     },
     "execution_count": 32,
     "metadata": {},
     "output_type": "execute_result"
    }
   ],
   "source": [
    "y = rng.permutation(x)\n",
    "y"
   ]
  },
  {
   "cell_type": "markdown",
   "id": "52ee08fd",
   "metadata": {},
   "source": [
    "By default, the axis parameter is set to 0. As can be seen in the above example, by default, the permutation function will rearrange the order the rows, but not the order of the columns. "
   ]
  },
  {
   "cell_type": "markdown",
   "id": "f180c585",
   "metadata": {},
   "source": [
    "In the below example, axis is set to 1:"
   ]
  },
  {
   "cell_type": "code",
   "execution_count": 33,
   "id": "5934e028",
   "metadata": {},
   "outputs": [
    {
     "data": {
      "text/plain": [
       "array([[ 0,  1,  2,  3,  4],\n",
       "       [ 5,  6,  7,  8,  9],\n",
       "       [10, 11, 12, 13, 14],\n",
       "       [15, 16, 17, 18, 19],\n",
       "       [20, 21, 22, 23, 24]])"
      ]
     },
     "execution_count": 33,
     "metadata": {},
     "output_type": "execute_result"
    }
   ],
   "source": [
    "x = np.arange(0, 25).reshape(5, 5)\n",
    "x"
   ]
  },
  {
   "cell_type": "code",
   "execution_count": 34,
   "id": "5fe2b530",
   "metadata": {},
   "outputs": [
    {
     "data": {
      "text/plain": [
       "array([[ 3,  4,  2,  0,  1],\n",
       "       [ 8,  9,  7,  5,  6],\n",
       "       [13, 14, 12, 10, 11],\n",
       "       [18, 19, 17, 15, 16],\n",
       "       [23, 24, 22, 20, 21]])"
      ]
     },
     "execution_count": 34,
     "metadata": {},
     "output_type": "execute_result"
    }
   ],
   "source": [
    "y = rng.permutation(x, axis=1)\n",
    "y"
   ]
  },
  {
   "cell_type": "markdown",
   "id": "3444b306",
   "metadata": {},
   "source": [
    "As with the shuffle function, this results in a shuffling of the contents of the columns but the row order remaining the same."
   ]
  },
  {
   "cell_type": "markdown",
   "id": "d2a14fca",
   "metadata": {},
   "source": [
    "### 3.2.2 Difference between Shuffle and Permutation Functions"
   ]
  },
  {
   "cell_type": "markdown",
   "id": "f93ae35f",
   "metadata": {},
   "source": [
    "At first glance, the shuffle and permutation functions appear to perform similarly - both randomly rearrage a sequence or arrays. However, the key difference is that the shuffle function operates in-place, whereas the permutation function returns a copy<sup id=\"a14\">[14](#f14)</sup>"
   ]
  },
  {
   "cell_type": "markdown",
   "id": "8a75d7f2",
   "metadata": {},
   "source": [
    "The in-place operation of the shuffle function means that dataframe is overwritten with the output of the function, when it is performed, For example, a sequence of numbers 0 to 9 can be generated as the variable ```x```:"
   ]
  },
  {
   "cell_type": "code",
   "execution_count": 35,
   "id": "cf26b2a2",
   "metadata": {},
   "outputs": [],
   "source": [
    "x = np.arange(10)"
   ]
  },
  {
   "cell_type": "markdown",
   "id": "43711af3",
   "metadata": {},
   "source": [
    "The output of ```x``` is shown as the sequence:"
   ]
  },
  {
   "cell_type": "code",
   "execution_count": 36,
   "id": "6897dc4b",
   "metadata": {},
   "outputs": [
    {
     "data": {
      "text/plain": [
       "array([0, 1, 2, 3, 4, 5, 6, 7, 8, 9])"
      ]
     },
     "execution_count": 36,
     "metadata": {},
     "output_type": "execute_result"
    }
   ],
   "source": [
    "x"
   ]
  },
  {
   "cell_type": "markdown",
   "id": "60a71b7e",
   "metadata": {},
   "source": [
    "The shuffle function can then be performed:"
   ]
  },
  {
   "cell_type": "code",
   "execution_count": 37,
   "id": "76cc48f6",
   "metadata": {},
   "outputs": [],
   "source": [
    "rng.shuffle(x)\n"
   ]
  },
  {
   "cell_type": "markdown",
   "id": "5c85b5c9",
   "metadata": {},
   "source": [
    "The variable ```x``` now contains the random sequence generated by the shuffle function:"
   ]
  },
  {
   "cell_type": "code",
   "execution_count": 38,
   "id": "18dc4e3a",
   "metadata": {},
   "outputs": [
    {
     "data": {
      "text/plain": [
       "array([8, 5, 4, 1, 3, 6, 2, 9, 7, 0])"
      ]
     },
     "execution_count": 38,
     "metadata": {},
     "output_type": "execute_result"
    }
   ],
   "source": [
    "x"
   ]
  },
  {
   "cell_type": "markdown",
   "id": "68144077",
   "metadata": {},
   "source": [
    "The original sequence contained in ```x``` has now been overwritten and calling the variable ```x``` again will produce the same output as above and the original sequence is no longer stored:"
   ]
  },
  {
   "cell_type": "code",
   "execution_count": 39,
   "id": "666cde26",
   "metadata": {},
   "outputs": [
    {
     "data": {
      "text/plain": [
       "array([8, 5, 4, 1, 3, 6, 2, 9, 7, 0])"
      ]
     },
     "execution_count": 39,
     "metadata": {},
     "output_type": "execute_result"
    }
   ],
   "source": [
    "x"
   ]
  },
  {
   "cell_type": "markdown",
   "id": "ea163b04",
   "metadata": {},
   "source": [
    "Performing the shuffle function on ```x``` a further time would overwrite ```x``` again. "
   ]
  },
  {
   "cell_type": "markdown",
   "id": "71d49c8a",
   "metadata": {},
   "source": [
    "However, the permutation function operates differently and produces a copy of the original data. For example, taking the same sequence of 0 to 9:"
   ]
  },
  {
   "cell_type": "code",
   "execution_count": 40,
   "id": "aa60fd42",
   "metadata": {},
   "outputs": [
    {
     "data": {
      "text/plain": [
       "array([0, 1, 2, 3, 4, 5, 6, 7, 8, 9])"
      ]
     },
     "execution_count": 40,
     "metadata": {},
     "output_type": "execute_result"
    }
   ],
   "source": [
    "x = np.arange(10)\n",
    "x"
   ]
  },
  {
   "cell_type": "markdown",
   "id": "8ffee8c0",
   "metadata": {},
   "source": [
    "The permutation function can be called on ```x``` to output a random sequence:"
   ]
  },
  {
   "cell_type": "code",
   "execution_count": 41,
   "id": "9d2a9c0b",
   "metadata": {},
   "outputs": [
    {
     "data": {
      "text/plain": [
       "array([5, 3, 4, 2, 9, 6, 0, 7, 1, 8])"
      ]
     },
     "execution_count": 41,
     "metadata": {},
     "output_type": "execute_result"
    }
   ],
   "source": [
    "rng.permutation(x)"
   ]
  },
  {
   "cell_type": "markdown",
   "id": "247a394f",
   "metadata": {},
   "source": [
    "However, using the permutation function, the variable ```x``` contains the original data which has not been overwritten:"
   ]
  },
  {
   "cell_type": "code",
   "execution_count": 42,
   "id": "f44abc80",
   "metadata": {},
   "outputs": [
    {
     "data": {
      "text/plain": [
       "array([0, 1, 2, 3, 4, 5, 6, 7, 8, 9])"
      ]
     },
     "execution_count": 42,
     "metadata": {},
     "output_type": "execute_result"
    }
   ],
   "source": [
    "x"
   ]
  },
  {
   "cell_type": "markdown",
   "id": "122db69b",
   "metadata": {},
   "source": [
    "This could be useful if the original data is to be kept, but also a new sequence generated. For example:"
   ]
  },
  {
   "cell_type": "code",
   "execution_count": 43,
   "id": "1abfe09c",
   "metadata": {},
   "outputs": [],
   "source": [
    "y = rng.permutation(x)"
   ]
  },
  {
   "cell_type": "code",
   "execution_count": 44,
   "id": "beb83cd4",
   "metadata": {},
   "outputs": [
    {
     "data": {
      "text/plain": [
       "(array([0, 1, 2, 3, 4, 5, 6, 7, 8, 9]), array([8, 5, 0, 2, 3, 7, 9, 1, 6, 4]))"
      ]
     },
     "execution_count": 44,
     "metadata": {},
     "output_type": "execute_result"
    }
   ],
   "source": [
    "x, y "
   ]
  },
  {
   "cell_type": "markdown",
   "id": "786431ec",
   "metadata": {},
   "source": [
    "### 3.3 Permuted"
   ]
  },
  {
   "cell_type": "markdown",
   "id": "51d86427",
   "metadata": {},
   "source": [
    "The NumPy permutated function randomly permutes an array along a given axis. This function differs from the shuffle and permutation functions in that each slice of the array is shuffled independently of the others<sup id=\"a15\">[15](#f15)</sup>. This can be demonstrated using a 3d-array, as in the following example:"
   ]
  },
  {
   "cell_type": "code",
   "execution_count": 45,
   "id": "79638520",
   "metadata": {},
   "outputs": [
    {
     "data": {
      "text/plain": [
       "array([[[ 0,  1],\n",
       "        [ 2,  3],\n",
       "        [ 4,  5]],\n",
       "\n",
       "       [[ 6,  7],\n",
       "        [ 8,  9],\n",
       "        [10, 11]],\n",
       "\n",
       "       [[12, 13],\n",
       "        [14, 15],\n",
       "        [16, 17]],\n",
       "\n",
       "       [[18, 19],\n",
       "        [20, 21],\n",
       "        [22, 23]]])"
      ]
     },
     "execution_count": 45,
     "metadata": {},
     "output_type": "execute_result"
    }
   ],
   "source": [
    "x = np.array([[[0, 1], [2, 3], [4, 5]], [[6, 7], [8, 9], [10, 11]], [[12, 13], [14, 15], [16, 17]], [[18, 19], [20, 21], [22,23]]])\n",
    "x"
   ]
  },
  {
   "cell_type": "markdown",
   "id": "700ef10f",
   "metadata": {},
   "source": [
    "The above array has 4 lines in axis-0, 3 lines in axis-1, and 2 lines in axis-2<sup id=\"a17\">[17](#f17)</sup>:"
   ]
  },
  {
   "cell_type": "code",
   "execution_count": 46,
   "id": "d84a9a29",
   "metadata": {},
   "outputs": [
    {
     "data": {
      "text/plain": [
       "(4, 3, 2)"
      ]
     },
     "execution_count": 46,
     "metadata": {},
     "output_type": "execute_result"
    }
   ],
   "source": [
    "x.shape"
   ]
  },
  {
   "cell_type": "markdown",
   "id": "6eed5d34",
   "metadata": {},
   "source": [
    "The following image<sup id=\"a16\">[16](#f16)</sup> gives a representation of arrays in different dimensions; the 3d-array on the right is of the same 4, 3, 2 shape. "
   ]
  },
  {
   "cell_type": "markdown",
   "id": "e40fda63",
   "metadata": {},
   "source": [
    "![miro.medium.com](https://miro.medium.com/max/3000/0*fr4sfcnDc0KsXA8P.png)\n"
   ]
  },
  {
   "cell_type": "markdown",
   "id": "036931af",
   "metadata": {},
   "source": [
    "Calling the permuted function on the default axis-0 will randomly shuffle the whole array across all axis:"
   ]
  },
  {
   "cell_type": "code",
   "execution_count": 47,
   "id": "00b294b2",
   "metadata": {},
   "outputs": [
    {
     "data": {
      "text/plain": [
       "array([[[ 9, 15],\n",
       "        [21,  1],\n",
       "        [10,  4]],\n",
       "\n",
       "       [[23, 13],\n",
       "        [20, 11],\n",
       "        [16, 17]],\n",
       "\n",
       "       [[12,  2],\n",
       "        [ 0, 22],\n",
       "        [14,  5]],\n",
       "\n",
       "       [[ 8, 19],\n",
       "        [ 6,  7],\n",
       "        [18,  3]]])"
      ]
     },
     "execution_count": 47,
     "metadata": {},
     "output_type": "execute_result"
    }
   ],
   "source": [
    "rng.permuted(x)"
   ]
  },
  {
   "cell_type": "markdown",
   "id": "f9f18279",
   "metadata": {},
   "source": [
    "This differs from permutation or shuffle whereby the rows are shuffled along axis-0, but not along axis-1 or axis-2:"
   ]
  },
  {
   "cell_type": "code",
   "execution_count": 48,
   "id": "6a8a84f3",
   "metadata": {},
   "outputs": [
    {
     "data": {
      "text/plain": [
       "array([[[ 6,  7],\n",
       "        [ 8,  9],\n",
       "        [10, 11]],\n",
       "\n",
       "       [[ 0,  1],\n",
       "        [ 2,  3],\n",
       "        [ 4,  5]],\n",
       "\n",
       "       [[12, 13],\n",
       "        [14, 15],\n",
       "        [16, 17]],\n",
       "\n",
       "       [[18, 19],\n",
       "        [20, 21],\n",
       "        [22, 23]]])"
      ]
     },
     "execution_count": 48,
     "metadata": {},
     "output_type": "execute_result"
    }
   ],
   "source": [
    "rng.permutation(x, axis=0)"
   ]
  },
  {
   "cell_type": "markdown",
   "id": "cc62aa98",
   "metadata": {},
   "source": [
    "Calling permutated or permunation on axis-1 results in a shuffling of the columns along axis-1; whilst the columns are shuffled within the rows, the row order itself is not changed. "
   ]
  },
  {
   "cell_type": "code",
   "execution_count": 49,
   "id": "58cb1947",
   "metadata": {},
   "outputs": [
    {
     "data": {
      "text/plain": [
       "array([[[ 2,  3],\n",
       "        [ 4,  1],\n",
       "        [ 0,  5]],\n",
       "\n",
       "       [[ 8,  7],\n",
       "        [10, 11],\n",
       "        [ 6,  9]],\n",
       "\n",
       "       [[14, 13],\n",
       "        [12, 15],\n",
       "        [16, 17]],\n",
       "\n",
       "       [[18, 23],\n",
       "        [22, 21],\n",
       "        [20, 19]]])"
      ]
     },
     "execution_count": 49,
     "metadata": {},
     "output_type": "execute_result"
    }
   ],
   "source": [
    "rng.permuted(x, axis=1)"
   ]
  },
  {
   "cell_type": "code",
   "execution_count": 50,
   "id": "b14cfd4a",
   "metadata": {},
   "outputs": [
    {
     "data": {
      "text/plain": [
       "array([[[ 2,  3],\n",
       "        [ 0,  1],\n",
       "        [ 4,  5]],\n",
       "\n",
       "       [[ 8,  9],\n",
       "        [ 6,  7],\n",
       "        [10, 11]],\n",
       "\n",
       "       [[14, 15],\n",
       "        [12, 13],\n",
       "        [16, 17]],\n",
       "\n",
       "       [[20, 21],\n",
       "        [18, 19],\n",
       "        [22, 23]]])"
      ]
     },
     "execution_count": 50,
     "metadata": {},
     "output_type": "execute_result"
    }
   ],
   "source": [
    "rng.permutation(x, axis=1)"
   ]
  },
  {
   "cell_type": "markdown",
   "id": "4b21c0ad",
   "metadata": {},
   "source": [
    "Calling permutated on axis-2 results in a shuffling of axis-2 independently from the other axis:"
   ]
  },
  {
   "cell_type": "code",
   "execution_count": 51,
   "id": "46950b00",
   "metadata": {},
   "outputs": [
    {
     "data": {
      "text/plain": [
       "array([[[ 1,  0],\n",
       "        [ 2,  3],\n",
       "        [ 5,  4]],\n",
       "\n",
       "       [[ 7,  6],\n",
       "        [ 9,  8],\n",
       "        [11, 10]],\n",
       "\n",
       "       [[13, 12],\n",
       "        [14, 15],\n",
       "        [17, 16]],\n",
       "\n",
       "       [[18, 19],\n",
       "        [20, 21],\n",
       "        [22, 23]]])"
      ]
     },
     "execution_count": 51,
     "metadata": {},
     "output_type": "execute_result"
    }
   ],
   "source": [
    "rng.permuted(x, axis=2)"
   ]
  },
  {
   "cell_type": "markdown",
   "id": "d03f9100",
   "metadata": {},
   "source": [
    "Whereas permutatation shuffles along axis-2 but is not idependent:"
   ]
  },
  {
   "cell_type": "code",
   "execution_count": 52,
   "id": "bdcd4fa5",
   "metadata": {
    "scrolled": true
   },
   "outputs": [
    {
     "data": {
      "text/plain": [
       "array([[[ 1,  0],\n",
       "        [ 3,  2],\n",
       "        [ 5,  4]],\n",
       "\n",
       "       [[ 7,  6],\n",
       "        [ 9,  8],\n",
       "        [11, 10]],\n",
       "\n",
       "       [[13, 12],\n",
       "        [15, 14],\n",
       "        [17, 16]],\n",
       "\n",
       "       [[19, 18],\n",
       "        [21, 20],\n",
       "        [23, 22]]])"
      ]
     },
     "execution_count": 52,
     "metadata": {},
     "output_type": "execute_result"
    }
   ],
   "source": [
    "rng.permutation(x, axis=2)"
   ]
  },
  {
   "cell_type": "markdown",
   "id": "82924db2",
   "metadata": {},
   "source": [
    "By default, the permuted function returns a shuffled copy. The above examples have not overwritten ```x```:"
   ]
  },
  {
   "cell_type": "code",
   "execution_count": 53,
   "id": "140f8d1a",
   "metadata": {},
   "outputs": [
    {
     "data": {
      "text/plain": [
       "array([[[ 0,  1],\n",
       "        [ 2,  3],\n",
       "        [ 4,  5]],\n",
       "\n",
       "       [[ 6,  7],\n",
       "        [ 8,  9],\n",
       "        [10, 11]],\n",
       "\n",
       "       [[12, 13],\n",
       "        [14, 15],\n",
       "        [16, 17]],\n",
       "\n",
       "       [[18, 19],\n",
       "        [20, 21],\n",
       "        [22, 23]]])"
      ]
     },
     "execution_count": 53,
     "metadata": {},
     "output_type": "execute_result"
    }
   ],
   "source": [
    "x"
   ]
  },
  {
   "cell_type": "markdown",
   "id": "f84e859d",
   "metadata": {},
   "source": [
    "The permuted function can be performed in-place through use of the out function. For example:"
   ]
  },
  {
   "cell_type": "code",
   "execution_count": 54,
   "id": "1b202973",
   "metadata": {},
   "outputs": [
    {
     "data": {
      "text/plain": [
       "array([[[ 0, 19],\n",
       "        [ 8,  3],\n",
       "        [ 4, 23]],\n",
       "\n",
       "       [[18,  7],\n",
       "        [14, 15],\n",
       "        [10, 17]],\n",
       "\n",
       "       [[ 6, 13],\n",
       "        [20,  9],\n",
       "        [16, 11]],\n",
       "\n",
       "       [[12,  1],\n",
       "        [ 2, 21],\n",
       "        [22,  5]]])"
      ]
     },
     "execution_count": 54,
     "metadata": {},
     "output_type": "execute_result"
    }
   ],
   "source": [
    "y = rng.permuted(x, axis=0, out=x)\n",
    "y"
   ]
  },
  {
   "cell_type": "code",
   "execution_count": 55,
   "id": "1b772b85",
   "metadata": {},
   "outputs": [
    {
     "data": {
      "text/plain": [
       "array([[[ 0, 19],\n",
       "        [ 8,  3],\n",
       "        [ 4, 23]],\n",
       "\n",
       "       [[18,  7],\n",
       "        [14, 15],\n",
       "        [10, 17]],\n",
       "\n",
       "       [[ 6, 13],\n",
       "        [20,  9],\n",
       "        [16, 11]],\n",
       "\n",
       "       [[12,  1],\n",
       "        [ 2, 21],\n",
       "        [22,  5]]])"
      ]
     },
     "execution_count": 55,
     "metadata": {},
     "output_type": "execute_result"
    }
   ],
   "source": [
    "x"
   ]
  },
  {
   "cell_type": "markdown",
   "id": "ef76c4cf",
   "metadata": {},
   "source": [
    "## 4. Distributions "
   ]
  },
  {
   "cell_type": "markdown",
   "id": "4e33d277",
   "metadata": {},
   "source": [
    "The ```numpy.random``` package contains a wide variety of distributions which can be applied to sequences generated by the Generator. Five distributions are discussed in this section:"
   ]
  },
  {
   "cell_type": "markdown",
   "id": "762cfbf5",
   "metadata": {},
   "source": [
    "1. Normal\n",
    "2. Uniform\n",
    "3. Weibull\n",
    "4. Binomial\n",
    "5. Multinomial"
   ]
  },
  {
   "cell_type": "markdown",
   "id": "6a102b38",
   "metadata": {},
   "source": [
    "These distributions are examples of probability distributions which are functions which give the probabilities of different outcomes<sup id=\"a18\">[18](#f18)</sup>. The Probability Density Function (PDF) is a function that describes a continuous probability, i.e. the probability of all values in an array<sup id=\"a19\">[19](#f19)</sup>. The more times experiments are run in NumPy, the more accurate the results. "
   ]
  },
  {
   "cell_type": "markdown",
   "id": "4fcab767",
   "metadata": {},
   "source": [
    "### 4.1. Uniform Distribution"
   ]
  },
  {
   "cell_type": "markdown",
   "id": "ea3ce619",
   "metadata": {},
   "source": [
    "A uniform distribution means that there is a constant probability of a value occurring within a given range<sup id=\"a20\">[20](#f20)</sup>. The probability density of the uniform distribution can be written as<sup id=\"a21\">[21](#f21)</sup>:"
   ]
  },
  {
   "cell_type": "markdown",
   "id": "9d06994b",
   "metadata": {},
   "source": [
    "*p(x) = 1/(b-a)*\n",
    "\n",
    "Where:\n",
    "\n",
    "*b* = the high point of range\n",
    "\n",
    "*a* = the low point of range"
   ]
  },
  {
   "cell_type": "markdown",
   "id": "043f1360",
   "metadata": {},
   "source": [
    "For example, the following experiment has a range defined as between -1 and 1. The model is run 100 times and the results shown in a histogram:"
   ]
  },
  {
   "cell_type": "code",
   "execution_count": 56,
   "id": "9a0b2c33",
   "metadata": {},
   "outputs": [
    {
     "data": {
      "text/plain": [
       "array([-0.95973234, -0.88660579,  0.3129202 , -0.44125571, -0.40267081,\n",
       "       -0.13075053,  0.8513821 , -0.56176825, -0.38414362, -0.24452491,\n",
       "        0.80988185, -0.34525889,  0.12174273, -0.23410103,  0.27302849,\n",
       "       -0.51413902,  0.86453827, -0.59157008,  0.95448384, -0.73407984,\n",
       "       -0.7027218 , -0.19361778, -0.25669364, -0.08295845,  0.02482501,\n",
       "        0.37350345, -0.53738206, -0.41477591,  0.71213104,  0.31174369,\n",
       "        0.28910704,  0.81009444, -0.06208528,  0.43264443,  0.17095393,\n",
       "        0.08687416,  0.9033802 ,  0.09365452, -0.26530628,  0.01753859,\n",
       "       -0.88385275, -0.10301259, -0.50106246,  0.13711392, -0.53169906,\n",
       "        0.38114404,  0.84681193, -0.29246378, -0.07569889,  0.4727696 ,\n",
       "       -0.82101431, -0.47339909,  0.90622769,  0.23755324, -0.69076892,\n",
       "        0.92099426, -0.51215103, -0.93324844,  0.33524773, -0.90071   ,\n",
       "       -0.38555691, -0.97885549,  0.86859209, -0.9785795 ,  0.97127509,\n",
       "        0.82047692,  0.82061514, -0.78113803,  0.24699876,  0.62505096,\n",
       "       -0.61828526,  0.59605606,  0.86966406, -0.29494585,  0.8906352 ,\n",
       "       -0.68069445,  0.937077  ,  0.39132679, -0.15573849, -0.59363919,\n",
       "        0.92459886,  0.44821576,  0.22084607,  0.99225845, -0.84612231,\n",
       "        0.54491706,  0.81071833, -0.27420182,  0.37607672, -0.94013582,\n",
       "        0.02549348, -0.23394893,  0.03351093, -0.71090186, -0.9738683 ,\n",
       "        0.7317638 , -0.52216713,  0.03926857, -0.00692614, -0.7277848 ])"
      ]
     },
     "execution_count": 56,
     "metadata": {},
     "output_type": "execute_result"
    }
   ],
   "source": [
    "s = np.random.default_rng().uniform(-1,1,100)\n",
    "s"
   ]
  },
  {
   "cell_type": "code",
   "execution_count": 57,
   "id": "94fa0898",
   "metadata": {},
   "outputs": [
    {
     "data": {
      "text/plain": [
       "(array([ 9.,  5.,  7.,  8.,  6.,  9.,  6.,  6.,  5.,  7.,  7.,  3.,  2.,\n",
       "         8., 12.]),\n",
       " array([-0.97885549, -0.84744789, -0.7160403 , -0.5846327 , -0.4532251 ,\n",
       "        -0.32181751, -0.19040991, -0.05900232,  0.07240528,  0.20381288,\n",
       "         0.33522047,  0.46662807,  0.59803566,  0.72944326,  0.86085085,\n",
       "         0.99225845]),\n",
       " <BarContainer object of 15 artists>)"
      ]
     },
     "execution_count": 57,
     "metadata": {},
     "output_type": "execute_result"
    },
    {
     "data": {
      "image/png": "[encoded data removed]",
      "text/plain": [
       "<Figure size 432x288 with 1 Axes>"
      ]
     },
     "metadata": {
      "needs_background": "light"
     },
     "output_type": "display_data"
    }
   ],
   "source": [
    "plt.hist(s, bins = 15)"
   ]
  },
  {
   "cell_type": "markdown",
   "id": "6ffad763",
   "metadata": {},
   "source": [
    "Running the model 10,000 times provides more accurate results:"
   ]
  },
  {
   "cell_type": "code",
   "execution_count": 58,
   "id": "340e0980",
   "metadata": {},
   "outputs": [
    {
     "data": {
      "text/plain": [
       "(array([664., 675., 694., 682., 650., 652., 708., 656., 638., 673., 649.,\n",
       "        639., 644., 680., 696.]),\n",
       " array([-0.99996335, -0.8666358 , -0.73330825, -0.5999807 , -0.46665315,\n",
       "        -0.3333256 , -0.19999805, -0.0666705 ,  0.06665705,  0.1999846 ,\n",
       "         0.33331215,  0.4666397 ,  0.59996725,  0.7332948 ,  0.86662235,\n",
       "         0.9999499 ]),\n",
       " <BarContainer object of 15 artists>)"
      ]
     },
     "execution_count": 58,
     "metadata": {},
     "output_type": "execute_result"
    },
    {
     "data": {
      "image/png": "[encoded data removed]",
      "text/plain": [
       "<Figure size 432x288 with 1 Axes>"
      ]
     },
     "metadata": {
      "needs_background": "light"
     },
     "output_type": "display_data"
    }
   ],
   "source": [
    "s = np.random.default_rng().uniform(-1,1,10000)\n",
    "plt.hist(s, bins = 15)"
   ]
  },
  {
   "cell_type": "markdown",
   "id": "be0767c5",
   "metadata": {},
   "source": [
    "The PDF for the uniform distribution shows that any number inside the specified range has a constant probability of being selected<sup id=\"a22\">[22](#f22)</sup>:"
   ]
  },
  {
   "cell_type": "code",
   "execution_count": 59,
   "id": "3e4441d9",
   "metadata": {},
   "outputs": [
    {
     "data": {
      "image/png": "[encoded data removed]",
      "text/plain": [
       "<Figure size 432x288 with 1 Axes>"
      ]
     },
     "metadata": {
      "needs_background": "light"
     },
     "output_type": "display_data"
    }
   ],
   "source": [
    "count, bins, ignored = plt.hist(s, 15, density=True)\n",
    "plt.plot(bins, np.ones_like(bins), linewidth=2, color='r')\n",
    "plt.show()"
   ]
  },
  {
   "cell_type": "markdown",
   "id": "558f805f",
   "metadata": {},
   "source": [
    "Any values outside the range have a zero chance of being selected."
   ]
  },
  {
   "cell_type": "markdown",
   "id": "af8a976c",
   "metadata": {},
   "source": [
    "### 4.2. Normal Distribution"
   ]
  },
  {
   "cell_type": "markdown",
   "id": "397b6348",
   "metadata": {},
   "source": [
    "Normal distribution, also known as Gaussian distribution or a Bell Curve, is a common type of probability distribution for independent, randomly generated variables<sup id=\"a23\">[23](#f23)</sup>. A normal distribution is symmetrical around the central mean value with half of the values to the left of mean , and half to the right<sup id=\"a24\">[24](#f24)</sup>, as reflected in the example below<sup id=\"a25\">[25](#f25)</sup>:"
   ]
  },
  {
   "cell_type": "markdown",
   "id": "79604d51",
   "metadata": {},
   "source": [
    "![numpy.org](https://numpy.org/doc/stable/_images/numpy-random-Generator-normal-1_00_00.png)"
   ]
  },
  {
   "cell_type": "markdown",
   "id": "b0de5134",
   "metadata": {},
   "source": [
    "The y-axis is the PDF which defines the probability distribution for a random variable. In other words, it defines the likehood of an outcome occuring<sup id=\"a26\">[26](#f26)</sup>. The x-axis is the standard deviation which is an indication of how much the data set deviates from the mean. The total area under the curve is the total probability of all the values that the variable can take; the total curve area is 100%<sup id=\"a27\">[27](#f27)</sup>. "
   ]
  },
  {
   "cell_type": "markdown",
   "id": "f3d3740f",
   "metadata": {},
   "source": [
    "The formula for normal distribution can be written as:"
   ]
  },
  {
   "cell_type": "markdown",
   "id": "3d882541",
   "metadata": {},
   "source": [
    "![brittania.com](https://www.gstatic.com/education/formulas2/397133473/en/normal_distribution.svg)"
   ]
  },
  {
   "cell_type": "markdown",
   "id": "06195ae4",
   "metadata": {},
   "source": [
    "Where:\n",
    "\n",
    "*f(x)* is the probability density function\n",
    "\n",
    "*μ* (mu) is the mean\n",
    "\n",
    "*σ* (sigma) is the standard deviation"
   ]
  },
  {
   "cell_type": "markdown",
   "id": "7326a7e0",
   "metadata": {},
   "source": [
    "In general:\n",
    "\n",
    "- approximately 68% of values are within 1 standard deviation of the mean\n",
    "- approximately 95% of values are within 2 standard deviations of the mean\n",
    "- approximately 99.7% of values are within 3 standard deviations of the mean<sup id=\"a28\">[28](#f28)</sup>"
   ]
  },
  {
   "cell_type": "markdown",
   "id": "9c586912",
   "metadata": {},
   "source": [
    "Normal distributions appear naturally; NumPy can be used to help predict how the variables might occur in real-world situations and to help understanding the behaviour of the data set. For example, the height of population would closely follow a normal distribution. For example, NumPy can be used to provide data on expected deviations from the mean height of a population. "
   ]
  },
  {
   "cell_type": "markdown",
   "id": "dffcd147",
   "metadata": {},
   "source": [
    "In this example the mean height and standard deviation in metres are defined in the variables mu (μ) and sigma (σ): "
   ]
  },
  {
   "cell_type": "code",
   "execution_count": 60,
   "id": "b06a5dd4",
   "metadata": {},
   "outputs": [],
   "source": [
    "mu, sigma = 1.79, 0.15 "
   ]
  },
  {
   "cell_type": "markdown",
   "id": "537da589",
   "metadata": {},
   "source": [
    "The ```numpy.random.Generator.normal``` function is used to generate a number of samples, in this case 1000, in the normal distribution:"
   ]
  },
  {
   "cell_type": "code",
   "execution_count": 61,
   "id": "1fa2db98",
   "metadata": {},
   "outputs": [],
   "source": [
    "s = np.random.default_rng().normal(mu, sigma, 1000)"
   ]
  },
  {
   "cell_type": "markdown",
   "id": "b1743623",
   "metadata": {},
   "source": [
    "A histogram of the distribution is shown below, with height (metres) shown along the x-axis and PDF along the y-axis. In this example, the data is sorted into 30 'bins' with the range of data grouped into these bins."
   ]
  },
  {
   "cell_type": "code",
   "execution_count": 62,
   "id": "b6844be0",
   "metadata": {},
   "outputs": [
    {
     "data": {
      "image/png": "[encoded data removed]",
      "text/plain": [
       "<Figure size 432x288 with 1 Axes>"
      ]
     },
     "metadata": {
      "needs_background": "light"
     },
     "output_type": "display_data"
    }
   ],
   "source": [
    "count, bins, ignored = plt.hist(s, 30)\n",
    "\n",
    "plt.show()"
   ]
  },
  {
   "cell_type": "markdown",
   "id": "4d520b76",
   "metadata": {},
   "source": [
    "A line plot can be produced for the data using the formula for normal distribution:"
   ]
  },
  {
   "cell_type": "code",
   "execution_count": 63,
   "id": "f6c7ce12",
   "metadata": {},
   "outputs": [
    {
     "data": {
      "image/png": "[encoded data removed]",
      "text/plain": [
       "<Figure size 432x288 with 1 Axes>"
      ]
     },
     "metadata": {
      "needs_background": "light"
     },
     "output_type": "display_data"
    }
   ],
   "source": [
    "plt.plot(bins, 1/(sigma * np.sqrt(2 * np.pi)) *\n",
    "\n",
    "               np.exp( - (bins - mu)**2 / (2 * sigma**2) ),\n",
    "\n",
    "         linewidth=2, color='r')\n",
    "plt.show()"
   ]
  },
  {
   "cell_type": "markdown",
   "id": "a6910952",
   "metadata": {},
   "source": [
    "The two plots can be displayed together:"
   ]
  },
  {
   "cell_type": "code",
   "execution_count": 64,
   "id": "06c5f5c3",
   "metadata": {},
   "outputs": [
    {
     "data": {
      "image/png": "[encoded data removed]",
      "text/plain": [
       "<Figure size 432x288 with 1 Axes>"
      ]
     },
     "metadata": {
      "needs_background": "light"
     },
     "output_type": "display_data"
    }
   ],
   "source": [
    "count, bins, ignored = plt.hist(s, 30, density=True)\n",
    "\n",
    "plt.plot(bins, 1/(sigma * np.sqrt(2 * np.pi)) *\n",
    "\n",
    "               np.exp( - (bins - mu)**2 / (2 * sigma**2) ),\n",
    "\n",
    "         linewidth=2, color='r')\n",
    "\n",
    "plt.show()"
   ]
  },
  {
   "cell_type": "markdown",
   "id": "3fec1559",
   "metadata": {},
   "source": [
    "As can be seem, the majority of the values fall around the mean, with fewer values one, two, or three standard deviations from the mean. "
   ]
  },
  {
   "cell_type": "code",
   "execution_count": 65,
   "id": "609744af",
   "metadata": {},
   "outputs": [],
   "source": [
    "#print (bins)"
   ]
  },
  {
   "cell_type": "code",
   "execution_count": 66,
   "id": "713adb99",
   "metadata": {},
   "outputs": [],
   "source": [
    "#np.average(bins)"
   ]
  },
  {
   "cell_type": "markdown",
   "id": "3d553059",
   "metadata": {},
   "source": [
    "### 4.3. Weibull Distribution"
   ]
  },
  {
   "cell_type": "markdown",
   "id": "41abcd63",
   "metadata": {},
   "source": [
    "The Weibull distribution is a probability distribution named after Swedish mathmatician Waloddi Weibull who originally proposed the distribution as a model for material breaking strength. However, the Weibull distribution can also fit a wide range of data from many fields<sup id=\"a29\">[29](#f29)</sup>. "
   ]
  },
  {
   "cell_type": "markdown",
   "id": "e7f9822a",
   "metadata": {},
   "source": [
    "The probability density for the Weibull distribution can be written as<sup id=\"a30\">[30](#f30)</sup>: "
   ]
  },
  {
   "cell_type": "markdown",
   "id": "f6b7118f",
   "metadata": {},
   "source": [
    "![www.homeenergy.com](https://www.homerenergy.com/products/pro/docs/latest/images/equations_weibull-pdf.png)"
   ]
  },
  {
   "cell_type": "markdown",
   "id": "e2125d25",
   "metadata": {},
   "source": [
    "Where:\n",
    "\n",
    "*k* = the shape parameter\n",
    "\n",
    "*c* = the scale parameter\n",
    "\n",
    "The shape factor affects the general shape of a distribution; the scale parameter stretches or squeezes a plot<sup id=\"a31\">[31](#f31)</sup> . In NumPy, the Weibull function can be used to generate random data in a Weibull distribution. The following example uses a shape parameter of 1 and generates 1000 samples:"
   ]
  },
  {
   "cell_type": "code",
   "execution_count": 67,
   "id": "2fede35d",
   "metadata": {},
   "outputs": [
    {
     "data": {
      "text/plain": [
       "(array([410., 244., 135.,  93.,  53.,  33.,  15.,   6.,   7.,   4.]),\n",
       " array([6.72581572e-04, 5.62692473e-01, 1.12471236e+00, 1.68673225e+00,\n",
       "        2.24875215e+00, 2.81077204e+00, 3.37279193e+00, 3.93481182e+00,\n",
       "        4.49683171e+00, 5.05885160e+00, 5.62087149e+00]),\n",
       " <BarContainer object of 10 artists>)"
      ]
     },
     "execution_count": 67,
     "metadata": {},
     "output_type": "execute_result"
    },
    {
     "data": {
      "image/png": "[encoded data removed]",
      "text/plain": [
       "<Figure size 432x288 with 1 Axes>"
      ]
     },
     "metadata": {
      "needs_background": "light"
     },
     "output_type": "display_data"
    }
   ],
   "source": [
    "k = 1\n",
    "s = rng.weibull(k,1000)\n",
    "plt.hist(s)"
   ]
  },
  {
   "cell_type": "markdown",
   "id": "ff29c0a5",
   "metadata": {},
   "source": [
    "In this second example, a shape factor of 2.5 is used:"
   ]
  },
  {
   "cell_type": "code",
   "execution_count": 68,
   "id": "5ee647eb",
   "metadata": {},
   "outputs": [
    {
     "data": {
      "text/plain": [
       "(array([ 33., 107., 168., 228., 206., 144.,  62.,  40.,   8.,   4.]),\n",
       " array([0.02548027, 0.249845  , 0.47420973, 0.69857446, 0.92293919,\n",
       "        1.14730393, 1.37166866, 1.59603339, 1.82039812, 2.04476285,\n",
       "        2.26912758]),\n",
       " <BarContainer object of 10 artists>)"
      ]
     },
     "execution_count": 68,
     "metadata": {},
     "output_type": "execute_result"
    },
    {
     "data": {
      "image/png": "[encoded data removed]",
      "text/plain": [
       "<Figure size 432x288 with 1 Axes>"
      ]
     },
     "metadata": {
      "needs_background": "light"
     },
     "output_type": "display_data"
    }
   ],
   "source": [
    "k = 2.5\n",
    "s = rng.weibull(k,1000)\n",
    "plt.hist(s)\n"
   ]
  },
  {
   "cell_type": "markdown",
   "id": "dc4a3cc7",
   "metadata": {},
   "source": [
    "And in this third example, a shape factor of 5 is used:"
   ]
  },
  {
   "cell_type": "code",
   "execution_count": 69,
   "id": "fe1fafdc",
   "metadata": {},
   "outputs": [
    {
     "data": {
      "text/plain": [
       "(array([  4.,  18.,  43., 115., 186., 237., 223., 124.,  43.,   7.]),\n",
       " array([0.18683431, 0.31995423, 0.45307415, 0.58619407, 0.71931399,\n",
       "        0.85243391, 0.98555383, 1.11867375, 1.25179367, 1.38491359,\n",
       "        1.5180335 ]),\n",
       " <BarContainer object of 10 artists>)"
      ]
     },
     "execution_count": 69,
     "metadata": {},
     "output_type": "execute_result"
    },
    {
     "data": {
      "image/png": "[encoded data removed]",
      "text/plain": [
       "<Figure size 432x288 with 1 Axes>"
      ]
     },
     "metadata": {
      "needs_background": "light"
     },
     "output_type": "display_data"
    }
   ],
   "source": [
    "k = 5\n",
    "s = rng.weibull(k,1000)\n",
    "plt.hist(s)\n"
   ]
  },
  {
   "cell_type": "markdown",
   "id": "8df265b9",
   "metadata": {},
   "source": [
    "As can be seen, the shape factor affects the shape of the data. This can be applied to real-world situations. For example, the Weibull distribution is often used to characterise wind speed regimes, as it has been found to provide a good fit with measured wind data<sup id=\"a32\">[32](#f32)</sup>. For example, the Weibull formula can be defined in a function within Python:"
   ]
  },
  {
   "cell_type": "code",
   "execution_count": 70,
   "id": "a16ceffa",
   "metadata": {},
   "outputs": [],
   "source": [
    "def weib(v, c, k):\n",
    "\n",
    " return (k / c) * (v / c)**(k - 1) * np.exp(-(v / c)**k)\n"
   ]
  },
  {
   "cell_type": "markdown",
   "id": "a163aca6",
   "metadata": {},
   "source": [
    "A range of data, representing wind speeds at a certain location from 0 m/s to 25 m/s in 0.25 m/s increments can be generated:"
   ]
  },
  {
   "cell_type": "code",
   "execution_count": 71,
   "id": "33b89098",
   "metadata": {},
   "outputs": [
    {
     "data": {
      "text/plain": [
       "array([ 0.  ,  0.25,  0.5 ,  0.75,  1.  ,  1.25,  1.5 ,  1.75,  2.  ,\n",
       "        2.25,  2.5 ,  2.75,  3.  ,  3.25,  3.5 ,  3.75,  4.  ,  4.25,\n",
       "        4.5 ,  4.75,  5.  ,  5.25,  5.5 ,  5.75,  6.  ,  6.25,  6.5 ,\n",
       "        6.75,  7.  ,  7.25,  7.5 ,  7.75,  8.  ,  8.25,  8.5 ,  8.75,\n",
       "        9.  ,  9.25,  9.5 ,  9.75, 10.  , 10.25, 10.5 , 10.75, 11.  ,\n",
       "       11.25, 11.5 , 11.75, 12.  , 12.25, 12.5 , 12.75, 13.  , 13.25,\n",
       "       13.5 , 13.75, 14.  , 14.25, 14.5 , 14.75, 15.  , 15.25, 15.5 ,\n",
       "       15.75, 16.  , 16.25, 16.5 , 16.75, 17.  , 17.25, 17.5 , 17.75,\n",
       "       18.  , 18.25, 18.5 , 18.75, 19.  , 19.25, 19.5 , 19.75, 20.  ,\n",
       "       20.25, 20.5 , 20.75, 21.  , 21.25, 21.5 , 21.75, 22.  , 22.25,\n",
       "       22.5 , 22.75, 23.  , 23.25, 23.5 , 23.75, 24.  , 24.25, 24.5 ,\n",
       "       24.75, 25.  ])"
      ]
     },
     "execution_count": 71,
     "metadata": {},
     "output_type": "execute_result"
    }
   ],
   "source": [
    "v = np.arange(0,101)/4\n",
    "v"
   ]
  },
  {
   "cell_type": "markdown",
   "id": "6b013358",
   "metadata": {},
   "source": [
    "The probability of a certain wind speed occurring at that particular location can then be represented in a plot. The following plot represents 4 different ```k``` parameters:"
   ]
  },
  {
   "cell_type": "code",
   "execution_count": 72,
   "id": "683f9820",
   "metadata": {},
   "outputs": [
    {
     "data": {
      "image/png": "[encoded data removed]",
      "text/plain": [
       "<Figure size 432x288 with 1 Axes>"
      ]
     },
     "metadata": {
      "needs_background": "light"
     },
     "output_type": "display_data"
    }
   ],
   "source": [
    "scale = count.max()/weib(v, 1, 1).max()\n",
    "\n",
    "plt.xlim(0, 15)\n",
    "plt.ylim(0, 1)\n",
    "\n",
    "plt.plot(v, weib(v, 4, 1.5)*scale)\n",
    "plt.plot(v, weib(v, 4, 2)*scale)\n",
    "plt.plot(v, weib(v, 4, 2.5)*scale)\n",
    "plt.plot(v, weib(v, 4, 3)*scale)\n",
    "plt.legend([\"k = 1.5\", \"k = 2\", \"k = 2.5\", \"k = 3\"])\n",
    "plt.xlabel(\"Wind Speed (m/s)\")\n",
    "plt.ylabel(\"PDF\")\n",
    "\n",
    "\n",
    "plt.show()"
   ]
  },
  {
   "cell_type": "markdown",
   "id": "a51ed3ff",
   "metadata": {},
   "source": [
    "A higher value of ```k```, such as 3, indicates a site where the variation of hourly mean wind speed\n",
    "about the annual mean is small; a lower value of ```k```, such as 1.5  indicates greater variability about the mean."
   ]
  },
  {
   "cell_type": "markdown",
   "id": "5ea9f5ed",
   "metadata": {},
   "source": [
    "### 4.4. Binomial Distibution"
   ]
  },
  {
   "cell_type": "markdown",
   "id": "9273052f",
   "metadata": {},
   "source": [
    "A Binomial distribution can be thought of as the probability of the success or failure of a certain outcome<sup id=\"a33\">[33](#f33)</sup>. The probability density for the binomial distribution can be written as:"
   ]
  },
  {
   "cell_type": "markdown",
   "id": "ea2ee6f1",
   "metadata": {},
   "source": [
    "![gstatic.com](https://www.gstatic.com/education/formulas2/397133473/en/binomial_distribution_formula.svg)"
   ]
  },
  {
   "cell_type": "markdown",
   "id": "5ce0fc3d",
   "metadata": {},
   "source": [
    "Where:\n",
    "\n",
    "*n* = the number of trials\n",
    "\n",
    "*p* = the probability of success\n",
    "\n",
    "*x* = the number of successes"
   ]
  },
  {
   "cell_type": "markdown",
   "id": "4962b90a",
   "metadata": {},
   "source": [
    "An example of the use of binomial distribution is when tossing a coin. The result of a coin toss can either be heads or tails; there is a 50% chance of heads and a 50% chance of tails. "
   ]
  },
  {
   "cell_type": "markdown",
   "id": "03829c98",
   "metadata": {},
   "source": [
    "Using the random number generator, the toss of a single coin can be simulated 100 times, for example:"
   ]
  },
  {
   "cell_type": "code",
   "execution_count": 73,
   "id": "ec18a10f",
   "metadata": {},
   "outputs": [],
   "source": [
    "n = 1\n",
    "p = 0.5  "
   ]
  },
  {
   "cell_type": "code",
   "execution_count": 74,
   "id": "24ccd07f",
   "metadata": {},
   "outputs": [
    {
     "data": {
      "text/plain": [
       "array([0, 1, 1, 0, 1, 0, 1, 1, 0, 0, 1, 0, 0, 1, 1, 0, 0, 1, 0, 1, 0, 0,\n",
       "       1, 1, 0, 1, 1, 0, 0, 1, 0, 0, 1, 1, 0, 0, 0, 0, 1, 0, 0, 0, 1, 0,\n",
       "       0, 0, 1, 0, 1, 1, 1, 1, 0, 1, 0, 0, 1, 1, 0, 1, 0, 1, 0, 1, 0, 0,\n",
       "       1, 0, 0, 1, 0, 1, 0, 0, 1, 1, 0, 0, 0, 1, 0, 0, 1, 1, 0, 0, 0, 1,\n",
       "       0, 0, 0, 1, 1, 0, 1, 0, 1, 1, 0, 1], dtype=int64)"
      ]
     },
     "execution_count": 74,
     "metadata": {},
     "output_type": "execute_result"
    }
   ],
   "source": [
    "s = rng.binomial(n, p, 100)\n",
    "s"
   ]
  },
  {
   "cell_type": "markdown",
   "id": "ab938d0e",
   "metadata": {},
   "source": [
    "A histogram can be plotted showing the results. In this example, 0 represents heads and 1 represents tails."
   ]
  },
  {
   "cell_type": "code",
   "execution_count": 75,
   "id": "41e2390e",
   "metadata": {
    "scrolled": true
   },
   "outputs": [
    {
     "data": {
      "text/plain": [
       "([<matplotlib.axis.XTick at 0x15a2621dc70>,\n",
       "  <matplotlib.axis.XTick at 0x15a2621d610>],\n",
       " [Text(0, 0, ''), Text(0, 0, '')])"
      ]
     },
     "execution_count": 75,
     "metadata": {},
     "output_type": "execute_result"
    },
    {
     "data": {
      "image/png": "[encoded data removed]",
      "text/plain": [
       "<Figure size 432x288 with 1 Axes>"
      ]
     },
     "metadata": {
      "needs_background": "light"
     },
     "output_type": "display_data"
    }
   ],
   "source": [
    "bins = np.arange(3) - 0.5\n",
    "plt.hist(s, bins)\n",
    "plt.xticks(range(2))"
   ]
  },
  {
   "cell_type": "markdown",
   "id": "09730a28",
   "metadata": {},
   "source": [
    "The number of heads and tails tossed can be calculated, with the total equalling 100 tosses:"
   ]
  },
  {
   "cell_type": "code",
   "execution_count": 76,
   "id": "e580eda7",
   "metadata": {},
   "outputs": [
    {
     "data": {
      "text/plain": [
       "55"
      ]
     },
     "execution_count": 76,
     "metadata": {},
     "output_type": "execute_result"
    }
   ],
   "source": [
    "sum(s == 0)"
   ]
  },
  {
   "cell_type": "code",
   "execution_count": 77,
   "id": "d76c1f18",
   "metadata": {},
   "outputs": [
    {
     "data": {
      "text/plain": [
       "45"
      ]
     },
     "execution_count": 77,
     "metadata": {},
     "output_type": "execute_result"
    }
   ],
   "source": [
    "sum (s == 1)"
   ]
  },
  {
   "cell_type": "markdown",
   "id": "1831bc9c",
   "metadata": {},
   "source": [
    "The binomial distribution function in NumPy can also be used to predict the probability of an event occuring. For example, if four individuals have their own standard deck of shuffled playing cards (excluding jokers) each person has a 25% chance of choosing a diamond from the deck, if they pick a single card. Running the function 10,000 times (for example) can provide a model of how many of the four people choose a diamond: "
   ]
  },
  {
   "cell_type": "code",
   "execution_count": 78,
   "id": "226bbb4d",
   "metadata": {},
   "outputs": [],
   "source": [
    "s = rng.binomial(4,0.25,10000)"
   ]
  },
  {
   "cell_type": "markdown",
   "id": "3540e0df",
   "metadata": {},
   "source": [
    "A histogram will provide a graphical representation of how many of the individuals all chose a diamond:"
   ]
  },
  {
   "cell_type": "code",
   "execution_count": 79,
   "id": "19dbaa95",
   "metadata": {},
   "outputs": [
    {
     "data": {
      "text/plain": [
       "([<matplotlib.axis.XTick at 0x15a261935b0>,\n",
       "  <matplotlib.axis.XTick at 0x15a261936a0>,\n",
       "  <matplotlib.axis.XTick at 0x15a2615f400>,\n",
       "  <matplotlib.axis.XTick at 0x15a260b5580>,\n",
       "  <matplotlib.axis.XTick at 0x15a260b5f70>],\n",
       " [Text(0, 0, ''),\n",
       "  Text(0, 0, ''),\n",
       "  Text(0, 0, ''),\n",
       "  Text(0, 0, ''),\n",
       "  Text(0, 0, '')])"
      ]
     },
     "execution_count": 79,
     "metadata": {},
     "output_type": "execute_result"
    },
    {
     "data": {
      "image/png": "[encoded data removed]",
      "text/plain": [
       "<Figure size 432x288 with 1 Axes>"
      ]
     },
     "metadata": {
      "needs_background": "light"
     },
     "output_type": "display_data"
    }
   ],
   "source": [
    "bins = np.arange(6) - 0.5\n",
    "plt.hist(s, bins)\n",
    "plt.xticks(range(5))"
   ]
  },
  {
   "cell_type": "markdown",
   "id": "3450d756",
   "metadata": {},
   "source": [
    "The following code results in a description of the chances of the individuals drawing a diamond:"
   ]
  },
  {
   "cell_type": "code",
   "execution_count": 80,
   "id": "c1615a95",
   "metadata": {},
   "outputs": [
    {
     "name": "stdout",
     "output_type": "stream",
     "text": [
      "There is approximately a 31.99% chance of no individuals drawing a diamond.\n",
      "There is approximately a 41.22% chance of one of the four individuals drawing a diamond.\n",
      "There is approximately a 21.59% chance of two of them drawing a diamond.\n",
      "There is approximately a 4.85% chance of three of them drawing a diamond.\n",
      "There is approximately a 0.35% chance of all four individuals drawing a diamond.\n"
     ]
    }
   ],
   "source": [
    "a = sum(s == 0)/100\n",
    "b = sum(s == 1)/100\n",
    "c = sum(s == 2)/100\n",
    "d = sum(s == 3)/100\n",
    "e = sum(s == 4)/100\n",
    "print (\"There is approximately a {}% chance of no individuals drawing a diamond.\".format(a))\n",
    "print (\"There is approximately a {}% chance of one of the four individuals drawing a diamond.\".format(b))\n",
    "print (\"There is approximately a {}% chance of two of them drawing a diamond.\".format(c))\n",
    "print (\"There is approximately a {}% chance of three of them drawing a diamond.\".format(d))\n",
    "print (\"There is approximately a {}% chance of all four individuals drawing a diamond.\".format(e))\n"
   ]
  },
  {
   "cell_type": "markdown",
   "id": "4d7be9cf",
   "metadata": {},
   "source": [
    "In a similar way, the binomial distribution could be used to predict how many of the four individuals would draw an ace of diamonds, if there was a 1 in 52 chance for each of them:"
   ]
  },
  {
   "cell_type": "code",
   "execution_count": 81,
   "id": "51c66a10",
   "metadata": {},
   "outputs": [
    {
     "data": {
      "text/plain": [
       "([<matplotlib.axis.XTick at 0x15a25974520>,\n",
       "  <matplotlib.axis.XTick at 0x15a25974e20>,\n",
       "  <matplotlib.axis.XTick at 0x15a260a89a0>,\n",
       "  <matplotlib.axis.XTick at 0x15a263b5640>,\n",
       "  <matplotlib.axis.XTick at 0x15a263b5be0>],\n",
       " [Text(0, 0, ''),\n",
       "  Text(0, 0, ''),\n",
       "  Text(0, 0, ''),\n",
       "  Text(0, 0, ''),\n",
       "  Text(0, 0, '')])"
      ]
     },
     "execution_count": 81,
     "metadata": {},
     "output_type": "execute_result"
    },
    {
     "data": {
      "image/png": "[encoded data removed]",
      "text/plain": [
       "<Figure size 432x288 with 1 Axes>"
      ]
     },
     "metadata": {
      "needs_background": "light"
     },
     "output_type": "display_data"
    }
   ],
   "source": [
    "s = rng.binomial(4,1/52,10000)\n",
    "bins = np.arange(6) - 0.5\n",
    "plt.hist(s, bins)\n",
    "plt.xticks(range(5))\n"
   ]
  },
  {
   "cell_type": "code",
   "execution_count": 82,
   "id": "edcc8b96",
   "metadata": {},
   "outputs": [
    {
     "name": "stdout",
     "output_type": "stream",
     "text": [
      "There is approximately a 92.58% chance of no individuals drawing an ace of diamonds.\n",
      "There is approximately a 7.21% chance of one of the four individuals drawing an ace of diamonds.\n",
      "There is approximately a 0.21% chance of two of them drawing an ace of diamonds.\n",
      "There is approximately a 0.0% chance of three of them drawing an ace of diamonds. \n",
      "There is approximately a 0.0% chance of all four individuals drawing an ace of diamonds.\n"
     ]
    }
   ],
   "source": [
    "a = sum(s == 0)/100\n",
    "b = sum(s == 1)/100\n",
    "c = sum(s == 2)/100\n",
    "d = sum(s == 3)/100\n",
    "e = sum(s == 4)/100\n",
    "print (\"There is approximately a {}% chance of no individuals drawing an ace of diamonds.\".format(a))\n",
    "print (\"There is approximately a {}% chance of one of the four individuals drawing an ace of diamonds.\".format(b))\n",
    "print (\"There is approximately a {}% chance of two of them drawing an ace of diamonds.\".format(c))\n",
    "print (\"There is approximately a {}% chance of three of them drawing an ace of diamonds. \".format(d))\n",
    "print (\"There is approximately a {}% chance of all four individuals drawing an ace of diamonds.\".format(e))"
   ]
  },
  {
   "cell_type": "markdown",
   "id": "9cc2b2e0",
   "metadata": {},
   "source": [
    "It should be noted that the data produced by NumPy in these instances are representative and can be used to model potential outcomes. As can be seen in the above example, the model has predicted a 0.0% chance for three of the four, or all four individuals, drawing an ace of diamonds. In reality, of course, there is a chance of this happening. A larger size of model might produce results which reflect this. "
   ]
  },
  {
   "cell_type": "markdown",
   "id": "18d6855d",
   "metadata": {},
   "source": [
    "### 4.5. Multinomial Distribution"
   ]
  },
  {
   "cell_type": "markdown",
   "id": "3d097a67",
   "metadata": {},
   "source": [
    "The multinomial distribution arises from an extension of the binomial distribution and is used to find probabilities in experiments where there are more than two outcomes<sup id=\"a34\">[34](#f34)</sup> . Multinomial experiements consist of repeated trials (e.g. rolling a die multiple times instead of just once) and each trial must be independent of the others (i.e. the outcome of a the roll of of die does not affect the others)<sup id=\"a35\">[35](#f35)</sup>. The probability density can be written as<sup id=\"a36\">[36](#f36)</sup>:"
   ]
  },
  {
   "cell_type": "markdown",
   "id": "e31bf539",
   "metadata": {},
   "source": [
    "![statisticshow.com](https://www.statisticshowto.com/wp-content/uploads/2015/05/multinomial-formula-2.png)"
   ]
  },
  {
   "cell_type": "markdown",
   "id": "7f8e9a16",
   "metadata": {},
   "source": [
    "Where: \n",
    "    \n",
    "*n* = number of events \n",
    "\n",
    "*n<sub>1</sub>* = number of outcomes, event 1\n",
    "\n",
    "*n<sub>2</sub>* = number of outcomes, event 2\n",
    "\n",
    "*n<sub>x</sub>* = number of outcomes, event 2\n",
    "\n",
    "*p<sub>1</sub>* = probability event 1 happens\n",
    "\n",
    "*p<sub>2</sub>* = probability event 2 happens\n",
    "\n",
    "*p<sub>x</sub>* = probability event x happens\n",
    "\n"
   ]
  },
  {
   "cell_type": "markdown",
   "id": "5aa4d734",
   "metadata": {},
   "source": [
    "An example of multinomial distribution is in modelling how many times a card of each of the four suits in a standard deck of 52 playing cards is drawn:"
   ]
  },
  {
   "cell_type": "code",
   "execution_count": 83,
   "id": "5669007f",
   "metadata": {},
   "outputs": [
    {
     "data": {
      "text/plain": [
       "array([[4894, 5014, 5077, 5015]], dtype=int64)"
      ]
     },
     "execution_count": 83,
     "metadata": {},
     "output_type": "execute_result"
    }
   ],
   "source": [
    "s = rng.multinomial(20000, [1/4]*4, size=1)\n",
    "s"
   ]
  },
  {
   "cell_type": "markdown",
   "id": "098b39e7",
   "metadata": {},
   "source": [
    "In the above example, which is run 20,000 times, it can be seen that: "
   ]
  },
  {
   "cell_type": "code",
   "execution_count": 84,
   "id": "802b8883",
   "metadata": {},
   "outputs": [
    {
     "name": "stdout",
     "output_type": "stream",
     "text": [
      "A card from the first suit (e.g. diamonds) was drawn 4894 times.\n",
      "A card from the first suit (e.g. hearts) was drawn 5014 times.\n",
      "A card from the first suit (e.g. clubs) was drawn 5077 times.\n",
      "A card from the first suit (e.g. spades) was drawn 5015 times.\n",
      "A total of 20000 cards were drawn.\n",
      "The mean is 5000.0.\n"
     ]
    }
   ],
   "source": [
    "print (\"A card from the first suit (e.g. diamonds) was drawn {} times.\".format(s[0, 0]))\n",
    "print (\"A card from the first suit (e.g. hearts) was drawn {} times.\".format(s[0, 1]))\n",
    "print (\"A card from the first suit (e.g. clubs) was drawn {} times.\".format(s[0, 2]))\n",
    "print (\"A card from the first suit (e.g. spades) was drawn {} times.\".format(s[0, 3]))\n",
    "print (\"A total of {} cards were drawn.\".format(np.sum(s)))\n",
    "print (\"The mean is {}.\".format(np.average(s)))"
   ]
  },
  {
   "cell_type": "markdown",
   "id": "e2bf94f8",
   "metadata": {},
   "source": [
    "The number of times the experiment is performed can be set using the size parameter. For example, to run the above experiment five times:"
   ]
  },
  {
   "cell_type": "code",
   "execution_count": 85,
   "id": "58c56b4f",
   "metadata": {},
   "outputs": [
    {
     "data": {
      "text/plain": [
       "array([[4951, 5036, 4998, 5015],\n",
       "       [4921, 5094, 5029, 4956],\n",
       "       [5129, 4959, 4966, 4946],\n",
       "       [4966, 5085, 5026, 4923],\n",
       "       [4977, 5059, 5041, 4923]], dtype=int64)"
      ]
     },
     "execution_count": 85,
     "metadata": {},
     "output_type": "execute_result"
    }
   ],
   "source": [
    "rng.multinomial(20000, [1/4]*4, size=5)"
   ]
  },
  {
   "cell_type": "markdown",
   "id": "4975a8c3",
   "metadata": {},
   "source": [
    "Bias can also be taken into account. For example, the results of an experiment to model how many times each of the 52 cards in a standard shuffled deck of playing cards is drawn at random are shown below:"
   ]
  },
  {
   "cell_type": "code",
   "execution_count": 86,
   "id": "9f1d3fb5",
   "metadata": {},
   "outputs": [
    {
     "data": {
      "text/plain": [
       "array([[405, 435, 409, 365, 391, 405, 388, 400, 406, 361, 411, 362, 378,\n",
       "        368, 387, 388, 363, 363, 388, 405, 380, 388, 392, 418, 372, 382,\n",
       "        370, 375, 405, 388, 332, 382, 399, 360, 372, 416, 372, 389, 414,\n",
       "        373, 370, 385, 394, 374, 350, 352, 390, 398, 384, 383, 379, 384]],\n",
       "      dtype=int64)"
      ]
     },
     "execution_count": 86,
     "metadata": {},
     "output_type": "execute_result"
    }
   ],
   "source": [
    "x = rng.multinomial(20000, [1/52]*52, size=1)\n",
    "x"
   ]
  },
  {
   "cell_type": "code",
   "execution_count": 87,
   "id": "30e7b685",
   "metadata": {},
   "outputs": [
    {
     "name": "stdout",
     "output_type": "stream",
     "text": [
      "As can be seen, there are 52 results with each card being drawn between 332 and 435 times\n"
     ]
    }
   ],
   "source": [
    "a = np.ndarray.min(x)\n",
    "b = np.ndarray.max(x)\n",
    "c = x.size\n",
    "print (\"As can be seen, there are {} results with each card being drawn between {} and {} times\".format(c,a,b))"
   ]
  },
  {
   "cell_type": "markdown",
   "id": "bd238279",
   "metadata": {},
   "source": [
    "In a standard shuffled deck of playing cards including two jokers, there is a 1 in 54 chance of choosing any individual card. However, as there are two jokers, the chances of choosing a joker is greater than any other individual card:"
   ]
  },
  {
   "cell_type": "code",
   "execution_count": 88,
   "id": "ec4a3342",
   "metadata": {},
   "outputs": [
    {
     "data": {
      "text/plain": [
       "array([[370, 363, 365, 357, 374, 374, 355, 356, 395, 371, 367, 363, 404,\n",
       "        365, 386, 358, 356, 406, 344, 375, 380, 351, 386, 380, 380, 348,\n",
       "        392, 354, 359, 365, 401, 359, 382, 368, 387, 377, 395, 368, 379,\n",
       "        372, 328, 369, 410, 375, 363, 370, 343, 361, 370, 368, 353, 343,\n",
       "        760]], dtype=int64)"
      ]
     },
     "execution_count": 88,
     "metadata": {},
     "output_type": "execute_result"
    }
   ],
   "source": [
    "x = rng.multinomial(20000, [1/54]*53, size=1)\n",
    "x"
   ]
  },
  {
   "cell_type": "code",
   "execution_count": 89,
   "id": "013b1410",
   "metadata": {},
   "outputs": [
    {
     "name": "stdout",
     "output_type": "stream",
     "text": [
      "As can be seen, there are 53 results with each of the 52 suited cards being drawn between 328 and 410 times. \n",
      "However, a joker was drawn 760 times. \n"
     ]
    }
   ],
   "source": [
    "y = x[0,:52]\n",
    "z = x[0,52]\n",
    "a = np.ndarray.min(y)\n",
    "b = np.ndarray.max(y)\n",
    "c = x.size\n",
    "d = y.size\n",
    "print (\"As can be seen, there are {} results with each of the {} suited cards being drawn between {} and {} times. \".format(c,d,a,b))\n",
    "print (\"However, a joker was drawn {} times. \".format(z))\n"
   ]
  },
  {
   "cell_type": "markdown",
   "id": "488bff0c",
   "metadata": {},
   "source": [
    "## 5. Seeds"
   ]
  },
  {
   "cell_type": "markdown",
   "id": "73d92da6",
   "metadata": {},
   "source": [
    "Almost all random-number generation on computers is done using algorithms to produce numbers that approximate the properties of random numbers<sup id=\"a37\">[37](#f37)</sup>; the numbers generated are not completely random and are known as \"pseudo-random numbers\". Most commonly - and as in the ```numpy.random``` package - random-number generation algorithms use a seed to derive the initial state with a sequence of statistcally random numbers generated from this known starting point; the use of a known seed means that the the algorithm is repeatable and if the seed is known to an individual, the sequence of numbers is predictable.  "
   ]
  },
  {
   "cell_type": "markdown",
   "id": "6ce9b3db",
   "metadata": {},
   "source": [
    "In computers, hardware is used to harvest entropy; for example movement from the mouse pointer or keys typed on the keyboard<sup id=\"a38\">[38](#f38)</sup>. Such sources of data are likely to be difficult to predict or replicate. By default, if no seed is specified, the random number generator will use a seed which is generated using entropy from the computer's operating system<sup id=\"a39\">[39](#f39)</sup>. "
   ]
  },
  {
   "cell_type": "markdown",
   "id": "af36158f",
   "metadata": {},
   "source": [
    "The below code generates random numbers and displays them in a bar plot without specifying a seed: "
   ]
  },
  {
   "cell_type": "code",
   "execution_count": 90,
   "id": "a963613a",
   "metadata": {},
   "outputs": [
    {
     "data": {
      "image/png": "[encoded data removed]",
      "text/plain": [
       "<Figure size 432x288 with 1 Axes>"
      ]
     },
     "metadata": {
      "needs_background": "light"
     },
     "output_type": "display_data"
    },
    {
     "data": {
      "text/plain": [
       "array([9, 6, 2, 8, 6, 7, 7, 4, 3, 9, 0, 1, 0, 3, 8, 7, 1, 9, 7, 8, 6, 4,\n",
       "       6, 6, 9, 4, 8, 8, 3, 8, 8, 0, 1, 1, 9, 2, 3, 3, 4, 1, 3, 4, 2, 4,\n",
       "       9, 3, 1, 3, 5, 2, 4, 0, 1, 8, 1, 0, 0, 3, 9, 8, 2, 0, 5, 7, 0, 4,\n",
       "       2, 5, 9, 8, 8, 4, 6, 2, 6, 4, 0, 9, 9, 7, 3, 5, 7, 8, 9, 5, 9, 6,\n",
       "       6, 5, 7, 8, 9, 9, 0, 5, 8, 9, 5, 0], dtype=int64)"
      ]
     },
     "execution_count": 90,
     "metadata": {},
     "output_type": "execute_result"
    }
   ],
   "source": [
    "x = rng.integers(10, size=100)\n",
    "plt.hist(x)\n",
    "plt.show()\n",
    "x"
   ]
  },
  {
   "cell_type": "markdown",
   "id": "332c2d2b",
   "metadata": {},
   "source": [
    "Reproducing the code (without specifying a seed) generates different numbers:"
   ]
  },
  {
   "cell_type": "code",
   "execution_count": 91,
   "id": "8ce2651a",
   "metadata": {},
   "outputs": [
    {
     "data": {
      "image/png": "[encoded data removed]",
      "text/plain": [
       "<Figure size 432x288 with 1 Axes>"
      ]
     },
     "metadata": {
      "needs_background": "light"
     },
     "output_type": "display_data"
    },
    {
     "data": {
      "text/plain": [
       "array([6, 8, 3, 1, 6, 1, 1, 0, 6, 0, 2, 1, 0, 9, 0, 7, 6, 5, 2, 6, 4, 9,\n",
       "       0, 9, 8, 4, 3, 9, 2, 8, 4, 1, 8, 0, 4, 6, 8, 9, 0, 9, 6, 7, 3, 7,\n",
       "       5, 7, 8, 0, 1, 3, 7, 3, 6, 9, 3, 8, 5, 2, 6, 7, 6, 8, 9, 1, 5, 3,\n",
       "       2, 7, 7, 0, 9, 1, 3, 4, 0, 2, 2, 7, 6, 3, 4, 5, 8, 6, 9, 8, 1, 0,\n",
       "       4, 4, 5, 3, 9, 4, 3, 8, 2, 9, 4, 0], dtype=int64)"
      ]
     },
     "execution_count": 91,
     "metadata": {},
     "output_type": "execute_result"
    }
   ],
   "source": [
    "x = rng.integers(10, size=100)\n",
    "plt.hist(x)\n",
    "plt.show()\n",
    "x"
   ]
  },
  {
   "cell_type": "markdown",
   "id": "5174c459",
   "metadata": {},
   "source": [
    "The below two plots demonstrate the use of a seed which is given in the ```rng = np.random.default_rng(12345)``` line of code as (12345)"
   ]
  },
  {
   "cell_type": "code",
   "execution_count": 92,
   "id": "9a60b755",
   "metadata": {},
   "outputs": [
    {
     "data": {
      "image/png": "[encoded data removed]",
      "text/plain": [
       "<Figure size 432x288 with 1 Axes>"
      ]
     },
     "metadata": {
      "needs_background": "light"
     },
     "output_type": "display_data"
    },
    {
     "data": {
      "text/plain": [
       "array([6, 2, 7, 3, 2, 7, 6, 6, 9, 3, 8, 3, 5, 5, 2, 1, 2, 6, 6, 9, 7, 2,\n",
       "       9, 9, 7, 6, 1, 0, 2, 4, 0, 8, 4, 6, 2, 3, 1, 7, 7, 2, 7, 0, 3, 1,\n",
       "       7, 3, 4, 4, 4, 2, 5, 8, 4, 1, 0, 1, 0, 0, 1, 5, 8, 8, 6, 6, 3, 9,\n",
       "       6, 7, 7, 8, 7, 9, 5, 5, 2, 9, 5, 4, 3, 2, 6, 4, 5, 6, 8, 3, 6, 9,\n",
       "       4, 2, 2, 3, 6, 2, 8, 3, 0, 0, 0, 6], dtype=int64)"
      ]
     },
     "execution_count": 92,
     "metadata": {},
     "output_type": "execute_result"
    }
   ],
   "source": [
    "rng = np.random.default_rng(12345)\n",
    "x = rng.integers(10, size=100)\n",
    "plt.hist(x)\n",
    "plt.show()\n",
    "x"
   ]
  },
  {
   "cell_type": "code",
   "execution_count": 93,
   "id": "8f6540bc",
   "metadata": {},
   "outputs": [
    {
     "data": {
      "image/png": "[encoded data removed]",
      "text/plain": [
       "<Figure size 432x288 with 1 Axes>"
      ]
     },
     "metadata": {
      "needs_background": "light"
     },
     "output_type": "display_data"
    },
    {
     "data": {
      "text/plain": [
       "array([6, 2, 7, 3, 2, 7, 6, 6, 9, 3, 8, 3, 5, 5, 2, 1, 2, 6, 6, 9, 7, 2,\n",
       "       9, 9, 7, 6, 1, 0, 2, 4, 0, 8, 4, 6, 2, 3, 1, 7, 7, 2, 7, 0, 3, 1,\n",
       "       7, 3, 4, 4, 4, 2, 5, 8, 4, 1, 0, 1, 0, 0, 1, 5, 8, 8, 6, 6, 3, 9,\n",
       "       6, 7, 7, 8, 7, 9, 5, 5, 2, 9, 5, 4, 3, 2, 6, 4, 5, 6, 8, 3, 6, 9,\n",
       "       4, 2, 2, 3, 6, 2, 8, 3, 0, 0, 0, 6], dtype=int64)"
      ]
     },
     "execution_count": 93,
     "metadata": {},
     "output_type": "execute_result"
    }
   ],
   "source": [
    "rng = np.random.default_rng(12345)\n",
    "x = rng.integers(10, size=100)\n",
    "plt.hist(x)\n",
    "plt.show()\n",
    "x"
   ]
  },
  {
   "cell_type": "markdown",
   "id": "c067be7c",
   "metadata": {},
   "source": [
    "As can be seen, even though the functionalitiy of the random number generator generates 100 integers \"at random\", the array of integers generated in x is the same (but are different from the first two plot in this section which do not specify seeds). Without the use of the seed, it is extremely unlikely that the numbers generated on each generated will be the same. The larger the sample of data generated, the more unlikely this will be. "
   ]
  },
  {
   "cell_type": "markdown",
   "id": "340ccf15",
   "metadata": {},
   "source": [
    "The latest version of NumPy is 1.21.0. This version uses the Permuted Congruential Generator (64-bit) (PCG-64) pseudo-random number generator; previous versions have used the Mersenne Twister pseudo-random number generator.\n",
    "\n",
    "PCG-64 is considered a superior pseudo-random number generator to Mersenne Twister for a number of reasons, including<sup id=\"a40\">[40](#f40)</sup> <sup id=\"a41\">[41](#f41)</sup>:\n",
    "\n",
    "- Ease of use\n",
    "- Flexibility\n",
    "- Very fast\n",
    "- Small code size\n",
    "- Performance in statistical tests is excellent\n",
    "- Less predictable and more secure\n",
    "- Is Open Source"
   ]
  },
  {
   "cell_type": "markdown",
   "id": "98ea774b",
   "metadata": {},
   "source": [
    "## 6. References"
   ]
  },
  {
   "cell_type": "markdown",
   "id": "89fc0cfc",
   "metadata": {},
   "source": [
    "<b id=\"f1\">1</b> https://numpy.org/about/ [↩](#a1)\n",
    "\n",
    "<b id=\"f2\">2</b> https://www.w3schools.com/python/numpy/numpy_intro.asp [↩](#a2)\n",
    "\n",
    "<b id=\"f3\">3</b> https://numpy.org/doc/stable/reference/random/index.html [↩](#a3)\n",
    "\n",
    "<b id=\"f4\">4</b> https://numpy.org/doc/stable/reference/random/generated/numpy.random.Generator.integers.html#numpy.random.Generator.integers [↩](#a4)\n",
    "\n",
    "<b id=\"f5\">5</b> https://corporatefinanceinstitute.com/resources/knowledge/other/uniform-distribution/ [↩](#a5)\n",
    "\n",
    "<b id=\"f6\">6</b> https://numpy.org/doc/stable/reference/random/generated/numpy.random.Generator.random.html#numpy.random.Generator.random [↩](#a6)\n",
    "\n",
    "<b id=\"f7\">7</b> https://corporatefinanceinstitute.com/resources/knowledge/other/uniform-distribution/ [↩](#a7)\n",
    "\n",
    "<b id=\"f8\">8</b> https://numpy.org/doc/stable/reference/random/generated/numpy.random.Generator.choice.html#numpy.random.Generator.choice [↩](#a8)\n",
    "\n",
    "<b id=\"f9\">9</b> https://www.sharpsightlabs.com/blog/numpy-axes-explained/ [↩](#a9)\n",
    "\n",
    "<b id=\"f10\">10</b> https://numpy.org/doc/stable/reference/random/generated/numpy.random.Generator.bytes.html#numpy.random.Generator.bytes [↩](#a10)\n",
    "\n",
    "<b id=\"f11\">11</b> https://docs.python.org/3.4/reference/lexical_analysis.html#grammar-token-shortbytesitem [↩](#a11)\n",
    "\n",
    "<b id=\"f12\">12</b> https://numpy.org/doc/stable/reference/random/generated/numpy.random.Generator.shuffle.html#numpy.random.Generator.shuffle [↩](#a12)\n",
    "\n",
    "<b id=\"f13\">13</b> https://numpy.org/doc/stable/reference/random/generated/numpy.random.Generator.permutation.html#numpy.random.Generator.permutation [↩](#a13)\n",
    "\n",
    "<b id=\"f14\">14</b> https://jman4190.medium.com/explaining-the-inplace-parameter-for-beginners-5de7ffa18d2e [↩](#a14)\n",
    "\n",
    "<b id=\"f15\">15</b> https://numpy.org/doc/stable/reference/random/generated/numpy.random.Generator.permuted.html#numpy.random.Generator.permuted [↩](#a15)\n",
    "\n",
    "<b id=\"f16\">16</b> https://miro.medium.com/max/3000/0*fr4sfcnDc0KsXA8P.png [↩](#a16)\n",
    "\n",
    "<b id=\"f17\">17</b> https://stackoverflow.com/questions/62734866/how-to-create-a-3d-array-in-python-with-numpy [↩](#a17)\n",
    "\n",
    "<b id=\"f18\">18</b> https://www.sharpsightlabs.com/blog/np-random-uniform/ [↩](#a18)\n",
    "\n",
    "<b id=\"f19\">19</b> https://www.w3schools.com/python/numpy/numpy_random_distribution.asp [↩](#a19)\n",
    "\n",
    "<b id=\"f20\">20</b> https://www.oreilly.com/library/view/hands-on-data-science/9781787280748/4264e787-1d92-4d86-9d44-a222b4c79068.xhtml [↩](#a20)\n",
    "\n",
    "<b id=\"f21\">21</b> https://numpy.org/doc/stable/reference/random/generated/numpy.random.Generator.uniform.html#numpy.random.Generator.uniform [↩](#a21)\n",
    "\n",
    "<b id=\"f22\">22</b> https://www.sharpsightlabs.com/blog/np-random-uniform/ [↩](#a22)\n",
    "\n",
    "<b id=\"f23\">23</b> https://www.britannica.com/topic/normal-distribution [↩](#a23)\n",
    "\n",
    "<b id=\"f24\">24</b> https://www.mathsisfun.com/data/standard-normal-distribution.html [↩](#a24)\n",
    "\n",
    "<b id=\"f25\">25</b> https://numpy.org/doc/stable/reference/random/generated/numpy.random.Generator.normal.html#numpy.random.Generator.normal [↩](#a25)\n",
    "\n",
    "<b id=\"f26\">26</b> https://www.investopedia.com/terms/p/pdf.asp [↩](#a26)\n",
    "\n",
    "<b id=\"f27\">27</b> https://medium.com/fintechexplained/ever-wondered-why-normal-distribution-is-so-important-110a482abee3 [↩](#a27)\n",
    "\n",
    "<b id=\"f28\">28</b> https://www.mathsisfun.com/data/standard-normal-distribution.html [↩](#a28)\n",
    "\n",
    "<b id=\"f29\">29</b> https://www.statisticshowto.com/weibull-distribution/ [↩](#a29)\n",
    "\n",
    "<b id=\"f30\">30</b> https://www.homerenergy.com/products/pro/docs/latest/weibull_distribution.html [↩](#a30)\n",
    "\n",
    "<b id=\"f31\">31</b> https://www.statisticshowto.com/weibull-distribution/ [↩](#a31)\n",
    "\n",
    "<b id=\"f32\">32</b> https://www.homerenergy.com/products/pro/docs/latest/weibull_distribution.html [↩](#a32)\n",
    "\n",
    "<b id=\"f33\">33</b> https://www.statisticshowto.com/probability-and-statistics/binomial-theorem/binomial-distribution-formula/ [↩](#a33)\n",
    "\n",
    "\n",
    "<b id=\"f34\">34</b> https://online.stat.psu.edu/stat504/lesson/1/1.7 [↩](#a34)\n",
    "\n",
    "<b id=\"f35\">35</b> https://www.statisticshowto.com/multinomial-distribution/ [↩](#a35)\n",
    "\n",
    "<b id=\"f36\">36</b> https://www.statisticshowto.com/multinomial-distribution/ [↩](#a36)\n",
    "\n",
    "<b id=\"f37\">37</b> https://www.pcg-random.org/rng-basics.html [↩](#a37)\n",
    "\n",
    "<b id=\"f38\">38</b> https://hackaday.com/2017/11/02/what-is-entropy-and-how-do-i-get-more-of-it/ [↩](#a38)\n",
    "\n",
    "<b id=\"f39\">39</b> https://numpy.org/doc/stable/reference/random/bit_generators/generated/numpy.random.BitGenerator.html#numpy.random.BitGenerator [↩](#a39)\n",
    "\n",
    "<b id=\"f40\">40</b> https://www.pcg-random.org/ [↩](#a40)\n",
    "\n",
    "<b id=\"f41\">41</b> https://www.google.com/url?sa=t&rct=j&q=&esrc=s&source=web&cd=&cad=rja&uact=8&ved=2ahUKEwinzIuFxKT0AhVKSsAKHZudAR4QFnoECBQQAQ&url=https%3A%2F%2Findico.scc.kit.edu%2Fevent%2F667%2Fcontributions%2F7182%2Fattachments%2F3470%2F5090%2Fdembinski_rng.html&usg=AOvVaw3T-cvvzKm3Yw4grDndOXSL [↩](#a41)"
   ]
  },
  {
   "cell_type": "code",
   "execution_count": null,
   "id": "796ca3d7",
   "metadata": {},
   "outputs": [],
   "source": []
  }
 ],
 "metadata": {
  "kernelspec": {
   "display_name": "Python 3 (ipykernel)",
   "language": "python",
   "name": "python3"
  },
  "language_info": {
   "codemirror_mode": {
    "name": "ipython",
    "version": 3
   },
   "file_extension": ".py",
   "mimetype": "text/x-python",
   "name": "python",
   "nbconvert_exporter": "python",
   "pygments_lexer": "ipython3",
   "version": "3.8.11"
  }
 },
 "nbformat": 4,
 "nbformat_minor": 5
}
