{
 "cells": [
  {
   "cell_type": "markdown",
   "id": "874f72ad",
   "metadata": {},
   "source": [
    "# The numpy.random package "
   ]
  },
  {
   "cell_type": "markdown",
   "id": "6df241a1",
   "metadata": {},
   "source": [
    "## Programming for Data Analysis Assignment"
   ]
  },
  {
   "cell_type": "markdown",
   "id": "b754a200",
   "metadata": {},
   "source": [
    "### Andrew Walker - G00398788@gmit.ie"
   ]
  },
  {
   "cell_type": "markdown",
   "id": "b1bbe76a",
   "metadata": {},
   "source": [
    "![numpy.org](https://numpy.org/doc/stable/_static/numpylogo.svg)"
   ]
  },
  {
   "cell_type": "markdown",
   "id": "57f89fd9",
   "metadata": {},
   "source": [
    "## 1. Introduction"
   ]
  },
  {
   "cell_type": "markdown",
   "id": "d86aa1be",
   "metadata": {},
   "source": [
    "This notebook contains an explanation of the ```numpy.random``` package in Python. "
   ]
  },
  {
   "cell_type": "markdown",
   "id": "acdf6ba1",
   "metadata": {},
   "source": [
    "NumPy is an open source project aiming to enable numerical computing with Python (https://numpy.org/about/). It is used for working with arrays and also has functions for working in the domain of linear algebra, fourier transform, and matrices (https://www.w3schools.com/python/numpy/numpy_intro.asp). In has applications in a wide range of fields such as astronomy, physics, engineering, and economics. "
   ]
  },
  {
   "cell_type": "markdown",
   "id": "a8e63aa5",
   "metadata": {},
   "source": [
    "The ```numpy.random``` package within NumPy is used to generate a sequence of numbers which approximate the properties of random numbers. The sequence of numbers that is generated is statistically random and can be used in a wide range of applications.    "
   ]
  },
  {
   "cell_type": "markdown",
   "id": "668e8dc3",
   "metadata": {},
   "source": [
    "The package generates the sequence with the use of a BitGenerator and a Generator. The BitGenerator uses a seed to derive the initial state and create a sequence of statistically random numbers bits. The Generator converts the sequence of random bits for a BitGenerator into sequences of numbers that follow a specific probability distribution (https://numpy.org/doc/stable/reference/random/index.html). "
   ]
  },
  {
   "cell_type": "markdown",
   "id": "99221eb4",
   "metadata": {},
   "source": [
    "This notebook will explain the following overarching features of the ```numpy.random``` package:\n",
    "\n",
    "- Simple random data\n",
    "- Permutations\n",
    "- The purpose of five Distribution functions\n",
    "    - Uniform \n",
    "    - Normal\n",
    "    - Weibull\n",
    "    - Binomial\n",
    "    - Multinomial\n",
    "- The use of seeds in generating pseudo-random numbers"
   ]
  },
  {
   "cell_type": "markdown",
   "id": "30b44469",
   "metadata": {},
   "source": [
    "The notebook will explain each feature and the functions contained in each. It will use ........ "
   ]
  },
  {
   "cell_type": "markdown",
   "id": "18d0cf8b",
   "metadata": {},
   "source": [
    "```matplotlib.pyplot``` will also be used....."
   ]
  },
  {
   "cell_type": "markdown",
   "id": "f5707cb3",
   "metadata": {},
   "source": [
    "At the time of writing this notebook, the latest release of ```numpy.random``` is 1.21.0. This contents of this notebook are based on this release."
   ]
  },
  {
   "cell_type": "markdown",
   "id": "4e361ae5",
   "metadata": {},
   "source": [
    "## 2. Initalising the ```numpy.random``` Package"
   ]
  },
  {
   "cell_type": "markdown",
   "id": "f14bbb9c",
   "metadata": {},
   "source": [
    "Import Numpy:"
   ]
  },
  {
   "cell_type": "code",
   "execution_count": 1,
   "id": "2c430dc6",
   "metadata": {},
   "outputs": [],
   "source": [
    "import numpy as np"
   ]
  },
  {
   "cell_type": "markdown",
   "id": "d4e56e16",
   "metadata": {},
   "source": [
    "Construct a new Generator with the default BitGenerator (PCG64): "
   ]
  },
  {
   "cell_type": "code",
   "execution_count": 2,
   "id": "db98f501",
   "metadata": {},
   "outputs": [],
   "source": [
    "rng = np.random.default_rng()"
   ]
  },
  {
   "cell_type": "markdown",
   "id": "c23f3174",
   "metadata": {},
   "source": [
    "A seed can be specified in ```default_rng```. The use of a known seed means that the the algorithm is repeatable. BitGenerators and seeds are discussed further in Section XXXXXX"
   ]
  },
  {
   "cell_type": "markdown",
   "id": "b573f3a3",
   "metadata": {},
   "source": [
    "Pyplot will also be used to allow plotting of outputs generated, where required:"
   ]
  },
  {
   "cell_type": "code",
   "execution_count": 3,
   "id": "9510f085",
   "metadata": {},
   "outputs": [],
   "source": [
    "import matplotlib.pyplot as plt"
   ]
  },
  {
   "cell_type": "markdown",
   "id": "dfbf28d2",
   "metadata": {},
   "source": [
    "## 3. Simple Random Data"
   ]
  },
  {
   "cell_type": "markdown",
   "id": "bcae83ee",
   "metadata": {},
   "source": [
    "The ```numpy.random``` package contains four functions to generate simple random data. These are discussed in this section."
   ]
  },
  {
   "cell_type": "markdown",
   "id": "4ae05e21",
   "metadata": {},
   "source": [
    "### 3.1 Integers\n"
   ]
  },
  {
   "cell_type": "markdown",
   "id": "c67e06bb",
   "metadata": {},
   "source": [
    "Numpy can be instructed to return random integers. For example:"
   ]
  },
  {
   "cell_type": "code",
   "execution_count": 4,
   "id": "7251769b",
   "metadata": {},
   "outputs": [
    {
     "data": {
      "text/plain": [
       "array([0, 0, 0, 2, 0], dtype=int64)"
      ]
     },
     "execution_count": 4,
     "metadata": {},
     "output_type": "execute_result"
    }
   ],
   "source": [
    "rng.integers(0, 3, size=5)"
   ]
  },
  {
   "cell_type": "markdown",
   "id": "86865012",
   "metadata": {},
   "source": [
    "In this example, the first parameter (```0```) sets the lowest integer that is possible to be generated. The upper limit is defined by the second parameter (```3```); the highest integer that is possible to be generated is one lower than this number. The parameter ```size=5``` designates that 5 random numbers should be generated.  "
   ]
  },
  {
   "cell_type": "markdown",
   "id": "7d2bc477",
   "metadata": {},
   "source": [
    "The shape of the output can be changed by specifying the number of rows and columns. For example, a 5 x 5 array containing random numbers between 0 and 9 can be generated using the following:"
   ]
  },
  {
   "cell_type": "code",
   "execution_count": 5,
   "id": "87285c10",
   "metadata": {},
   "outputs": [
    {
     "data": {
      "text/plain": [
       "array([[6, 0, 7, 9, 2],\n",
       "       [1, 2, 1, 8, 5],\n",
       "       [4, 6, 1, 1, 5],\n",
       "       [6, 2, 1, 4, 9],\n",
       "       [9, 8, 4, 3, 5]], dtype=int64)"
      ]
     },
     "execution_count": 5,
     "metadata": {},
     "output_type": "execute_result"
    }
   ],
   "source": [
    "rng.integers(0, 10, size=(5,5))\n"
   ]
  },
  {
   "cell_type": "markdown",
   "id": "6b283ce1",
   "metadata": {},
   "source": [
    "In these examples, the output also includes the data type: ```dtype=int64```. By default, Python has the following data types:\n",
    "\n",
    "- strings\n",
    "- integer\n",
    "- float\n",
    "- boolean\n",
    "- complex\n",
    "\n",
    "NumPy also includes a number of additional data types (discussion of which is considered outside the scope of this notebook). \n",
    "\n",
    "```dtype=int64``` refers to the output containing 64-bit integers. This can be changed, as shown in the following example to output 8-bit integers:"
   ]
  },
  {
   "cell_type": "code",
   "execution_count": 6,
   "id": "1e0a152c",
   "metadata": {},
   "outputs": [
    {
     "data": {
      "text/plain": [
       "array([[7, 0, 8, 0, 2],\n",
       "       [0, 0, 7, 0, 5],\n",
       "       [1, 4, 0, 5, 7],\n",
       "       [9, 2, 6, 4, 4],\n",
       "       [9, 4, 6, 3, 8]], dtype=int8)"
      ]
     },
     "execution_count": 6,
     "metadata": {},
     "output_type": "execute_result"
    }
   ],
   "source": [
    "rng.integers(0, 10, size=(5,5), dtype='int8')"
   ]
  },
  {
   "cell_type": "markdown",
   "id": "60868e2d",
   "metadata": {},
   "source": [
    "The integers are generated by default as a discrete probability distribution. This means that the probability of outcomes is equally likely and with finite values (https://corporatefinanceinstitute.com/resources/knowledge/other/uniform-distribution/). "
   ]
  },
  {
   "cell_type": "code",
   "execution_count": 7,
   "id": "8f73fb0f",
   "metadata": {},
   "outputs": [
    {
     "data": {
      "image/png": "[encoded data removed]",
      "text/plain": [
       "<Figure size 432x288 with 1 Axes>"
      ]
     },
     "metadata": {
      "needs_background": "light"
     },
     "output_type": "display_data"
    }
   ],
   "source": [
    "x = rng.integers(100, size=10000)\n",
    "plt.hist(x)\n",
    "plt.show()"
   ]
  },
  {
   "cell_type": "markdown",
   "id": "54710501",
   "metadata": {},
   "source": [
    "### 2.2 Random"
   ]
  },
  {
   "cell_type": "markdown",
   "id": "bc704e6d",
   "metadata": {},
   "source": [
    "The Numpy random function returns random floats. For example:"
   ]
  },
  {
   "cell_type": "code",
   "execution_count": 8,
   "id": "a12de2c3",
   "metadata": {},
   "outputs": [
    {
     "data": {
      "text/plain": [
       "0.5405012271435674"
      ]
     },
     "execution_count": 8,
     "metadata": {},
     "output_type": "execute_result"
    }
   ],
   "source": [
    "rng.random()"
   ]
  },
  {
   "cell_type": "markdown",
   "id": "9e5e2869",
   "metadata": {},
   "source": [
    "The size of output can be specified:"
   ]
  },
  {
   "cell_type": "code",
   "execution_count": 9,
   "id": "5c2aaf9b",
   "metadata": {
    "scrolled": true
   },
   "outputs": [
    {
     "data": {
      "text/plain": [
       "array([[0.6411832 , 0.68522555, 0.44575708, 0.27634349, 0.87312307],\n",
       "       [0.94469107, 0.82580342, 0.36125571, 0.92310425, 0.99756229],\n",
       "       [0.16575602, 0.4002469 , 0.00798372, 0.59277152, 0.34692082],\n",
       "       [0.39658166, 0.1199905 , 0.78075299, 0.11677875, 0.7880374 ],\n",
       "       [0.96353508, 0.57196164, 0.97583462, 0.03978186, 0.40283543]])"
      ]
     },
     "execution_count": 9,
     "metadata": {},
     "output_type": "execute_result"
    }
   ],
   "source": [
    "rng.random(size=(5,5))"
   ]
  },
  {
   "cell_type": "markdown",
   "id": "5c36df4d",
   "metadata": {},
   "source": [
    "To specify the low and high values the formula ```(b + a) * rng.random() + a``` can be used. The following example outputs five floats between 0 (inclusive) and 3 (exclusive):"
   ]
  },
  {
   "cell_type": "code",
   "execution_count": 10,
   "id": "dde5e83b",
   "metadata": {},
   "outputs": [
    {
     "data": {
      "text/plain": [
       "array([[2.46679625, 0.64384333, 2.46953147, 0.28057634, 2.45136955],\n",
       "       [2.6097142 , 0.07309168, 0.78092196, 2.72526312, 2.8351175 ],\n",
       "       [2.75709759, 0.28761188, 0.25017793, 2.54002474, 1.92131974],\n",
       "       [1.86150803, 1.2649396 , 1.62496329, 2.57353434, 0.37071022],\n",
       "       [1.41841269, 1.07235166, 1.71218119, 0.25462638, 1.23905531]])"
      ]
     },
     "execution_count": 10,
     "metadata": {},
     "output_type": "execute_result"
    }
   ],
   "source": [
    "a = 0 #low value\n",
    "b = 3 #high value\n",
    "x = rng.random(size=(5,5)) \n",
    "y = (b + a) * x + a\n",
    "y"
   ]
  },
  {
   "cell_type": "markdown",
   "id": "1c8282f9",
   "metadata": {},
   "source": [
    "Or for negative numbers between 0 (inclusive) and -1 (exclusive):"
   ]
  },
  {
   "cell_type": "code",
   "execution_count": 11,
   "id": "ea469ed7",
   "metadata": {},
   "outputs": [
    {
     "data": {
      "text/plain": [
       "array([[-0.07569672, -0.31258613, -0.99487602, -0.10837847, -0.89056336],\n",
       "       [-0.55207746, -0.69247907, -0.10068642, -0.30321852, -0.2148875 ],\n",
       "       [-0.85141485, -0.69986354, -0.53180836, -0.79863562, -0.56863547],\n",
       "       [-0.88419045, -0.99026922, -0.23758048, -0.64196931, -0.9151158 ],\n",
       "       [-0.84683048, -0.67536186, -0.45844665, -0.23658274, -0.06159972]])"
      ]
     },
     "execution_count": 11,
     "metadata": {},
     "output_type": "execute_result"
    }
   ],
   "source": [
    "a = 0 \n",
    "b = -1 \n",
    "x = rng.random(size=(5,5)) \n",
    "y = (b + a) * x + a\n",
    "y"
   ]
  },
  {
   "cell_type": "markdown",
   "id": "3e1cb2c4",
   "metadata": {},
   "source": [
    "However, for negative numbers not including 0, the formula must be changed slightly. For example, for negative numbers between -1 (inclusive) and -2 (exclusive):"
   ]
  },
  {
   "cell_type": "code",
   "execution_count": 12,
   "id": "e0fc63bc",
   "metadata": {},
   "outputs": [
    {
     "data": {
      "text/plain": [
       "array([[-1.19138646, -1.5051075 , -1.38874593, -1.3814777 , -1.2723665 ],\n",
       "       [-1.9084298 , -1.41117999, -1.0224197 , -1.51684961, -1.3458075 ],\n",
       "       [-1.9509587 , -1.23831142, -1.9675528 , -1.96264064, -1.21561604],\n",
       "       [-1.97914104, -1.03756383, -1.22704262, -1.90392056, -1.61821264],\n",
       "       [-1.33496571, -1.22942453, -1.78317921, -1.23547929, -1.67907538]])"
      ]
     },
     "execution_count": 12,
     "metadata": {},
     "output_type": "execute_result"
    }
   ],
   "source": [
    "a = -1 \n",
    "b = -2 \n",
    "x = rng.random(size=(5,5))  \n",
    "y = (b - a) * x + a\n",
    "y"
   ]
  },
  {
   "cell_type": "markdown",
   "id": "0457ae35",
   "metadata": {},
   "source": [
    "The floats are generated by default as a continuous probability distribution. This means that there are infinite number of equally likely measurable values. (https://corporatefinanceinstitute.com/resources/knowledge/other/uniform-distribution/). "
   ]
  },
  {
   "cell_type": "code",
   "execution_count": 13,
   "id": "0fab7b01",
   "metadata": {},
   "outputs": [
    {
     "data": {
      "text/plain": [
       "<function matplotlib.pyplot.show(close=None, block=None)>"
      ]
     },
     "execution_count": 13,
     "metadata": {},
     "output_type": "execute_result"
    },
    {
     "data": {
      "image/png": "[encoded data removed]",
      "text/plain": [
       "<Figure size 432x288 with 1 Axes>"
      ]
     },
     "metadata": {
      "needs_background": "light"
     },
     "output_type": "display_data"
    }
   ],
   "source": [
    "x = rng.random(size=10000)\n",
    "plt.hist(x)\n",
    "plt.show"
   ]
  },
  {
   "cell_type": "markdown",
   "id": "46a82682",
   "metadata": {},
   "source": [
    "### 2.3 Choice"
   ]
  },
  {
   "cell_type": "markdown",
   "id": "1f8cda7a",
   "metadata": {},
   "source": [
    "The Numpy choice function generates a random sample from a given array. For example:"
   ]
  },
  {
   "cell_type": "code",
   "execution_count": 14,
   "id": "31166edc",
   "metadata": {},
   "outputs": [
    {
     "data": {
      "text/plain": [
       "array([7, 1, 5, 0, 7], dtype=int64)"
      ]
     },
     "execution_count": 14,
     "metadata": {},
     "output_type": "execute_result"
    }
   ],
   "source": [
    "rng.choice(10, 5)"
   ]
  },
  {
   "cell_type": "markdown",
   "id": "30a28ada",
   "metadata": {},
   "source": [
    "This returns an array of 5 integers between 0 and 9 (inclusive) and is the equivalent of ```rng.integers(0, 10, 5)```."
   ]
  },
  {
   "cell_type": "markdown",
   "id": "e3bfedd7",
   "metadata": {},
   "source": [
    "By default, the distribution is uniform, as shown below:"
   ]
  },
  {
   "cell_type": "code",
   "execution_count": 15,
   "id": "a40f960e",
   "metadata": {},
   "outputs": [
    {
     "data": {
      "image/png": "[encoded data removed]",
      "text/plain": [
       "<Figure size 432x288 with 1 Axes>"
      ]
     },
     "metadata": {
      "needs_background": "light"
     },
     "output_type": "display_data"
    }
   ],
   "source": [
    "x = rng.choice(100, 10000)\n",
    "plt.hist(x)\n",
    "plt.show()"
   ]
  },
  {
   "cell_type": "markdown",
   "id": "dfb7c6eb",
   "metadata": {},
   "source": [
    "A non-uniform distribution can be generated by specifying parameter ```p``` for the probabilty of a choice occuring. For example:"
   ]
  },
  {
   "cell_type": "code",
   "execution_count": 16,
   "id": "ff4ba34b",
   "metadata": {},
   "outputs": [
    {
     "data": {
      "text/plain": [
       "array([3, 3, 3], dtype=int64)"
      ]
     },
     "execution_count": 16,
     "metadata": {},
     "output_type": "execute_result"
    }
   ],
   "source": [
    "rng.choice(5, 3, p=[0.1, 0, 0.3, 0.6, 0])"
   ]
  },
  {
   "cell_type": "markdown",
   "id": "230c170c",
   "metadata": {},
   "source": [
    "In this example, there is a 10% chance of 0 occuring for any the three numbers generated, a 0% percentage chance for a 1, a 30% chance for a 2, a 60% chance for a 3, and a 0% chance for a 4. "
   ]
  },
  {
   "cell_type": "markdown",
   "id": "3de7deac",
   "metadata": {},
   "source": [
    "Specifying parameter ```replace=False``` will result in an individual number not occurring more than once in the output:"
   ]
  },
  {
   "cell_type": "code",
   "execution_count": 17,
   "id": "b099d6da",
   "metadata": {},
   "outputs": [
    {
     "data": {
      "text/plain": [
       "array([3, 4, 7, 0, 5, 1, 9, 6, 8, 2], dtype=int64)"
      ]
     },
     "execution_count": 17,
     "metadata": {},
     "output_type": "execute_result"
    }
   ],
   "source": [
    "rng.choice(10, 10, replace=False)"
   ]
  },
  {
   "cell_type": "markdown",
   "id": "e4c85779",
   "metadata": {},
   "source": [
    "The axis along which the choice is performed can also be selected. The 0 axis refers to rows, and the 1 axis refers to columns (https://www.sharpsightlabs.com/blog/numpy-axes-explained/). The default is 0 is this parameter is not set. For example: "
   ]
  },
  {
   "cell_type": "code",
   "execution_count": 18,
   "id": "3b148e84",
   "metadata": {},
   "outputs": [
    {
     "data": {
      "text/plain": [
       "array([['C', 'D', 'E'],\n",
       "       ['C', 'D', 'E'],\n",
       "       ['3', '4', '5'],\n",
       "       ['0', '1', '2'],\n",
       "       ['3', '4', '5']], dtype='<U11')"
      ]
     },
     "execution_count": 18,
     "metadata": {},
     "output_type": "execute_result"
    }
   ],
   "source": [
    "x = rng.choice([[0,1,2], [3,4,5], [6,7,8], [9,'A','B'], ['C','D','E']], 5, axis=0)\n",
    "x"
   ]
  },
  {
   "cell_type": "markdown",
   "id": "ae5721c9",
   "metadata": {},
   "source": [
    "The above output contains five rows with three elements: "
   ]
  },
  {
   "cell_type": "code",
   "execution_count": 19,
   "id": "3eb18c1f",
   "metadata": {},
   "outputs": [
    {
     "data": {
      "text/plain": [
       "(5, 3)"
      ]
     },
     "execution_count": 19,
     "metadata": {},
     "output_type": "execute_result"
    }
   ],
   "source": [
    "(x.shape)"
   ]
  },
  {
   "cell_type": "markdown",
   "id": "9af2a897",
   "metadata": {},
   "source": [
    "Setting the axis to 1:"
   ]
  },
  {
   "cell_type": "code",
   "execution_count": 20,
   "id": "bea52740",
   "metadata": {},
   "outputs": [
    {
     "data": {
      "text/plain": [
       "array([['2', '0', '0', '1', '2'],\n",
       "       ['5', '3', '3', '4', '5'],\n",
       "       ['8', '6', '6', '7', '8'],\n",
       "       ['B', '9', '9', 'A', 'B'],\n",
       "       ['E', 'C', 'C', 'D', 'E']], dtype='<U11')"
      ]
     },
     "execution_count": 20,
     "metadata": {},
     "output_type": "execute_result"
    }
   ],
   "source": [
    "x = rng.choice([[0,1,2], [3,4,5], [6,7,8], [9,'A','B'], ['C','D','E']], 5, axis=1)\n",
    "x"
   ]
  },
  {
   "cell_type": "markdown",
   "id": "2fc00c66",
   "metadata": {},
   "source": [
    "The above output contains five rows with five columns:"
   ]
  },
  {
   "cell_type": "code",
   "execution_count": 21,
   "id": "68a07557",
   "metadata": {},
   "outputs": [
    {
     "data": {
      "text/plain": [
       "(5, 5)"
      ]
     },
     "execution_count": 21,
     "metadata": {},
     "output_type": "execute_result"
    }
   ],
   "source": [
    "(x.shape)"
   ]
  },
  {
   "cell_type": "markdown",
   "id": "3423d39f",
   "metadata": {},
   "source": [
    "The choice function is not restricted to integers. For example:"
   ]
  },
  {
   "cell_type": "code",
   "execution_count": 22,
   "id": "5727ea24",
   "metadata": {},
   "outputs": [
    {
     "data": {
      "text/plain": [
       "array(['spring', 'winter', 'spring', 'spring'], dtype='<U6')"
      ]
     },
     "execution_count": 22,
     "metadata": {},
     "output_type": "execute_result"
    }
   ],
   "source": [
    "season = ['spring', 'summer', 'autumn', 'winter']\n",
    "rng.choice(season, 4, p=[0.5, 0, 0, 0.5])"
   ]
  },
  {
   "cell_type": "markdown",
   "id": "dd942e59",
   "metadata": {},
   "source": [
    "### 2.4 Bytes"
   ]
  },
  {
   "cell_type": "markdown",
   "id": "b4b53741",
   "metadata": {},
   "source": [
    "The Numpy bytes function returns random bytes, dependent on the specified length. The following example returns 10 bytes:"
   ]
  },
  {
   "cell_type": "code",
   "execution_count": 23,
   "id": "ef4d1b45",
   "metadata": {},
   "outputs": [
    {
     "data": {
      "text/plain": [
       "b'\\xe5\\xe6\\xa4\\x19\\x10\\xe2\\x15<=\\x08'"
      ]
     },
     "execution_count": 23,
     "metadata": {},
     "output_type": "execute_result"
    }
   ],
   "source": [
    "rng.bytes(10)\n"
   ]
  },
  {
   "cell_type": "markdown",
   "id": "e58e2b98",
   "metadata": {},
   "source": [
    "The bytes are returned in hex and ASCII. Any two characters following an x character are hex characters making up 1 byte; any other characters are ASCII characters of 1 byte each. The initial b is a prefix for bytes, and the output is enclosed in matching single quotes ('). "
   ]
  },
  {
   "cell_type": "markdown",
   "id": "dabb74fa",
   "metadata": {},
   "source": [
    "For example, ```b'\\xfd\\xd7\\x17\\xac\\xa3Ig\\xf0`\\xa1'``` would be made up of the following for a total of 10 bytes:\n",
    "\n",
    "- fd (hex)\n",
    "- d7 (hex)\n",
    "- 17 (hex)\n",
    "- ac (hex)\n",
    "- a3 (hex)\n",
    "- I (ASCII)\n",
    "- g (ASCII)\n",
    "- f0 (hex)\n",
    "- ` (ASCII)\n",
    "- a1 (hex)"
   ]
  },
  {
   "cell_type": "markdown",
   "id": "ab23cecc",
   "metadata": {},
   "source": [
    "https://stackoverflow.com/questions/26802581/can-anyone-identify-this-encoding?rq=1\n",
    "https://docs.python.org/3.4/reference/lexical_analysis.html#grammar-token-shortbytesitem"
   ]
  },
  {
   "cell_type": "markdown",
   "id": "c2181e8c",
   "metadata": {},
   "source": [
    "## 3. Permutations"
   ]
  },
  {
   "cell_type": "markdown",
   "id": "c9f79271",
   "metadata": {},
   "source": [
    "The ```numpy.random``` package contains three methods for randomly permutating a sequence. These are discussed in this section. "
   ]
  },
  {
   "cell_type": "markdown",
   "id": "6c35056c",
   "metadata": {},
   "source": [
    "### 3.1 Shuffle"
   ]
  },
  {
   "cell_type": "markdown",
   "id": "3d68daa5",
   "metadata": {},
   "source": [
    "The Numpy shuffle function rearranges the order of a sequence's contents. For example, the following will return a sequence of numbers from 0 to 9 (inclusive) in a random order, as detailed in Section 2.3:"
   ]
  },
  {
   "cell_type": "code",
   "execution_count": 24,
   "id": "914c4eec",
   "metadata": {},
   "outputs": [
    {
     "data": {
      "text/plain": [
       "array([2, 0, 7, 3, 4, 5, 9, 1, 6, 8], dtype=int64)"
      ]
     },
     "execution_count": 24,
     "metadata": {},
     "output_type": "execute_result"
    }
   ],
   "source": [
    "x = rng.choice(10, 10, replace=False)\n",
    "x"
   ]
  },
  {
   "cell_type": "markdown",
   "id": "7c8579b9",
   "metadata": {},
   "source": [
    "The squence order is then rearranged using the shuffle function:"
   ]
  },
  {
   "cell_type": "code",
   "execution_count": 25,
   "id": "38b73201",
   "metadata": {},
   "outputs": [
    {
     "data": {
      "text/plain": [
       "array([6, 4, 2, 0, 1, 5, 9, 7, 8, 3], dtype=int64)"
      ]
     },
     "execution_count": 25,
     "metadata": {},
     "output_type": "execute_result"
    }
   ],
   "source": [
    "rng.shuffle(x)\n",
    "x"
   ]
  },
  {
   "cell_type": "markdown",
   "id": "c6911259",
   "metadata": {},
   "source": [
    "The shuffle function can also rearrange the sequence of arrays:"
   ]
  },
  {
   "cell_type": "code",
   "execution_count": 26,
   "id": "293c0408",
   "metadata": {},
   "outputs": [
    {
     "data": {
      "text/plain": [
       "array([[ 0,  1,  2,  3,  4],\n",
       "       [ 5,  6,  7,  8,  9],\n",
       "       [10, 11, 12, 13, 14],\n",
       "       [15, 16, 17, 18, 19],\n",
       "       [20, 21, 22, 23, 24]])"
      ]
     },
     "execution_count": 26,
     "metadata": {},
     "output_type": "execute_result"
    }
   ],
   "source": [
    "x = np.arange(0, 25).reshape(5, 5)\n",
    "x"
   ]
  },
  {
   "cell_type": "code",
   "execution_count": 27,
   "id": "23d2a918",
   "metadata": {},
   "outputs": [
    {
     "data": {
      "text/plain": [
       "array([[15, 16, 17, 18, 19],\n",
       "       [10, 11, 12, 13, 14],\n",
       "       [ 0,  1,  2,  3,  4],\n",
       "       [20, 21, 22, 23, 24],\n",
       "       [ 5,  6,  7,  8,  9]])"
      ]
     },
     "execution_count": 27,
     "metadata": {},
     "output_type": "execute_result"
    }
   ],
   "source": [
    "rng.shuffle(x)\n",
    "x"
   ]
  },
  {
   "cell_type": "markdown",
   "id": "55417436",
   "metadata": {},
   "source": [
    "By default, the axis parameter is set to zero. As can be seen in the above example, by default, the shuffle function will shuffle the order the rows, but not the order of the columns. "
   ]
  },
  {
   "cell_type": "markdown",
   "id": "7ababe00",
   "metadata": {},
   "source": [
    "In the below example, the axis is set to 1:"
   ]
  },
  {
   "cell_type": "code",
   "execution_count": 28,
   "id": "bdc4e7fe",
   "metadata": {},
   "outputs": [
    {
     "data": {
      "text/plain": [
       "array([[ 0,  1,  2,  3,  4],\n",
       "       [ 5,  6,  7,  8,  9],\n",
       "       [10, 11, 12, 13, 14],\n",
       "       [15, 16, 17, 18, 19],\n",
       "       [20, 21, 22, 23, 24]])"
      ]
     },
     "execution_count": 28,
     "metadata": {},
     "output_type": "execute_result"
    }
   ],
   "source": [
    "x = np.arange(0, 25).reshape(5, 5)\n",
    "x"
   ]
  },
  {
   "cell_type": "code",
   "execution_count": 29,
   "id": "9081f39d",
   "metadata": {},
   "outputs": [
    {
     "data": {
      "text/plain": [
       "array([[ 2,  3,  4,  1,  0],\n",
       "       [ 7,  8,  9,  6,  5],\n",
       "       [12, 13, 14, 11, 10],\n",
       "       [17, 18, 19, 16, 15],\n",
       "       [22, 23, 24, 21, 20]])"
      ]
     },
     "execution_count": 29,
     "metadata": {},
     "output_type": "execute_result"
    }
   ],
   "source": [
    "rng.shuffle(x, axis=1)\n",
    "x"
   ]
  },
  {
   "cell_type": "markdown",
   "id": "e7eeb20f",
   "metadata": {},
   "source": [
    "This results in a shuffling of the contents of the columns, but the row order remaining the same."
   ]
  },
  {
   "cell_type": "markdown",
   "id": "c9c9df93",
   "metadata": {},
   "source": [
    "### 3.2 Permutation"
   ]
  },
  {
   "cell_type": "markdown",
   "id": "e7dce34d",
   "metadata": {},
   "source": [
    "The Numpy permutation function returns either a randomly permuted sequence, as shown in the example below:"
   ]
  },
  {
   "cell_type": "code",
   "execution_count": 30,
   "id": "d4a29c31",
   "metadata": {},
   "outputs": [
    {
     "data": {
      "text/plain": [
       "array([4, 7, 2, 1, 3, 8, 0, 5, 6, 9])"
      ]
     },
     "execution_count": 30,
     "metadata": {},
     "output_type": "execute_result"
    }
   ],
   "source": [
    "rng.permutation(10)\n"
   ]
  },
  {
   "cell_type": "raw",
   "id": "18c2d60b",
   "metadata": {},
   "source": [
    "Or randomly rearranges the elements of an array, as shown in the example below:"
   ]
  },
  {
   "cell_type": "markdown",
   "id": "43cffa3e",
   "metadata": {},
   "source": [
    "Or can rearrange the sequence of arrays:"
   ]
  },
  {
   "cell_type": "code",
   "execution_count": 31,
   "id": "bad2e180",
   "metadata": {},
   "outputs": [
    {
     "data": {
      "text/plain": [
       "array([[ 0,  1,  2,  3,  4],\n",
       "       [ 5,  6,  7,  8,  9],\n",
       "       [10, 11, 12, 13, 14],\n",
       "       [15, 16, 17, 18, 19],\n",
       "       [20, 21, 22, 23, 24]])"
      ]
     },
     "execution_count": 31,
     "metadata": {},
     "output_type": "execute_result"
    }
   ],
   "source": [
    "x = np.arange(0, 25).reshape(5, 5)\n",
    "x"
   ]
  },
  {
   "cell_type": "code",
   "execution_count": 32,
   "id": "494890d0",
   "metadata": {},
   "outputs": [
    {
     "data": {
      "text/plain": [
       "array([[15, 16, 17, 18, 19],\n",
       "       [10, 11, 12, 13, 14],\n",
       "       [ 5,  6,  7,  8,  9],\n",
       "       [20, 21, 22, 23, 24],\n",
       "       [ 0,  1,  2,  3,  4]])"
      ]
     },
     "execution_count": 32,
     "metadata": {},
     "output_type": "execute_result"
    }
   ],
   "source": [
    "y = rng.permutation(x)\n",
    "y"
   ]
  },
  {
   "cell_type": "markdown",
   "id": "52ee08fd",
   "metadata": {},
   "source": [
    "By default, the axis parameter is set to zero. As can be seen in the above example, by default, the permutation function will rearrange the order the rows, but not the order of the columns. "
   ]
  },
  {
   "cell_type": "markdown",
   "id": "f180c585",
   "metadata": {},
   "source": [
    "In the below example, axis is set to 1:"
   ]
  },
  {
   "cell_type": "code",
   "execution_count": 33,
   "id": "5934e028",
   "metadata": {},
   "outputs": [
    {
     "data": {
      "text/plain": [
       "array([[ 0,  1,  2,  3,  4],\n",
       "       [ 5,  6,  7,  8,  9],\n",
       "       [10, 11, 12, 13, 14],\n",
       "       [15, 16, 17, 18, 19],\n",
       "       [20, 21, 22, 23, 24]])"
      ]
     },
     "execution_count": 33,
     "metadata": {},
     "output_type": "execute_result"
    }
   ],
   "source": [
    "x = np.arange(0, 25).reshape(5, 5)\n",
    "x"
   ]
  },
  {
   "cell_type": "code",
   "execution_count": 34,
   "id": "5fe2b530",
   "metadata": {},
   "outputs": [
    {
     "data": {
      "text/plain": [
       "array([[ 1,  4,  3,  0,  2],\n",
       "       [ 6,  9,  8,  5,  7],\n",
       "       [11, 14, 13, 10, 12],\n",
       "       [16, 19, 18, 15, 17],\n",
       "       [21, 24, 23, 20, 22]])"
      ]
     },
     "execution_count": 34,
     "metadata": {},
     "output_type": "execute_result"
    }
   ],
   "source": [
    "y = rng.permutation(x, axis=1)\n",
    "y"
   ]
  },
  {
   "cell_type": "markdown",
   "id": "3444b306",
   "metadata": {},
   "source": [
    "As with the shuffle function, this results in a shuffling of the contents of the columns but the row order remaining the same."
   ]
  },
  {
   "cell_type": "markdown",
   "id": "d2a14fca",
   "metadata": {},
   "source": [
    "### 3.2.2 Difference between Shuffle and Permutation Functions"
   ]
  },
  {
   "cell_type": "markdown",
   "id": "f93ae35f",
   "metadata": {},
   "source": [
    "At first glance, the shuffle and permutation functions appear to perform similarly - both randomly rearrage a sequence or arrays. However, the key difference is that the shuffle function operates in-place, whereas the permutation function returns a copy (https://numpy.org/doc/stable/reference/random/generator.html). (https://jman4190.medium.com/explaining-the-inplace-parameter-for-beginners-5de7ffa18d2e)."
   ]
  },
  {
   "cell_type": "markdown",
   "id": "8a75d7f2",
   "metadata": {},
   "source": [
    "The in-place operation of the shuffle function means that dataframe is overwritten with the output of the function, when it is performed, For example, a sequence of numbers 0 to 9 can be generated as the variable x:"
   ]
  },
  {
   "cell_type": "code",
   "execution_count": 35,
   "id": "cf26b2a2",
   "metadata": {},
   "outputs": [],
   "source": [
    "x = np.arange(10)"
   ]
  },
  {
   "cell_type": "markdown",
   "id": "43711af3",
   "metadata": {},
   "source": [
    "The output of x is shown as the sequence:"
   ]
  },
  {
   "cell_type": "code",
   "execution_count": 36,
   "id": "6897dc4b",
   "metadata": {},
   "outputs": [
    {
     "data": {
      "text/plain": [
       "array([0, 1, 2, 3, 4, 5, 6, 7, 8, 9])"
      ]
     },
     "execution_count": 36,
     "metadata": {},
     "output_type": "execute_result"
    }
   ],
   "source": [
    "x"
   ]
  },
  {
   "cell_type": "markdown",
   "id": "60a71b7e",
   "metadata": {},
   "source": [
    "The shuffle function can then be performed:"
   ]
  },
  {
   "cell_type": "code",
   "execution_count": 37,
   "id": "76cc48f6",
   "metadata": {},
   "outputs": [],
   "source": [
    "rng.shuffle(x)\n"
   ]
  },
  {
   "cell_type": "markdown",
   "id": "5c85b5c9",
   "metadata": {},
   "source": [
    "The variable x now contains the random sequence generated by the shuffle function:"
   ]
  },
  {
   "cell_type": "code",
   "execution_count": 38,
   "id": "18dc4e3a",
   "metadata": {},
   "outputs": [
    {
     "data": {
      "text/plain": [
       "array([2, 3, 7, 9, 4, 6, 5, 1, 8, 0])"
      ]
     },
     "execution_count": 38,
     "metadata": {},
     "output_type": "execute_result"
    }
   ],
   "source": [
    "x"
   ]
  },
  {
   "cell_type": "markdown",
   "id": "68144077",
   "metadata": {},
   "source": [
    "The original sequence contained in x has now been overwritten and calling the variable x again will produce the same output as above and the original sequence is no longer stored:"
   ]
  },
  {
   "cell_type": "code",
   "execution_count": 39,
   "id": "666cde26",
   "metadata": {},
   "outputs": [
    {
     "data": {
      "text/plain": [
       "array([2, 3, 7, 9, 4, 6, 5, 1, 8, 0])"
      ]
     },
     "execution_count": 39,
     "metadata": {},
     "output_type": "execute_result"
    }
   ],
   "source": [
    "x"
   ]
  },
  {
   "cell_type": "markdown",
   "id": "ea163b04",
   "metadata": {},
   "source": [
    "Performing the shuffle function on x a further time would overwrite x again. "
   ]
  },
  {
   "cell_type": "markdown",
   "id": "71d49c8a",
   "metadata": {},
   "source": [
    "However, the permutation function operates differently and produces a copy of the original data. For example, taking the same sequence of 0 to 9:"
   ]
  },
  {
   "cell_type": "code",
   "execution_count": 40,
   "id": "aa60fd42",
   "metadata": {},
   "outputs": [
    {
     "data": {
      "text/plain": [
       "array([0, 1, 2, 3, 4, 5, 6, 7, 8, 9])"
      ]
     },
     "execution_count": 40,
     "metadata": {},
     "output_type": "execute_result"
    }
   ],
   "source": [
    "x = np.arange(10)\n",
    "x"
   ]
  },
  {
   "cell_type": "markdown",
   "id": "8ffee8c0",
   "metadata": {},
   "source": [
    "The permutation function can be called on x to output a random sequence:"
   ]
  },
  {
   "cell_type": "code",
   "execution_count": 41,
   "id": "9d2a9c0b",
   "metadata": {},
   "outputs": [
    {
     "data": {
      "text/plain": [
       "array([0, 1, 3, 2, 4, 7, 8, 9, 6, 5])"
      ]
     },
     "execution_count": 41,
     "metadata": {},
     "output_type": "execute_result"
    }
   ],
   "source": [
    "rng.permutation(x)"
   ]
  },
  {
   "cell_type": "markdown",
   "id": "247a394f",
   "metadata": {},
   "source": [
    "However, using the permutation function, the variable x contains the original data which has not been overwritten:"
   ]
  },
  {
   "cell_type": "code",
   "execution_count": 42,
   "id": "f44abc80",
   "metadata": {},
   "outputs": [
    {
     "data": {
      "text/plain": [
       "array([0, 1, 2, 3, 4, 5, 6, 7, 8, 9])"
      ]
     },
     "execution_count": 42,
     "metadata": {},
     "output_type": "execute_result"
    }
   ],
   "source": [
    "x"
   ]
  },
  {
   "cell_type": "markdown",
   "id": "122db69b",
   "metadata": {},
   "source": [
    "This could be useful if the original data is to be kept, but also a new sequence generated. For example:"
   ]
  },
  {
   "cell_type": "code",
   "execution_count": 43,
   "id": "1abfe09c",
   "metadata": {},
   "outputs": [],
   "source": [
    "y = rng.permutation(x)"
   ]
  },
  {
   "cell_type": "code",
   "execution_count": 44,
   "id": "beb83cd4",
   "metadata": {},
   "outputs": [
    {
     "data": {
      "text/plain": [
       "(array([0, 1, 2, 3, 4, 5, 6, 7, 8, 9]), array([1, 3, 6, 0, 8, 7, 9, 5, 4, 2]))"
      ]
     },
     "execution_count": 44,
     "metadata": {},
     "output_type": "execute_result"
    }
   ],
   "source": [
    "x, y "
   ]
  },
  {
   "cell_type": "markdown",
   "id": "786431ec",
   "metadata": {},
   "source": [
    "### 3.3 Permuted"
   ]
  },
  {
   "cell_type": "markdown",
   "id": "51d86427",
   "metadata": {},
   "source": [
    "The Numpy permutated function randomly permutes an array along a given axis. This function differs from the shuffle and permutation functions in that each slice of the array is shuffled independently of the others. This can be demonstrated using a 3d-array, as in the following example:"
   ]
  },
  {
   "cell_type": "code",
   "execution_count": 45,
   "id": "79638520",
   "metadata": {},
   "outputs": [
    {
     "data": {
      "text/plain": [
       "array([[[ 0,  1],\n",
       "        [ 2,  3],\n",
       "        [ 4,  5]],\n",
       "\n",
       "       [[ 6,  7],\n",
       "        [ 8,  9],\n",
       "        [10, 11]],\n",
       "\n",
       "       [[12, 13],\n",
       "        [14, 15],\n",
       "        [16, 17]],\n",
       "\n",
       "       [[18, 19],\n",
       "        [20, 21],\n",
       "        [22, 23]]])"
      ]
     },
     "execution_count": 45,
     "metadata": {},
     "output_type": "execute_result"
    }
   ],
   "source": [
    "x = np.array([[[0, 1], [2, 3], [4, 5]], [[6, 7], [8, 9], [10, 11]], [[12, 13], [14, 15], [16, 17]], [[18, 19], [20, 21], [22,23]]])\n",
    "x"
   ]
  },
  {
   "cell_type": "markdown",
   "id": "700ef10f",
   "metadata": {},
   "source": [
    "The above array has 4 lines in axis-0, 3 lines in axis-1, and 2 lines in axis-2:"
   ]
  },
  {
   "cell_type": "code",
   "execution_count": 46,
   "id": "d84a9a29",
   "metadata": {},
   "outputs": [
    {
     "data": {
      "text/plain": [
       "(4, 3, 2)"
      ]
     },
     "execution_count": 46,
     "metadata": {},
     "output_type": "execute_result"
    }
   ],
   "source": [
    "x.shape"
   ]
  },
  {
   "cell_type": "markdown",
   "id": "6eed5d34",
   "metadata": {},
   "source": [
    "The following image gives a representation of arrays in different dimensions; the 3d-array on the right is of the same 4, 3, 2 shape. "
   ]
  },
  {
   "cell_type": "markdown",
   "id": "e40fda63",
   "metadata": {},
   "source": [
    "![numpy.org](https://miro.medium.com/max/3000/0*fr4sfcnDc0KsXA8P.png)\n"
   ]
  },
  {
   "cell_type": "markdown",
   "id": "cbb24c8f",
   "metadata": {},
   "source": [
    "#3d array (https://stackoverflow.com/questions/62734866/how-to-create-a-3d-array-in-python-with-numpy)\n",
    "#https://miro.medium.com/max/3000/0*fr4sfcnDc0KsXA8P.png\n"
   ]
  },
  {
   "cell_type": "markdown",
   "id": "036931af",
   "metadata": {},
   "source": [
    "Calling the permuted function on the default axis-0 will randomly shuffle the whole array across all axis:"
   ]
  },
  {
   "cell_type": "code",
   "execution_count": 47,
   "id": "00b294b2",
   "metadata": {},
   "outputs": [
    {
     "data": {
      "text/plain": [
       "array([[[ 2, 23],\n",
       "        [21,  6],\n",
       "        [ 7, 16]],\n",
       "\n",
       "       [[ 4,  0],\n",
       "        [ 3,  8],\n",
       "        [ 5,  1]],\n",
       "\n",
       "       [[20,  9],\n",
       "        [17, 12],\n",
       "        [18, 15]],\n",
       "\n",
       "       [[19, 14],\n",
       "        [10, 11],\n",
       "        [13, 22]]])"
      ]
     },
     "execution_count": 47,
     "metadata": {},
     "output_type": "execute_result"
    }
   ],
   "source": [
    "rng.permuted(x)"
   ]
  },
  {
   "cell_type": "markdown",
   "id": "f9f18279",
   "metadata": {},
   "source": [
    "This differs from permutation or shuffle whereby the rows are shuffled along axis-0, but not along axis-1 or axis-2:"
   ]
  },
  {
   "cell_type": "code",
   "execution_count": 48,
   "id": "6a8a84f3",
   "metadata": {},
   "outputs": [
    {
     "data": {
      "text/plain": [
       "array([[[ 6,  7],\n",
       "        [ 8,  9],\n",
       "        [10, 11]],\n",
       "\n",
       "       [[ 0,  1],\n",
       "        [ 2,  3],\n",
       "        [ 4,  5]],\n",
       "\n",
       "       [[12, 13],\n",
       "        [14, 15],\n",
       "        [16, 17]],\n",
       "\n",
       "       [[18, 19],\n",
       "        [20, 21],\n",
       "        [22, 23]]])"
      ]
     },
     "execution_count": 48,
     "metadata": {},
     "output_type": "execute_result"
    }
   ],
   "source": [
    "rng.permutation(x, axis=0)"
   ]
  },
  {
   "cell_type": "markdown",
   "id": "cc62aa98",
   "metadata": {},
   "source": [
    "Calling permutated or permunation on axis-1 results in a shuffling of the columns along axis-1; whilst the columns are shuffled within the rows, the row order itself is not changed. "
   ]
  },
  {
   "cell_type": "code",
   "execution_count": 49,
   "id": "58cb1947",
   "metadata": {},
   "outputs": [
    {
     "data": {
      "text/plain": [
       "array([[[ 2,  1],\n",
       "        [ 0,  5],\n",
       "        [ 4,  3]],\n",
       "\n",
       "       [[ 6,  9],\n",
       "        [ 8,  7],\n",
       "        [10, 11]],\n",
       "\n",
       "       [[14, 17],\n",
       "        [16, 13],\n",
       "        [12, 15]],\n",
       "\n",
       "       [[18, 21],\n",
       "        [20, 23],\n",
       "        [22, 19]]])"
      ]
     },
     "execution_count": 49,
     "metadata": {},
     "output_type": "execute_result"
    }
   ],
   "source": [
    "rng.permuted(x, axis=1)"
   ]
  },
  {
   "cell_type": "code",
   "execution_count": 50,
   "id": "b14cfd4a",
   "metadata": {},
   "outputs": [
    {
     "data": {
      "text/plain": [
       "array([[[ 2,  3],\n",
       "        [ 0,  1],\n",
       "        [ 4,  5]],\n",
       "\n",
       "       [[ 8,  9],\n",
       "        [ 6,  7],\n",
       "        [10, 11]],\n",
       "\n",
       "       [[14, 15],\n",
       "        [12, 13],\n",
       "        [16, 17]],\n",
       "\n",
       "       [[20, 21],\n",
       "        [18, 19],\n",
       "        [22, 23]]])"
      ]
     },
     "execution_count": 50,
     "metadata": {},
     "output_type": "execute_result"
    }
   ],
   "source": [
    "rng.permutation(x, axis=1)"
   ]
  },
  {
   "cell_type": "markdown",
   "id": "4b21c0ad",
   "metadata": {},
   "source": [
    "Calling permutated on axis-2 results in a shuffling of axis-2 independently from the other axis:"
   ]
  },
  {
   "cell_type": "code",
   "execution_count": 51,
   "id": "46950b00",
   "metadata": {},
   "outputs": [
    {
     "data": {
      "text/plain": [
       "array([[[ 0,  1],\n",
       "        [ 3,  2],\n",
       "        [ 5,  4]],\n",
       "\n",
       "       [[ 7,  6],\n",
       "        [ 8,  9],\n",
       "        [10, 11]],\n",
       "\n",
       "       [[13, 12],\n",
       "        [14, 15],\n",
       "        [17, 16]],\n",
       "\n",
       "       [[19, 18],\n",
       "        [20, 21],\n",
       "        [23, 22]]])"
      ]
     },
     "execution_count": 51,
     "metadata": {},
     "output_type": "execute_result"
    }
   ],
   "source": [
    "rng.permuted(x, axis=2)"
   ]
  },
  {
   "cell_type": "markdown",
   "id": "d03f9100",
   "metadata": {},
   "source": [
    "Whereas permutatation shuffles along axis-2 but is not idependent:"
   ]
  },
  {
   "cell_type": "code",
   "execution_count": 52,
   "id": "bdcd4fa5",
   "metadata": {
    "scrolled": true
   },
   "outputs": [
    {
     "data": {
      "text/plain": [
       "array([[[ 0,  1],\n",
       "        [ 2,  3],\n",
       "        [ 4,  5]],\n",
       "\n",
       "       [[ 6,  7],\n",
       "        [ 8,  9],\n",
       "        [10, 11]],\n",
       "\n",
       "       [[12, 13],\n",
       "        [14, 15],\n",
       "        [16, 17]],\n",
       "\n",
       "       [[18, 19],\n",
       "        [20, 21],\n",
       "        [22, 23]]])"
      ]
     },
     "execution_count": 52,
     "metadata": {},
     "output_type": "execute_result"
    }
   ],
   "source": [
    "rng.permutation(x, axis=2)"
   ]
  },
  {
   "cell_type": "markdown",
   "id": "82924db2",
   "metadata": {},
   "source": [
    "By default, the permuted function returns a shuffled copy. The above examples have not overwritten x:"
   ]
  },
  {
   "cell_type": "code",
   "execution_count": 53,
   "id": "140f8d1a",
   "metadata": {},
   "outputs": [
    {
     "data": {
      "text/plain": [
       "array([[[ 0,  1],\n",
       "        [ 2,  3],\n",
       "        [ 4,  5]],\n",
       "\n",
       "       [[ 6,  7],\n",
       "        [ 8,  9],\n",
       "        [10, 11]],\n",
       "\n",
       "       [[12, 13],\n",
       "        [14, 15],\n",
       "        [16, 17]],\n",
       "\n",
       "       [[18, 19],\n",
       "        [20, 21],\n",
       "        [22, 23]]])"
      ]
     },
     "execution_count": 53,
     "metadata": {},
     "output_type": "execute_result"
    }
   ],
   "source": [
    "x"
   ]
  },
  {
   "cell_type": "markdown",
   "id": "f84e859d",
   "metadata": {},
   "source": [
    "The permuted function can be performed in-place through use of the out function. For example:"
   ]
  },
  {
   "cell_type": "code",
   "execution_count": 54,
   "id": "1b202973",
   "metadata": {},
   "outputs": [
    {
     "data": {
      "text/plain": [
       "array([[[12, 19],\n",
       "        [20,  3],\n",
       "        [ 4, 11]],\n",
       "\n",
       "       [[18,  7],\n",
       "        [14, 15],\n",
       "        [22,  5]],\n",
       "\n",
       "       [[ 0, 13],\n",
       "        [ 8,  9],\n",
       "        [16, 17]],\n",
       "\n",
       "       [[ 6,  1],\n",
       "        [ 2, 21],\n",
       "        [10, 23]]])"
      ]
     },
     "execution_count": 54,
     "metadata": {},
     "output_type": "execute_result"
    }
   ],
   "source": [
    "y = rng.permuted(x, axis=0, out=x)\n",
    "y"
   ]
  },
  {
   "cell_type": "code",
   "execution_count": 55,
   "id": "1b772b85",
   "metadata": {},
   "outputs": [
    {
     "data": {
      "text/plain": [
       "array([[[12, 19],\n",
       "        [20,  3],\n",
       "        [ 4, 11]],\n",
       "\n",
       "       [[18,  7],\n",
       "        [14, 15],\n",
       "        [22,  5]],\n",
       "\n",
       "       [[ 0, 13],\n",
       "        [ 8,  9],\n",
       "        [16, 17]],\n",
       "\n",
       "       [[ 6,  1],\n",
       "        [ 2, 21],\n",
       "        [10, 23]]])"
      ]
     },
     "execution_count": 55,
     "metadata": {},
     "output_type": "execute_result"
    }
   ],
   "source": [
    "x"
   ]
  },
  {
   "cell_type": "markdown",
   "id": "ef76c4cf",
   "metadata": {},
   "source": [
    "## 4. Distributions "
   ]
  },
  {
   "cell_type": "markdown",
   "id": "4e33d277",
   "metadata": {},
   "source": [
    "The ```numpy.random``` package contains a wide variety of distributions which can be applied to sequences generated by the Generator. Five distributions are discussed in this section:"
   ]
  },
  {
   "cell_type": "markdown",
   "id": "762cfbf5",
   "metadata": {},
   "source": [
    "1. Normal\n",
    "2. Uniform\n",
    "3. Weibull\n",
    "4. Binomial\n",
    "5. Multinomial"
   ]
  },
  {
   "cell_type": "markdown",
   "id": "6a102b38",
   "metadata": {},
   "source": [
    "These distributions are examples of probability distributions which are functions which give the probabilities of different outcomes (https://www.sharpsightlabs.com/blog/np-random-uniform/). The Probability Density Function (PDF) is a function that describes a continuous probability, i.e. the probability of all values in an array (https://www.w3schools.com/python/numpy/numpy_random_distribution.asp). The more times experiments are run in numpy, the more accurate the results. "
   ]
  },
  {
   "cell_type": "markdown",
   "id": "4fcab767",
   "metadata": {},
   "source": [
    "### 4.1. Uniform Distribution"
   ]
  },
  {
   "cell_type": "markdown",
   "id": "ea3ce619",
   "metadata": {},
   "source": [
    "A uniform distribution means that there is a constant probability of a value occurring within a given range (https://www.oreilly.com/library/view/hands-on-data-science/9781787280748/4264e787-1d92-4d86-9d44-a222b4c79068.xhtml). The probability density of the uniform distribution is (https://numpy.org/doc/stable/reference/random/generated/numpy.random.Generator.uniform.html#numpy.random.Generator.uniform):"
   ]
  },
  {
   "cell_type": "markdown",
   "id": "9d06994b",
   "metadata": {},
   "source": [
    "p(x) = 1/(b-a) \n",
    "\n",
    "Where:\n",
    "\n",
    "b = the high point of range\n",
    "\n",
    "a = the low point of range"
   ]
  },
  {
   "cell_type": "markdown",
   "id": "043f1360",
   "metadata": {},
   "source": [
    "For example, the following experiment has a range defined as between -1 and 1. The model is run 100 times and the results shown in a histogram:"
   ]
  },
  {
   "cell_type": "code",
   "execution_count": 56,
   "id": "9a0b2c33",
   "metadata": {},
   "outputs": [
    {
     "data": {
      "text/plain": [
       "array([ 0.79722939, -0.43938441,  0.8362212 ,  0.29205914,  0.04936395,\n",
       "        0.51019584,  0.79539049, -0.54334281,  0.64778163,  0.31299007,\n",
       "        0.99974192, -0.60940311,  0.06602072,  0.08010246, -0.10646489,\n",
       "        0.44200082, -0.0603264 ,  0.8164146 , -0.07837915, -0.00234398,\n",
       "       -0.26184259,  0.88896598, -0.9869423 ,  0.96874182,  0.90601229,\n",
       "        0.14763863, -0.26559014, -0.488362  , -0.16768284, -0.19818202,\n",
       "       -0.73968027, -0.67163677,  0.33170858,  0.76669064, -0.89503478,\n",
       "        0.81283318, -0.89053552,  0.67444594,  0.2209098 ,  0.78457471,\n",
       "        0.61319746, -0.36822267, -0.38178627,  0.94400312, -0.60795866,\n",
       "       -0.27867266, -0.60342655,  0.7192641 ,  0.88316699,  0.00584803,\n",
       "        0.71556888, -0.19753078,  0.77150339,  0.97757543, -0.61624461,\n",
       "       -0.26943516, -0.19531553,  0.70025088, -0.38789168,  0.69664679,\n",
       "        0.1875441 , -0.97374969, -0.19800092, -0.5068714 , -0.53779873,\n",
       "       -0.72641085,  0.00805535,  0.53909469,  0.01941778,  0.74707629,\n",
       "       -0.47383363, -0.02047688,  0.17515856, -0.43303971, -0.60228193,\n",
       "        0.32443261,  0.51213568, -0.53938628,  0.27860135, -0.96652683,\n",
       "        0.57970636,  0.58729127,  0.39042628,  0.61010886, -0.06539563,\n",
       "       -0.35934438,  0.39522748, -0.83488   ,  0.23404973, -0.86369739,\n",
       "       -0.15096241, -0.65698391, -0.3041468 ,  0.25675592,  0.96831251,\n",
       "        0.43537226,  0.5913474 ,  0.25571509, -0.75898145, -0.12804146])"
      ]
     },
     "execution_count": 56,
     "metadata": {},
     "output_type": "execute_result"
    }
   ],
   "source": [
    "s = np.random.default_rng().uniform(-1,1,100)\n",
    "s"
   ]
  },
  {
   "cell_type": "code",
   "execution_count": 57,
   "id": "94fa0898",
   "metadata": {},
   "outputs": [
    {
     "data": {
      "text/plain": [
       "(array([6., 4., 7., 6., 6., 9., 7., 7., 4., 9., 4., 6., 8., 9., 8.]),\n",
       " array([-0.9869423 , -0.85449668, -0.72205107, -0.58960545, -0.45715984,\n",
       "        -0.32471422, -0.19226861, -0.059823  ,  0.07262262,  0.20506823,\n",
       "         0.33751385,  0.46995946,  0.60240508,  0.73485069,  0.86729631,\n",
       "         0.99974192]),\n",
       " <BarContainer object of 15 artists>)"
      ]
     },
     "execution_count": 57,
     "metadata": {},
     "output_type": "execute_result"
    },
    {
     "data": {
      "image/png": "[encoded data removed]",
      "text/plain": [
       "<Figure size 432x288 with 1 Axes>"
      ]
     },
     "metadata": {
      "needs_background": "light"
     },
     "output_type": "display_data"
    }
   ],
   "source": [
    "plt.hist(s, bins = 15)"
   ]
  },
  {
   "cell_type": "markdown",
   "id": "6ffad763",
   "metadata": {},
   "source": [
    "Running the model 10,000 times provides more accurate results:"
   ]
  },
  {
   "cell_type": "code",
   "execution_count": 58,
   "id": "340e0980",
   "metadata": {},
   "outputs": [
    {
     "data": {
      "text/plain": [
       "(array([632., 670., 650., 660., 716., 603., 674., 726., 675., 673., 632.,\n",
       "        636., 680., 696., 677.]),\n",
       " array([-0.99988906, -0.86657242, -0.73325579, -0.59993915, -0.46662252,\n",
       "        -0.33330588, -0.19998925, -0.06667261,  0.06664402,  0.19996066,\n",
       "         0.33327729,  0.46659393,  0.59991057,  0.7332272 ,  0.86654384,\n",
       "         0.99986047]),\n",
       " <BarContainer object of 15 artists>)"
      ]
     },
     "execution_count": 58,
     "metadata": {},
     "output_type": "execute_result"
    },
    {
     "data": {
      "image/png": "[encoded data removed]",
      "text/plain": [
       "<Figure size 432x288 with 1 Axes>"
      ]
     },
     "metadata": {
      "needs_background": "light"
     },
     "output_type": "display_data"
    }
   ],
   "source": [
    "s = np.random.default_rng().uniform(-1,1,10000)\n",
    "plt.hist(s, bins = 15)"
   ]
  },
  {
   "cell_type": "markdown",
   "id": "be0767c5",
   "metadata": {},
   "source": [
    "The probability denisity function for the uniform distribution shows that any number inside the specified range has a constant probability of being selected (https://www.sharpsightlabs.com/blog/np-random-uniform/):"
   ]
  },
  {
   "cell_type": "code",
   "execution_count": 59,
   "id": "3e4441d9",
   "metadata": {},
   "outputs": [
    {
     "data": {
      "image/png": "[encoded data removed]",
      "text/plain": [
       "<Figure size 432x288 with 1 Axes>"
      ]
     },
     "metadata": {
      "needs_background": "light"
     },
     "output_type": "display_data"
    }
   ],
   "source": [
    "count, bins, ignored = plt.hist(s, 15, density=True)\n",
    "plt.plot(bins, np.ones_like(bins), linewidth=2, color='r')\n",
    "plt.show()"
   ]
  },
  {
   "cell_type": "markdown",
   "id": "558f805f",
   "metadata": {},
   "source": [
    "Any values outside the range have a zero chance of being selected."
   ]
  },
  {
   "cell_type": "markdown",
   "id": "af8a976c",
   "metadata": {},
   "source": [
    "### 4.2. Normal Distribution"
   ]
  },
  {
   "cell_type": "markdown",
   "id": "397b6348",
   "metadata": {},
   "source": [
    "Normal distribution, also known as Gaussian distribution or a Bell Curve, is a common type of probability distribution for independent, randomly generated variables (https://www.britannica.com/topic/normal-distribution). A normal distribution is symmetrical around the central mean value with half of the values to the left of mean , and half to the right (https://www.mathsisfun.com/data/standard-normal-distribution.html), as reflected in the example below (https://numpy.org/doc/stable/reference/random/generated/numpy.random.Generator.normal.html#numpy.random.Generator.normal):"
   ]
  },
  {
   "cell_type": "markdown",
   "id": "79604d51",
   "metadata": {},
   "source": [
    "![numpy.org](https://numpy.org/doc/stable/_images/numpy-random-Generator-normal-1_00_00.png)"
   ]
  },
  {
   "cell_type": "markdown",
   "id": "b0de5134",
   "metadata": {},
   "source": [
    "The y-axis is the Probability Density Function (PDF) which defines the probability distribution for a random variable. In other words, it defines the likehood of an outcome occuring (https://www.investopedia.com/terms/p/pdf.asp). The x-axis is the standard deviation which is an indication of how much the data set deviates from the mean (https://medium.com/fintechexplained/ever-wondered-why-normal-distribution-is-so-important-110a482abee3). The total area under the curve is the total probability of all the values that the variable can take; the total curve area is 100% (https://medium.com/fintechexplained/ever-wondered-why-normal-distribution-is-so-important-110a482abee3) "
   ]
  },
  {
   "cell_type": "markdown",
   "id": "f3d3740f",
   "metadata": {},
   "source": [
    "The formula for normal distribution can be written as:"
   ]
  },
  {
   "cell_type": "markdown",
   "id": "3d882541",
   "metadata": {},
   "source": [
    "![brittania.com](https://www.gstatic.com/education/formulas2/397133473/en/normal_distribution.svg)"
   ]
  },
  {
   "cell_type": "markdown",
   "id": "06195ae4",
   "metadata": {},
   "source": [
    "Where:\n",
    "\n",
    "*f(x)* is the probability density function\n",
    "\n",
    "*μ* (mu) is the mean\n",
    "\n",
    "*σ* (sigma) is the standard deviation"
   ]
  },
  {
   "cell_type": "markdown",
   "id": "7326a7e0",
   "metadata": {},
   "source": [
    "In general:\n",
    "\n",
    "- approximately 68% of values are within 1 standard deviation of the mean\n",
    "- approximately 95% of values are within 2 standard deviations of the mean\n",
    "- approximately 99.7% of values are within 3 standard deviations of the mean\n",
    "(https://www.mathsisfun.com/data/standard-normal-distribution.html)"
   ]
  },
  {
   "cell_type": "markdown",
   "id": "9c586912",
   "metadata": {},
   "source": [
    "Normal distributions appear naturaly; numpy can be used to help predict how the variables might occur in real-world situations and to help understanding the behaviour of the data set. For example, the height of population would closely follow a normal distribution. Numpy can be used to provide data on expected deviations from the mean height of the population. "
   ]
  },
  {
   "cell_type": "markdown",
   "id": "dffcd147",
   "metadata": {},
   "source": [
    "In this example the mean height and standard deviation in metres are defined in the variables mu (μ) and sigma (σ): "
   ]
  },
  {
   "cell_type": "code",
   "execution_count": 60,
   "id": "b06a5dd4",
   "metadata": {},
   "outputs": [],
   "source": [
    "mu, sigma = 1.79, 0.15 "
   ]
  },
  {
   "cell_type": "markdown",
   "id": "537da589",
   "metadata": {},
   "source": [
    "The numpy.random.Generator.normal function is used to generate a number of samples, in this case 1000, in the normal distribution:"
   ]
  },
  {
   "cell_type": "code",
   "execution_count": 61,
   "id": "1fa2db98",
   "metadata": {},
   "outputs": [],
   "source": [
    "s = np.random.default_rng().normal(mu, sigma, 1000)"
   ]
  },
  {
   "cell_type": "markdown",
   "id": "b1743623",
   "metadata": {},
   "source": [
    "A histogram of the distribution is shown below, with height (metres) shown along the x-axis and PDF along the y-axis. In this example, the data is sorted into 30 'bins' which the range of data grouped into these bins."
   ]
  },
  {
   "cell_type": "code",
   "execution_count": 62,
   "id": "b6844be0",
   "metadata": {},
   "outputs": [
    {
     "data": {
      "image/png": "[encoded data removed]",
      "text/plain": [
       "<Figure size 432x288 with 1 Axes>"
      ]
     },
     "metadata": {
      "needs_background": "light"
     },
     "output_type": "display_data"
    }
   ],
   "source": [
    "count, bins, ignored = plt.hist(s, 30)\n",
    "\n",
    "plt.show()"
   ]
  },
  {
   "cell_type": "markdown",
   "id": "4d520b76",
   "metadata": {},
   "source": [
    "A line plot can be produced for the data using the formula for normal distribution:"
   ]
  },
  {
   "cell_type": "code",
   "execution_count": 63,
   "id": "f6c7ce12",
   "metadata": {},
   "outputs": [
    {
     "data": {
      "image/png": "[encoded data removed]",
      "text/plain": [
       "<Figure size 432x288 with 1 Axes>"
      ]
     },
     "metadata": {
      "needs_background": "light"
     },
     "output_type": "display_data"
    }
   ],
   "source": [
    "plt.plot(bins, 1/(sigma * np.sqrt(2 * np.pi)) *\n",
    "\n",
    "               np.exp( - (bins - mu)**2 / (2 * sigma**2) ),\n",
    "\n",
    "         linewidth=2, color='r')\n",
    "plt.show()"
   ]
  },
  {
   "cell_type": "markdown",
   "id": "a6910952",
   "metadata": {},
   "source": [
    "The two plots can be displayed together:"
   ]
  },
  {
   "cell_type": "code",
   "execution_count": 64,
   "id": "06c5f5c3",
   "metadata": {},
   "outputs": [
    {
     "data": {
      "image/png": "[encoded data removed]",
      "text/plain": [
       "<Figure size 432x288 with 1 Axes>"
      ]
     },
     "metadata": {
      "needs_background": "light"
     },
     "output_type": "display_data"
    }
   ],
   "source": [
    "count, bins, ignored = plt.hist(s, 30, density=True)\n",
    "\n",
    "plt.plot(bins, 1/(sigma * np.sqrt(2 * np.pi)) *\n",
    "\n",
    "               np.exp( - (bins - mu)**2 / (2 * sigma**2) ),\n",
    "\n",
    "         linewidth=2, color='r')\n",
    "\n",
    "plt.show()"
   ]
  },
  {
   "cell_type": "markdown",
   "id": "3fec1559",
   "metadata": {},
   "source": [
    "As can be seem, the majority of the values fall around the mean, with fewer values one, two, or three standard deviations from the mean. "
   ]
  },
  {
   "cell_type": "code",
   "execution_count": 65,
   "id": "609744af",
   "metadata": {},
   "outputs": [],
   "source": [
    "#print (bins)"
   ]
  },
  {
   "cell_type": "code",
   "execution_count": 66,
   "id": "713adb99",
   "metadata": {},
   "outputs": [],
   "source": [
    "#np.average(bins)"
   ]
  },
  {
   "cell_type": "markdown",
   "id": "3d553059",
   "metadata": {},
   "source": [
    "### 4.3. Weibull Distribution"
   ]
  },
  {
   "cell_type": "markdown",
   "id": "41abcd63",
   "metadata": {},
   "source": [
    "The Weibull distribution is a probability distribution named after Swedish mathmatician Waloddi Weibull who originally proposed the distribution as a model for material breaking strength. However, the Weibull distribution can also fit a wide range of data from many fields (https://www.statisticshowto.com/weibull-distribution/). "
   ]
  },
  {
   "cell_type": "markdown",
   "id": "e7f9822a",
   "metadata": {},
   "source": [
    "The probability density for the Weibull distribution is: (https://www.homerenergy.com/products/pro/docs/latest/weibull_distribution.html)"
   ]
  },
  {
   "cell_type": "markdown",
   "id": "f6b7118f",
   "metadata": {},
   "source": [
    "![www.homeenergy.com](https://www.homerenergy.com/products/pro/docs/latest/images/equations_weibull-pdf.png)"
   ]
  },
  {
   "cell_type": "markdown",
   "id": "e2125d25",
   "metadata": {},
   "source": [
    "Where:\n",
    "\n",
    "k = the shape parameter\n",
    "\n",
    "c = the scale parameter\n",
    "\n",
    "The shape factor affects the general shape of a distribution; the scale parameter stretches or squeezes a plot (https://www.statisticshowto.com/weibull-distribution/). In numpy, the Weibull function can be used to generate random data in a Weibull distribution. The following example uses a shape parameter of 1 and generates 1000 samples:"
   ]
  },
  {
   "cell_type": "code",
   "execution_count": 67,
   "id": "2fede35d",
   "metadata": {},
   "outputs": [
    {
     "data": {
      "text/plain": [
       "(array([432., 272., 134.,  66.,  53.,  15.,  16.,   6.,   2.,   4.]),\n",
       " array([6.09670539e-04, 5.92983745e-01, 1.18535782e+00, 1.77773189e+00,\n",
       "        2.37010597e+00, 2.96248004e+00, 3.55485412e+00, 4.14722819e+00,\n",
       "        4.73960226e+00, 5.33197634e+00, 5.92435041e+00]),\n",
       " <BarContainer object of 10 artists>)"
      ]
     },
     "execution_count": 67,
     "metadata": {},
     "output_type": "execute_result"
    },
    {
     "data": {
      "image/png": "[encoded data removed]",
      "text/plain": [
       "<Figure size 432x288 with 1 Axes>"
      ]
     },
     "metadata": {
      "needs_background": "light"
     },
     "output_type": "display_data"
    }
   ],
   "source": [
    "k = 1\n",
    "s = rng.weibull(k,1000)\n",
    "plt.hist(s)"
   ]
  },
  {
   "cell_type": "markdown",
   "id": "ff29c0a5",
   "metadata": {},
   "source": [
    "In this second example, a shape factor of 2.5 is used:"
   ]
  },
  {
   "cell_type": "code",
   "execution_count": 68,
   "id": "5ee647eb",
   "metadata": {},
   "outputs": [
    {
     "data": {
      "text/plain": [
       "(array([ 54., 130., 193., 209., 174., 127.,  81.,  23.,   8.,   1.]),\n",
       " array([0.09634932, 0.30790435, 0.51945938, 0.73101441, 0.94256945,\n",
       "        1.15412448, 1.36567951, 1.57723455, 1.78878958, 2.00034461,\n",
       "        2.21189964]),\n",
       " <BarContainer object of 10 artists>)"
      ]
     },
     "execution_count": 68,
     "metadata": {},
     "output_type": "execute_result"
    },
    {
     "data": {
      "image/png": "[encoded data removed]",
      "text/plain": [
       "<Figure size 432x288 with 1 Axes>"
      ]
     },
     "metadata": {
      "needs_background": "light"
     },
     "output_type": "display_data"
    }
   ],
   "source": [
    "k = 2.5\n",
    "s = rng.weibull(k,1000)\n",
    "plt.hist(s)\n"
   ]
  },
  {
   "cell_type": "markdown",
   "id": "dc4a3cc7",
   "metadata": {},
   "source": [
    "And in this third example, a shape factor of 5 is used:"
   ]
  },
  {
   "cell_type": "code",
   "execution_count": 69,
   "id": "fe1fafdc",
   "metadata": {},
   "outputs": [
    {
     "data": {
      "text/plain": [
       "(array([  3.,  14.,  52., 116., 170., 227., 213., 144.,  53.,   8.]),\n",
       " array([0.21384637, 0.33813393, 0.46242149, 0.58670905, 0.71099662,\n",
       "        0.83528418, 0.95957174, 1.08385931, 1.20814687, 1.33243443,\n",
       "        1.456722  ]),\n",
       " <BarContainer object of 10 artists>)"
      ]
     },
     "execution_count": 69,
     "metadata": {},
     "output_type": "execute_result"
    },
    {
     "data": {
      "image/png": "[encoded data removed]",
      "text/plain": [
       "<Figure size 432x288 with 1 Axes>"
      ]
     },
     "metadata": {
      "needs_background": "light"
     },
     "output_type": "display_data"
    }
   ],
   "source": [
    "k = 5\n",
    "s = rng.weibull(k,1000)\n",
    "plt.hist(s)\n"
   ]
  },
  {
   "cell_type": "markdown",
   "id": "8df265b9",
   "metadata": {},
   "source": [
    "As can be seen, the shape factor affects the shape of the data. This can be applied to real-world situations. For example, the Weibull distribution is often used to characterise wind speed regimes, as it has been found to provide a good fit with measured wind data (https://www.homerenergy.com/products/pro/docs/latest/weibull_distribution.html). For example, the Weibull formula can be defined in a function within Python:"
   ]
  },
  {
   "cell_type": "code",
   "execution_count": 70,
   "id": "a16ceffa",
   "metadata": {},
   "outputs": [],
   "source": [
    "def weib(v, c, k):\n",
    "\n",
    " return (k / c) * (v / c)**(k - 1) * np.exp(-(v / c)**k)\n"
   ]
  },
  {
   "cell_type": "markdown",
   "id": "a163aca6",
   "metadata": {},
   "source": [
    "A range of data, representing wind speeds at a certain location from 0 m/s to 25 m/s in 0.25 m/s increments can be generated:"
   ]
  },
  {
   "cell_type": "code",
   "execution_count": 71,
   "id": "33b89098",
   "metadata": {},
   "outputs": [
    {
     "data": {
      "text/plain": [
       "array([ 0.  ,  0.25,  0.5 ,  0.75,  1.  ,  1.25,  1.5 ,  1.75,  2.  ,\n",
       "        2.25,  2.5 ,  2.75,  3.  ,  3.25,  3.5 ,  3.75,  4.  ,  4.25,\n",
       "        4.5 ,  4.75,  5.  ,  5.25,  5.5 ,  5.75,  6.  ,  6.25,  6.5 ,\n",
       "        6.75,  7.  ,  7.25,  7.5 ,  7.75,  8.  ,  8.25,  8.5 ,  8.75,\n",
       "        9.  ,  9.25,  9.5 ,  9.75, 10.  , 10.25, 10.5 , 10.75, 11.  ,\n",
       "       11.25, 11.5 , 11.75, 12.  , 12.25, 12.5 , 12.75, 13.  , 13.25,\n",
       "       13.5 , 13.75, 14.  , 14.25, 14.5 , 14.75, 15.  , 15.25, 15.5 ,\n",
       "       15.75, 16.  , 16.25, 16.5 , 16.75, 17.  , 17.25, 17.5 , 17.75,\n",
       "       18.  , 18.25, 18.5 , 18.75, 19.  , 19.25, 19.5 , 19.75, 20.  ,\n",
       "       20.25, 20.5 , 20.75, 21.  , 21.25, 21.5 , 21.75, 22.  , 22.25,\n",
       "       22.5 , 22.75, 23.  , 23.25, 23.5 , 23.75, 24.  , 24.25, 24.5 ,\n",
       "       24.75, 25.  ])"
      ]
     },
     "execution_count": 71,
     "metadata": {},
     "output_type": "execute_result"
    }
   ],
   "source": [
    "v = np.arange(0,101)/4\n",
    "v"
   ]
  },
  {
   "cell_type": "markdown",
   "id": "6b013358",
   "metadata": {},
   "source": [
    "The probability of a certain wind speed occurring at that particular location can then be represented in a plot. The following plot represents 4 different k parameters:"
   ]
  },
  {
   "cell_type": "code",
   "execution_count": 72,
   "id": "683f9820",
   "metadata": {},
   "outputs": [
    {
     "data": {
      "image/png": "[encoded data removed]",
      "text/plain": [
       "<Figure size 432x288 with 1 Axes>"
      ]
     },
     "metadata": {
      "needs_background": "light"
     },
     "output_type": "display_data"
    }
   ],
   "source": [
    "scale = count.max()/weib(v, 1, 1).max()\n",
    "\n",
    "plt.xlim(0, 15)\n",
    "plt.ylim(0, 1)\n",
    "\n",
    "plt.plot(v, weib(v, 4, 1.5)*scale)\n",
    "plt.plot(v, weib(v, 4, 2)*scale)\n",
    "plt.plot(v, weib(v, 4, 2.5)*scale)\n",
    "plt.plot(v, weib(v, 4, 3)*scale)\n",
    "plt.legend([\"k = 1.5\", \"k = 2\", \"k = 2.5\", \"k = 3\"])\n",
    "plt.xlabel(\"Wind Speed (m/s)\")\n",
    "plt.ylabel(\"PDF\")\n",
    "\n",
    "\n",
    "plt.show()"
   ]
  },
  {
   "cell_type": "markdown",
   "id": "a51ed3ff",
   "metadata": {},
   "source": [
    "A higher value of k, such as 3, indicates a site where the variation of hourly mean wind speed\n",
    "about the annual mean is small; a lower value of k, such as 1.5  indicates greater variability about the mean (reference: Slide)."
   ]
  },
  {
   "cell_type": "markdown",
   "id": "5ea9f5ed",
   "metadata": {},
   "source": [
    "### 4.4. Binomial Distibution"
   ]
  },
  {
   "cell_type": "markdown",
   "id": "9273052f",
   "metadata": {},
   "source": [
    "A Binomial distribution can be thought of as the probability of the success or failure of a certain outcome (https://www.statisticshowto.com/probability-and-statistics/binomial-theorem/binomial-distribution-formula/). The probability density for the binomial distribution is:"
   ]
  },
  {
   "cell_type": "markdown",
   "id": "ea2ee6f1",
   "metadata": {},
   "source": [
    "![gstatic.com](https://www.gstatic.com/education/formulas2/397133473/en/binomial_distribution_formula.svg)"
   ]
  },
  {
   "cell_type": "markdown",
   "id": "5ce0fc3d",
   "metadata": {},
   "source": [
    "Where:\n",
    "\n",
    "n = the number of trials\n",
    "\n",
    "p = the probability of success\n",
    "\n",
    "x = the number of successes"
   ]
  },
  {
   "cell_type": "markdown",
   "id": "4962b90a",
   "metadata": {},
   "source": [
    "An example of the use of binomial distribution is when tossing a coin. The result of a coin toss can either be heads or tails; there is a 50% chance of heads and a 50% chance of tails. "
   ]
  },
  {
   "cell_type": "markdown",
   "id": "03829c98",
   "metadata": {},
   "source": [
    "Using the random number generator, the toss of a single coin can be simulated 100 times, for example:"
   ]
  },
  {
   "cell_type": "code",
   "execution_count": 73,
   "id": "ec18a10f",
   "metadata": {},
   "outputs": [],
   "source": [
    "n = 1\n",
    "p = 0.5  "
   ]
  },
  {
   "cell_type": "code",
   "execution_count": 74,
   "id": "24ccd07f",
   "metadata": {},
   "outputs": [
    {
     "data": {
      "text/plain": [
       "array([0, 0, 0, 1, 0, 0, 0, 0, 1, 0, 1, 0, 1, 1, 0, 1, 0, 1, 0, 0, 1, 1,\n",
       "       0, 0, 0, 1, 0, 0, 1, 0, 1, 0, 1, 1, 0, 0, 0, 1, 0, 1, 0, 0, 1, 0,\n",
       "       1, 0, 0, 1, 0, 1, 1, 0, 0, 1, 0, 1, 0, 1, 1, 0, 1, 1, 1, 1, 0, 0,\n",
       "       1, 0, 0, 0, 1, 0, 0, 1, 0, 1, 1, 1, 1, 1, 1, 0, 1, 0, 0, 1, 0, 0,\n",
       "       0, 1, 0, 0, 0, 0, 1, 0, 1, 0, 0, 0], dtype=int64)"
      ]
     },
     "execution_count": 74,
     "metadata": {},
     "output_type": "execute_result"
    }
   ],
   "source": [
    "s = rng.binomial(n, p, 100)\n",
    "s"
   ]
  },
  {
   "cell_type": "markdown",
   "id": "ab938d0e",
   "metadata": {},
   "source": [
    "A histogram can be plotted showing the results. In this example, 0 represents heads and 1 represents tails."
   ]
  },
  {
   "cell_type": "code",
   "execution_count": 75,
   "id": "41e2390e",
   "metadata": {},
   "outputs": [
    {
     "data": {
      "text/plain": [
       "([<matplotlib.axis.XTick at 0x20dd67f6eb0>,\n",
       "  <matplotlib.axis.XTick at 0x20dd67f6970>],\n",
       " [Text(0, 0, ''), Text(0, 0, '')])"
      ]
     },
     "execution_count": 75,
     "metadata": {},
     "output_type": "execute_result"
    },
    {
     "data": {
      "image/png": "[encoded data removed]",
      "text/plain": [
       "<Figure size 432x288 with 1 Axes>"
      ]
     },
     "metadata": {
      "needs_background": "light"
     },
     "output_type": "display_data"
    }
   ],
   "source": [
    "bins = np.arange(3) - 0.5\n",
    "plt.hist(s, bins)\n",
    "plt.xticks(range(2))"
   ]
  },
  {
   "cell_type": "markdown",
   "id": "09730a28",
   "metadata": {},
   "source": [
    "The number of heads and tails tossed can be calculated, with the total equalling 100 tosses:"
   ]
  },
  {
   "cell_type": "code",
   "execution_count": 76,
   "id": "e580eda7",
   "metadata": {},
   "outputs": [
    {
     "data": {
      "text/plain": [
       "57"
      ]
     },
     "execution_count": 76,
     "metadata": {},
     "output_type": "execute_result"
    }
   ],
   "source": [
    "sum(s == 0)"
   ]
  },
  {
   "cell_type": "code",
   "execution_count": 77,
   "id": "d76c1f18",
   "metadata": {},
   "outputs": [
    {
     "data": {
      "text/plain": [
       "43"
      ]
     },
     "execution_count": 77,
     "metadata": {},
     "output_type": "execute_result"
    }
   ],
   "source": [
    "sum (s == 1)"
   ]
  },
  {
   "cell_type": "markdown",
   "id": "1831bc9c",
   "metadata": {},
   "source": [
    "The binomial distribution function in numpy can also be used to predict the probability of an event occuring. For example, if four individuals have their own standard deck of shuffled playing cards (excluding jokers) each person has a 25% chance of choosing a diamond from the deck, if they pick a single card. Running the function 10,000 times (for example) can provide a model of how many of the four people choose a diamond: "
   ]
  },
  {
   "cell_type": "code",
   "execution_count": 78,
   "id": "226bbb4d",
   "metadata": {},
   "outputs": [],
   "source": [
    "s = rng.binomial(4,0.25,10000)"
   ]
  },
  {
   "cell_type": "markdown",
   "id": "3540e0df",
   "metadata": {},
   "source": [
    "A histogram will provide a graphical representation of how many of the individuals all chose a diamond:"
   ]
  },
  {
   "cell_type": "code",
   "execution_count": 79,
   "id": "19dbaa95",
   "metadata": {},
   "outputs": [
    {
     "data": {
      "text/plain": [
       "([<matplotlib.axis.XTick at 0x20dd601caf0>,\n",
       "  <matplotlib.axis.XTick at 0x20dd601cd60>,\n",
       "  <matplotlib.axis.XTick at 0x20dd601c0a0>,\n",
       "  <matplotlib.axis.XTick at 0x20dd5fb5670>,\n",
       "  <matplotlib.axis.XTick at 0x20dd5fb5370>],\n",
       " [Text(0, 0, ''),\n",
       "  Text(0, 0, ''),\n",
       "  Text(0, 0, ''),\n",
       "  Text(0, 0, ''),\n",
       "  Text(0, 0, '')])"
      ]
     },
     "execution_count": 79,
     "metadata": {},
     "output_type": "execute_result"
    },
    {
     "data": {
      "image/png": "[encoded data removed]",
      "text/plain": [
       "<Figure size 432x288 with 1 Axes>"
      ]
     },
     "metadata": {
      "needs_background": "light"
     },
     "output_type": "display_data"
    }
   ],
   "source": [
    "bins = np.arange(6) - 0.5\n",
    "plt.hist(s, bins)\n",
    "plt.xticks(range(5))"
   ]
  },
  {
   "cell_type": "markdown",
   "id": "f470020d",
   "metadata": {},
   "source": [
    "This shows the there is approximately a 32% chance of no individuals drawing a diamond, a 42% chance of one of the four drawing a diamond, a 21% of two of them, about 5% of three of them, and about 0.3% chance of all four of them drawing a diamond: "
   ]
  },
  {
   "cell_type": "code",
   "execution_count": 80,
   "id": "eed39038",
   "metadata": {},
   "outputs": [
    {
     "name": "stdout",
     "output_type": "stream",
     "text": [
      "32.17 %\n",
      "42.13 %\n",
      "20.82 %\n",
      "4.46 %\n",
      "0.42 %\n"
     ]
    }
   ],
   "source": [
    "a = sum(s == 0)/100\n",
    "b = sum(s == 1)/100\n",
    "c = sum(s == 2)/100\n",
    "d = sum(s == 3)/100\n",
    "e = sum(s == 4)/100\n",
    "print((a),'%')\n",
    "print((b),'%')\n",
    "print((c),'%')\n",
    "print((d),'%')\n",
    "print((e),'%')"
   ]
  },
  {
   "cell_type": "markdown",
   "id": "4d7be9cf",
   "metadata": {},
   "source": [
    "In a similar way, the binomial distribution could be used to predict how many of the four individuals would draw an ace of diamonds, if there was a 1 in 52 chance for each of them:"
   ]
  },
  {
   "cell_type": "code",
   "execution_count": 81,
   "id": "51c66a10",
   "metadata": {},
   "outputs": [
    {
     "data": {
      "text/plain": [
       "([<matplotlib.axis.XTick at 0x20dd6b154f0>,\n",
       "  <matplotlib.axis.XTick at 0x20dd6b154c0>,\n",
       "  <matplotlib.axis.XTick at 0x20dd5fe16a0>,\n",
       "  <matplotlib.axis.XTick at 0x20dd6a87580>,\n",
       "  <matplotlib.axis.XTick at 0x20dd6a87b20>],\n",
       " [Text(0, 0, ''),\n",
       "  Text(0, 0, ''),\n",
       "  Text(0, 0, ''),\n",
       "  Text(0, 0, ''),\n",
       "  Text(0, 0, '')])"
      ]
     },
     "execution_count": 81,
     "metadata": {},
     "output_type": "execute_result"
    },
    {
     "data": {
      "image/png": "[encoded data removed]",
      "text/plain": [
       "<Figure size 432x288 with 1 Axes>"
      ]
     },
     "metadata": {
      "needs_background": "light"
     },
     "output_type": "display_data"
    }
   ],
   "source": [
    "s = rng.binomial(4,1/52,10000)\n",
    "bins = np.arange(6) - 0.5\n",
    "plt.hist(s, bins)\n",
    "plt.xticks(range(5))\n"
   ]
  },
  {
   "cell_type": "code",
   "execution_count": 82,
   "id": "edcc8b96",
   "metadata": {},
   "outputs": [
    {
     "name": "stdout",
     "output_type": "stream",
     "text": [
      "92.7 %\n",
      "7.14 %\n",
      "0.15 %\n",
      "0.01 %\n",
      "0.0 %\n"
     ]
    }
   ],
   "source": [
    "a = sum(s == 0)/100\n",
    "b = sum(s == 1)/100\n",
    "c = sum(s == 2)/100\n",
    "d = sum(s == 3)/100\n",
    "e = sum(s == 4)/100\n",
    "print((a),'%')\n",
    "print((b),'%')\n",
    "print((c),'%')\n",
    "print((d),'%')\n",
    "print((e),'%')"
   ]
  },
  {
   "cell_type": "markdown",
   "id": "18d6855d",
   "metadata": {},
   "source": [
    "### 4.5. Multinomial Distribution"
   ]
  },
  {
   "cell_type": "markdown",
   "id": "3d097a67",
   "metadata": {},
   "source": [
    "The multinomial distribution arises from an extension of the binomial distribution and is used to find probabilities in experiments where there are more than two outcomes (https://online.stat.psu.edu/stat504/lesson/1/1.7) . Multinomial experiements consist of repeated trials (e.g. rolling a die multiple times instead of just once) and each trial must be independent of the others (i.e. the outcome of a the roll of of die does not affect the others) (https://www.statisticshowto.com/multinomial-distribution/). "
   ]
  },
  {
   "cell_type": "markdown",
   "id": "e31bf539",
   "metadata": {},
   "source": [
    "![statisticshow.com](https://www.statisticshowto.com/wp-content/uploads/2015/05/multinomial-formula-2.png)\n",
    "\n",
    "(https://www.statisticshowto.com/multinomial-distribution/)"
   ]
  },
  {
   "cell_type": "markdown",
   "id": "7f8e9a16",
   "metadata": {},
   "source": [
    "Where: \n",
    "    \n",
    "n = number of events \n",
    "\n",
    "n<sub>1</sub> = number of outcomes, event 1\n",
    "\n",
    "n<sub>2</sub> = number of outcomes, event 2\n",
    "\n",
    "n<sub>x</sub> = number of outcomes, event 2\n",
    "\n",
    "p<sub>1</sub> = probability event 1 happens\n",
    "\n",
    "p<sub>2</sub> = probability event 2 happens\n",
    "\n",
    "p<sub>x</sub> = probability event x happens\n",
    "\n"
   ]
  },
  {
   "cell_type": "markdown",
   "id": "5aa4d734",
   "metadata": {},
   "source": [
    "An example of multinomial distribution is in modelling how many times a card of each of the four suits in a standard deck of 52 playing cards is drawn:"
   ]
  },
  {
   "cell_type": "code",
   "execution_count": 83,
   "id": "5669007f",
   "metadata": {},
   "outputs": [
    {
     "data": {
      "text/plain": [
       "array([[5090, 5033, 4916, 4961]], dtype=int64)"
      ]
     },
     "execution_count": 83,
     "metadata": {},
     "output_type": "execute_result"
    }
   ],
   "source": [
    "s = rng.multinomial(20000, [1/4]*4, size=1)\n",
    "s"
   ]
  },
  {
   "cell_type": "markdown",
   "id": "098b39e7",
   "metadata": {},
   "source": [
    "In the above example, which is run 20,000 times, it can be seen that: "
   ]
  },
  {
   "cell_type": "code",
   "execution_count": 84,
   "id": "802b8883",
   "metadata": {},
   "outputs": [
    {
     "name": "stdout",
     "output_type": "stream",
     "text": [
      "A card from the first suit (e.g. diamonds) was drawn 5090 times.\n",
      "A card from the first suit (e.g. hearts) was drawn 5033 times.\n",
      "A card from the first suit (e.g. clubs) was drawn 4916 times.\n",
      "A card from the first suit (e.g. spades) was drawn 4961 times.\n",
      "A total of 20000 cards were drawn.\n",
      "The mean is 5000.0.\n"
     ]
    }
   ],
   "source": [
    "print (\"A card from the first suit (e.g. diamonds) was drawn {} times.\".format(s[0, 0]))\n",
    "print (\"A card from the first suit (e.g. hearts) was drawn {} times.\".format(s[0, 1]))\n",
    "print (\"A card from the first suit (e.g. clubs) was drawn {} times.\".format(s[0, 2]))\n",
    "print (\"A card from the first suit (e.g. spades) was drawn {} times.\".format(s[0, 3]))\n",
    "print (\"A total of {} cards were drawn.\".format(np.sum(s)))\n",
    "print (\"The mean is {}.\".format(np.average(s)))"
   ]
  },
  {
   "cell_type": "markdown",
   "id": "e2bf94f8",
   "metadata": {},
   "source": [
    "The number of times the experiment is performed can be set using the size parameter. For example, to run the above experiment five times:"
   ]
  },
  {
   "cell_type": "code",
   "execution_count": 85,
   "id": "58c56b4f",
   "metadata": {},
   "outputs": [
    {
     "data": {
      "text/plain": [
       "array([[4937, 4921, 5041, 5101],\n",
       "       [4962, 4969, 5092, 4977],\n",
       "       [5039, 4912, 5054, 4995],\n",
       "       [4898, 5010, 5023, 5069],\n",
       "       [5077, 5006, 4964, 4953]], dtype=int64)"
      ]
     },
     "execution_count": 85,
     "metadata": {},
     "output_type": "execute_result"
    }
   ],
   "source": [
    "rng.multinomial(20000, [1/4]*4, size=5)"
   ]
  },
  {
   "cell_type": "markdown",
   "id": "4975a8c3",
   "metadata": {},
   "source": [
    "Bias can also be taken into account. For example, the results of an experiment to model how many times each of the 52 cards in a standard shuffled deck of playing cards is drawn at random are shown below:"
   ]
  },
  {
   "cell_type": "code",
   "execution_count": 86,
   "id": "9f1d3fb5",
   "metadata": {},
   "outputs": [
    {
     "data": {
      "text/plain": [
       "array([[389, 371, 361, 384, 408, 350, 368, 366, 391, 389, 420, 376, 392,\n",
       "        373, 426, 402, 388, 390, 378, 404, 385, 412, 387, 395, 388, 398,\n",
       "        362, 396, 378, 362, 394, 368, 390, 385, 404, 379, 358, 369, 379,\n",
       "        375, 384, 398, 372, 373, 374, 401, 398, 392, 384, 383, 361, 390]],\n",
       "      dtype=int64)"
      ]
     },
     "execution_count": 86,
     "metadata": {},
     "output_type": "execute_result"
    }
   ],
   "source": [
    "x = rng.multinomial(20000, [1/52]*52, size=1)\n",
    "x"
   ]
  },
  {
   "cell_type": "code",
   "execution_count": 87,
   "id": "30e7b685",
   "metadata": {},
   "outputs": [
    {
     "name": "stdout",
     "output_type": "stream",
     "text": [
      "As can be seen, there are 52 results with each card being drawn between 350 and 426 times\n"
     ]
    }
   ],
   "source": [
    "a = np.ndarray.min(x)\n",
    "b = np.ndarray.max(x)\n",
    "c = x.size\n",
    "print (\"As can be seen, there are {} results with each card being drawn between {} and {} times\".format(c,a,b))"
   ]
  },
  {
   "cell_type": "markdown",
   "id": "bd238279",
   "metadata": {},
   "source": [
    "In a standard shuffled deck of playing cards including two jokers, there is a 1 in 54 chance of choosing any individual card. However, as there are two jokers, the chances of choosing a joker is greater than any other individual card:"
   ]
  },
  {
   "cell_type": "code",
   "execution_count": 88,
   "id": "ec4a3342",
   "metadata": {},
   "outputs": [
    {
     "data": {
      "text/plain": [
       "array([[371, 383, 384, 386, 381, 405, 402, 331, 374, 344, 326, 374, 384,\n",
       "        390, 401, 350, 391, 392, 384, 411, 375, 365, 360, 349, 359, 373,\n",
       "        379, 400, 386, 370, 337, 381, 352, 371, 370, 348, 348, 367, 358,\n",
       "        356, 307, 356, 368, 386, 376, 369, 359, 357, 369, 396, 368, 375,\n",
       "        746]], dtype=int64)"
      ]
     },
     "execution_count": 88,
     "metadata": {},
     "output_type": "execute_result"
    }
   ],
   "source": [
    "x = rng.multinomial(20000, [1/54]*53, size=1)\n",
    "x"
   ]
  },
  {
   "cell_type": "code",
   "execution_count": 89,
   "id": "013b1410",
   "metadata": {},
   "outputs": [
    {
     "name": "stdout",
     "output_type": "stream",
     "text": [
      "As can be seen, there are 53 results with each of the 52 suited cards being drawn between 307 and 411 times. \n",
      "However, a joker was drawn 746 times. \n"
     ]
    }
   ],
   "source": [
    "y = x[0,:52]\n",
    "z = x[0,52]\n",
    "a = np.ndarray.min(y)\n",
    "b = np.ndarray.max(y)\n",
    "c = x.size\n",
    "d = y.size\n",
    "print (\"As can be seen, there are {} results with each of the {} suited cards being drawn between {} and {} times. \".format(c,d,a,b))\n",
    "print (\"However, a joker was drawn {} times. \".format(z))\n"
   ]
  },
  {
   "cell_type": "markdown",
   "id": "488bff0c",
   "metadata": {},
   "source": [
    "## 5. Seeds"
   ]
  },
  {
   "cell_type": "markdown",
   "id": "73d92da6",
   "metadata": {},
   "source": [
    "```numpy.random``` uses a seed to derive the initial state with a sequence of statistcally random numbers generated from this known starting point; the use of a known seed means that the the algorithm is repeatable. \n",
    "\n",
    "Therefore, the numbers generated are not completely random and are known as \"pseudo-random numbers\"."
   ]
  },
  {
   "cell_type": "markdown",
   "id": "455d416b",
   "metadata": {},
   "source": [
    "## 6. Conclusion"
   ]
  },
  {
   "cell_type": "code",
   "execution_count": null,
   "id": "4c0efc7a",
   "metadata": {},
   "outputs": [],
   "source": []
  },
  {
   "cell_type": "code",
   "execution_count": null,
   "id": "9a60b755",
   "metadata": {},
   "outputs": [],
   "source": []
  }
 ],
 "metadata": {
  "kernelspec": {
   "display_name": "Python 3 (ipykernel)",
   "language": "python",
   "name": "python3"
  },
  "language_info": {
   "codemirror_mode": {
    "name": "ipython",
    "version": 3
   },
   "file_extension": ".py",
   "mimetype": "text/x-python",
   "name": "python",
   "nbconvert_exporter": "python",
   "pygments_lexer": "ipython3",
   "version": "3.8.11"
  }
 },
 "nbformat": 4,
 "nbformat_minor": 5
}
