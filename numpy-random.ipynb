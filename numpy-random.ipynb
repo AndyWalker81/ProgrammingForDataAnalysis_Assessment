{
 "cells": [
  {
   "cell_type": "markdown",
   "id": "874f72ad",
   "metadata": {},
   "source": [
    "# The numpy.random package "
   ]
  },
  {
   "cell_type": "markdown",
   "id": "6df241a1",
   "metadata": {},
   "source": [
    "## Programming for Data Analysis Assignment"
   ]
  },
  {
   "cell_type": "markdown",
   "id": "b754a200",
   "metadata": {},
   "source": [
    "### Andrew Walker - G00398788@gmit.ie"
   ]
  },
  {
   "cell_type": "markdown",
   "id": "b1bbe76a",
   "metadata": {},
   "source": [
    "![numpy.org](https://numpy.org/doc/stable/_static/numpylogo.svg)"
   ]
  },
  {
   "cell_type": "markdown",
   "id": "57f89fd9",
   "metadata": {},
   "source": [
    "## 1. Introduction"
   ]
  },
  {
   "cell_type": "markdown",
   "id": "d86aa1be",
   "metadata": {},
   "source": [
    "This notebook contains an explanation of the ```numpy.random``` package in Python. "
   ]
  },
  {
   "cell_type": "markdown",
   "id": "acdf6ba1",
   "metadata": {},
   "source": [
    "NumPy is an open source project aiming to enable numerical computing with Python (https://numpy.org/about/). It is used for working with arrays and also has functions for working in the domain of linear algebra, fourier transform, and matrices (https://www.w3schools.com/python/numpy/numpy_intro.asp). In has applications in a wide range of fields such as astronomy, physics, engineering, and economics. "
   ]
  },
  {
   "cell_type": "markdown",
   "id": "a8e63aa5",
   "metadata": {},
   "source": [
    "The ```numpy.random``` package within NumPy is used to generate a sequence of numbers which approximate the properties of random numbers. The sequence of numbers that is generated is statistically random and can be used in a wide range of applications.    "
   ]
  },
  {
   "cell_type": "markdown",
   "id": "668e8dc3",
   "metadata": {},
   "source": [
    "The package generates the sequence with the use of a BitGenerator and a Generator. The BitGenerator uses a seed to derive the initial state and create a sequence of statistically random numbers bits. The Generator converts the sequence of random bits for a BitGenerator into sequences of numbers that follow a specific probability distribution (https://numpy.org/doc/stable/reference/random/index.html). "
   ]
  },
  {
   "cell_type": "markdown",
   "id": "99221eb4",
   "metadata": {},
   "source": [
    "This notebook will explain the following overarching features of the ```numpy.random``` package:\n",
    "\n",
    "- Simple random data\n",
    "- Permutations\n",
    "- The purpose of five Distribution functions\n",
    "    - Uniform\n",
    "    - Bell\n",
    "    - ....\n",
    "    - ....\n",
    "    - ....\n",
    "- The use of seeds in generating pseudo-random numbers"
   ]
  },
  {
   "cell_type": "markdown",
   "id": "30b44469",
   "metadata": {},
   "source": [
    "The notebook will explain each feature and the functions contained in each. It will use ........ "
   ]
  },
  {
   "cell_type": "markdown",
   "id": "18d0cf8b",
   "metadata": {},
   "source": [
    "```matplotlib.pyplot``` will also be used....."
   ]
  },
  {
   "cell_type": "markdown",
   "id": "f5707cb3",
   "metadata": {},
   "source": [
    "At the time of writing this notebook, the latest release of ```numpy.random``` is 1.21.0. This contents of this notebook are based on this release."
   ]
  },
  {
   "cell_type": "markdown",
   "id": "4e361ae5",
   "metadata": {},
   "source": [
    "## 2. Initalising the ```numpy.random``` Package"
   ]
  },
  {
   "cell_type": "markdown",
   "id": "f14bbb9c",
   "metadata": {},
   "source": [
    "Import Numpy:"
   ]
  },
  {
   "cell_type": "code",
   "execution_count": 1,
   "id": "2c430dc6",
   "metadata": {},
   "outputs": [],
   "source": [
    "import numpy as np"
   ]
  },
  {
   "cell_type": "markdown",
   "id": "d4e56e16",
   "metadata": {},
   "source": [
    "Construct a new Generator with the default BitGenerator (PCG64): "
   ]
  },
  {
   "cell_type": "code",
   "execution_count": 2,
   "id": "db98f501",
   "metadata": {},
   "outputs": [],
   "source": [
    "rng = np.random.default_rng()"
   ]
  },
  {
   "cell_type": "markdown",
   "id": "c23f3174",
   "metadata": {},
   "source": [
    "A seed can be specified in ```default_rng```. The use of a known seed means that the the algorithm is repeatable. BitGenerators and seeds are discussed further in Section XXXXXX"
   ]
  },
  {
   "cell_type": "markdown",
   "id": "b573f3a3",
   "metadata": {},
   "source": [
    "Pyplot will also be used to allow plotting of outputs generated:"
   ]
  },
  {
   "cell_type": "code",
   "execution_count": 3,
   "id": "9510f085",
   "metadata": {},
   "outputs": [],
   "source": [
    "import matplotlib.pyplot as plt"
   ]
  },
  {
   "cell_type": "markdown",
   "id": "dfbf28d2",
   "metadata": {},
   "source": [
    "## 3. Simple Random Data"
   ]
  },
  {
   "cell_type": "markdown",
   "id": "bcae83ee",
   "metadata": {},
   "source": [
    "The ```numpy.random``` package contains four functions to generate simple random data. These are discussed in this section."
   ]
  },
  {
   "cell_type": "markdown",
   "id": "4ae05e21",
   "metadata": {},
   "source": [
    "### 3.1 Integers\n"
   ]
  },
  {
   "cell_type": "markdown",
   "id": "c67e06bb",
   "metadata": {},
   "source": [
    "Numpy can be instructed to return random integers. For example:"
   ]
  },
  {
   "cell_type": "code",
   "execution_count": 4,
   "id": "7251769b",
   "metadata": {},
   "outputs": [
    {
     "data": {
      "text/plain": [
       "array([2, 2, 2, 0, 2], dtype=int64)"
      ]
     },
     "execution_count": 4,
     "metadata": {},
     "output_type": "execute_result"
    }
   ],
   "source": [
    "rng.integers(0, 3, size=5)"
   ]
  },
  {
   "cell_type": "markdown",
   "id": "86865012",
   "metadata": {},
   "source": [
    "In this example, the first parameter (```0```) sets the lowest integer that is possible to be generated. The upper limit is defined by the second parameter (```3```); the highest integer that is possible to be generated is one lower than this number. The parameter ```size=5``` designates that 5 random numbers should be generated.  "
   ]
  },
  {
   "cell_type": "markdown",
   "id": "7d2bc477",
   "metadata": {},
   "source": [
    "The shape of the output can be changed by specifying the number of rows and columns. For example, a 5 x 5 array containing random numbers between 0 and 9 can be generated using the following:"
   ]
  },
  {
   "cell_type": "code",
   "execution_count": 5,
   "id": "87285c10",
   "metadata": {},
   "outputs": [
    {
     "data": {
      "text/plain": [
       "array([[1, 4, 1, 6, 4],\n",
       "       [4, 8, 0, 6, 8],\n",
       "       [6, 4, 5, 7, 9],\n",
       "       [4, 0, 8, 2, 5],\n",
       "       [0, 4, 7, 7, 4]], dtype=int64)"
      ]
     },
     "execution_count": 5,
     "metadata": {},
     "output_type": "execute_result"
    }
   ],
   "source": [
    "rng.integers(0, 10, size=(5,5))\n"
   ]
  },
  {
   "cell_type": "markdown",
   "id": "6b283ce1",
   "metadata": {},
   "source": [
    "In these examples, the output also includes the data type: ```dtype=int64```. By default, Python has the following data types:\n",
    "\n",
    "- strings\n",
    "- integer\n",
    "- float\n",
    "- boolean\n",
    "- complex\n",
    "\n",
    "NumPy also includes a number of additional data types (discussion of which is considered outside the scope of this notebook). \n",
    "\n",
    "```dtype=int64``` refers to the output containing 64-bit integers. This can be changed, as shown in the following example to output 8-bit integers:"
   ]
  },
  {
   "cell_type": "code",
   "execution_count": 6,
   "id": "1e0a152c",
   "metadata": {},
   "outputs": [
    {
     "data": {
      "text/plain": [
       "array([[2, 7, 6, 6, 0],\n",
       "       [3, 0, 0, 9, 6],\n",
       "       [0, 1, 7, 0, 0],\n",
       "       [4, 6, 3, 7, 5],\n",
       "       [5, 0, 1, 1, 7]], dtype=int8)"
      ]
     },
     "execution_count": 6,
     "metadata": {},
     "output_type": "execute_result"
    }
   ],
   "source": [
    "rng.integers(0, 10, size=(5,5), dtype='int8')"
   ]
  },
  {
   "cell_type": "markdown",
   "id": "60868e2d",
   "metadata": {},
   "source": [
    "The integers are generated by default as a discrete probability distribution. This means that the probability of outcomes is equally likely and with finite values (https://corporatefinanceinstitute.com/resources/knowledge/other/uniform-distribution/). "
   ]
  },
  {
   "cell_type": "code",
   "execution_count": 7,
   "id": "8f73fb0f",
   "metadata": {},
   "outputs": [
    {
     "data": {
      "image/png": "[encoded data removed]",
      "text/plain": [
       "<Figure size 432x288 with 1 Axes>"
      ]
     },
     "metadata": {
      "needs_background": "light"
     },
     "output_type": "display_data"
    }
   ],
   "source": [
    "x = rng.integers(100, size=10000)\n",
    "plt.hist(x)\n",
    "plt.show()"
   ]
  },
  {
   "cell_type": "markdown",
   "id": "54710501",
   "metadata": {},
   "source": [
    "### 2.2 Random"
   ]
  },
  {
   "cell_type": "markdown",
   "id": "bc704e6d",
   "metadata": {},
   "source": [
    "The Numpy random function returns random floats. For example:"
   ]
  },
  {
   "cell_type": "code",
   "execution_count": 8,
   "id": "a12de2c3",
   "metadata": {},
   "outputs": [
    {
     "data": {
      "text/plain": [
       "0.3281337082636673"
      ]
     },
     "execution_count": 8,
     "metadata": {},
     "output_type": "execute_result"
    }
   ],
   "source": [
    "rng.random()"
   ]
  },
  {
   "cell_type": "markdown",
   "id": "9e5e2869",
   "metadata": {},
   "source": [
    "The size of output can be specified:"
   ]
  },
  {
   "cell_type": "code",
   "execution_count": 9,
   "id": "5c2aaf9b",
   "metadata": {
    "scrolled": true
   },
   "outputs": [
    {
     "data": {
      "text/plain": [
       "array([[0.67932966, 0.6653494 , 0.87795721, 0.03992248, 0.42414688],\n",
       "       [0.53551555, 0.80184214, 0.90433478, 0.7817207 , 0.63368147],\n",
       "       [0.77724709, 0.17888109, 0.50974751, 0.20056832, 0.09156036],\n",
       "       [0.1943274 , 0.31168006, 0.07063402, 0.97367819, 0.09806466],\n",
       "       [0.2866627 , 0.32098092, 0.50423246, 0.00369444, 0.12393447]])"
      ]
     },
     "execution_count": 9,
     "metadata": {},
     "output_type": "execute_result"
    }
   ],
   "source": [
    "rng.random(size=(5,5))"
   ]
  },
  {
   "cell_type": "markdown",
   "id": "5c36df4d",
   "metadata": {},
   "source": [
    "To specify the low and high values the formula ```(b + a) * rng.random() + a``` can be used. The following example outputs five floats between 0 (inclusive) and 3 (exclusive):"
   ]
  },
  {
   "cell_type": "code",
   "execution_count": 10,
   "id": "dde5e83b",
   "metadata": {},
   "outputs": [
    {
     "data": {
      "text/plain": [
       "array([[1.49714605, 2.46800506, 2.61485517, 2.06680894, 1.87491049],\n",
       "       [1.46309677, 2.90363951, 1.56323067, 1.90625182, 0.11372954],\n",
       "       [0.29655355, 1.18976919, 2.79125183, 2.28999242, 0.51375509],\n",
       "       [1.58565928, 0.97257362, 2.28470827, 0.33212987, 0.45436334],\n",
       "       [2.48280368, 0.12461309, 1.30119463, 0.93189028, 2.80738794]])"
      ]
     },
     "execution_count": 10,
     "metadata": {},
     "output_type": "execute_result"
    }
   ],
   "source": [
    "a = 0 #low value\n",
    "b = 3 #high value\n",
    "x = rng.random(size=(5,5)) \n",
    "y = (b + a) * x + a\n",
    "y"
   ]
  },
  {
   "cell_type": "markdown",
   "id": "1c8282f9",
   "metadata": {},
   "source": [
    "Or for negative numbers between 0 (inclusive) and -1 (exclusive):"
   ]
  },
  {
   "cell_type": "code",
   "execution_count": 11,
   "id": "ea469ed7",
   "metadata": {},
   "outputs": [
    {
     "data": {
      "text/plain": [
       "array([[-0.48336013, -0.39690325, -0.37942144, -0.2017011 , -0.08061538],\n",
       "       [-0.34932244, -0.94291135, -0.10203101, -0.15326688, -0.55099259],\n",
       "       [-0.14424703, -0.95133479, -0.24761525, -0.33694561, -0.23806264],\n",
       "       [-0.63295835, -0.21879421, -0.26974113, -0.88359783, -0.70469286],\n",
       "       [-0.96880545, -0.589067  , -0.27957655, -0.63667203, -0.85273842]])"
      ]
     },
     "execution_count": 11,
     "metadata": {},
     "output_type": "execute_result"
    }
   ],
   "source": [
    "a = 0 \n",
    "b = -1 \n",
    "x = rng.random(size=(5,5)) \n",
    "y = (b + a) * x + a\n",
    "y"
   ]
  },
  {
   "cell_type": "markdown",
   "id": "3e1cb2c4",
   "metadata": {},
   "source": [
    "However, for negative numbers not including 0, the formula must be changed slightly. For example, for negative numbers between -1 (inclusive) and -2 (exclusive):"
   ]
  },
  {
   "cell_type": "code",
   "execution_count": 12,
   "id": "e0fc63bc",
   "metadata": {},
   "outputs": [
    {
     "data": {
      "text/plain": [
       "array([[-1.59122993, -1.05844989, -1.12902892, -1.46913554, -1.14945234],\n",
       "       [-1.9955911 , -1.96621291, -1.1373719 , -1.03073033, -1.25709062],\n",
       "       [-1.83024451, -1.96453825, -1.63588528, -1.30019716, -1.86437765],\n",
       "       [-1.68871297, -1.48840223, -1.40944353, -1.81346918, -1.56564531],\n",
       "       [-1.73938729, -1.35434953, -1.69929932, -1.37569983, -1.61231661]])"
      ]
     },
     "execution_count": 12,
     "metadata": {},
     "output_type": "execute_result"
    }
   ],
   "source": [
    "a = -1 \n",
    "b = -2 \n",
    "x = rng.random(size=(5,5))  \n",
    "y = (b - a) * x + a\n",
    "y"
   ]
  },
  {
   "cell_type": "markdown",
   "id": "0457ae35",
   "metadata": {},
   "source": [
    "The floats are generated by default as a continuous probability distribution. This means that there are infinite number of equally likely measurable values. (https://corporatefinanceinstitute.com/resources/knowledge/other/uniform-distribution/). "
   ]
  },
  {
   "cell_type": "code",
   "execution_count": 13,
   "id": "0fab7b01",
   "metadata": {},
   "outputs": [
    {
     "data": {
      "text/plain": [
       "<function matplotlib.pyplot.show(close=None, block=None)>"
      ]
     },
     "execution_count": 13,
     "metadata": {},
     "output_type": "execute_result"
    },
    {
     "data": {
      "image/png": "[encoded data removed]",
      "text/plain": [
       "<Figure size 432x288 with 1 Axes>"
      ]
     },
     "metadata": {
      "needs_background": "light"
     },
     "output_type": "display_data"
    }
   ],
   "source": [
    "x = rng.random(size=10000)\n",
    "plt.hist(x)\n",
    "plt.show"
   ]
  },
  {
   "cell_type": "markdown",
   "id": "46a82682",
   "metadata": {},
   "source": [
    "### 2.3 Choice"
   ]
  },
  {
   "cell_type": "markdown",
   "id": "1f8cda7a",
   "metadata": {},
   "source": [
    "The Numpy choice function generates a random sample from a given array. For example:"
   ]
  },
  {
   "cell_type": "code",
   "execution_count": 14,
   "id": "31166edc",
   "metadata": {},
   "outputs": [
    {
     "data": {
      "text/plain": [
       "array([4, 0, 8, 5, 5], dtype=int64)"
      ]
     },
     "execution_count": 14,
     "metadata": {},
     "output_type": "execute_result"
    }
   ],
   "source": [
    "rng.choice(10, 5)"
   ]
  },
  {
   "cell_type": "markdown",
   "id": "30a28ada",
   "metadata": {},
   "source": [
    "This returns an array of 5 integers between 0 and 9 (inclusive) and is the equivalent of ```rng.integers(0, 10, 5)```."
   ]
  },
  {
   "cell_type": "markdown",
   "id": "e3bfedd7",
   "metadata": {},
   "source": [
    "By default, the distribution is uniform, as shown below:"
   ]
  },
  {
   "cell_type": "code",
   "execution_count": 15,
   "id": "a40f960e",
   "metadata": {},
   "outputs": [
    {
     "data": {
      "image/png": "[encoded data removed]",
      "text/plain": [
       "<Figure size 432x288 with 1 Axes>"
      ]
     },
     "metadata": {
      "needs_background": "light"
     },
     "output_type": "display_data"
    }
   ],
   "source": [
    "x = rng.choice(100, 10000)\n",
    "plt.hist(x)\n",
    "plt.show()"
   ]
  },
  {
   "cell_type": "markdown",
   "id": "dfb7c6eb",
   "metadata": {},
   "source": [
    "A non-uniform distribution can be generated by specifying parameter ```p``` for the probabilty of a choice occuring. For example:"
   ]
  },
  {
   "cell_type": "code",
   "execution_count": 16,
   "id": "ff4ba34b",
   "metadata": {},
   "outputs": [
    {
     "data": {
      "text/plain": [
       "array([3, 3, 2], dtype=int64)"
      ]
     },
     "execution_count": 16,
     "metadata": {},
     "output_type": "execute_result"
    }
   ],
   "source": [
    "rng.choice(5, 3, p=[0.1, 0, 0.3, 0.6, 0])"
   ]
  },
  {
   "cell_type": "markdown",
   "id": "230c170c",
   "metadata": {},
   "source": [
    "In this example, there is a 10% chance of 0 occuring for any the three numbers generated, a 0% percentage chance for a 1, a 30% chance for a 2, a 60% chance for a 3, and a 0% chance for a 4. "
   ]
  },
  {
   "cell_type": "markdown",
   "id": "3de7deac",
   "metadata": {},
   "source": [
    "Specifying parameter ```replace=False``` will result in an individual number not occurring more than once in the output:"
   ]
  },
  {
   "cell_type": "code",
   "execution_count": 17,
   "id": "b099d6da",
   "metadata": {},
   "outputs": [
    {
     "data": {
      "text/plain": [
       "array([8, 7, 6, 9, 5, 4, 0, 1, 3, 2], dtype=int64)"
      ]
     },
     "execution_count": 17,
     "metadata": {},
     "output_type": "execute_result"
    }
   ],
   "source": [
    "rng.choice(10, 10, replace=False)"
   ]
  },
  {
   "cell_type": "markdown",
   "id": "e4c85779",
   "metadata": {},
   "source": [
    "The axis along which the choice is performed can also be selected. The 0 axis refers to rows, and the 1 axis refers to columns (https://www.sharpsightlabs.com/blog/numpy-axes-explained/). The default is 0 is this parameter is not set. For example: "
   ]
  },
  {
   "cell_type": "code",
   "execution_count": 18,
   "id": "3b148e84",
   "metadata": {},
   "outputs": [
    {
     "data": {
      "text/plain": [
       "array([[0, 1, 2]])"
      ]
     },
     "execution_count": 18,
     "metadata": {},
     "output_type": "execute_result"
    }
   ],
   "source": [
    "x = rng.choice([[0,1,2], [3,4,5], [6,7,8]], 1, axis=0)\n",
    "x"
   ]
  },
  {
   "cell_type": "markdown",
   "id": "ae5721c9",
   "metadata": {},
   "source": [
    "The above output is a single row consiting of one-dimension with three elements: "
   ]
  },
  {
   "cell_type": "code",
   "execution_count": 19,
   "id": "3eb18c1f",
   "metadata": {},
   "outputs": [
    {
     "data": {
      "text/plain": [
       "(1, 3)"
      ]
     },
     "execution_count": 19,
     "metadata": {},
     "output_type": "execute_result"
    }
   ],
   "source": [
    "(x.shape)"
   ]
  },
  {
   "cell_type": "markdown",
   "id": "9af2a897",
   "metadata": {},
   "source": [
    "Setting the axis to 1:"
   ]
  },
  {
   "cell_type": "code",
   "execution_count": 20,
   "id": "bea52740",
   "metadata": {},
   "outputs": [
    {
     "data": {
      "text/plain": [
       "array([[2],\n",
       "       [5],\n",
       "       [8]])"
      ]
     },
     "execution_count": 20,
     "metadata": {},
     "output_type": "execute_result"
    }
   ],
   "source": [
    "x = rng.choice([[0,1,2], [3,4,5], [6,7,8]], 1, axis=1)\n",
    "x"
   ]
  },
  {
   "cell_type": "markdown",
   "id": "2fc00c66",
   "metadata": {},
   "source": [
    "The above output is one selection from each column and consists of three-dimensions each with one element:"
   ]
  },
  {
   "cell_type": "code",
   "execution_count": 21,
   "id": "68a07557",
   "metadata": {},
   "outputs": [
    {
     "data": {
      "text/plain": [
       "(3, 1)"
      ]
     },
     "execution_count": 21,
     "metadata": {},
     "output_type": "execute_result"
    }
   ],
   "source": [
    "(x.shape)"
   ]
  },
  {
   "cell_type": "markdown",
   "id": "3423d39f",
   "metadata": {},
   "source": [
    "The choice function is not restricted to integers. For example:"
   ]
  },
  {
   "cell_type": "code",
   "execution_count": 22,
   "id": "5727ea24",
   "metadata": {},
   "outputs": [
    {
     "data": {
      "text/plain": [
       "array(['spring', 'winter', 'winter', 'spring'], dtype='<U6')"
      ]
     },
     "execution_count": 22,
     "metadata": {},
     "output_type": "execute_result"
    }
   ],
   "source": [
    "season = ['spring', 'summer', 'autumn', 'winter']\n",
    "rng.choice(season, 4, p=[0.5, 0, 0, 0.5])"
   ]
  },
  {
   "cell_type": "code",
   "execution_count": null,
   "id": "6c6f10e2",
   "metadata": {},
   "outputs": [],
   "source": []
  },
  {
   "cell_type": "code",
   "execution_count": null,
   "id": "e05b4b4e",
   "metadata": {},
   "outputs": [],
   "source": []
  },
  {
   "cell_type": "code",
   "execution_count": null,
   "id": "aee70751",
   "metadata": {},
   "outputs": [],
   "source": []
  },
  {
   "cell_type": "markdown",
   "id": "dd942e59",
   "metadata": {},
   "source": [
    "### 2.4 Bytes"
   ]
  },
  {
   "cell_type": "code",
   "execution_count": null,
   "id": "8b5bfd02",
   "metadata": {},
   "outputs": [],
   "source": []
  },
  {
   "cell_type": "markdown",
   "id": "c2181e8c",
   "metadata": {},
   "source": [
    "## 3. Permutations"
   ]
  },
  {
   "cell_type": "markdown",
   "id": "c9f79271",
   "metadata": {},
   "source": [
    "The ```numpy.random``` package contains three methods for randomly permutating a sequence. These are discussed in this section. "
   ]
  },
  {
   "cell_type": "markdown",
   "id": "6c35056c",
   "metadata": {},
   "source": [
    "### 3.1 Shuffle"
   ]
  },
  {
   "cell_type": "code",
   "execution_count": null,
   "id": "914c4eec",
   "metadata": {},
   "outputs": [],
   "source": []
  },
  {
   "cell_type": "markdown",
   "id": "c9c9df93",
   "metadata": {},
   "source": [
    "### 3.2 Permutation"
   ]
  },
  {
   "cell_type": "code",
   "execution_count": null,
   "id": "b013c4f4",
   "metadata": {},
   "outputs": [],
   "source": []
  },
  {
   "cell_type": "markdown",
   "id": "786431ec",
   "metadata": {},
   "source": [
    "### 3.3 Permuted"
   ]
  },
  {
   "cell_type": "code",
   "execution_count": null,
   "id": "46de6140",
   "metadata": {},
   "outputs": [],
   "source": []
  },
  {
   "cell_type": "code",
   "execution_count": null,
   "id": "79638520",
   "metadata": {},
   "outputs": [],
   "source": []
  },
  {
   "cell_type": "code",
   "execution_count": null,
   "id": "960b59ad",
   "metadata": {},
   "outputs": [],
   "source": []
  },
  {
   "cell_type": "code",
   "execution_count": null,
   "id": "06017a52",
   "metadata": {},
   "outputs": [],
   "source": []
  },
  {
   "cell_type": "code",
   "execution_count": null,
   "id": "c24a9bc0",
   "metadata": {},
   "outputs": [],
   "source": []
  },
  {
   "cell_type": "code",
   "execution_count": null,
   "id": "46e083ec",
   "metadata": {},
   "outputs": [],
   "source": []
  },
  {
   "cell_type": "markdown",
   "id": "73d92da6",
   "metadata": {},
   "source": [
    "```numpy.random``` uses a seed to derive the initial state with a sequence of statistcally random numbers generated from this known starting point; the use of a known seed means that the the algorithm is repeatable. \n",
    "\n",
    "Therefore, the numbers generated are not completely random and are known as \"pseudo-random numbers\"."
   ]
  }
 ],
 "metadata": {
  "kernelspec": {
   "display_name": "Python 3 (ipykernel)",
   "language": "python",
   "name": "python3"
  },
  "language_info": {
   "codemirror_mode": {
    "name": "ipython",
    "version": 3
   },
   "file_extension": ".py",
   "mimetype": "text/x-python",
   "name": "python",
   "nbconvert_exporter": "python",
   "pygments_lexer": "ipython3",
   "version": "3.8.11"
  }
 },
 "nbformat": 4,
 "nbformat_minor": 5
}
