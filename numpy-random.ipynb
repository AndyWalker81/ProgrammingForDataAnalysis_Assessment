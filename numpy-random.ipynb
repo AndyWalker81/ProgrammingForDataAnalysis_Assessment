{
 "cells": [
  {
   "cell_type": "markdown",
   "id": "874f72ad",
   "metadata": {},
   "source": [
    "# The numpy.random package "
   ]
  },
  {
   "cell_type": "markdown",
   "id": "6df241a1",
   "metadata": {},
   "source": [
    "## Programming for Data Analysis Assignment"
   ]
  },
  {
   "cell_type": "markdown",
   "id": "b754a200",
   "metadata": {},
   "source": [
    "### Andrew Walker - G00398788@gmit.ie"
   ]
  },
  {
   "cell_type": "markdown",
   "id": "b1bbe76a",
   "metadata": {},
   "source": [
    "![numpy.org](https://numpy.org/doc/stable/_static/numpylogo.svg)"
   ]
  },
  {
   "cell_type": "markdown",
   "id": "57f89fd9",
   "metadata": {},
   "source": [
    "## 1. Introduction"
   ]
  },
  {
   "cell_type": "markdown",
   "id": "d86aa1be",
   "metadata": {},
   "source": [
    "This notebook contains an explanation of the ```numpy.random``` package in Python. "
   ]
  },
  {
   "cell_type": "markdown",
   "id": "acdf6ba1",
   "metadata": {},
   "source": [
    "NumPy is an open source project aiming to enable numerical computing with Python (https://numpy.org/about/). It is used for working with arrays and also has functions for working in the domain of linear algebra, fourier transform, and matrices (https://www.w3schools.com/python/numpy/numpy_intro.asp). In has applications in a wide range of fields such as astronomy, physics, engineering, and economics. "
   ]
  },
  {
   "cell_type": "markdown",
   "id": "a8e63aa5",
   "metadata": {},
   "source": [
    "The ```numpy.random``` package within NumPy is used to generate a sequence of numbers which approximate the properties of random numbers. The sequence of numbers that is generated is statistically random and can be used in a wide range of applications.    "
   ]
  },
  {
   "cell_type": "markdown",
   "id": "668e8dc3",
   "metadata": {},
   "source": [
    "The package generates the sequence with the use of a BitGenerator and a Generator. The BitGenerator uses a seed to derive the initial state and create a sequence of statistically random numbers bits. The Generator converts the sequence of random bits for a BitGenerator into sequences of numbers that follow a specific probability distribution (https://numpy.org/doc/stable/reference/random/index.html). "
   ]
  },
  {
   "cell_type": "markdown",
   "id": "99221eb4",
   "metadata": {},
   "source": [
    "This notebook will explain the following overarching features of the ```numpy.random``` package:\n",
    "\n",
    "- Simple random data\n",
    "- Permutations\n",
    "- The purpose of five Distribution functions\n",
    "    - Uniform\n",
    "    - Bell\n",
    "    - ....\n",
    "    - ....\n",
    "    - ....\n",
    "- The use of seeds in generating pseudo-random numbers"
   ]
  },
  {
   "cell_type": "markdown",
   "id": "30b44469",
   "metadata": {},
   "source": [
    "The notebook will explain each feature and the functions contained in each. It will use ........ "
   ]
  },
  {
   "cell_type": "markdown",
   "id": "18d0cf8b",
   "metadata": {},
   "source": [
    "```matplotlib.pyplot``` will also be used....."
   ]
  },
  {
   "cell_type": "markdown",
   "id": "f5707cb3",
   "metadata": {},
   "source": [
    "At the time of writing this notebook, the latest release of ```numpy.random``` is 1.21.0. This contents of this notebook are based on this release."
   ]
  },
  {
   "cell_type": "markdown",
   "id": "4e361ae5",
   "metadata": {},
   "source": [
    "## 2. Initalising the ```numpy.random``` Package"
   ]
  },
  {
   "cell_type": "markdown",
   "id": "f14bbb9c",
   "metadata": {},
   "source": [
    "Import Numpy:"
   ]
  },
  {
   "cell_type": "code",
   "execution_count": 1,
   "id": "2c430dc6",
   "metadata": {},
   "outputs": [],
   "source": [
    "import numpy as np"
   ]
  },
  {
   "cell_type": "markdown",
   "id": "d4e56e16",
   "metadata": {},
   "source": [
    "Construct a new Generator with the default BitGenerator (PCG64): "
   ]
  },
  {
   "cell_type": "code",
   "execution_count": 2,
   "id": "db98f501",
   "metadata": {},
   "outputs": [],
   "source": [
    "rng = np.random.default_rng()"
   ]
  },
  {
   "cell_type": "markdown",
   "id": "c23f3174",
   "metadata": {},
   "source": [
    "A seed can be specified in ```default_rng```. The use of a known seed means that the the algorithm is repeatable. BitGenerators and seeds are discussed further in Section XXXXXX"
   ]
  },
  {
   "cell_type": "markdown",
   "id": "b573f3a3",
   "metadata": {},
   "source": [
    "Pyplot will also be used to allow plotting of outputs generated, where required:"
   ]
  },
  {
   "cell_type": "code",
   "execution_count": 3,
   "id": "9510f085",
   "metadata": {},
   "outputs": [],
   "source": [
    "import matplotlib.pyplot as plt"
   ]
  },
  {
   "cell_type": "markdown",
   "id": "dfbf28d2",
   "metadata": {},
   "source": [
    "## 3. Simple Random Data"
   ]
  },
  {
   "cell_type": "markdown",
   "id": "bcae83ee",
   "metadata": {},
   "source": [
    "The ```numpy.random``` package contains four functions to generate simple random data. These are discussed in this section."
   ]
  },
  {
   "cell_type": "markdown",
   "id": "4ae05e21",
   "metadata": {},
   "source": [
    "### 3.1 Integers\n"
   ]
  },
  {
   "cell_type": "markdown",
   "id": "c67e06bb",
   "metadata": {},
   "source": [
    "Numpy can be instructed to return random integers. For example:"
   ]
  },
  {
   "cell_type": "code",
   "execution_count": 4,
   "id": "7251769b",
   "metadata": {},
   "outputs": [
    {
     "data": {
      "text/plain": [
       "array([0, 2, 1, 0, 2], dtype=int64)"
      ]
     },
     "execution_count": 4,
     "metadata": {},
     "output_type": "execute_result"
    }
   ],
   "source": [
    "rng.integers(0, 3, size=5)"
   ]
  },
  {
   "cell_type": "markdown",
   "id": "86865012",
   "metadata": {},
   "source": [
    "In this example, the first parameter (```0```) sets the lowest integer that is possible to be generated. The upper limit is defined by the second parameter (```3```); the highest integer that is possible to be generated is one lower than this number. The parameter ```size=5``` designates that 5 random numbers should be generated.  "
   ]
  },
  {
   "cell_type": "markdown",
   "id": "7d2bc477",
   "metadata": {},
   "source": [
    "The shape of the output can be changed by specifying the number of rows and columns. For example, a 5 x 5 array containing random numbers between 0 and 9 can be generated using the following:"
   ]
  },
  {
   "cell_type": "code",
   "execution_count": 5,
   "id": "87285c10",
   "metadata": {},
   "outputs": [
    {
     "data": {
      "text/plain": [
       "array([[5, 7, 0, 4, 8],\n",
       "       [5, 6, 3, 2, 8],\n",
       "       [1, 2, 8, 7, 6],\n",
       "       [9, 2, 2, 8, 8],\n",
       "       [7, 7, 4, 5, 8]], dtype=int64)"
      ]
     },
     "execution_count": 5,
     "metadata": {},
     "output_type": "execute_result"
    }
   ],
   "source": [
    "rng.integers(0, 10, size=(5,5))\n"
   ]
  },
  {
   "cell_type": "markdown",
   "id": "6b283ce1",
   "metadata": {},
   "source": [
    "In these examples, the output also includes the data type: ```dtype=int64```. By default, Python has the following data types:\n",
    "\n",
    "- strings\n",
    "- integer\n",
    "- float\n",
    "- boolean\n",
    "- complex\n",
    "\n",
    "NumPy also includes a number of additional data types (discussion of which is considered outside the scope of this notebook). \n",
    "\n",
    "```dtype=int64``` refers to the output containing 64-bit integers. This can be changed, as shown in the following example to output 8-bit integers:"
   ]
  },
  {
   "cell_type": "code",
   "execution_count": 6,
   "id": "1e0a152c",
   "metadata": {},
   "outputs": [
    {
     "data": {
      "text/plain": [
       "array([[6, 6, 2, 1, 6],\n",
       "       [7, 8, 6, 5, 5],\n",
       "       [0, 7, 0, 3, 9],\n",
       "       [9, 5, 2, 2, 2],\n",
       "       [0, 3, 7, 0, 9]], dtype=int8)"
      ]
     },
     "execution_count": 6,
     "metadata": {},
     "output_type": "execute_result"
    }
   ],
   "source": [
    "rng.integers(0, 10, size=(5,5), dtype='int8')"
   ]
  },
  {
   "cell_type": "markdown",
   "id": "60868e2d",
   "metadata": {},
   "source": [
    "The integers are generated by default as a discrete probability distribution. This means that the probability of outcomes is equally likely and with finite values (https://corporatefinanceinstitute.com/resources/knowledge/other/uniform-distribution/). "
   ]
  },
  {
   "cell_type": "code",
   "execution_count": 7,
   "id": "8f73fb0f",
   "metadata": {},
   "outputs": [
    {
     "data": {
      "image/png": "[encoded data removed]",
      "text/plain": [
       "<Figure size 432x288 with 1 Axes>"
      ]
     },
     "metadata": {
      "needs_background": "light"
     },
     "output_type": "display_data"
    }
   ],
   "source": [
    "x = rng.integers(100, size=10000)\n",
    "plt.hist(x)\n",
    "plt.show()"
   ]
  },
  {
   "cell_type": "markdown",
   "id": "54710501",
   "metadata": {},
   "source": [
    "### 2.2 Random"
   ]
  },
  {
   "cell_type": "markdown",
   "id": "bc704e6d",
   "metadata": {},
   "source": [
    "The Numpy random function returns random floats. For example:"
   ]
  },
  {
   "cell_type": "code",
   "execution_count": 8,
   "id": "a12de2c3",
   "metadata": {},
   "outputs": [
    {
     "data": {
      "text/plain": [
       "0.8368779187366275"
      ]
     },
     "execution_count": 8,
     "metadata": {},
     "output_type": "execute_result"
    }
   ],
   "source": [
    "rng.random()"
   ]
  },
  {
   "cell_type": "markdown",
   "id": "9e5e2869",
   "metadata": {},
   "source": [
    "The size of output can be specified:"
   ]
  },
  {
   "cell_type": "code",
   "execution_count": 9,
   "id": "5c2aaf9b",
   "metadata": {
    "scrolled": true
   },
   "outputs": [
    {
     "data": {
      "text/plain": [
       "array([[0.34024222, 0.68447319, 0.94707682, 0.67238812, 0.88568597],\n",
       "       [0.79803055, 0.5870841 , 0.23288448, 0.63087859, 0.95231037],\n",
       "       [0.05880765, 0.88524595, 0.05797213, 0.17908986, 0.54047509],\n",
       "       [0.42924782, 0.58752225, 0.82214959, 0.75625698, 0.67829192],\n",
       "       [0.39172199, 0.18398678, 0.32948416, 0.4470594 , 0.12681917]])"
      ]
     },
     "execution_count": 9,
     "metadata": {},
     "output_type": "execute_result"
    }
   ],
   "source": [
    "rng.random(size=(5,5))"
   ]
  },
  {
   "cell_type": "markdown",
   "id": "5c36df4d",
   "metadata": {},
   "source": [
    "To specify the low and high values the formula ```(b + a) * rng.random() + a``` can be used. The following example outputs five floats between 0 (inclusive) and 3 (exclusive):"
   ]
  },
  {
   "cell_type": "code",
   "execution_count": 10,
   "id": "dde5e83b",
   "metadata": {},
   "outputs": [
    {
     "data": {
      "text/plain": [
       "array([[2.30415255, 0.45274836, 0.96117563, 0.10626684, 1.63399342],\n",
       "       [2.58807653, 2.98768952, 2.27310887, 0.02604591, 2.0407913 ],\n",
       "       [0.53747901, 1.39557398, 2.26753506, 1.41021975, 2.25477138],\n",
       "       [0.22848238, 1.2214196 , 2.39459271, 2.60448217, 1.81698138],\n",
       "       [1.03744157, 2.42243348, 2.1447518 , 2.57112046, 1.60202238]])"
      ]
     },
     "execution_count": 10,
     "metadata": {},
     "output_type": "execute_result"
    }
   ],
   "source": [
    "a = 0 #low value\n",
    "b = 3 #high value\n",
    "x = rng.random(size=(5,5)) \n",
    "y = (b + a) * x + a\n",
    "y"
   ]
  },
  {
   "cell_type": "markdown",
   "id": "1c8282f9",
   "metadata": {},
   "source": [
    "Or for negative numbers between 0 (inclusive) and -1 (exclusive):"
   ]
  },
  {
   "cell_type": "code",
   "execution_count": 11,
   "id": "ea469ed7",
   "metadata": {},
   "outputs": [
    {
     "data": {
      "text/plain": [
       "array([[-0.59095948, -0.04975489, -0.99263526, -0.51192269, -0.5655337 ],\n",
       "       [-0.48798309, -0.90801906, -0.42374017, -0.89088873, -0.88434104],\n",
       "       [-0.19379622, -0.95885019, -0.00330881, -0.28305875, -0.03617485],\n",
       "       [-0.21305179, -0.46287997, -0.34297161, -0.64794056, -0.49837029],\n",
       "       [-0.73994768, -0.016453  , -0.4569559 , -0.05658584, -0.73732407]])"
      ]
     },
     "execution_count": 11,
     "metadata": {},
     "output_type": "execute_result"
    }
   ],
   "source": [
    "a = 0 \n",
    "b = -1 \n",
    "x = rng.random(size=(5,5)) \n",
    "y = (b + a) * x + a\n",
    "y"
   ]
  },
  {
   "cell_type": "markdown",
   "id": "3e1cb2c4",
   "metadata": {},
   "source": [
    "However, for negative numbers not including 0, the formula must be changed slightly. For example, for negative numbers between -1 (inclusive) and -2 (exclusive):"
   ]
  },
  {
   "cell_type": "code",
   "execution_count": 12,
   "id": "e0fc63bc",
   "metadata": {},
   "outputs": [
    {
     "data": {
      "text/plain": [
       "array([[-1.00422902, -1.91101404, -1.80600162, -1.91340013, -1.90358108],\n",
       "       [-1.49570204, -1.32731605, -1.77405562, -1.8548872 , -1.85359386],\n",
       "       [-1.51075287, -1.42671242, -1.90184872, -1.59991488, -1.40845512],\n",
       "       [-1.0034024 , -1.38815355, -1.84014725, -1.69121899, -1.73874833],\n",
       "       [-1.89555865, -1.40436993, -1.85128433, -1.602108  , -1.83956025]])"
      ]
     },
     "execution_count": 12,
     "metadata": {},
     "output_type": "execute_result"
    }
   ],
   "source": [
    "a = -1 \n",
    "b = -2 \n",
    "x = rng.random(size=(5,5))  \n",
    "y = (b - a) * x + a\n",
    "y"
   ]
  },
  {
   "cell_type": "markdown",
   "id": "0457ae35",
   "metadata": {},
   "source": [
    "The floats are generated by default as a continuous probability distribution. This means that there are infinite number of equally likely measurable values. (https://corporatefinanceinstitute.com/resources/knowledge/other/uniform-distribution/). "
   ]
  },
  {
   "cell_type": "code",
   "execution_count": 13,
   "id": "0fab7b01",
   "metadata": {},
   "outputs": [
    {
     "data": {
      "text/plain": [
       "<function matplotlib.pyplot.show(close=None, block=None)>"
      ]
     },
     "execution_count": 13,
     "metadata": {},
     "output_type": "execute_result"
    },
    {
     "data": {
      "image/png": "[encoded data removed]",
      "text/plain": [
       "<Figure size 432x288 with 1 Axes>"
      ]
     },
     "metadata": {
      "needs_background": "light"
     },
     "output_type": "display_data"
    }
   ],
   "source": [
    "x = rng.random(size=10000)\n",
    "plt.hist(x)\n",
    "plt.show"
   ]
  },
  {
   "cell_type": "markdown",
   "id": "46a82682",
   "metadata": {},
   "source": [
    "### 2.3 Choice"
   ]
  },
  {
   "cell_type": "markdown",
   "id": "1f8cda7a",
   "metadata": {},
   "source": [
    "The Numpy choice function generates a random sample from a given array. For example:"
   ]
  },
  {
   "cell_type": "code",
   "execution_count": 14,
   "id": "31166edc",
   "metadata": {},
   "outputs": [
    {
     "data": {
      "text/plain": [
       "array([4, 3, 0, 7, 0], dtype=int64)"
      ]
     },
     "execution_count": 14,
     "metadata": {},
     "output_type": "execute_result"
    }
   ],
   "source": [
    "rng.choice(10, 5)"
   ]
  },
  {
   "cell_type": "markdown",
   "id": "30a28ada",
   "metadata": {},
   "source": [
    "This returns an array of 5 integers between 0 and 9 (inclusive) and is the equivalent of ```rng.integers(0, 10, 5)```."
   ]
  },
  {
   "cell_type": "markdown",
   "id": "e3bfedd7",
   "metadata": {},
   "source": [
    "By default, the distribution is uniform, as shown below:"
   ]
  },
  {
   "cell_type": "code",
   "execution_count": 15,
   "id": "a40f960e",
   "metadata": {},
   "outputs": [
    {
     "data": {
      "image/png": "[encoded data removed]",
      "text/plain": [
       "<Figure size 432x288 with 1 Axes>"
      ]
     },
     "metadata": {
      "needs_background": "light"
     },
     "output_type": "display_data"
    }
   ],
   "source": [
    "x = rng.choice(100, 10000)\n",
    "plt.hist(x)\n",
    "plt.show()"
   ]
  },
  {
   "cell_type": "markdown",
   "id": "dfb7c6eb",
   "metadata": {},
   "source": [
    "A non-uniform distribution can be generated by specifying parameter ```p``` for the probabilty of a choice occuring. For example:"
   ]
  },
  {
   "cell_type": "code",
   "execution_count": 16,
   "id": "ff4ba34b",
   "metadata": {},
   "outputs": [
    {
     "data": {
      "text/plain": [
       "array([3, 2, 3], dtype=int64)"
      ]
     },
     "execution_count": 16,
     "metadata": {},
     "output_type": "execute_result"
    }
   ],
   "source": [
    "rng.choice(5, 3, p=[0.1, 0, 0.3, 0.6, 0])"
   ]
  },
  {
   "cell_type": "markdown",
   "id": "230c170c",
   "metadata": {},
   "source": [
    "In this example, there is a 10% chance of 0 occuring for any the three numbers generated, a 0% percentage chance for a 1, a 30% chance for a 2, a 60% chance for a 3, and a 0% chance for a 4. "
   ]
  },
  {
   "cell_type": "markdown",
   "id": "3de7deac",
   "metadata": {},
   "source": [
    "Specifying parameter ```replace=False``` will result in an individual number not occurring more than once in the output:"
   ]
  },
  {
   "cell_type": "code",
   "execution_count": 17,
   "id": "b099d6da",
   "metadata": {},
   "outputs": [
    {
     "data": {
      "text/plain": [
       "array([0, 9, 6, 8, 7, 1, 4, 5, 3, 2], dtype=int64)"
      ]
     },
     "execution_count": 17,
     "metadata": {},
     "output_type": "execute_result"
    }
   ],
   "source": [
    "rng.choice(10, 10, replace=False)"
   ]
  },
  {
   "cell_type": "markdown",
   "id": "e4c85779",
   "metadata": {},
   "source": [
    "The axis along which the choice is performed can also be selected. The 0 axis refers to rows, and the 1 axis refers to columns (https://www.sharpsightlabs.com/blog/numpy-axes-explained/). The default is 0 is this parameter is not set. For example: "
   ]
  },
  {
   "cell_type": "code",
   "execution_count": 18,
   "id": "3b148e84",
   "metadata": {},
   "outputs": [
    {
     "data": {
      "text/plain": [
       "array([['0', '1', '2'],\n",
       "       ['9', 'A', 'B'],\n",
       "       ['0', '1', '2'],\n",
       "       ['6', '7', '8'],\n",
       "       ['C', 'D', 'E']], dtype='<U11')"
      ]
     },
     "execution_count": 18,
     "metadata": {},
     "output_type": "execute_result"
    }
   ],
   "source": [
    "x = rng.choice([[0,1,2], [3,4,5], [6,7,8], [9,'A','B'], ['C','D','E']], 5, axis=0)\n",
    "x"
   ]
  },
  {
   "cell_type": "markdown",
   "id": "ae5721c9",
   "metadata": {},
   "source": [
    "The above output contains five rows with three elements: "
   ]
  },
  {
   "cell_type": "code",
   "execution_count": 19,
   "id": "3eb18c1f",
   "metadata": {},
   "outputs": [
    {
     "data": {
      "text/plain": [
       "(5, 3)"
      ]
     },
     "execution_count": 19,
     "metadata": {},
     "output_type": "execute_result"
    }
   ],
   "source": [
    "(x.shape)"
   ]
  },
  {
   "cell_type": "markdown",
   "id": "9af2a897",
   "metadata": {},
   "source": [
    "Setting the axis to 1:"
   ]
  },
  {
   "cell_type": "code",
   "execution_count": 20,
   "id": "bea52740",
   "metadata": {},
   "outputs": [
    {
     "data": {
      "text/plain": [
       "array([['2', '1', '0', '0', '1'],\n",
       "       ['5', '4', '3', '3', '4'],\n",
       "       ['8', '7', '6', '6', '7'],\n",
       "       ['B', 'A', '9', '9', 'A'],\n",
       "       ['E', 'D', 'C', 'C', 'D']], dtype='<U11')"
      ]
     },
     "execution_count": 20,
     "metadata": {},
     "output_type": "execute_result"
    }
   ],
   "source": [
    "x = rng.choice([[0,1,2], [3,4,5], [6,7,8], [9,'A','B'], ['C','D','E']], 5, axis=1)\n",
    "x"
   ]
  },
  {
   "cell_type": "markdown",
   "id": "2fc00c66",
   "metadata": {},
   "source": [
    "The above output contains five rows with five columns:"
   ]
  },
  {
   "cell_type": "code",
   "execution_count": 21,
   "id": "68a07557",
   "metadata": {},
   "outputs": [
    {
     "data": {
      "text/plain": [
       "(5, 5)"
      ]
     },
     "execution_count": 21,
     "metadata": {},
     "output_type": "execute_result"
    }
   ],
   "source": [
    "(x.shape)"
   ]
  },
  {
   "cell_type": "markdown",
   "id": "3423d39f",
   "metadata": {},
   "source": [
    "The choice function is not restricted to integers. For example:"
   ]
  },
  {
   "cell_type": "code",
   "execution_count": 22,
   "id": "5727ea24",
   "metadata": {},
   "outputs": [
    {
     "data": {
      "text/plain": [
       "array(['spring', 'winter', 'winter', 'spring'], dtype='<U6')"
      ]
     },
     "execution_count": 22,
     "metadata": {},
     "output_type": "execute_result"
    }
   ],
   "source": [
    "season = ['spring', 'summer', 'autumn', 'winter']\n",
    "rng.choice(season, 4, p=[0.5, 0, 0, 0.5])"
   ]
  },
  {
   "cell_type": "markdown",
   "id": "dd942e59",
   "metadata": {},
   "source": [
    "### 2.4 Bytes"
   ]
  },
  {
   "cell_type": "markdown",
   "id": "b4b53741",
   "metadata": {},
   "source": [
    "The Numpy bytes function returns random bytes, dependent on the specified length. The following example returns 10 bytes:"
   ]
  },
  {
   "cell_type": "code",
   "execution_count": 23,
   "id": "ef4d1b45",
   "metadata": {},
   "outputs": [
    {
     "data": {
      "text/plain": [
       "b'\\xf8#\\x00\\xd8\\x7f\\xdd\\xe7\\xc7\\xf0\\x0b'"
      ]
     },
     "execution_count": 23,
     "metadata": {},
     "output_type": "execute_result"
    }
   ],
   "source": [
    "rng.bytes(10)\n"
   ]
  },
  {
   "cell_type": "markdown",
   "id": "e58e2b98",
   "metadata": {},
   "source": [
    "The bytes are returned in hex and ASCII. Any two characters following an x character are hex characters making up 1 byte; any other characters are ASCII characters of 1 byte each. The initial b is a prefix for bytes, and the output is enclosed in matching single quotes ('). "
   ]
  },
  {
   "cell_type": "markdown",
   "id": "dabb74fa",
   "metadata": {},
   "source": [
    "For example, ```b'\\xfd\\xd7\\x17\\xac\\xa3Ig\\xf0`\\xa1'``` would be made up of the following for a total of 10 bytes:\n",
    "\n",
    "- fd (hex)\n",
    "- d7 (hex)\n",
    "- 17 (hex)\n",
    "- ac (hex)\n",
    "- a3 (hex)\n",
    "- I (ASCII)\n",
    "- g (ASCII)\n",
    "- f0 (hex)\n",
    "- ` (ASCII)\n",
    "- a1 (hex)"
   ]
  },
  {
   "cell_type": "markdown",
   "id": "ab23cecc",
   "metadata": {},
   "source": [
    "https://stackoverflow.com/questions/26802581/can-anyone-identify-this-encoding?rq=1\n",
    "https://docs.python.org/3.4/reference/lexical_analysis.html#grammar-token-shortbytesitem"
   ]
  },
  {
   "cell_type": "markdown",
   "id": "c2181e8c",
   "metadata": {},
   "source": [
    "## 3. Permutations"
   ]
  },
  {
   "cell_type": "markdown",
   "id": "c9f79271",
   "metadata": {},
   "source": [
    "The ```numpy.random``` package contains three methods for randomly permutating a sequence. These are discussed in this section. "
   ]
  },
  {
   "cell_type": "markdown",
   "id": "6c35056c",
   "metadata": {},
   "source": [
    "### 3.1 Shuffle"
   ]
  },
  {
   "cell_type": "markdown",
   "id": "3d68daa5",
   "metadata": {},
   "source": [
    "The Numpy shuffle function rearranges the order of a sequence's contents. For example, the following will return a sequence of numbers from 0 to 9 (inclusive) in a random order, as detailed in Section 2.3:"
   ]
  },
  {
   "cell_type": "code",
   "execution_count": 24,
   "id": "914c4eec",
   "metadata": {},
   "outputs": [
    {
     "data": {
      "text/plain": [
       "array([7, 2, 0, 1, 9, 8, 5, 3, 6, 4], dtype=int64)"
      ]
     },
     "execution_count": 24,
     "metadata": {},
     "output_type": "execute_result"
    }
   ],
   "source": [
    "x = rng.choice(10, 10, replace=False)\n",
    "x"
   ]
  },
  {
   "cell_type": "markdown",
   "id": "7c8579b9",
   "metadata": {},
   "source": [
    "The squence order is then rearranged using the shuffle function:"
   ]
  },
  {
   "cell_type": "code",
   "execution_count": 25,
   "id": "38b73201",
   "metadata": {},
   "outputs": [
    {
     "data": {
      "text/plain": [
       "array([6, 8, 9, 3, 0, 1, 5, 2, 4, 7], dtype=int64)"
      ]
     },
     "execution_count": 25,
     "metadata": {},
     "output_type": "execute_result"
    }
   ],
   "source": [
    "rng.shuffle(x)\n",
    "x"
   ]
  },
  {
   "cell_type": "markdown",
   "id": "c6911259",
   "metadata": {},
   "source": [
    "The shuffle function can also rearrange the sequence of arrays:"
   ]
  },
  {
   "cell_type": "code",
   "execution_count": 26,
   "id": "293c0408",
   "metadata": {},
   "outputs": [
    {
     "data": {
      "text/plain": [
       "array([[ 0,  1,  2,  3,  4],\n",
       "       [ 5,  6,  7,  8,  9],\n",
       "       [10, 11, 12, 13, 14],\n",
       "       [15, 16, 17, 18, 19],\n",
       "       [20, 21, 22, 23, 24]])"
      ]
     },
     "execution_count": 26,
     "metadata": {},
     "output_type": "execute_result"
    }
   ],
   "source": [
    "x = np.arange(0, 25).reshape(5, 5)\n",
    "x"
   ]
  },
  {
   "cell_type": "code",
   "execution_count": 27,
   "id": "23d2a918",
   "metadata": {},
   "outputs": [
    {
     "data": {
      "text/plain": [
       "array([[ 0,  1,  2,  3,  4],\n",
       "       [20, 21, 22, 23, 24],\n",
       "       [15, 16, 17, 18, 19],\n",
       "       [10, 11, 12, 13, 14],\n",
       "       [ 5,  6,  7,  8,  9]])"
      ]
     },
     "execution_count": 27,
     "metadata": {},
     "output_type": "execute_result"
    }
   ],
   "source": [
    "rng.shuffle(x)\n",
    "x"
   ]
  },
  {
   "cell_type": "markdown",
   "id": "55417436",
   "metadata": {},
   "source": [
    "By default, the axis parameter is set to zero. As can be seen in the above example, by default, the shuffle function will shuffle the order the rows, but not the order of the columns. "
   ]
  },
  {
   "cell_type": "markdown",
   "id": "7ababe00",
   "metadata": {},
   "source": [
    "In the below example, the axis is set to 1:"
   ]
  },
  {
   "cell_type": "code",
   "execution_count": 28,
   "id": "bdc4e7fe",
   "metadata": {},
   "outputs": [
    {
     "data": {
      "text/plain": [
       "array([[ 0,  1,  2,  3,  4],\n",
       "       [ 5,  6,  7,  8,  9],\n",
       "       [10, 11, 12, 13, 14],\n",
       "       [15, 16, 17, 18, 19],\n",
       "       [20, 21, 22, 23, 24]])"
      ]
     },
     "execution_count": 28,
     "metadata": {},
     "output_type": "execute_result"
    }
   ],
   "source": [
    "x = np.arange(0, 25).reshape(5, 5)\n",
    "x"
   ]
  },
  {
   "cell_type": "code",
   "execution_count": 29,
   "id": "9081f39d",
   "metadata": {},
   "outputs": [
    {
     "data": {
      "text/plain": [
       "array([[ 4,  3,  0,  2,  1],\n",
       "       [ 9,  8,  5,  7,  6],\n",
       "       [14, 13, 10, 12, 11],\n",
       "       [19, 18, 15, 17, 16],\n",
       "       [24, 23, 20, 22, 21]])"
      ]
     },
     "execution_count": 29,
     "metadata": {},
     "output_type": "execute_result"
    }
   ],
   "source": [
    "rng.shuffle(x, axis=1)\n",
    "x"
   ]
  },
  {
   "cell_type": "markdown",
   "id": "e7eeb20f",
   "metadata": {},
   "source": [
    "This results in a shuffling of the contents of the columns, but the row order remaining the same."
   ]
  },
  {
   "cell_type": "markdown",
   "id": "c9c9df93",
   "metadata": {},
   "source": [
    "### 3.2 Permutation"
   ]
  },
  {
   "cell_type": "markdown",
   "id": "e7dce34d",
   "metadata": {},
   "source": [
    "The Numpy permutation function returns either a randomly permuted sequence, as shown in the example below:"
   ]
  },
  {
   "cell_type": "code",
   "execution_count": 30,
   "id": "d4a29c31",
   "metadata": {},
   "outputs": [
    {
     "data": {
      "text/plain": [
       "array([2, 6, 4, 9, 5, 0, 8, 1, 7, 3])"
      ]
     },
     "execution_count": 30,
     "metadata": {},
     "output_type": "execute_result"
    }
   ],
   "source": [
    "rng.permutation(10)\n"
   ]
  },
  {
   "cell_type": "raw",
   "id": "18c2d60b",
   "metadata": {},
   "source": [
    "Or randomly rearranges the elements of an array, as shown in the example below:"
   ]
  },
  {
   "cell_type": "markdown",
   "id": "43cffa3e",
   "metadata": {},
   "source": [
    "Or can rearrange the sequence of arrays:"
   ]
  },
  {
   "cell_type": "code",
   "execution_count": 31,
   "id": "bad2e180",
   "metadata": {},
   "outputs": [
    {
     "data": {
      "text/plain": [
       "array([[ 0,  1,  2,  3,  4],\n",
       "       [ 5,  6,  7,  8,  9],\n",
       "       [10, 11, 12, 13, 14],\n",
       "       [15, 16, 17, 18, 19],\n",
       "       [20, 21, 22, 23, 24]])"
      ]
     },
     "execution_count": 31,
     "metadata": {},
     "output_type": "execute_result"
    }
   ],
   "source": [
    "x = np.arange(0, 25).reshape(5, 5)\n",
    "x"
   ]
  },
  {
   "cell_type": "code",
   "execution_count": 32,
   "id": "494890d0",
   "metadata": {},
   "outputs": [
    {
     "data": {
      "text/plain": [
       "array([[10, 11, 12, 13, 14],\n",
       "       [15, 16, 17, 18, 19],\n",
       "       [20, 21, 22, 23, 24],\n",
       "       [ 0,  1,  2,  3,  4],\n",
       "       [ 5,  6,  7,  8,  9]])"
      ]
     },
     "execution_count": 32,
     "metadata": {},
     "output_type": "execute_result"
    }
   ],
   "source": [
    "y = rng.permutation(x)\n",
    "y"
   ]
  },
  {
   "cell_type": "markdown",
   "id": "52ee08fd",
   "metadata": {},
   "source": [
    "By default, the axis parameter is set to zero. As can be seen in the above example, by default, the permutation function will rearrange the order the rows, but not the order of the columns. "
   ]
  },
  {
   "cell_type": "markdown",
   "id": "f180c585",
   "metadata": {},
   "source": [
    "In the below example, axis is set to 1:"
   ]
  },
  {
   "cell_type": "code",
   "execution_count": 33,
   "id": "5934e028",
   "metadata": {},
   "outputs": [
    {
     "data": {
      "text/plain": [
       "array([[ 0,  1,  2,  3,  4],\n",
       "       [ 5,  6,  7,  8,  9],\n",
       "       [10, 11, 12, 13, 14],\n",
       "       [15, 16, 17, 18, 19],\n",
       "       [20, 21, 22, 23, 24]])"
      ]
     },
     "execution_count": 33,
     "metadata": {},
     "output_type": "execute_result"
    }
   ],
   "source": [
    "x = np.arange(0, 25).reshape(5, 5)\n",
    "x"
   ]
  },
  {
   "cell_type": "code",
   "execution_count": 34,
   "id": "5fe2b530",
   "metadata": {},
   "outputs": [
    {
     "data": {
      "text/plain": [
       "array([[ 0,  3,  1,  4,  2],\n",
       "       [ 5,  8,  6,  9,  7],\n",
       "       [10, 13, 11, 14, 12],\n",
       "       [15, 18, 16, 19, 17],\n",
       "       [20, 23, 21, 24, 22]])"
      ]
     },
     "execution_count": 34,
     "metadata": {},
     "output_type": "execute_result"
    }
   ],
   "source": [
    "y = rng.permutation(x, axis=1)\n",
    "y"
   ]
  },
  {
   "cell_type": "markdown",
   "id": "3444b306",
   "metadata": {},
   "source": [
    "As with the shuffle function, this results in a shuffling of the contents of the columns but the row order remaining the same."
   ]
  },
  {
   "cell_type": "markdown",
   "id": "d2a14fca",
   "metadata": {},
   "source": [
    "### 3.2.2 Difference between Shuffle and Permutation Functions"
   ]
  },
  {
   "cell_type": "markdown",
   "id": "f93ae35f",
   "metadata": {},
   "source": [
    "At first glance, the shuffle and permutation functions appear to perform similarly - both randomly rearrage a sequence or arrays. However, the key difference is that the shuffle function operates in-place, whereas the permutation function returns a copy (https://numpy.org/doc/stable/reference/random/generator.html). (https://jman4190.medium.com/explaining-the-inplace-parameter-for-beginners-5de7ffa18d2e)."
   ]
  },
  {
   "cell_type": "markdown",
   "id": "8a75d7f2",
   "metadata": {},
   "source": [
    "The in-place operation of the shuffle function means that dataframe is overwritten with the output of the function, when it is performed, For example, a sequence of numbers 0 to 9 can be generated as the variable x:"
   ]
  },
  {
   "cell_type": "code",
   "execution_count": 35,
   "id": "cf26b2a2",
   "metadata": {},
   "outputs": [],
   "source": [
    "x = np.arange(10)"
   ]
  },
  {
   "cell_type": "markdown",
   "id": "43711af3",
   "metadata": {},
   "source": [
    "The output of x is shown as the sequence:"
   ]
  },
  {
   "cell_type": "code",
   "execution_count": 36,
   "id": "6897dc4b",
   "metadata": {},
   "outputs": [
    {
     "data": {
      "text/plain": [
       "array([0, 1, 2, 3, 4, 5, 6, 7, 8, 9])"
      ]
     },
     "execution_count": 36,
     "metadata": {},
     "output_type": "execute_result"
    }
   ],
   "source": [
    "x"
   ]
  },
  {
   "cell_type": "markdown",
   "id": "60a71b7e",
   "metadata": {},
   "source": [
    "The shuffle function can then be performed:"
   ]
  },
  {
   "cell_type": "code",
   "execution_count": 37,
   "id": "76cc48f6",
   "metadata": {},
   "outputs": [],
   "source": [
    "rng.shuffle(x)\n"
   ]
  },
  {
   "cell_type": "markdown",
   "id": "5c85b5c9",
   "metadata": {},
   "source": [
    "The variable x now contains the random sequence generated by the shuffle function:"
   ]
  },
  {
   "cell_type": "code",
   "execution_count": 38,
   "id": "18dc4e3a",
   "metadata": {},
   "outputs": [
    {
     "data": {
      "text/plain": [
       "array([9, 8, 6, 4, 5, 1, 0, 7, 3, 2])"
      ]
     },
     "execution_count": 38,
     "metadata": {},
     "output_type": "execute_result"
    }
   ],
   "source": [
    "x"
   ]
  },
  {
   "cell_type": "markdown",
   "id": "68144077",
   "metadata": {},
   "source": [
    "The original sequence contained in x has now been overwritten and calling the variable x again will produce the same output as above and the original sequence is no longer stored:"
   ]
  },
  {
   "cell_type": "code",
   "execution_count": 39,
   "id": "666cde26",
   "metadata": {},
   "outputs": [
    {
     "data": {
      "text/plain": [
       "array([9, 8, 6, 4, 5, 1, 0, 7, 3, 2])"
      ]
     },
     "execution_count": 39,
     "metadata": {},
     "output_type": "execute_result"
    }
   ],
   "source": [
    "x"
   ]
  },
  {
   "cell_type": "markdown",
   "id": "ea163b04",
   "metadata": {},
   "source": [
    "Performing the shuffle function on x a further time would overwrite x again. "
   ]
  },
  {
   "cell_type": "markdown",
   "id": "71d49c8a",
   "metadata": {},
   "source": [
    "However, the permutation function operates differently and produces a copy of the original data. For example, taking the same sequence of 0 to 9:"
   ]
  },
  {
   "cell_type": "code",
   "execution_count": 40,
   "id": "aa60fd42",
   "metadata": {},
   "outputs": [
    {
     "data": {
      "text/plain": [
       "array([0, 1, 2, 3, 4, 5, 6, 7, 8, 9])"
      ]
     },
     "execution_count": 40,
     "metadata": {},
     "output_type": "execute_result"
    }
   ],
   "source": [
    "x = np.arange(10)\n",
    "x"
   ]
  },
  {
   "cell_type": "markdown",
   "id": "8ffee8c0",
   "metadata": {},
   "source": [
    "The permutation function can be called on x to output a random sequence:"
   ]
  },
  {
   "cell_type": "code",
   "execution_count": 41,
   "id": "9d2a9c0b",
   "metadata": {},
   "outputs": [
    {
     "data": {
      "text/plain": [
       "array([3, 4, 1, 0, 7, 8, 9, 5, 2, 6])"
      ]
     },
     "execution_count": 41,
     "metadata": {},
     "output_type": "execute_result"
    }
   ],
   "source": [
    "rng.permutation(x)"
   ]
  },
  {
   "cell_type": "markdown",
   "id": "247a394f",
   "metadata": {},
   "source": [
    "However, using the permutation function, the variable x contains the original data which has not been overwritten:"
   ]
  },
  {
   "cell_type": "code",
   "execution_count": 42,
   "id": "f44abc80",
   "metadata": {},
   "outputs": [
    {
     "data": {
      "text/plain": [
       "array([0, 1, 2, 3, 4, 5, 6, 7, 8, 9])"
      ]
     },
     "execution_count": 42,
     "metadata": {},
     "output_type": "execute_result"
    }
   ],
   "source": [
    "x"
   ]
  },
  {
   "cell_type": "markdown",
   "id": "122db69b",
   "metadata": {},
   "source": [
    "This could be useful if the original data is to be kept, but also a new sequence generated. For example:"
   ]
  },
  {
   "cell_type": "code",
   "execution_count": 43,
   "id": "1abfe09c",
   "metadata": {},
   "outputs": [],
   "source": [
    "y = rng.permutation(x)"
   ]
  },
  {
   "cell_type": "code",
   "execution_count": 44,
   "id": "beb83cd4",
   "metadata": {},
   "outputs": [
    {
     "data": {
      "text/plain": [
       "(array([0, 1, 2, 3, 4, 5, 6, 7, 8, 9]), array([5, 7, 9, 3, 8, 6, 1, 4, 0, 2]))"
      ]
     },
     "execution_count": 44,
     "metadata": {},
     "output_type": "execute_result"
    }
   ],
   "source": [
    "x, y "
   ]
  },
  {
   "cell_type": "markdown",
   "id": "786431ec",
   "metadata": {},
   "source": [
    "### 3.3 Permuted"
   ]
  },
  {
   "cell_type": "markdown",
   "id": "51d86427",
   "metadata": {},
   "source": [
    "The Numpy permutated function randomly permutes an array along a given axis. This function differs from the shuffle and permutation functions in that each slice of the array is shuffled independently of the others. This can be demonstrated using a 3d-array, as in the following example:"
   ]
  },
  {
   "cell_type": "code",
   "execution_count": 45,
   "id": "79638520",
   "metadata": {},
   "outputs": [
    {
     "data": {
      "text/plain": [
       "array([[[ 0,  1],\n",
       "        [ 2,  3],\n",
       "        [ 4,  5]],\n",
       "\n",
       "       [[ 6,  7],\n",
       "        [ 8,  9],\n",
       "        [10, 11]],\n",
       "\n",
       "       [[12, 13],\n",
       "        [14, 15],\n",
       "        [16, 17]],\n",
       "\n",
       "       [[18, 19],\n",
       "        [20, 21],\n",
       "        [22, 23]]])"
      ]
     },
     "execution_count": 45,
     "metadata": {},
     "output_type": "execute_result"
    }
   ],
   "source": [
    "x = np.array([[[0, 1], [2, 3], [4, 5]], [[6, 7], [8, 9], [10, 11]], [[12, 13], [14, 15], [16, 17]], [[18, 19], [20, 21], [22,23]]])\n",
    "x"
   ]
  },
  {
   "cell_type": "markdown",
   "id": "700ef10f",
   "metadata": {},
   "source": [
    "The above array has 4 lines in axis-0, 3 lines in axis-1, and 2 lines in axis-2:"
   ]
  },
  {
   "cell_type": "code",
   "execution_count": 46,
   "id": "d84a9a29",
   "metadata": {},
   "outputs": [
    {
     "data": {
      "text/plain": [
       "(4, 3, 2)"
      ]
     },
     "execution_count": 46,
     "metadata": {},
     "output_type": "execute_result"
    }
   ],
   "source": [
    "x.shape"
   ]
  },
  {
   "cell_type": "markdown",
   "id": "6eed5d34",
   "metadata": {},
   "source": [
    "The following image gives a representation of arrays in different dimensions; the 3d-array on the right is of the same 4, 3, 2 shape. "
   ]
  },
  {
   "cell_type": "markdown",
   "id": "e40fda63",
   "metadata": {},
   "source": [
    "![numpy.org](https://miro.medium.com/max/3000/0*fr4sfcnDc0KsXA8P.png)\n"
   ]
  },
  {
   "cell_type": "markdown",
   "id": "cbb24c8f",
   "metadata": {},
   "source": [
    "#3d array (https://stackoverflow.com/questions/62734866/how-to-create-a-3d-array-in-python-with-numpy)\n",
    "#https://miro.medium.com/max/3000/0*fr4sfcnDc0KsXA8P.png\n"
   ]
  },
  {
   "cell_type": "markdown",
   "id": "036931af",
   "metadata": {},
   "source": [
    "Calling the permuted function on the default axis-0 will randomly shuffle the whole array across all axis:"
   ]
  },
  {
   "cell_type": "code",
   "execution_count": 47,
   "id": "00b294b2",
   "metadata": {},
   "outputs": [
    {
     "data": {
      "text/plain": [
       "array([[[13,  9],\n",
       "        [11, 19],\n",
       "        [17, 14]],\n",
       "\n",
       "       [[21,  5],\n",
       "        [ 0, 18],\n",
       "        [15, 23]],\n",
       "\n",
       "       [[10, 20],\n",
       "        [ 6,  7],\n",
       "        [16, 22]],\n",
       "\n",
       "       [[ 4,  8],\n",
       "        [ 3, 12],\n",
       "        [ 2,  1]]])"
      ]
     },
     "execution_count": 47,
     "metadata": {},
     "output_type": "execute_result"
    }
   ],
   "source": [
    "rng.permuted(x)"
   ]
  },
  {
   "cell_type": "markdown",
   "id": "f9f18279",
   "metadata": {},
   "source": [
    "This differs from permutation or shuffle whereby the rows are shuffled along axis-0, but not along axis-1 or axis-2:"
   ]
  },
  {
   "cell_type": "code",
   "execution_count": 48,
   "id": "6a8a84f3",
   "metadata": {},
   "outputs": [
    {
     "data": {
      "text/plain": [
       "array([[[ 6,  7],\n",
       "        [ 8,  9],\n",
       "        [10, 11]],\n",
       "\n",
       "       [[18, 19],\n",
       "        [20, 21],\n",
       "        [22, 23]],\n",
       "\n",
       "       [[ 0,  1],\n",
       "        [ 2,  3],\n",
       "        [ 4,  5]],\n",
       "\n",
       "       [[12, 13],\n",
       "        [14, 15],\n",
       "        [16, 17]]])"
      ]
     },
     "execution_count": 48,
     "metadata": {},
     "output_type": "execute_result"
    }
   ],
   "source": [
    "rng.permutation(x, axis=0)"
   ]
  },
  {
   "cell_type": "markdown",
   "id": "cc62aa98",
   "metadata": {},
   "source": [
    "Calling permutated or permunation on axis-1 results in a shuffling of the columns along axis-1; whilst the columns are shuffled within the rows, the row order itself is not changed. "
   ]
  },
  {
   "cell_type": "code",
   "execution_count": 49,
   "id": "58cb1947",
   "metadata": {},
   "outputs": [
    {
     "data": {
      "text/plain": [
       "array([[[ 2,  5],\n",
       "        [ 4,  3],\n",
       "        [ 0,  1]],\n",
       "\n",
       "       [[ 6, 11],\n",
       "        [10,  7],\n",
       "        [ 8,  9]],\n",
       "\n",
       "       [[14, 13],\n",
       "        [16, 15],\n",
       "        [12, 17]],\n",
       "\n",
       "       [[20, 23],\n",
       "        [22, 21],\n",
       "        [18, 19]]])"
      ]
     },
     "execution_count": 49,
     "metadata": {},
     "output_type": "execute_result"
    }
   ],
   "source": [
    "rng.permuted(x, axis=1)"
   ]
  },
  {
   "cell_type": "code",
   "execution_count": 50,
   "id": "b14cfd4a",
   "metadata": {},
   "outputs": [
    {
     "data": {
      "text/plain": [
       "array([[[ 2,  3],\n",
       "        [ 0,  1],\n",
       "        [ 4,  5]],\n",
       "\n",
       "       [[ 8,  9],\n",
       "        [ 6,  7],\n",
       "        [10, 11]],\n",
       "\n",
       "       [[14, 15],\n",
       "        [12, 13],\n",
       "        [16, 17]],\n",
       "\n",
       "       [[20, 21],\n",
       "        [18, 19],\n",
       "        [22, 23]]])"
      ]
     },
     "execution_count": 50,
     "metadata": {},
     "output_type": "execute_result"
    }
   ],
   "source": [
    "rng.permutation(x, axis=1)"
   ]
  },
  {
   "cell_type": "markdown",
   "id": "4b21c0ad",
   "metadata": {},
   "source": [
    "Calling permutated on axis-2 results in a shuffling of axis-2 independently from the other axis:"
   ]
  },
  {
   "cell_type": "code",
   "execution_count": 51,
   "id": "46950b00",
   "metadata": {},
   "outputs": [
    {
     "data": {
      "text/plain": [
       "array([[[ 1,  0],\n",
       "        [ 2,  3],\n",
       "        [ 5,  4]],\n",
       "\n",
       "       [[ 7,  6],\n",
       "        [ 9,  8],\n",
       "        [10, 11]],\n",
       "\n",
       "       [[13, 12],\n",
       "        [15, 14],\n",
       "        [17, 16]],\n",
       "\n",
       "       [[19, 18],\n",
       "        [20, 21],\n",
       "        [22, 23]]])"
      ]
     },
     "execution_count": 51,
     "metadata": {},
     "output_type": "execute_result"
    }
   ],
   "source": [
    "rng.permuted(x, axis=2)"
   ]
  },
  {
   "cell_type": "markdown",
   "id": "d03f9100",
   "metadata": {},
   "source": [
    "Whereas permutatation shuffles along axis-2 but is not idependent:"
   ]
  },
  {
   "cell_type": "code",
   "execution_count": 52,
   "id": "bdcd4fa5",
   "metadata": {
    "scrolled": true
   },
   "outputs": [
    {
     "data": {
      "text/plain": [
       "array([[[ 1,  0],\n",
       "        [ 3,  2],\n",
       "        [ 5,  4]],\n",
       "\n",
       "       [[ 7,  6],\n",
       "        [ 9,  8],\n",
       "        [11, 10]],\n",
       "\n",
       "       [[13, 12],\n",
       "        [15, 14],\n",
       "        [17, 16]],\n",
       "\n",
       "       [[19, 18],\n",
       "        [21, 20],\n",
       "        [23, 22]]])"
      ]
     },
     "execution_count": 52,
     "metadata": {},
     "output_type": "execute_result"
    }
   ],
   "source": [
    "rng.permutation(x, axis=2)"
   ]
  },
  {
   "cell_type": "markdown",
   "id": "82924db2",
   "metadata": {},
   "source": [
    "By default, the permuted function returns a shuffled copy. The above examples have not overwritten x:"
   ]
  },
  {
   "cell_type": "code",
   "execution_count": 53,
   "id": "140f8d1a",
   "metadata": {},
   "outputs": [
    {
     "data": {
      "text/plain": [
       "array([[[ 0,  1],\n",
       "        [ 2,  3],\n",
       "        [ 4,  5]],\n",
       "\n",
       "       [[ 6,  7],\n",
       "        [ 8,  9],\n",
       "        [10, 11]],\n",
       "\n",
       "       [[12, 13],\n",
       "        [14, 15],\n",
       "        [16, 17]],\n",
       "\n",
       "       [[18, 19],\n",
       "        [20, 21],\n",
       "        [22, 23]]])"
      ]
     },
     "execution_count": 53,
     "metadata": {},
     "output_type": "execute_result"
    }
   ],
   "source": [
    "x"
   ]
  },
  {
   "cell_type": "markdown",
   "id": "f84e859d",
   "metadata": {},
   "source": [
    "The permuted function can be performed in-place through use of the out function. For example:"
   ]
  },
  {
   "cell_type": "code",
   "execution_count": 56,
   "id": "1b202973",
   "metadata": {},
   "outputs": [
    {
     "data": {
      "text/plain": [
       "array([[[ 0,  1],\n",
       "        [20, 15],\n",
       "        [ 4, 17]],\n",
       "\n",
       "       [[ 6,  7],\n",
       "        [ 8, 21],\n",
       "        [22, 23]],\n",
       "\n",
       "       [[18, 19],\n",
       "        [ 2,  3],\n",
       "        [10, 11]],\n",
       "\n",
       "       [[12, 13],\n",
       "        [14,  9],\n",
       "        [16,  5]]])"
      ]
     },
     "execution_count": 56,
     "metadata": {},
     "output_type": "execute_result"
    }
   ],
   "source": [
    "y = rng.permuted(x, axis=0, out=x)\n",
    "y"
   ]
  },
  {
   "cell_type": "code",
   "execution_count": 57,
   "id": "1b772b85",
   "metadata": {},
   "outputs": [
    {
     "data": {
      "text/plain": [
       "array([[[ 0,  1],\n",
       "        [20, 15],\n",
       "        [ 4, 17]],\n",
       "\n",
       "       [[ 6,  7],\n",
       "        [ 8, 21],\n",
       "        [22, 23]],\n",
       "\n",
       "       [[18, 19],\n",
       "        [ 2,  3],\n",
       "        [10, 11]],\n",
       "\n",
       "       [[12, 13],\n",
       "        [14,  9],\n",
       "        [16,  5]]])"
      ]
     },
     "execution_count": 57,
     "metadata": {},
     "output_type": "execute_result"
    }
   ],
   "source": [
    "x"
   ]
  },
  {
   "cell_type": "markdown",
   "id": "ef76c4cf",
   "metadata": {},
   "source": [
    "## 4. Distributions "
   ]
  },
  {
   "cell_type": "markdown",
   "id": "4e33d277",
   "metadata": {},
   "source": [
    "The ```numpy.random``` package contains a wide variety of distributions which can be applied to sequences generated by the Generator. Five distributions are discussed in this section:"
   ]
  },
  {
   "cell_type": "markdown",
   "id": "762cfbf5",
   "metadata": {},
   "source": [
    "1. Normal\n",
    "2. Rayleigh\n",
    "3. Exponential\n",
    "4. Uniform\n",
    "5. Weibull"
   ]
  },
  {
   "cell_type": "markdown",
   "id": "af8a976c",
   "metadata": {},
   "source": []
  },
  {
   "cell_type": "code",
   "execution_count": null,
   "id": "b06a5dd4",
   "metadata": {},
   "outputs": [],
   "source": []
  },
  {
   "cell_type": "code",
   "execution_count": null,
   "id": "6e88ac5c",
   "metadata": {},
   "outputs": [],
   "source": []
  },
  {
   "cell_type": "code",
   "execution_count": null,
   "id": "d597ff5e",
   "metadata": {},
   "outputs": [],
   "source": []
  },
  {
   "cell_type": "code",
   "execution_count": null,
   "id": "de5bb534",
   "metadata": {},
   "outputs": [],
   "source": []
  },
  {
   "cell_type": "markdown",
   "id": "488bff0c",
   "metadata": {},
   "source": [
    "## 5. Seeds"
   ]
  },
  {
   "cell_type": "markdown",
   "id": "73d92da6",
   "metadata": {},
   "source": [
    "```numpy.random``` uses a seed to derive the initial state with a sequence of statistcally random numbers generated from this known starting point; the use of a known seed means that the the algorithm is repeatable. \n",
    "\n",
    "Therefore, the numbers generated are not completely random and are known as \"pseudo-random numbers\"."
   ]
  },
  {
   "cell_type": "code",
   "execution_count": null,
   "id": "401d3a27",
   "metadata": {},
   "outputs": [],
   "source": []
  },
  {
   "cell_type": "code",
   "execution_count": null,
   "id": "2f3f4389",
   "metadata": {},
   "outputs": [],
   "source": []
  },
  {
   "cell_type": "markdown",
   "id": "455d416b",
   "metadata": {},
   "source": [
    "## 6. Conclusion"
   ]
  }
 ],
 "metadata": {
  "kernelspec": {
   "display_name": "Python 3 (ipykernel)",
   "language": "python",
   "name": "python3"
  },
  "language_info": {
   "codemirror_mode": {
    "name": "ipython",
    "version": 3
   },
   "file_extension": ".py",
   "mimetype": "text/x-python",
   "name": "python",
   "nbconvert_exporter": "python",
   "pygments_lexer": "ipython3",
   "version": "3.8.11"
  }
 },
 "nbformat": 4,
 "nbformat_minor": 5
}
