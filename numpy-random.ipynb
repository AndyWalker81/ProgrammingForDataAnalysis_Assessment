{
 "cells": [
  {
   "cell_type": "markdown",
   "id": "874f72ad",
   "metadata": {},
   "source": [
    "# The numpy.random package "
   ]
  },
  {
   "cell_type": "markdown",
   "id": "6df241a1",
   "metadata": {},
   "source": [
    "## Programming for Data Analysis Assignment"
   ]
  },
  {
   "cell_type": "markdown",
   "id": "b754a200",
   "metadata": {},
   "source": [
    "### Andrew Walker - G00398788@gmit.ie"
   ]
  },
  {
   "cell_type": "markdown",
   "id": "b1bbe76a",
   "metadata": {},
   "source": [
    "![numpy.org](https://numpy.org/doc/stable/_static/numpylogo.svg)"
   ]
  },
  {
   "cell_type": "markdown",
   "id": "57f89fd9",
   "metadata": {},
   "source": [
    "## 1. Introduction"
   ]
  },
  {
   "cell_type": "markdown",
   "id": "d86aa1be",
   "metadata": {},
   "source": [
    "This notebook contains an explanation of the ```numpy.random``` package in Python. "
   ]
  },
  {
   "cell_type": "markdown",
   "id": "acdf6ba1",
   "metadata": {},
   "source": [
    "NumPy is an open source project aiming to enable numerical computing with Python (https://numpy.org/about/). It is used for working with arrays and also has functions for working in the domain of linear algebra, fourier transform, and matrices (https://www.w3schools.com/python/numpy/numpy_intro.asp). In has applications in a wide range of fields such as astronomy, physics, engineering, and economics. "
   ]
  },
  {
   "cell_type": "markdown",
   "id": "a8e63aa5",
   "metadata": {},
   "source": [
    "The ```numpy.random``` package within NumPy is used to generate a sequence of numbers which approximate the properties of random numbers. The sequence of numbers that is generated is statistically random and can be used in a wide range of applications.    "
   ]
  },
  {
   "cell_type": "markdown",
   "id": "668e8dc3",
   "metadata": {},
   "source": [
    "The package generates the sequence with the use of a BitGenerator and a Generator. The BitGenerator uses a seed to derive the initial state and create a sequence of statistically random numbers bits. The Generator converts the sequence of random bits for a BitGenerator into sequences of numbers that follow a specific probability distribution (https://numpy.org/doc/stable/reference/random/index.html). "
   ]
  },
  {
   "cell_type": "markdown",
   "id": "99221eb4",
   "metadata": {},
   "source": [
    "This notebook will explain the following overarching features of the ```numpy.random``` package:\n",
    "\n",
    "- Simple random data\n",
    "- Permutations\n",
    "- The purpose of five Distribution functions\n",
    "    - Uniform\n",
    "    - Bell\n",
    "    - ....\n",
    "    - ....\n",
    "    - ....\n",
    "- The use of seeds in generating pseudo-random numbers"
   ]
  },
  {
   "cell_type": "markdown",
   "id": "30b44469",
   "metadata": {},
   "source": [
    "The notebook will explain each feature and the functions contained in each. It will use ........ "
   ]
  },
  {
   "cell_type": "markdown",
   "id": "18d0cf8b",
   "metadata": {},
   "source": [
    "```matplotlib.pyplot``` will also be used....."
   ]
  },
  {
   "cell_type": "markdown",
   "id": "f5707cb3",
   "metadata": {},
   "source": [
    "At the time of writing this notebook, the latest release of ```numpy.random``` is 1.21.0. This contents of this notebook are based on this release."
   ]
  },
  {
   "cell_type": "markdown",
   "id": "4e361ae5",
   "metadata": {},
   "source": [
    "## 2. Initalising the ```numpy.random``` Package"
   ]
  },
  {
   "cell_type": "markdown",
   "id": "f14bbb9c",
   "metadata": {},
   "source": [
    "Import Numpy:"
   ]
  },
  {
   "cell_type": "code",
   "execution_count": 1,
   "id": "2c430dc6",
   "metadata": {},
   "outputs": [],
   "source": [
    "import numpy as np"
   ]
  },
  {
   "cell_type": "markdown",
   "id": "d4e56e16",
   "metadata": {},
   "source": [
    "Construct a new Generator with the default BitGenerator (PCG64): "
   ]
  },
  {
   "cell_type": "code",
   "execution_count": 2,
   "id": "db98f501",
   "metadata": {},
   "outputs": [],
   "source": [
    "rng = np.random.default_rng()"
   ]
  },
  {
   "cell_type": "markdown",
   "id": "c23f3174",
   "metadata": {},
   "source": [
    "A seed can be specified in ```default_rng```. The use of a known seed means that the the algorithm is repeatable. BitGenerators and seeds are discussed further in Section XXXXXX"
   ]
  },
  {
   "cell_type": "markdown",
   "id": "b573f3a3",
   "metadata": {},
   "source": [
    "Pyplot will also be used to allow plotting of outputs generated, where required:"
   ]
  },
  {
   "cell_type": "code",
   "execution_count": 3,
   "id": "9510f085",
   "metadata": {},
   "outputs": [],
   "source": [
    "import matplotlib.pyplot as plt"
   ]
  },
  {
   "cell_type": "markdown",
   "id": "dfbf28d2",
   "metadata": {},
   "source": [
    "## 3. Simple Random Data"
   ]
  },
  {
   "cell_type": "markdown",
   "id": "bcae83ee",
   "metadata": {},
   "source": [
    "The ```numpy.random``` package contains four functions to generate simple random data. These are discussed in this section."
   ]
  },
  {
   "cell_type": "markdown",
   "id": "4ae05e21",
   "metadata": {},
   "source": [
    "### 3.1 Integers\n"
   ]
  },
  {
   "cell_type": "markdown",
   "id": "c67e06bb",
   "metadata": {},
   "source": [
    "Numpy can be instructed to return random integers. For example:"
   ]
  },
  {
   "cell_type": "code",
   "execution_count": 4,
   "id": "7251769b",
   "metadata": {},
   "outputs": [
    {
     "data": {
      "text/plain": [
       "array([1, 2, 0, 1, 2], dtype=int64)"
      ]
     },
     "execution_count": 4,
     "metadata": {},
     "output_type": "execute_result"
    }
   ],
   "source": [
    "rng.integers(0, 3, size=5)"
   ]
  },
  {
   "cell_type": "markdown",
   "id": "86865012",
   "metadata": {},
   "source": [
    "In this example, the first parameter (```0```) sets the lowest integer that is possible to be generated. The upper limit is defined by the second parameter (```3```); the highest integer that is possible to be generated is one lower than this number. The parameter ```size=5``` designates that 5 random numbers should be generated.  "
   ]
  },
  {
   "cell_type": "markdown",
   "id": "7d2bc477",
   "metadata": {},
   "source": [
    "The shape of the output can be changed by specifying the number of rows and columns. For example, a 5 x 5 array containing random numbers between 0 and 9 can be generated using the following:"
   ]
  },
  {
   "cell_type": "code",
   "execution_count": 5,
   "id": "87285c10",
   "metadata": {},
   "outputs": [
    {
     "data": {
      "text/plain": [
       "array([[5, 7, 4, 9, 7],\n",
       "       [8, 8, 8, 3, 0],\n",
       "       [8, 4, 3, 3, 2],\n",
       "       [1, 0, 8, 2, 3],\n",
       "       [9, 1, 1, 4, 4]], dtype=int64)"
      ]
     },
     "execution_count": 5,
     "metadata": {},
     "output_type": "execute_result"
    }
   ],
   "source": [
    "rng.integers(0, 10, size=(5,5))\n"
   ]
  },
  {
   "cell_type": "markdown",
   "id": "6b283ce1",
   "metadata": {},
   "source": [
    "In these examples, the output also includes the data type: ```dtype=int64```. By default, Python has the following data types:\n",
    "\n",
    "- strings\n",
    "- integer\n",
    "- float\n",
    "- boolean\n",
    "- complex\n",
    "\n",
    "NumPy also includes a number of additional data types (discussion of which is considered outside the scope of this notebook). \n",
    "\n",
    "```dtype=int64``` refers to the output containing 64-bit integers. This can be changed, as shown in the following example to output 8-bit integers:"
   ]
  },
  {
   "cell_type": "code",
   "execution_count": 6,
   "id": "1e0a152c",
   "metadata": {},
   "outputs": [
    {
     "data": {
      "text/plain": [
       "array([[2, 1, 2, 6, 7],\n",
       "       [2, 2, 8, 8, 7],\n",
       "       [7, 4, 0, 2, 5],\n",
       "       [1, 9, 4, 6, 4],\n",
       "       [3, 6, 8, 1, 5]], dtype=int8)"
      ]
     },
     "execution_count": 6,
     "metadata": {},
     "output_type": "execute_result"
    }
   ],
   "source": [
    "rng.integers(0, 10, size=(5,5), dtype='int8')"
   ]
  },
  {
   "cell_type": "markdown",
   "id": "60868e2d",
   "metadata": {},
   "source": [
    "The integers are generated by default as a discrete probability distribution. This means that the probability of outcomes is equally likely and with finite values (https://corporatefinanceinstitute.com/resources/knowledge/other/uniform-distribution/). "
   ]
  },
  {
   "cell_type": "code",
   "execution_count": 7,
   "id": "8f73fb0f",
   "metadata": {},
   "outputs": [
    {
     "data": {
      "image/png": "[encoded data removed]",
      "text/plain": [
       "<Figure size 432x288 with 1 Axes>"
      ]
     },
     "metadata": {
      "needs_background": "light"
     },
     "output_type": "display_data"
    }
   ],
   "source": [
    "x = rng.integers(100, size=10000)\n",
    "plt.hist(x)\n",
    "plt.show()"
   ]
  },
  {
   "cell_type": "markdown",
   "id": "54710501",
   "metadata": {},
   "source": [
    "### 2.2 Random"
   ]
  },
  {
   "cell_type": "markdown",
   "id": "bc704e6d",
   "metadata": {},
   "source": [
    "The Numpy random function returns random floats. For example:"
   ]
  },
  {
   "cell_type": "code",
   "execution_count": 8,
   "id": "a12de2c3",
   "metadata": {},
   "outputs": [
    {
     "data": {
      "text/plain": [
       "0.5927686212196095"
      ]
     },
     "execution_count": 8,
     "metadata": {},
     "output_type": "execute_result"
    }
   ],
   "source": [
    "rng.random()"
   ]
  },
  {
   "cell_type": "markdown",
   "id": "9e5e2869",
   "metadata": {},
   "source": [
    "The size of output can be specified:"
   ]
  },
  {
   "cell_type": "code",
   "execution_count": 9,
   "id": "5c2aaf9b",
   "metadata": {
    "scrolled": true
   },
   "outputs": [
    {
     "data": {
      "text/plain": [
       "array([[0.95337532, 0.13534716, 0.19714445, 0.6304985 , 0.89968133],\n",
       "       [0.76162762, 0.57428515, 0.7194262 , 0.38890402, 0.65348708],\n",
       "       [0.69771033, 0.75004142, 0.11966982, 0.27233475, 0.46128195],\n",
       "       [0.36510995, 0.92719362, 0.39852777, 0.35771399, 0.9833771 ],\n",
       "       [0.67250961, 0.27172132, 0.92147025, 0.29851554, 0.11067287]])"
      ]
     },
     "execution_count": 9,
     "metadata": {},
     "output_type": "execute_result"
    }
   ],
   "source": [
    "rng.random(size=(5,5))"
   ]
  },
  {
   "cell_type": "markdown",
   "id": "5c36df4d",
   "metadata": {},
   "source": [
    "To specify the low and high values the formula ```(b + a) * rng.random() + a``` can be used. The following example outputs five floats between 0 (inclusive) and 3 (exclusive):"
   ]
  },
  {
   "cell_type": "code",
   "execution_count": 10,
   "id": "dde5e83b",
   "metadata": {},
   "outputs": [
    {
     "data": {
      "text/plain": [
       "array([[2.88440177, 1.88017815, 0.35215714, 2.64500994, 2.48725507],\n",
       "       [1.43209886, 0.91224083, 0.70891957, 0.60856733, 1.66036815],\n",
       "       [0.55129572, 2.55032449, 2.17525832, 1.44311262, 1.95367519],\n",
       "       [0.89663072, 1.61326523, 1.69931855, 2.66146315, 2.77895534],\n",
       "       [0.41895484, 2.24413952, 2.33549293, 0.20577093, 0.49484392]])"
      ]
     },
     "execution_count": 10,
     "metadata": {},
     "output_type": "execute_result"
    }
   ],
   "source": [
    "a = 0 #low value\n",
    "b = 3 #high value\n",
    "x = rng.random(size=(5,5)) \n",
    "y = (b + a) * x + a\n",
    "y"
   ]
  },
  {
   "cell_type": "markdown",
   "id": "1c8282f9",
   "metadata": {},
   "source": [
    "Or for negative numbers between 0 (inclusive) and -1 (exclusive):"
   ]
  },
  {
   "cell_type": "code",
   "execution_count": 11,
   "id": "ea469ed7",
   "metadata": {},
   "outputs": [
    {
     "data": {
      "text/plain": [
       "array([[-0.85410911, -0.45382087, -0.80631015, -0.53494199, -0.99108453],\n",
       "       [-0.52136851, -0.38561239, -0.2101644 , -0.11042856, -0.24558806],\n",
       "       [-0.80708577, -0.02637182, -0.91357814, -0.63192949, -0.6203009 ],\n",
       "       [-0.97666663, -0.5219452 , -0.90936178, -0.92926011, -0.79241585],\n",
       "       [-0.94389784, -0.6190015 , -0.84582568, -0.24530979, -0.85191157]])"
      ]
     },
     "execution_count": 11,
     "metadata": {},
     "output_type": "execute_result"
    }
   ],
   "source": [
    "a = 0 \n",
    "b = -1 \n",
    "x = rng.random(size=(5,5)) \n",
    "y = (b + a) * x + a\n",
    "y"
   ]
  },
  {
   "cell_type": "markdown",
   "id": "3e1cb2c4",
   "metadata": {},
   "source": [
    "However, for negative numbers not including 0, the formula must be changed slightly. For example, for negative numbers between -1 (inclusive) and -2 (exclusive):"
   ]
  },
  {
   "cell_type": "code",
   "execution_count": 12,
   "id": "e0fc63bc",
   "metadata": {},
   "outputs": [
    {
     "data": {
      "text/plain": [
       "array([[-1.68549772, -1.33573922, -1.18277351, -1.8578249 , -1.33114194],\n",
       "       [-1.40691359, -1.96089637, -1.02618302, -1.32209095, -1.9105591 ],\n",
       "       [-1.7007067 , -1.39736694, -1.10304571, -1.94224499, -1.5673799 ],\n",
       "       [-1.81505051, -1.7386936 , -1.6580312 , -1.75817184, -1.21101071],\n",
       "       [-1.70862457, -1.6787963 , -1.72390362, -1.83630115, -1.34993   ]])"
      ]
     },
     "execution_count": 12,
     "metadata": {},
     "output_type": "execute_result"
    }
   ],
   "source": [
    "a = -1 \n",
    "b = -2 \n",
    "x = rng.random(size=(5,5))  \n",
    "y = (b - a) * x + a\n",
    "y"
   ]
  },
  {
   "cell_type": "markdown",
   "id": "0457ae35",
   "metadata": {},
   "source": [
    "The floats are generated by default as a continuous probability distribution. This means that there are infinite number of equally likely measurable values. (https://corporatefinanceinstitute.com/resources/knowledge/other/uniform-distribution/). "
   ]
  },
  {
   "cell_type": "code",
   "execution_count": 13,
   "id": "0fab7b01",
   "metadata": {},
   "outputs": [
    {
     "data": {
      "text/plain": [
       "<function matplotlib.pyplot.show(close=None, block=None)>"
      ]
     },
     "execution_count": 13,
     "metadata": {},
     "output_type": "execute_result"
    },
    {
     "data": {
      "image/png": "[encoded data removed]",
      "text/plain": [
       "<Figure size 432x288 with 1 Axes>"
      ]
     },
     "metadata": {
      "needs_background": "light"
     },
     "output_type": "display_data"
    }
   ],
   "source": [
    "x = rng.random(size=10000)\n",
    "plt.hist(x)\n",
    "plt.show"
   ]
  },
  {
   "cell_type": "markdown",
   "id": "46a82682",
   "metadata": {},
   "source": [
    "### 2.3 Choice"
   ]
  },
  {
   "cell_type": "markdown",
   "id": "1f8cda7a",
   "metadata": {},
   "source": [
    "The Numpy choice function generates a random sample from a given array. For example:"
   ]
  },
  {
   "cell_type": "code",
   "execution_count": 14,
   "id": "31166edc",
   "metadata": {},
   "outputs": [
    {
     "data": {
      "text/plain": [
       "array([4, 5, 5, 9, 4], dtype=int64)"
      ]
     },
     "execution_count": 14,
     "metadata": {},
     "output_type": "execute_result"
    }
   ],
   "source": [
    "rng.choice(10, 5)"
   ]
  },
  {
   "cell_type": "markdown",
   "id": "30a28ada",
   "metadata": {},
   "source": [
    "This returns an array of 5 integers between 0 and 9 (inclusive) and is the equivalent of ```rng.integers(0, 10, 5)```."
   ]
  },
  {
   "cell_type": "markdown",
   "id": "e3bfedd7",
   "metadata": {},
   "source": [
    "By default, the distribution is uniform, as shown below:"
   ]
  },
  {
   "cell_type": "code",
   "execution_count": 15,
   "id": "a40f960e",
   "metadata": {},
   "outputs": [
    {
     "data": {
      "image/png": "[encoded data removed]",
      "text/plain": [
       "<Figure size 432x288 with 1 Axes>"
      ]
     },
     "metadata": {
      "needs_background": "light"
     },
     "output_type": "display_data"
    }
   ],
   "source": [
    "x = rng.choice(100, 10000)\n",
    "plt.hist(x)\n",
    "plt.show()"
   ]
  },
  {
   "cell_type": "markdown",
   "id": "dfb7c6eb",
   "metadata": {},
   "source": [
    "A non-uniform distribution can be generated by specifying parameter ```p``` for the probabilty of a choice occuring. For example:"
   ]
  },
  {
   "cell_type": "code",
   "execution_count": 16,
   "id": "ff4ba34b",
   "metadata": {},
   "outputs": [
    {
     "data": {
      "text/plain": [
       "array([3, 3, 3], dtype=int64)"
      ]
     },
     "execution_count": 16,
     "metadata": {},
     "output_type": "execute_result"
    }
   ],
   "source": [
    "rng.choice(5, 3, p=[0.1, 0, 0.3, 0.6, 0])"
   ]
  },
  {
   "cell_type": "markdown",
   "id": "230c170c",
   "metadata": {},
   "source": [
    "In this example, there is a 10% chance of 0 occuring for any the three numbers generated, a 0% percentage chance for a 1, a 30% chance for a 2, a 60% chance for a 3, and a 0% chance for a 4. "
   ]
  },
  {
   "cell_type": "markdown",
   "id": "3de7deac",
   "metadata": {},
   "source": [
    "Specifying parameter ```replace=False``` will result in an individual number not occurring more than once in the output:"
   ]
  },
  {
   "cell_type": "code",
   "execution_count": 17,
   "id": "b099d6da",
   "metadata": {},
   "outputs": [
    {
     "data": {
      "text/plain": [
       "array([9, 3, 4, 7, 1, 5, 6, 2, 0, 8], dtype=int64)"
      ]
     },
     "execution_count": 17,
     "metadata": {},
     "output_type": "execute_result"
    }
   ],
   "source": [
    "rng.choice(10, 10, replace=False)"
   ]
  },
  {
   "cell_type": "markdown",
   "id": "e4c85779",
   "metadata": {},
   "source": [
    "The axis along which the choice is performed can also be selected. The 0 axis refers to rows, and the 1 axis refers to columns (https://www.sharpsightlabs.com/blog/numpy-axes-explained/). The default is 0 is this parameter is not set. For example: "
   ]
  },
  {
   "cell_type": "code",
   "execution_count": 18,
   "id": "3b148e84",
   "metadata": {},
   "outputs": [
    {
     "data": {
      "text/plain": [
       "array([['0', '1', '2'],\n",
       "       ['9', 'A', 'B'],\n",
       "       ['9', 'A', 'B'],\n",
       "       ['6', '7', '8'],\n",
       "       ['C', 'D', 'E']], dtype='<U11')"
      ]
     },
     "execution_count": 18,
     "metadata": {},
     "output_type": "execute_result"
    }
   ],
   "source": [
    "x = rng.choice([[0,1,2], [3,4,5], [6,7,8], [9,'A','B'], ['C','D','E']], 5, axis=0)\n",
    "x"
   ]
  },
  {
   "cell_type": "markdown",
   "id": "ae5721c9",
   "metadata": {},
   "source": [
    "The above output contains five rows with three elements: "
   ]
  },
  {
   "cell_type": "code",
   "execution_count": 19,
   "id": "3eb18c1f",
   "metadata": {},
   "outputs": [
    {
     "data": {
      "text/plain": [
       "(5, 3)"
      ]
     },
     "execution_count": 19,
     "metadata": {},
     "output_type": "execute_result"
    }
   ],
   "source": [
    "(x.shape)"
   ]
  },
  {
   "cell_type": "markdown",
   "id": "9af2a897",
   "metadata": {},
   "source": [
    "Setting the axis to 1:"
   ]
  },
  {
   "cell_type": "code",
   "execution_count": 20,
   "id": "bea52740",
   "metadata": {},
   "outputs": [
    {
     "data": {
      "text/plain": [
       "array([['2', '2', '1', '1', '0'],\n",
       "       ['5', '5', '4', '4', '3'],\n",
       "       ['8', '8', '7', '7', '6'],\n",
       "       ['B', 'B', 'A', 'A', '9'],\n",
       "       ['E', 'E', 'D', 'D', 'C']], dtype='<U11')"
      ]
     },
     "execution_count": 20,
     "metadata": {},
     "output_type": "execute_result"
    }
   ],
   "source": [
    "x = rng.choice([[0,1,2], [3,4,5], [6,7,8], [9,'A','B'], ['C','D','E']], 5, axis=1)\n",
    "x"
   ]
  },
  {
   "cell_type": "markdown",
   "id": "2fc00c66",
   "metadata": {},
   "source": [
    "The above output contains five rows with five columns:"
   ]
  },
  {
   "cell_type": "code",
   "execution_count": 21,
   "id": "68a07557",
   "metadata": {},
   "outputs": [
    {
     "data": {
      "text/plain": [
       "(5, 5)"
      ]
     },
     "execution_count": 21,
     "metadata": {},
     "output_type": "execute_result"
    }
   ],
   "source": [
    "(x.shape)"
   ]
  },
  {
   "cell_type": "markdown",
   "id": "3423d39f",
   "metadata": {},
   "source": [
    "The choice function is not restricted to integers. For example:"
   ]
  },
  {
   "cell_type": "code",
   "execution_count": 22,
   "id": "5727ea24",
   "metadata": {},
   "outputs": [
    {
     "data": {
      "text/plain": [
       "array(['spring', 'winter', 'spring', 'spring'], dtype='<U6')"
      ]
     },
     "execution_count": 22,
     "metadata": {},
     "output_type": "execute_result"
    }
   ],
   "source": [
    "season = ['spring', 'summer', 'autumn', 'winter']\n",
    "rng.choice(season, 4, p=[0.5, 0, 0, 0.5])"
   ]
  },
  {
   "cell_type": "markdown",
   "id": "dd942e59",
   "metadata": {},
   "source": [
    "### 2.4 Bytes"
   ]
  },
  {
   "cell_type": "markdown",
   "id": "b4b53741",
   "metadata": {},
   "source": [
    "The Numpy bytes function returns random bytes, dependent on the specified length. The following example returns 10 bytes:"
   ]
  },
  {
   "cell_type": "code",
   "execution_count": 23,
   "id": "ef4d1b45",
   "metadata": {},
   "outputs": [
    {
     "data": {
      "text/plain": [
       "b\"\\x1f1:\\xf9\\x1e\\x074'%\\xe1\""
      ]
     },
     "execution_count": 23,
     "metadata": {},
     "output_type": "execute_result"
    }
   ],
   "source": [
    "rng.bytes(10)\n"
   ]
  },
  {
   "cell_type": "markdown",
   "id": "e58e2b98",
   "metadata": {},
   "source": [
    "The bytes are returned in hex and ASCII. Any two characters following an x character are hex characters making up 1 byte; any other characters are ASCII characters of 1 byte each. The initial b is a prefix for bytes, and the output is enclosed in matching single quotes ('). "
   ]
  },
  {
   "cell_type": "markdown",
   "id": "dabb74fa",
   "metadata": {},
   "source": [
    "For example, ```b'\\xfd\\xd7\\x17\\xac\\xa3Ig\\xf0`\\xa1'``` would be made up of the following for a total of 10 bytes:\n",
    "\n",
    "- fd (hex)\n",
    "- d7 (hex)\n",
    "- 17 (hex)\n",
    "- ac (hex)\n",
    "- a3 (hex)\n",
    "- I (ASCII)\n",
    "- g (ASCII)\n",
    "- f0 (hex)\n",
    "- ` (ASCII)\n",
    "- a1 (hex)"
   ]
  },
  {
   "cell_type": "markdown",
   "id": "ab23cecc",
   "metadata": {},
   "source": [
    "https://stackoverflow.com/questions/26802581/can-anyone-identify-this-encoding?rq=1\n",
    "https://docs.python.org/3.4/reference/lexical_analysis.html#grammar-token-shortbytesitem"
   ]
  },
  {
   "cell_type": "markdown",
   "id": "c2181e8c",
   "metadata": {},
   "source": [
    "## 3. Permutations"
   ]
  },
  {
   "cell_type": "markdown",
   "id": "c9f79271",
   "metadata": {},
   "source": [
    "The ```numpy.random``` package contains three methods for randomly permutating a sequence. These are discussed in this section. "
   ]
  },
  {
   "cell_type": "markdown",
   "id": "6c35056c",
   "metadata": {},
   "source": [
    "### 3.1 Shuffle"
   ]
  },
  {
   "cell_type": "markdown",
   "id": "3d68daa5",
   "metadata": {},
   "source": [
    "The Numpy shuffle function rearranges the order of a sequence's contents. For example, the following will return a sequence of numbers from 0 to 9 (inclusive) in a random order, as detailed in Section 2.3:"
   ]
  },
  {
   "cell_type": "code",
   "execution_count": 24,
   "id": "914c4eec",
   "metadata": {},
   "outputs": [
    {
     "data": {
      "text/plain": [
       "array([8, 0, 7, 3, 2, 9, 6, 1, 4, 5], dtype=int64)"
      ]
     },
     "execution_count": 24,
     "metadata": {},
     "output_type": "execute_result"
    }
   ],
   "source": [
    "x = rng.choice(10, 10, replace=False)\n",
    "x"
   ]
  },
  {
   "cell_type": "markdown",
   "id": "7c8579b9",
   "metadata": {},
   "source": [
    "The squence order is then rearranged using the shuffle function:"
   ]
  },
  {
   "cell_type": "code",
   "execution_count": 25,
   "id": "38b73201",
   "metadata": {},
   "outputs": [
    {
     "data": {
      "text/plain": [
       "array([3, 5, 0, 9, 2, 4, 7, 1, 8, 6], dtype=int64)"
      ]
     },
     "execution_count": 25,
     "metadata": {},
     "output_type": "execute_result"
    }
   ],
   "source": [
    "rng.shuffle(x)\n",
    "x"
   ]
  },
  {
   "cell_type": "markdown",
   "id": "c6911259",
   "metadata": {},
   "source": [
    "The shuffle function can also rearrange the sequence of arrays:"
   ]
  },
  {
   "cell_type": "code",
   "execution_count": 26,
   "id": "293c0408",
   "metadata": {},
   "outputs": [
    {
     "data": {
      "text/plain": [
       "array([[ 0,  1,  2,  3,  4],\n",
       "       [ 5,  6,  7,  8,  9],\n",
       "       [10, 11, 12, 13, 14],\n",
       "       [15, 16, 17, 18, 19],\n",
       "       [20, 21, 22, 23, 24]])"
      ]
     },
     "execution_count": 26,
     "metadata": {},
     "output_type": "execute_result"
    }
   ],
   "source": [
    "x = np.arange(0, 25).reshape(5, 5)\n",
    "x"
   ]
  },
  {
   "cell_type": "code",
   "execution_count": 27,
   "id": "23d2a918",
   "metadata": {},
   "outputs": [
    {
     "data": {
      "text/plain": [
       "array([[ 0,  1,  2,  3,  4],\n",
       "       [20, 21, 22, 23, 24],\n",
       "       [10, 11, 12, 13, 14],\n",
       "       [15, 16, 17, 18, 19],\n",
       "       [ 5,  6,  7,  8,  9]])"
      ]
     },
     "execution_count": 27,
     "metadata": {},
     "output_type": "execute_result"
    }
   ],
   "source": [
    "rng.shuffle(x)\n",
    "x"
   ]
  },
  {
   "cell_type": "markdown",
   "id": "55417436",
   "metadata": {},
   "source": [
    "By default, the axis parameter is set to zero. As can be seen in the above example, by default, the shuffle function will shuffle the order the rows, but not the order of the columns. "
   ]
  },
  {
   "cell_type": "markdown",
   "id": "7ababe00",
   "metadata": {},
   "source": [
    "In the below example, the axis is set to 1:"
   ]
  },
  {
   "cell_type": "code",
   "execution_count": 28,
   "id": "bdc4e7fe",
   "metadata": {},
   "outputs": [
    {
     "data": {
      "text/plain": [
       "array([[ 0,  1,  2,  3,  4],\n",
       "       [ 5,  6,  7,  8,  9],\n",
       "       [10, 11, 12, 13, 14],\n",
       "       [15, 16, 17, 18, 19],\n",
       "       [20, 21, 22, 23, 24]])"
      ]
     },
     "execution_count": 28,
     "metadata": {},
     "output_type": "execute_result"
    }
   ],
   "source": [
    "x = np.arange(0, 25).reshape(5, 5)\n",
    "x"
   ]
  },
  {
   "cell_type": "code",
   "execution_count": 29,
   "id": "9081f39d",
   "metadata": {},
   "outputs": [
    {
     "data": {
      "text/plain": [
       "array([[ 2,  0,  4,  1,  3],\n",
       "       [ 7,  5,  9,  6,  8],\n",
       "       [12, 10, 14, 11, 13],\n",
       "       [17, 15, 19, 16, 18],\n",
       "       [22, 20, 24, 21, 23]])"
      ]
     },
     "execution_count": 29,
     "metadata": {},
     "output_type": "execute_result"
    }
   ],
   "source": [
    "rng.shuffle(x, axis=1)\n",
    "x"
   ]
  },
  {
   "cell_type": "markdown",
   "id": "e7eeb20f",
   "metadata": {},
   "source": [
    "This results in a shuffling of the contents of the columns, but the row order remaining the same."
   ]
  },
  {
   "cell_type": "markdown",
   "id": "c9c9df93",
   "metadata": {},
   "source": [
    "### 3.2 Permutation"
   ]
  },
  {
   "cell_type": "markdown",
   "id": "e7dce34d",
   "metadata": {},
   "source": [
    "The Numpy permutation function returns either a randomly permuted sequence, as shown in the example below:"
   ]
  },
  {
   "cell_type": "code",
   "execution_count": 30,
   "id": "d4a29c31",
   "metadata": {},
   "outputs": [
    {
     "data": {
      "text/plain": [
       "array([2, 9, 4, 3, 7, 0, 8, 1, 5, 6])"
      ]
     },
     "execution_count": 30,
     "metadata": {},
     "output_type": "execute_result"
    }
   ],
   "source": [
    "rng.permutation(10)\n"
   ]
  },
  {
   "cell_type": "raw",
   "id": "18c2d60b",
   "metadata": {},
   "source": [
    "Or randomly rearranges the elements of an array, as shown in the example below:"
   ]
  },
  {
   "cell_type": "markdown",
   "id": "43cffa3e",
   "metadata": {},
   "source": [
    "Or can rearrange the sequence of arrays:"
   ]
  },
  {
   "cell_type": "code",
   "execution_count": 31,
   "id": "bad2e180",
   "metadata": {},
   "outputs": [
    {
     "data": {
      "text/plain": [
       "array([[ 0,  1,  2,  3,  4],\n",
       "       [ 5,  6,  7,  8,  9],\n",
       "       [10, 11, 12, 13, 14],\n",
       "       [15, 16, 17, 18, 19],\n",
       "       [20, 21, 22, 23, 24]])"
      ]
     },
     "execution_count": 31,
     "metadata": {},
     "output_type": "execute_result"
    }
   ],
   "source": [
    "x = np.arange(0, 25).reshape(5, 5)\n",
    "x"
   ]
  },
  {
   "cell_type": "code",
   "execution_count": 32,
   "id": "494890d0",
   "metadata": {},
   "outputs": [
    {
     "data": {
      "text/plain": [
       "array([[15, 16, 17, 18, 19],\n",
       "       [ 0,  1,  2,  3,  4],\n",
       "       [ 5,  6,  7,  8,  9],\n",
       "       [20, 21, 22, 23, 24],\n",
       "       [10, 11, 12, 13, 14]])"
      ]
     },
     "execution_count": 32,
     "metadata": {},
     "output_type": "execute_result"
    }
   ],
   "source": [
    "y = rng.permutation(x)\n",
    "y"
   ]
  },
  {
   "cell_type": "markdown",
   "id": "52ee08fd",
   "metadata": {},
   "source": [
    "By default, the axis parameter is set to zero. As can be seen in the above example, by default, the permutation function will rearrange the order the rows, but not the order of the columns. "
   ]
  },
  {
   "cell_type": "markdown",
   "id": "f180c585",
   "metadata": {},
   "source": [
    "In the below example, axis is set to 1:"
   ]
  },
  {
   "cell_type": "code",
   "execution_count": 33,
   "id": "5934e028",
   "metadata": {},
   "outputs": [
    {
     "data": {
      "text/plain": [
       "array([[ 0,  1,  2,  3,  4],\n",
       "       [ 5,  6,  7,  8,  9],\n",
       "       [10, 11, 12, 13, 14],\n",
       "       [15, 16, 17, 18, 19],\n",
       "       [20, 21, 22, 23, 24]])"
      ]
     },
     "execution_count": 33,
     "metadata": {},
     "output_type": "execute_result"
    }
   ],
   "source": [
    "x = np.arange(0, 25).reshape(5, 5)\n",
    "x"
   ]
  },
  {
   "cell_type": "code",
   "execution_count": 34,
   "id": "5fe2b530",
   "metadata": {},
   "outputs": [
    {
     "data": {
      "text/plain": [
       "array([[ 1,  2,  0,  4,  3],\n",
       "       [ 6,  7,  5,  9,  8],\n",
       "       [11, 12, 10, 14, 13],\n",
       "       [16, 17, 15, 19, 18],\n",
       "       [21, 22, 20, 24, 23]])"
      ]
     },
     "execution_count": 34,
     "metadata": {},
     "output_type": "execute_result"
    }
   ],
   "source": [
    "y = rng.permutation(x, axis=1)\n",
    "y"
   ]
  },
  {
   "cell_type": "markdown",
   "id": "3444b306",
   "metadata": {},
   "source": [
    "As with the shuffle function, this results in a shuffling of the contents of the columns but the row order remaining the same."
   ]
  },
  {
   "cell_type": "markdown",
   "id": "d2a14fca",
   "metadata": {},
   "source": [
    "### 3.2.2 Difference between Shuffle and Permutation Functions"
   ]
  },
  {
   "cell_type": "markdown",
   "id": "f93ae35f",
   "metadata": {},
   "source": [
    "At first glance, the shuffle and permutation functions appear to perform similarly - both randomly rearrage a sequence or arrays. However, the key difference is that the shuffle function operates in-place, whereas the permutation function returns a copy (https://numpy.org/doc/stable/reference/random/generator.html). (https://jman4190.medium.com/explaining-the-inplace-parameter-for-beginners-5de7ffa18d2e)."
   ]
  },
  {
   "cell_type": "markdown",
   "id": "8a75d7f2",
   "metadata": {},
   "source": [
    "The in-place operation of the shuffle function means that dataframe is overwritten with the output of the function, when it is performed, For example, a sequence of numbers 0 to 9 can be generated as the variable x:"
   ]
  },
  {
   "cell_type": "code",
   "execution_count": 35,
   "id": "cf26b2a2",
   "metadata": {},
   "outputs": [],
   "source": [
    "x = np.arange(10)"
   ]
  },
  {
   "cell_type": "markdown",
   "id": "43711af3",
   "metadata": {},
   "source": [
    "The output of x is shown as the sequence:"
   ]
  },
  {
   "cell_type": "code",
   "execution_count": 36,
   "id": "6897dc4b",
   "metadata": {},
   "outputs": [
    {
     "data": {
      "text/plain": [
       "array([0, 1, 2, 3, 4, 5, 6, 7, 8, 9])"
      ]
     },
     "execution_count": 36,
     "metadata": {},
     "output_type": "execute_result"
    }
   ],
   "source": [
    "x"
   ]
  },
  {
   "cell_type": "markdown",
   "id": "60a71b7e",
   "metadata": {},
   "source": [
    "The shuffle function can then be performed:"
   ]
  },
  {
   "cell_type": "code",
   "execution_count": 37,
   "id": "76cc48f6",
   "metadata": {},
   "outputs": [],
   "source": [
    "rng.shuffle(x)\n"
   ]
  },
  {
   "cell_type": "markdown",
   "id": "5c85b5c9",
   "metadata": {},
   "source": [
    "The variable x now contains the random sequence generated by the shuffle function:"
   ]
  },
  {
   "cell_type": "code",
   "execution_count": 38,
   "id": "18dc4e3a",
   "metadata": {},
   "outputs": [
    {
     "data": {
      "text/plain": [
       "array([0, 6, 3, 9, 7, 2, 8, 1, 4, 5])"
      ]
     },
     "execution_count": 38,
     "metadata": {},
     "output_type": "execute_result"
    }
   ],
   "source": [
    "x"
   ]
  },
  {
   "cell_type": "markdown",
   "id": "68144077",
   "metadata": {},
   "source": [
    "The original sequence contained in x has now been overwritten and calling the variable x again will produce the same output as above and the original sequence is no longer stored:"
   ]
  },
  {
   "cell_type": "code",
   "execution_count": 39,
   "id": "666cde26",
   "metadata": {},
   "outputs": [
    {
     "data": {
      "text/plain": [
       "array([0, 6, 3, 9, 7, 2, 8, 1, 4, 5])"
      ]
     },
     "execution_count": 39,
     "metadata": {},
     "output_type": "execute_result"
    }
   ],
   "source": [
    "x"
   ]
  },
  {
   "cell_type": "markdown",
   "id": "ea163b04",
   "metadata": {},
   "source": [
    "Performing the shuffle function on x a further time would overwrite x again. "
   ]
  },
  {
   "cell_type": "markdown",
   "id": "71d49c8a",
   "metadata": {},
   "source": [
    "However, the permutation function operates differently and produces a copy of the original data. For example, taking the same sequence of 0 to 9:"
   ]
  },
  {
   "cell_type": "code",
   "execution_count": 40,
   "id": "aa60fd42",
   "metadata": {},
   "outputs": [
    {
     "data": {
      "text/plain": [
       "array([0, 1, 2, 3, 4, 5, 6, 7, 8, 9])"
      ]
     },
     "execution_count": 40,
     "metadata": {},
     "output_type": "execute_result"
    }
   ],
   "source": [
    "x = np.arange(10)\n",
    "x"
   ]
  },
  {
   "cell_type": "markdown",
   "id": "8ffee8c0",
   "metadata": {},
   "source": [
    "The permutation function can be called on x to output a random sequence:"
   ]
  },
  {
   "cell_type": "code",
   "execution_count": 41,
   "id": "9d2a9c0b",
   "metadata": {},
   "outputs": [
    {
     "data": {
      "text/plain": [
       "array([2, 6, 4, 8, 0, 1, 7, 3, 9, 5])"
      ]
     },
     "execution_count": 41,
     "metadata": {},
     "output_type": "execute_result"
    }
   ],
   "source": [
    "rng.permutation(x)"
   ]
  },
  {
   "cell_type": "markdown",
   "id": "247a394f",
   "metadata": {},
   "source": [
    "However, using the permutation function, the variable x contains the original data which has not been overwritten:"
   ]
  },
  {
   "cell_type": "code",
   "execution_count": 42,
   "id": "f44abc80",
   "metadata": {},
   "outputs": [
    {
     "data": {
      "text/plain": [
       "array([0, 1, 2, 3, 4, 5, 6, 7, 8, 9])"
      ]
     },
     "execution_count": 42,
     "metadata": {},
     "output_type": "execute_result"
    }
   ],
   "source": [
    "x"
   ]
  },
  {
   "cell_type": "markdown",
   "id": "122db69b",
   "metadata": {},
   "source": [
    "This could be useful if the original data is to be kept, but also a new sequence generated. For example:"
   ]
  },
  {
   "cell_type": "code",
   "execution_count": 43,
   "id": "1abfe09c",
   "metadata": {},
   "outputs": [],
   "source": [
    "y = rng.permutation(x)"
   ]
  },
  {
   "cell_type": "code",
   "execution_count": 44,
   "id": "beb83cd4",
   "metadata": {},
   "outputs": [
    {
     "data": {
      "text/plain": [
       "(array([0, 1, 2, 3, 4, 5, 6, 7, 8, 9]), array([2, 7, 6, 5, 4, 3, 1, 8, 0, 9]))"
      ]
     },
     "execution_count": 44,
     "metadata": {},
     "output_type": "execute_result"
    }
   ],
   "source": [
    "x, y "
   ]
  },
  {
   "cell_type": "markdown",
   "id": "786431ec",
   "metadata": {},
   "source": [
    "### 3.3 Permuted"
   ]
  },
  {
   "cell_type": "markdown",
   "id": "51d86427",
   "metadata": {},
   "source": [
    "The Numpy permutated function randomly permutes an array along a given axis. This function differs from the shuffle and permutation functions in that each slice of the array is shuffled independently of the others. This can be demonstrated using a 3d-array, as in the following example:"
   ]
  },
  {
   "cell_type": "code",
   "execution_count": 45,
   "id": "79638520",
   "metadata": {},
   "outputs": [
    {
     "data": {
      "text/plain": [
       "array([[[ 0,  1],\n",
       "        [ 2,  3],\n",
       "        [ 4,  5]],\n",
       "\n",
       "       [[ 6,  7],\n",
       "        [ 8,  9],\n",
       "        [10, 11]],\n",
       "\n",
       "       [[12, 13],\n",
       "        [14, 15],\n",
       "        [16, 17]],\n",
       "\n",
       "       [[18, 19],\n",
       "        [20, 21],\n",
       "        [22, 23]]])"
      ]
     },
     "execution_count": 45,
     "metadata": {},
     "output_type": "execute_result"
    }
   ],
   "source": [
    "x = np.array([[[0, 1], [2, 3], [4, 5]], [[6, 7], [8, 9], [10, 11]], [[12, 13], [14, 15], [16, 17]], [[18, 19], [20, 21], [22,23]]])\n",
    "x"
   ]
  },
  {
   "cell_type": "markdown",
   "id": "700ef10f",
   "metadata": {},
   "source": [
    "The above array has 4 lines in axis-0, 3 lines in axis-1, and 2 lines in axis-2:"
   ]
  },
  {
   "cell_type": "code",
   "execution_count": 46,
   "id": "d84a9a29",
   "metadata": {},
   "outputs": [
    {
     "data": {
      "text/plain": [
       "(4, 3, 2)"
      ]
     },
     "execution_count": 46,
     "metadata": {},
     "output_type": "execute_result"
    }
   ],
   "source": [
    "x.shape"
   ]
  },
  {
   "cell_type": "markdown",
   "id": "6eed5d34",
   "metadata": {},
   "source": [
    "The following image gives a representation of arrays in different dimensions; the 3d-array on the right is of the same 4, 3, 2 shape. "
   ]
  },
  {
   "cell_type": "markdown",
   "id": "e40fda63",
   "metadata": {},
   "source": [
    "![numpy.org](https://miro.medium.com/max/3000/0*fr4sfcnDc0KsXA8P.png)\n"
   ]
  },
  {
   "cell_type": "markdown",
   "id": "cbb24c8f",
   "metadata": {},
   "source": [
    "#3d array (https://stackoverflow.com/questions/62734866/how-to-create-a-3d-array-in-python-with-numpy)\n",
    "#https://miro.medium.com/max/3000/0*fr4sfcnDc0KsXA8P.png\n"
   ]
  },
  {
   "cell_type": "markdown",
   "id": "036931af",
   "metadata": {},
   "source": [
    "Calling the permuted function on the default axis-0 will randomly shuffle the whole array across all axis:"
   ]
  },
  {
   "cell_type": "code",
   "execution_count": 47,
   "id": "00b294b2",
   "metadata": {},
   "outputs": [
    {
     "data": {
      "text/plain": [
       "array([[[ 7, 19],\n",
       "        [ 4, 17],\n",
       "        [11,  0]],\n",
       "\n",
       "       [[ 3, 14],\n",
       "        [ 1, 13],\n",
       "        [ 6, 20]],\n",
       "\n",
       "       [[10, 22],\n",
       "        [12, 18],\n",
       "        [ 9, 16]],\n",
       "\n",
       "       [[15,  5],\n",
       "        [ 2, 21],\n",
       "        [ 8, 23]]])"
      ]
     },
     "execution_count": 47,
     "metadata": {},
     "output_type": "execute_result"
    }
   ],
   "source": [
    "rng.permuted(x)"
   ]
  },
  {
   "cell_type": "markdown",
   "id": "f9f18279",
   "metadata": {},
   "source": [
    "This differs from permutation or shuffle whereby the rows are shuffled along axis-0, but not along axis-1 or axis-2:"
   ]
  },
  {
   "cell_type": "code",
   "execution_count": 48,
   "id": "6a8a84f3",
   "metadata": {},
   "outputs": [
    {
     "data": {
      "text/plain": [
       "array([[[18, 19],\n",
       "        [20, 21],\n",
       "        [22, 23]],\n",
       "\n",
       "       [[12, 13],\n",
       "        [14, 15],\n",
       "        [16, 17]],\n",
       "\n",
       "       [[ 0,  1],\n",
       "        [ 2,  3],\n",
       "        [ 4,  5]],\n",
       "\n",
       "       [[ 6,  7],\n",
       "        [ 8,  9],\n",
       "        [10, 11]]])"
      ]
     },
     "execution_count": 48,
     "metadata": {},
     "output_type": "execute_result"
    }
   ],
   "source": [
    "rng.permutation(x, axis=0)"
   ]
  },
  {
   "cell_type": "markdown",
   "id": "cc62aa98",
   "metadata": {},
   "source": [
    "Calling permutated or permunation on axis-1 results in a shuffling of the columns along axis-1; whilst the columns are shuffled within the rows, the row order itself is not changed. "
   ]
  },
  {
   "cell_type": "code",
   "execution_count": 49,
   "id": "58cb1947",
   "metadata": {},
   "outputs": [
    {
     "data": {
      "text/plain": [
       "array([[[ 2,  1],\n",
       "        [ 0,  5],\n",
       "        [ 4,  3]],\n",
       "\n",
       "       [[ 8, 11],\n",
       "        [10,  9],\n",
       "        [ 6,  7]],\n",
       "\n",
       "       [[12, 17],\n",
       "        [16, 13],\n",
       "        [14, 15]],\n",
       "\n",
       "       [[20, 21],\n",
       "        [22, 23],\n",
       "        [18, 19]]])"
      ]
     },
     "execution_count": 49,
     "metadata": {},
     "output_type": "execute_result"
    }
   ],
   "source": [
    "rng.permuted(x, axis=1)"
   ]
  },
  {
   "cell_type": "code",
   "execution_count": 50,
   "id": "b14cfd4a",
   "metadata": {},
   "outputs": [
    {
     "data": {
      "text/plain": [
       "array([[[ 2,  3],\n",
       "        [ 4,  5],\n",
       "        [ 0,  1]],\n",
       "\n",
       "       [[ 8,  9],\n",
       "        [10, 11],\n",
       "        [ 6,  7]],\n",
       "\n",
       "       [[14, 15],\n",
       "        [16, 17],\n",
       "        [12, 13]],\n",
       "\n",
       "       [[20, 21],\n",
       "        [22, 23],\n",
       "        [18, 19]]])"
      ]
     },
     "execution_count": 50,
     "metadata": {},
     "output_type": "execute_result"
    }
   ],
   "source": [
    "rng.permutation(x, axis=1)"
   ]
  },
  {
   "cell_type": "markdown",
   "id": "4b21c0ad",
   "metadata": {},
   "source": [
    "Calling permutated on axis-2 results in a shuffling of axis-2 independently from the other axis:"
   ]
  },
  {
   "cell_type": "code",
   "execution_count": 51,
   "id": "46950b00",
   "metadata": {},
   "outputs": [
    {
     "data": {
      "text/plain": [
       "array([[[ 0,  1],\n",
       "        [ 3,  2],\n",
       "        [ 4,  5]],\n",
       "\n",
       "       [[ 6,  7],\n",
       "        [ 9,  8],\n",
       "        [11, 10]],\n",
       "\n",
       "       [[12, 13],\n",
       "        [15, 14],\n",
       "        [17, 16]],\n",
       "\n",
       "       [[19, 18],\n",
       "        [21, 20],\n",
       "        [22, 23]]])"
      ]
     },
     "execution_count": 51,
     "metadata": {},
     "output_type": "execute_result"
    }
   ],
   "source": [
    "rng.permuted(x, axis=2)"
   ]
  },
  {
   "cell_type": "markdown",
   "id": "d03f9100",
   "metadata": {},
   "source": [
    "Whereas permutatation shuffles along axis-2 but is not idependent:"
   ]
  },
  {
   "cell_type": "code",
   "execution_count": 52,
   "id": "bdcd4fa5",
   "metadata": {
    "scrolled": true
   },
   "outputs": [
    {
     "data": {
      "text/plain": [
       "array([[[ 0,  1],\n",
       "        [ 2,  3],\n",
       "        [ 4,  5]],\n",
       "\n",
       "       [[ 6,  7],\n",
       "        [ 8,  9],\n",
       "        [10, 11]],\n",
       "\n",
       "       [[12, 13],\n",
       "        [14, 15],\n",
       "        [16, 17]],\n",
       "\n",
       "       [[18, 19],\n",
       "        [20, 21],\n",
       "        [22, 23]]])"
      ]
     },
     "execution_count": 52,
     "metadata": {},
     "output_type": "execute_result"
    }
   ],
   "source": [
    "rng.permutation(x, axis=2)"
   ]
  },
  {
   "cell_type": "markdown",
   "id": "82924db2",
   "metadata": {},
   "source": [
    "By default, the permuted function returns a shuffled copy. The above examples have not overwritten x:"
   ]
  },
  {
   "cell_type": "code",
   "execution_count": 53,
   "id": "140f8d1a",
   "metadata": {},
   "outputs": [
    {
     "data": {
      "text/plain": [
       "array([[[ 0,  1],\n",
       "        [ 2,  3],\n",
       "        [ 4,  5]],\n",
       "\n",
       "       [[ 6,  7],\n",
       "        [ 8,  9],\n",
       "        [10, 11]],\n",
       "\n",
       "       [[12, 13],\n",
       "        [14, 15],\n",
       "        [16, 17]],\n",
       "\n",
       "       [[18, 19],\n",
       "        [20, 21],\n",
       "        [22, 23]]])"
      ]
     },
     "execution_count": 53,
     "metadata": {},
     "output_type": "execute_result"
    }
   ],
   "source": [
    "x"
   ]
  },
  {
   "cell_type": "markdown",
   "id": "f84e859d",
   "metadata": {},
   "source": [
    "The permuted function can be performed in-place through use of the out function. For example:"
   ]
  },
  {
   "cell_type": "code",
   "execution_count": 54,
   "id": "1b202973",
   "metadata": {},
   "outputs": [
    {
     "data": {
      "text/plain": [
       "array([[[12,  1],\n",
       "        [ 8, 15],\n",
       "        [22, 11]],\n",
       "\n",
       "       [[ 0, 13],\n",
       "        [ 2,  3],\n",
       "        [16,  5]],\n",
       "\n",
       "       [[18, 19],\n",
       "        [14,  9],\n",
       "        [ 4, 23]],\n",
       "\n",
       "       [[ 6,  7],\n",
       "        [20, 21],\n",
       "        [10, 17]]])"
      ]
     },
     "execution_count": 54,
     "metadata": {},
     "output_type": "execute_result"
    }
   ],
   "source": [
    "y = rng.permuted(x, axis=0, out=x)\n",
    "y"
   ]
  },
  {
   "cell_type": "code",
   "execution_count": 55,
   "id": "1b772b85",
   "metadata": {},
   "outputs": [
    {
     "data": {
      "text/plain": [
       "array([[[12,  1],\n",
       "        [ 8, 15],\n",
       "        [22, 11]],\n",
       "\n",
       "       [[ 0, 13],\n",
       "        [ 2,  3],\n",
       "        [16,  5]],\n",
       "\n",
       "       [[18, 19],\n",
       "        [14,  9],\n",
       "        [ 4, 23]],\n",
       "\n",
       "       [[ 6,  7],\n",
       "        [20, 21],\n",
       "        [10, 17]]])"
      ]
     },
     "execution_count": 55,
     "metadata": {},
     "output_type": "execute_result"
    }
   ],
   "source": [
    "x"
   ]
  },
  {
   "cell_type": "markdown",
   "id": "ef76c4cf",
   "metadata": {},
   "source": [
    "## 4. Distributions "
   ]
  },
  {
   "cell_type": "markdown",
   "id": "4e33d277",
   "metadata": {},
   "source": [
    "The ```numpy.random``` package contains a wide variety of distributions which can be applied to sequences generated by the Generator. Five distributions are discussed in this section:"
   ]
  },
  {
   "cell_type": "markdown",
   "id": "762cfbf5",
   "metadata": {},
   "source": [
    "1. Normal\n",
    "2. Rayleigh\n",
    "3. Exponential\n",
    "4. Uniform\n",
    "5. Weibull"
   ]
  },
  {
   "cell_type": "markdown",
   "id": "af8a976c",
   "metadata": {},
   "source": [
    "### 4.1. Normal Distribution"
   ]
  },
  {
   "cell_type": "markdown",
   "id": "397b6348",
   "metadata": {},
   "source": [
    "Normal distribution, also known as Gaussian distribution or a Bell Curve, is a common type of probability distribution for independent, randomly generated variables (https://www.britannica.com/topic/normal-distribution). A normal distribution is symmetrical around the central mean value with half of the values to the left of mean , and half to the right (https://www.mathsisfun.com/data/standard-normal-distribution.html), as reflected in the example below (https://numpy.org/doc/stable/reference/random/generated/numpy.random.Generator.normal.html#numpy.random.Generator.normal):"
   ]
  },
  {
   "cell_type": "markdown",
   "id": "79604d51",
   "metadata": {},
   "source": [
    "![numpy.org](https://numpy.org/doc/stable/_images/numpy-random-Generator-normal-1_00_00.png)"
   ]
  },
  {
   "cell_type": "markdown",
   "id": "b0de5134",
   "metadata": {},
   "source": [
    "The y-axis is the Probability Density Function (PDF) which defines the probability distribution for a random variable. In other words, it defines the likehood of an outcome occuring (https://www.investopedia.com/terms/p/pdf.asp). The x-axis is the standard deviation which is an indication of how much the data set deviates from the mean (https://medium.com/fintechexplained/ever-wondered-why-normal-distribution-is-so-important-110a482abee3). The total area under the curve is the total probability of all the values that the variable can take; the total curve area is 100% (https://medium.com/fintechexplained/ever-wondered-why-normal-distribution-is-so-important-110a482abee3) "
   ]
  },
  {
   "cell_type": "markdown",
   "id": "f3d3740f",
   "metadata": {},
   "source": [
    "The formula for normal distribution can be written as:"
   ]
  },
  {
   "cell_type": "markdown",
   "id": "3d882541",
   "metadata": {},
   "source": [
    "![brittania.com](https://www.gstatic.com/education/formulas2/397133473/en/normal_distribution.svg)"
   ]
  },
  {
   "cell_type": "markdown",
   "id": "06195ae4",
   "metadata": {},
   "source": [
    "Where:\n",
    "\n",
    "*f(x)* is the probability density function\n",
    "\n",
    "*μ* (mu) is the mean\n",
    "\n",
    "*σ* (sigma) is the standard deviation"
   ]
  },
  {
   "cell_type": "markdown",
   "id": "7326a7e0",
   "metadata": {},
   "source": [
    "In general:\n",
    "\n",
    "- approximately 68% of values are within 1 standard deviation of the mean\n",
    "- approximately 95% of values are within 2 standard deviations of the mean\n",
    "- approximately 99.7% of values are within 3 standard deviations of the mean\n",
    "(https://www.mathsisfun.com/data/standard-normal-distribution.html)"
   ]
  },
  {
   "cell_type": "markdown",
   "id": "9c586912",
   "metadata": {},
   "source": [
    "Normal distributions appear naturaly; numpy can be used to help predict how the variables might occur in real-world situations and to help understanding the behaviour of the data set. For example, the height of population would closely follow a normal distribution. Numpy can be used to provide data on expected deviations from the mean height of the population. "
   ]
  },
  {
   "cell_type": "markdown",
   "id": "dffcd147",
   "metadata": {},
   "source": [
    "In this example the mean height and standard deviation in metres are defined in the variables mu (μ) and sigma (σ): "
   ]
  },
  {
   "cell_type": "code",
   "execution_count": 56,
   "id": "b06a5dd4",
   "metadata": {},
   "outputs": [],
   "source": [
    "mu, sigma = 1.79, 0.15 "
   ]
  },
  {
   "cell_type": "markdown",
   "id": "537da589",
   "metadata": {},
   "source": [
    "The numpy.random.Generator.normal function is used to generate a number of samples, in this case 1000:"
   ]
  },
  {
   "cell_type": "code",
   "execution_count": 57,
   "id": "1fa2db98",
   "metadata": {},
   "outputs": [
    {
     "data": {
      "text/plain": [
       "array([1.73918159, 1.80518075, 1.90636809, 1.7809246 , 1.75829758,\n",
       "       1.79485064, 1.7555645 , 1.66192522, 1.66832192, 1.84260077,\n",
       "       1.79876639, 1.96052068, 1.652123  , 1.9025865 , 1.61164174,\n",
       "       1.59295513, 1.60636116, 2.11466661, 1.88158461, 1.68260281,\n",
       "       1.53391627, 1.71133806, 1.76544017, 1.97042396, 1.68601941,\n",
       "       1.681815  , 1.61239242, 1.82928844, 1.77792804, 1.8500338 ,\n",
       "       1.80465104, 1.53177726, 1.66358115, 1.82818381, 1.86465548,\n",
       "       1.87629046, 1.54688454, 2.01837866, 1.7961723 , 1.90901293,\n",
       "       1.53982798, 1.841813  , 1.56866525, 1.87014905, 1.7130569 ,\n",
       "       1.77874541, 1.82778299, 1.81634971, 1.73687449, 1.75694101,\n",
       "       1.98221439, 1.82773241, 1.80485271, 1.81499383, 1.87715807,\n",
       "       1.82536698, 1.6896289 , 1.94061155, 1.83965448, 1.67864577,\n",
       "       1.75125691, 1.80645704, 2.02974712, 1.85657854, 1.97619056,\n",
       "       1.77382034, 1.73314328, 1.72580991, 1.80302431, 1.77770099,\n",
       "       1.90191937, 2.00498702, 1.98814264, 1.89713676, 1.86739385,\n",
       "       1.79046712, 1.71955867, 1.94051399, 1.53706817, 1.71305523,\n",
       "       1.82314459, 1.72506587, 1.88066503, 1.87993775, 2.1283505 ,\n",
       "       1.56379751, 1.75864142, 1.68467143, 1.72823315, 1.56753934,\n",
       "       1.78444037, 2.0029498 , 1.76947838, 1.59275181, 2.06228973,\n",
       "       1.80672617, 1.74742304, 1.70452512, 1.68885456, 1.68353708,\n",
       "       1.71233401, 2.06511064, 1.79249232, 1.75593148, 1.82582788,\n",
       "       1.71226323, 1.88783766, 1.805457  , 1.86127186, 2.00600062,\n",
       "       1.63596656, 1.69385921, 1.95162472, 2.09371915, 1.75305819,\n",
       "       1.84508581, 1.80851689, 1.81016509, 1.45622261, 1.87392538,\n",
       "       1.58784196, 1.83134334, 1.77096513, 1.69305188, 1.75999763,\n",
       "       1.77295704, 1.84953084, 1.50157021, 1.97746695, 1.74714397,\n",
       "       1.56204651, 1.57497883, 1.84351899, 1.95011046, 1.90231135,\n",
       "       2.00915298, 1.95936634, 1.72430689, 1.73058242, 1.92775797,\n",
       "       1.47058487, 1.81377781, 1.81288252, 1.63183613, 1.48272692,\n",
       "       1.81205291, 1.64407618, 1.65535731, 1.74241133, 1.97723379,\n",
       "       1.93861107, 1.85139585, 1.92869093, 1.72276112, 2.03066017,\n",
       "       1.70715142, 1.86076806, 1.81740815, 1.79672242, 1.79485463,\n",
       "       1.74749375, 1.93715559, 1.70268542, 1.66807641, 1.53805101,\n",
       "       1.8997114 , 1.53671406, 1.58069843, 1.59689279, 1.97016483,\n",
       "       1.6896099 , 1.86133138, 1.76472016, 1.73712331, 1.70200647,\n",
       "       2.12698055, 1.67283003, 2.106799  , 1.77567178, 1.69092114,\n",
       "       1.63654943, 1.69737741, 1.91551549, 1.94489262, 1.75019771,\n",
       "       2.1198948 , 1.98983665, 1.90056255, 2.10739205, 1.84320156,\n",
       "       1.87012529, 1.72987928, 1.82632258, 2.07938482, 1.93152394,\n",
       "       1.95715377, 1.83967935, 1.97878892, 2.117406  , 1.86673764,\n",
       "       1.89741386, 1.89800425, 1.920447  , 1.54304367, 1.77828157,\n",
       "       1.82183952, 1.80494009, 1.85719691, 1.92670162, 1.8599554 ,\n",
       "       1.70260648, 1.88529484, 1.6544783 , 1.89117736, 2.023002  ,\n",
       "       1.78579485, 1.76096493, 1.6597645 , 1.6971909 , 2.02447658,\n",
       "       2.16227663, 1.93356126, 1.77589353, 1.79099089, 1.68425315,\n",
       "       1.77236978, 1.68806827, 2.0931381 , 1.72557579, 1.72460117,\n",
       "       1.83739758, 1.85631064, 1.82432057, 1.6353928 , 1.33428147,\n",
       "       1.76424964, 1.94046659, 1.89599491, 1.71238911, 1.74131609,\n",
       "       1.75128148, 1.75502549, 1.65554212, 1.87597373, 2.16935093,\n",
       "       1.76033169, 1.82445255, 1.9320284 , 1.84874089, 1.86305851,\n",
       "       1.62942846, 1.85293864, 1.67124812, 1.85103264, 2.03701287,\n",
       "       1.73972189, 1.9906672 , 1.78215326, 1.59592886, 2.04380913,\n",
       "       1.77235015, 1.70342577, 1.57156328, 2.00588186, 1.8606596 ,\n",
       "       1.86175833, 1.890227  , 1.92511234, 2.01571773, 1.64526245,\n",
       "       1.64124311, 2.04184006, 2.10085814, 1.56361496, 1.8813091 ,\n",
       "       1.57571098, 1.77722013, 1.56531661, 1.72440634, 1.68515432,\n",
       "       1.70673961, 1.77856503, 1.84252278, 1.77736454, 1.43606246,\n",
       "       1.90269704, 1.86454526, 2.03472122, 1.70602463, 1.7457404 ,\n",
       "       1.6976081 , 1.9382298 , 1.90498886, 1.88102671, 1.98506395,\n",
       "       1.45413101, 1.62096578, 1.62302635, 1.97651893, 1.55319989,\n",
       "       1.89921989, 1.58022452, 1.93916294, 2.08352558, 1.82808331,\n",
       "       1.36680492, 1.8541691 , 1.86731988, 2.01248306, 1.8888275 ,\n",
       "       2.03191612, 1.82988782, 1.95284602, 1.64313018, 1.83601607,\n",
       "       1.75778641, 2.01086427, 1.92012852, 1.76158807, 1.83759109,\n",
       "       1.72558926, 1.84766448, 2.00749146, 1.75660656, 1.73501434,\n",
       "       1.84886772, 1.6127478 , 1.54230211, 1.71522296, 1.68925786,\n",
       "       2.07070608, 1.80130275, 2.20829742, 1.8567797 , 1.80415793,\n",
       "       2.18082458, 1.79542252, 1.5850371 , 2.08762424, 1.89125063,\n",
       "       1.84722081, 1.81251225, 1.78514144, 1.74729961, 1.83964862,\n",
       "       1.65070811, 1.69704544, 2.01159548, 1.51861454, 1.6590928 ,\n",
       "       1.81951194, 1.82363283, 1.8017047 , 1.64723541, 1.64311486,\n",
       "       1.79257711, 1.689827  , 1.8564913 , 1.81830949, 1.50142027,\n",
       "       1.95944899, 1.9827529 , 1.8692309 , 1.55246376, 1.53020161,\n",
       "       1.73695306, 1.49571589, 1.68145887, 1.81148586, 1.96907764,\n",
       "       1.71347529, 1.93304267, 1.98706062, 1.72299449, 1.90480434,\n",
       "       1.73180444, 2.01872928, 1.95660091, 1.50197998, 1.67999823,\n",
       "       1.72944034, 1.65825008, 1.76282012, 1.69939349, 1.95368442,\n",
       "       1.80196485, 1.53601819, 1.59557965, 1.90180525, 1.69281627,\n",
       "       1.62396202, 2.0384009 , 1.54745951, 1.60474831, 1.69400472,\n",
       "       1.7778327 , 1.91243943, 1.69768134, 1.57606449, 1.85079292,\n",
       "       1.71640426, 1.75746308, 1.82811646, 1.66412246, 1.88341162,\n",
       "       1.8106735 , 1.66306103, 1.59912682, 1.90669829, 1.94355198,\n",
       "       1.87319488, 1.58271292, 1.78367443, 1.72000995, 1.57758754,\n",
       "       1.6810548 , 1.61469311, 1.7527589 , 1.5296733 , 1.53242637,\n",
       "       1.7071366 , 1.7262069 , 1.77390033, 1.90540036, 1.71267186,\n",
       "       2.00540217, 1.90959713, 1.94517264, 1.98000281, 1.73955215,\n",
       "       1.79389974, 1.5138507 , 1.56964129, 1.66979103, 1.74689934,\n",
       "       1.78238496, 1.84780865, 1.57606278, 1.83505255, 1.64580445,\n",
       "       1.72819045, 1.8453491 , 1.76902875, 1.86193277, 1.74978047,\n",
       "       1.76897997, 1.47688293, 1.89005012, 2.09361152, 1.6565097 ,\n",
       "       1.69656767, 1.81079006, 1.43428163, 1.94812211, 1.77034061,\n",
       "       1.60345912, 1.95856908, 1.61969584, 1.70815104, 1.78427607,\n",
       "       1.77536096, 1.61524187, 1.86809503, 1.91615703, 1.94934377,\n",
       "       1.90411429, 1.83167562, 1.86756826, 1.70193993, 1.63051992,\n",
       "       1.67522816, 1.784289  , 1.68244547, 1.82367824, 1.72569571,\n",
       "       1.8718494 , 2.05459171, 1.90647059, 1.74394098, 1.91640138,\n",
       "       1.47623526, 1.85497561, 2.01080715, 1.68996025, 1.97982364,\n",
       "       1.76412963, 1.48816966, 1.72386353, 2.03886231, 2.01259199,\n",
       "       1.78720479, 1.67370686, 1.91189749, 1.93833705, 1.50302797,\n",
       "       1.66164756, 1.58570129, 1.90709002, 1.74260029, 1.85271772,\n",
       "       1.88050282, 1.82102665, 1.54519547, 1.88569336, 1.75046815,\n",
       "       1.78114078, 1.76304921, 1.83244922, 1.68609567, 1.7460149 ,\n",
       "       1.95099376, 1.8281894 , 1.51157677, 1.75158907, 1.76837934,\n",
       "       1.9315289 , 1.59190472, 1.7389426 , 1.84428518, 1.75923976,\n",
       "       1.76446854, 1.94563965, 1.876863  , 2.09310921, 1.85922174,\n",
       "       1.9299794 , 1.5580501 , 1.74586137, 1.73370395, 1.90564624,\n",
       "       1.81647463, 2.01274457, 1.93078277, 1.92152487, 1.66552904,\n",
       "       1.75068354, 1.79085218, 1.76400791, 1.81137129, 1.97070231,\n",
       "       1.76162321, 1.76312909, 1.84383685, 1.66605997, 1.98087364,\n",
       "       1.93621623, 2.02150866, 1.75998162, 1.80436053, 1.79792694,\n",
       "       1.61711495, 1.83215185, 1.86325109, 1.64474483, 1.99320568,\n",
       "       1.78349737, 1.94341139, 1.68385378, 1.87179658, 1.75063341,\n",
       "       1.8016599 , 1.74122941, 1.32638813, 1.83737833, 1.75846998,\n",
       "       1.59777223, 1.51690047, 1.88567177, 1.80119953, 1.77210535,\n",
       "       1.7340529 , 1.85369813, 1.77151268, 1.59237237, 1.84485603,\n",
       "       1.82130422, 1.76673939, 1.77501729, 1.80941569, 1.74648951,\n",
       "       1.78337344, 1.93227308, 1.95467   , 1.948722  , 1.79348332,\n",
       "       1.79547101, 1.63431127, 1.69956983, 1.55753779, 1.79596376,\n",
       "       1.75806091, 1.62107581, 1.82214028, 1.79766705, 1.65787975,\n",
       "       1.95199096, 1.81116706, 1.88199587, 1.87961905, 1.7400395 ,\n",
       "       1.73070572, 1.92638843, 1.91166425, 2.0775071 , 1.72032547,\n",
       "       1.72062196, 1.66018064, 1.64781302, 1.82864034, 1.74777164,\n",
       "       1.91143294, 1.83550311, 1.74749402, 1.55940257, 2.08719262,\n",
       "       1.71861264, 1.6378781 , 1.41632159, 1.97238519, 1.97155745,\n",
       "       1.70657864, 1.96035239, 1.82600041, 1.43122206, 1.81716461,\n",
       "       1.73108303, 1.91152094, 2.05271045, 1.73060404, 2.00483441,\n",
       "       1.56039322, 1.80255399, 1.79662514, 1.83405767, 1.84678696,\n",
       "       1.849645  , 1.41313588, 1.37544072, 1.8437551 , 2.11638396,\n",
       "       1.78499995, 1.59380363, 1.76612199, 1.58710174, 1.92939416,\n",
       "       1.61850791, 1.82876215, 1.78600049, 1.75565567, 1.85304597,\n",
       "       1.71256158, 1.68058912, 1.48184955, 1.7305295 , 1.8703564 ,\n",
       "       1.84994133, 1.84078673, 1.699028  , 1.80394638, 1.64205671,\n",
       "       1.81220241, 1.66346706, 1.74685949, 1.75152793, 1.69502231,\n",
       "       1.6808157 , 1.85675763, 1.634581  , 1.93138953, 1.60650978,\n",
       "       1.92805369, 1.93006079, 1.73804504, 1.85316994, 1.7001216 ,\n",
       "       1.60059109, 1.69932444, 1.62147199, 1.6768557 , 1.81034448,\n",
       "       1.77460249, 1.70251407, 1.78504365, 1.76446786, 1.76153061,\n",
       "       1.99343536, 1.73117148, 1.98124761, 1.79013416, 1.60697549,\n",
       "       1.96756882, 1.50853997, 1.64603971, 1.63155107, 1.7277741 ,\n",
       "       1.63967605, 1.73734653, 1.84876243, 1.80512017, 1.9709274 ,\n",
       "       1.98716836, 1.81186704, 1.58321553, 1.74273501, 1.97367133,\n",
       "       1.85805571, 1.81460037, 1.78566286, 1.86778652, 1.66586384,\n",
       "       1.80836714, 1.77781178, 1.62147591, 1.68121891, 1.83341644,\n",
       "       2.05200341, 1.55387831, 1.4972768 , 2.0290837 , 1.6400633 ,\n",
       "       1.6861462 , 1.92694191, 1.70954147, 1.60067364, 1.68788287,\n",
       "       1.84699599, 1.72024278, 1.52081461, 1.82645409, 1.93953574,\n",
       "       1.76531608, 1.79697784, 1.8577915 , 1.85951561, 1.51854834,\n",
       "       1.64193544, 1.79326411, 1.77837315, 1.93137642, 1.43398965,\n",
       "       1.64554191, 1.76770511, 1.93429409, 2.24950513, 1.66582176,\n",
       "       1.78495719, 1.68532534, 1.76305071, 1.94514184, 1.87136048,\n",
       "       1.90768958, 1.95707907, 1.69687733, 1.54873105, 2.00291559,\n",
       "       1.81618981, 1.7394947 , 1.69708412, 1.32898826, 1.75170387,\n",
       "       1.75626217, 1.71066271, 1.74390098, 1.78995203, 1.9043075 ,\n",
       "       1.77810495, 1.93899773, 1.73434294, 1.87862149, 1.72593983,\n",
       "       1.72601856, 1.53993319, 1.74579906, 1.93723684, 1.51311039,\n",
       "       1.52622162, 1.81388122, 1.95090118, 1.86692722, 2.03720852,\n",
       "       1.82975626, 1.91183729, 1.73791124, 1.76457486, 1.86032924,\n",
       "       2.22153274, 1.73328993, 1.70354836, 1.65874653, 1.99260352,\n",
       "       1.74404224, 1.72385878, 1.8573455 , 1.75266952, 1.91622462,\n",
       "       2.01845036, 1.83818889, 1.84203528, 1.83112228, 1.75600651,\n",
       "       1.85507333, 1.83649772, 1.65126902, 1.79160591, 1.94776845,\n",
       "       1.74278314, 1.80129162, 1.72311059, 1.92324039, 1.84194291,\n",
       "       1.70679081, 2.00994724, 1.97677228, 1.92627243, 1.81317376,\n",
       "       1.92036699, 1.44050492, 1.84316433, 1.4061641 , 1.63114945,\n",
       "       1.55301543, 1.86053875, 1.80026654, 1.71629982, 1.8194292 ,\n",
       "       1.81819751, 1.61010752, 1.54649996, 1.80984194, 1.77226654,\n",
       "       1.6976569 , 2.18395762, 1.50965992, 1.86124364, 1.83823948,\n",
       "       1.70086056, 1.69172102, 1.98718274, 1.72207561, 1.63603034,\n",
       "       1.68913931, 1.99672112, 1.57870553, 1.7829697 , 1.68766436,\n",
       "       2.00234146, 1.65712107, 1.72427241, 1.67740612, 1.75649955,\n",
       "       1.60623734, 1.71742875, 1.98280634, 1.87157874, 1.60934939,\n",
       "       1.86191957, 1.58645473, 1.78533831, 1.7929872 , 1.75638753,\n",
       "       1.85767486, 1.83510869, 1.66110455, 1.68421895, 1.71449511,\n",
       "       1.91578397, 1.7082767 , 1.92520916, 1.71949354, 1.90118185,\n",
       "       1.88700787, 1.94942331, 1.79131743, 2.06026437, 1.827509  ,\n",
       "       1.79686836, 1.91419015, 1.90082025, 1.72775063, 1.75015641,\n",
       "       1.8150803 , 1.83739281, 1.90268498, 1.71453914, 1.58394912,\n",
       "       1.68668436, 1.82735769, 1.88064525, 1.76591435, 1.91964767,\n",
       "       1.65495443, 1.57805012, 1.69088792, 1.58930831, 2.02522732,\n",
       "       1.66971191, 1.56185872, 1.80804032, 1.60264619, 1.82723094,\n",
       "       1.93360165, 2.00525009, 1.55013698, 1.79722572, 2.13071228,\n",
       "       1.69033567, 1.82609353, 1.76583967, 1.74541757, 2.04746135,\n",
       "       1.49467108, 1.3869563 , 1.70255017, 1.93081351, 1.77826112,\n",
       "       1.99354952, 1.96953362, 1.38010389, 1.59886602, 1.8953266 ,\n",
       "       2.19692374, 1.61905067, 1.67707709, 1.75131688, 1.65256084,\n",
       "       1.96407758, 1.6248432 , 1.74876007, 1.84923554, 1.67616162,\n",
       "       1.903186  , 1.70851307, 1.90902941, 1.85735053, 1.69938703,\n",
       "       2.0441078 , 1.67456063, 1.7320245 , 1.86695588, 1.68121341,\n",
       "       1.51676   , 1.78367176, 1.91013618, 1.64130732, 1.74295086,\n",
       "       1.839807  , 1.55515418, 2.01830081, 2.10770937, 1.94627531,\n",
       "       1.95339433, 1.73971483, 1.79696898, 1.88173196, 1.84209928,\n",
       "       1.72441054, 1.93772941, 1.8275945 , 1.82919773, 1.90237042,\n",
       "       1.87615022, 1.65514952, 1.8584265 , 1.8675588 , 1.62847088,\n",
       "       1.52018114, 1.69547439, 1.7665738 , 1.69996571, 1.97574812,\n",
       "       1.76364922, 1.51302209, 1.94400545, 1.75258993, 2.03035416,\n",
       "       1.73683346, 1.96534918, 1.58209124, 1.75517215, 1.90070206,\n",
       "       1.74446664, 1.84140648, 1.85002367, 1.71474976, 1.80247996,\n",
       "       1.57366391, 1.50624557, 1.70155291, 1.66572598, 1.80934577,\n",
       "       1.78182459, 1.82032974, 1.71009164, 1.40794749, 2.04819309,\n",
       "       1.9590879 , 1.79690744, 1.59410093, 2.04358488, 1.80922489])"
      ]
     },
     "execution_count": 57,
     "metadata": {},
     "output_type": "execute_result"
    }
   ],
   "source": [
    "s = np.random.default_rng().normal(mu, sigma, 1000)\n",
    "s"
   ]
  },
  {
   "cell_type": "code",
   "execution_count": 58,
   "id": "b6844be0",
   "metadata": {},
   "outputs": [
    {
     "data": {
      "image/png": "[encoded data removed]",
      "text/plain": [
       "<Figure size 432x288 with 1 Axes>"
      ]
     },
     "metadata": {
      "needs_background": "light"
     },
     "output_type": "display_data"
    }
   ],
   "source": [
    "count, bins, ignored = plt.hist(s, 30)\n",
    "\n",
    "plt.show()"
   ]
  },
  {
   "cell_type": "code",
   "execution_count": 59,
   "id": "f6c7ce12",
   "metadata": {},
   "outputs": [
    {
     "data": {
      "image/png": "[encoded data removed]",
      "text/plain": [
       "<Figure size 432x288 with 1 Axes>"
      ]
     },
     "metadata": {
      "needs_background": "light"
     },
     "output_type": "display_data"
    }
   ],
   "source": [
    "plt.plot(bins, 1/(sigma * np.sqrt(2 * np.pi)) *\n",
    "\n",
    "               np.exp( - (bins - mu)**2 / (2 * sigma**2) ),\n",
    "\n",
    "         linewidth=2, color='r')\n",
    "plt.show()"
   ]
  },
  {
   "cell_type": "code",
   "execution_count": 60,
   "id": "06c5f5c3",
   "metadata": {},
   "outputs": [
    {
     "data": {
      "image/png": "[encoded data removed]",
      "text/plain": [
       "<Figure size 432x288 with 1 Axes>"
      ]
     },
     "metadata": {
      "needs_background": "light"
     },
     "output_type": "display_data"
    }
   ],
   "source": [
    "count, bins, ignored = plt.hist(s, 30, density=True)\n",
    "\n",
    "plt.plot(bins, 1/(sigma * np.sqrt(2 * np.pi)) *\n",
    "\n",
    "               np.exp( - (bins - mu)**2 / (2 * sigma**2) ),\n",
    "\n",
    "         linewidth=2, color='r')\n",
    "\n",
    "plt.show()"
   ]
  },
  {
   "cell_type": "code",
   "execution_count": 61,
   "id": "609744af",
   "metadata": {},
   "outputs": [
    {
     "name": "stdout",
     "output_type": "stream",
     "text": [
      "[1.32638813 1.3571587  1.38792926 1.41869983 1.4494704  1.48024096\n",
      " 1.51101153 1.5417821  1.57255267 1.60332323 1.6340938  1.66486437\n",
      " 1.69563493 1.7264055  1.75717607 1.78794663 1.8187172  1.84948777\n",
      " 1.88025833 1.9110289  1.94179947 1.97257003 2.0033406  2.03411117\n",
      " 2.06488173 2.0956523  2.12642287 2.15719343 2.187964   2.21873457\n",
      " 2.24950513]\n"
     ]
    }
   ],
   "source": [
    "print (bins)"
   ]
  },
  {
   "cell_type": "code",
   "execution_count": 62,
   "id": "713adb99",
   "metadata": {},
   "outputs": [
    {
     "data": {
      "text/plain": [
       "1.7879466324497142"
      ]
     },
     "execution_count": 62,
     "metadata": {},
     "output_type": "execute_result"
    }
   ],
   "source": [
    "np.average(bins)"
   ]
  },
  {
   "cell_type": "markdown",
   "id": "3d553059",
   "metadata": {},
   "source": [
    "#### Purpose"
   ]
  },
  {
   "cell_type": "code",
   "execution_count": null,
   "id": "65d6ffeb",
   "metadata": {},
   "outputs": [],
   "source": []
  },
  {
   "cell_type": "markdown",
   "id": "488bff0c",
   "metadata": {},
   "source": [
    "## 5. Seeds"
   ]
  },
  {
   "cell_type": "markdown",
   "id": "73d92da6",
   "metadata": {},
   "source": [
    "```numpy.random``` uses a seed to derive the initial state with a sequence of statistcally random numbers generated from this known starting point; the use of a known seed means that the the algorithm is repeatable. \n",
    "\n",
    "Therefore, the numbers generated are not completely random and are known as \"pseudo-random numbers\"."
   ]
  },
  {
   "cell_type": "code",
   "execution_count": null,
   "id": "401d3a27",
   "metadata": {},
   "outputs": [],
   "source": []
  },
  {
   "cell_type": "code",
   "execution_count": null,
   "id": "2f3f4389",
   "metadata": {},
   "outputs": [],
   "source": []
  },
  {
   "cell_type": "markdown",
   "id": "455d416b",
   "metadata": {},
   "source": [
    "## 6. Conclusion"
   ]
  }
 ],
 "metadata": {
  "kernelspec": {
   "display_name": "Python 3 (ipykernel)",
   "language": "python",
   "name": "python3"
  },
  "language_info": {
   "codemirror_mode": {
    "name": "ipython",
    "version": 3
   },
   "file_extension": ".py",
   "mimetype": "text/x-python",
   "name": "python",
   "nbconvert_exporter": "python",
   "pygments_lexer": "ipython3",
   "version": "3.8.11"
  }
 },
 "nbformat": 4,
 "nbformat_minor": 5
}
