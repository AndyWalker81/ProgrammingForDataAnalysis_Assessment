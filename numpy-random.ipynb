{
 "cells": [
  {
   "cell_type": "markdown",
   "id": "874f72ad",
   "metadata": {},
   "source": [
    "# The numpy.random package "
   ]
  },
  {
   "cell_type": "markdown",
   "id": "6df241a1",
   "metadata": {},
   "source": [
    "## Programming for Data Analysis Assignment"
   ]
  },
  {
   "cell_type": "markdown",
   "id": "b754a200",
   "metadata": {},
   "source": [
    "### Andrew Walker - G00398788@gmit.ie"
   ]
  },
  {
   "cell_type": "markdown",
   "id": "b1bbe76a",
   "metadata": {},
   "source": [
    "![numpy.org](https://numpy.org/doc/stable/_static/numpylogo.svg)"
   ]
  },
  {
   "cell_type": "markdown",
   "id": "57f89fd9",
   "metadata": {},
   "source": [
    "## 1. Introduction"
   ]
  },
  {
   "cell_type": "markdown",
   "id": "d86aa1be",
   "metadata": {},
   "source": [
    "This notebook contains an explanation of the ```numpy.random``` package in Python. "
   ]
  },
  {
   "cell_type": "markdown",
   "id": "acdf6ba1",
   "metadata": {},
   "source": [
    "NumPy is an open source project aiming to enable numerical computing with Python (https://numpy.org/about/). It is used for working with arrays and also has functions for working in the domain of linear algebra, fourier transform, and matrices (https://www.w3schools.com/python/numpy/numpy_intro.asp). In has applications in a wide range of fields such as astronomy, physics, engineering, and economics. "
   ]
  },
  {
   "cell_type": "markdown",
   "id": "a8e63aa5",
   "metadata": {},
   "source": [
    "The ```numpy.random``` package within NumPy is used to generate a sequence of numbers which approximate the properties of random numbers. The sequence of numbers that is generated is statistically random and can be used in a wide range of applications.    "
   ]
  },
  {
   "cell_type": "markdown",
   "id": "668e8dc3",
   "metadata": {},
   "source": [
    "The package generates the sequence with the use of a BitGenerator and a Generator. The BitGenerator uses a seed to derive the initial state and create a sequence of statistically random numbers bits. The Generator converts the sequence of random bits for a BitGenerator into sequences of numbers that follow a specific probability distribution (https://numpy.org/doc/stable/reference/random/index.html). "
   ]
  },
  {
   "cell_type": "markdown",
   "id": "99221eb4",
   "metadata": {},
   "source": [
    "This notebook will explain the following overarching features of the ```numpy.random``` package:\n",
    "\n",
    "- Simple random data\n",
    "- Permutations\n",
    "- The purpose of five Distribution functions\n",
    "    - Uniform\n",
    "    - Bell\n",
    "    - ....\n",
    "    - ....\n",
    "    - ....\n",
    "- The use of seeds in generating pseudo-random numbers"
   ]
  },
  {
   "cell_type": "markdown",
   "id": "30b44469",
   "metadata": {},
   "source": [
    "The notebook will explain each feature and the functions contained in each. It will use ........ "
   ]
  },
  {
   "cell_type": "markdown",
   "id": "18d0cf8b",
   "metadata": {},
   "source": [
    "```matplotlib.pyplot``` will also be used....."
   ]
  },
  {
   "cell_type": "markdown",
   "id": "f5707cb3",
   "metadata": {},
   "source": [
    "At the time of writing this notebook, the latest release of ```numpy.random``` is 1.21.0. This contents of this notebook are based on this release."
   ]
  },
  {
   "cell_type": "markdown",
   "id": "4e361ae5",
   "metadata": {},
   "source": [
    "## 2. Initalising the ```numpy.random``` Package"
   ]
  },
  {
   "cell_type": "markdown",
   "id": "f14bbb9c",
   "metadata": {},
   "source": [
    "Import Numpy:"
   ]
  },
  {
   "cell_type": "code",
   "execution_count": 1,
   "id": "2c430dc6",
   "metadata": {},
   "outputs": [],
   "source": [
    "import numpy as np"
   ]
  },
  {
   "cell_type": "markdown",
   "id": "d4e56e16",
   "metadata": {},
   "source": [
    "Construct a new Generator with the default BitGenerator (PCG64): "
   ]
  },
  {
   "cell_type": "code",
   "execution_count": 2,
   "id": "db98f501",
   "metadata": {},
   "outputs": [],
   "source": [
    "rng = np.random.default_rng()"
   ]
  },
  {
   "cell_type": "markdown",
   "id": "c23f3174",
   "metadata": {},
   "source": [
    "A seed can be specified in ```default_rng```. The use of a known seed means that the the algorithm is repeatable. BitGenerators and seeds are discussed further in Section XXXXXX"
   ]
  },
  {
   "cell_type": "markdown",
   "id": "b573f3a3",
   "metadata": {},
   "source": [
    "Pyplot will also be used to allow plotting of outputs generated, where required:"
   ]
  },
  {
   "cell_type": "code",
   "execution_count": 3,
   "id": "9510f085",
   "metadata": {},
   "outputs": [],
   "source": [
    "import matplotlib.pyplot as plt"
   ]
  },
  {
   "cell_type": "markdown",
   "id": "dfbf28d2",
   "metadata": {},
   "source": [
    "## 3. Simple Random Data"
   ]
  },
  {
   "cell_type": "markdown",
   "id": "bcae83ee",
   "metadata": {},
   "source": [
    "The ```numpy.random``` package contains four functions to generate simple random data. These are discussed in this section."
   ]
  },
  {
   "cell_type": "markdown",
   "id": "4ae05e21",
   "metadata": {},
   "source": [
    "### 3.1 Integers\n"
   ]
  },
  {
   "cell_type": "markdown",
   "id": "c67e06bb",
   "metadata": {},
   "source": [
    "Numpy can be instructed to return random integers. For example:"
   ]
  },
  {
   "cell_type": "code",
   "execution_count": 4,
   "id": "7251769b",
   "metadata": {},
   "outputs": [
    {
     "data": {
      "text/plain": [
       "array([1, 2, 0, 0, 0], dtype=int64)"
      ]
     },
     "execution_count": 4,
     "metadata": {},
     "output_type": "execute_result"
    }
   ],
   "source": [
    "rng.integers(0, 3, size=5)"
   ]
  },
  {
   "cell_type": "markdown",
   "id": "86865012",
   "metadata": {},
   "source": [
    "In this example, the first parameter (```0```) sets the lowest integer that is possible to be generated. The upper limit is defined by the second parameter (```3```); the highest integer that is possible to be generated is one lower than this number. The parameter ```size=5``` designates that 5 random numbers should be generated.  "
   ]
  },
  {
   "cell_type": "markdown",
   "id": "7d2bc477",
   "metadata": {},
   "source": [
    "The shape of the output can be changed by specifying the number of rows and columns. For example, a 5 x 5 array containing random numbers between 0 and 9 can be generated using the following:"
   ]
  },
  {
   "cell_type": "code",
   "execution_count": 5,
   "id": "87285c10",
   "metadata": {},
   "outputs": [
    {
     "data": {
      "text/plain": [
       "array([[6, 8, 1, 1, 2],\n",
       "       [7, 4, 7, 1, 3],\n",
       "       [7, 3, 3, 2, 2],\n",
       "       [5, 4, 9, 1, 8],\n",
       "       [0, 1, 2, 7, 0]], dtype=int64)"
      ]
     },
     "execution_count": 5,
     "metadata": {},
     "output_type": "execute_result"
    }
   ],
   "source": [
    "rng.integers(0, 10, size=(5,5))\n"
   ]
  },
  {
   "cell_type": "markdown",
   "id": "6b283ce1",
   "metadata": {},
   "source": [
    "In these examples, the output also includes the data type: ```dtype=int64```. By default, Python has the following data types:\n",
    "\n",
    "- strings\n",
    "- integer\n",
    "- float\n",
    "- boolean\n",
    "- complex\n",
    "\n",
    "NumPy also includes a number of additional data types (discussion of which is considered outside the scope of this notebook). \n",
    "\n",
    "```dtype=int64``` refers to the output containing 64-bit integers. This can be changed, as shown in the following example to output 8-bit integers:"
   ]
  },
  {
   "cell_type": "code",
   "execution_count": 6,
   "id": "1e0a152c",
   "metadata": {},
   "outputs": [
    {
     "data": {
      "text/plain": [
       "array([[5, 1, 5, 4, 6],\n",
       "       [3, 4, 7, 3, 8],\n",
       "       [9, 5, 9, 7, 3],\n",
       "       [2, 8, 5, 5, 9],\n",
       "       [8, 9, 6, 1, 2]], dtype=int8)"
      ]
     },
     "execution_count": 6,
     "metadata": {},
     "output_type": "execute_result"
    }
   ],
   "source": [
    "rng.integers(0, 10, size=(5,5), dtype='int8')"
   ]
  },
  {
   "cell_type": "markdown",
   "id": "60868e2d",
   "metadata": {},
   "source": [
    "The integers are generated by default as a discrete probability distribution. This means that the probability of outcomes is equally likely and with finite values (https://corporatefinanceinstitute.com/resources/knowledge/other/uniform-distribution/). "
   ]
  },
  {
   "cell_type": "code",
   "execution_count": 7,
   "id": "8f73fb0f",
   "metadata": {},
   "outputs": [
    {
     "data": {
      "image/png": "[encoded data removed]",
      "text/plain": [
       "<Figure size 432x288 with 1 Axes>"
      ]
     },
     "metadata": {
      "needs_background": "light"
     },
     "output_type": "display_data"
    }
   ],
   "source": [
    "x = rng.integers(100, size=10000)\n",
    "plt.hist(x)\n",
    "plt.show()"
   ]
  },
  {
   "cell_type": "markdown",
   "id": "54710501",
   "metadata": {},
   "source": [
    "### 2.2 Random"
   ]
  },
  {
   "cell_type": "markdown",
   "id": "bc704e6d",
   "metadata": {},
   "source": [
    "The Numpy random function returns random floats. For example:"
   ]
  },
  {
   "cell_type": "code",
   "execution_count": 8,
   "id": "a12de2c3",
   "metadata": {},
   "outputs": [
    {
     "data": {
      "text/plain": [
       "0.5661332864822304"
      ]
     },
     "execution_count": 8,
     "metadata": {},
     "output_type": "execute_result"
    }
   ],
   "source": [
    "rng.random()"
   ]
  },
  {
   "cell_type": "markdown",
   "id": "9e5e2869",
   "metadata": {},
   "source": [
    "The size of output can be specified:"
   ]
  },
  {
   "cell_type": "code",
   "execution_count": 9,
   "id": "5c2aaf9b",
   "metadata": {
    "scrolled": true
   },
   "outputs": [
    {
     "data": {
      "text/plain": [
       "array([[0.25785772, 0.46868102, 0.28209741, 0.61201086, 0.07172407],\n",
       "       [0.35309579, 0.43173336, 0.59266057, 0.32133588, 0.74556338],\n",
       "       [0.34601007, 0.79493134, 0.06613858, 0.20227026, 0.80433803],\n",
       "       [0.71310775, 0.72104856, 0.58775287, 0.56424569, 0.58914128],\n",
       "       [0.76602811, 0.80697924, 0.2577619 , 0.6095803 , 0.46641735]])"
      ]
     },
     "execution_count": 9,
     "metadata": {},
     "output_type": "execute_result"
    }
   ],
   "source": [
    "rng.random(size=(5,5))"
   ]
  },
  {
   "cell_type": "markdown",
   "id": "5c36df4d",
   "metadata": {},
   "source": [
    "To specify the low and high values the formula ```(b + a) * rng.random() + a``` can be used. The following example outputs five floats between 0 (inclusive) and 3 (exclusive):"
   ]
  },
  {
   "cell_type": "code",
   "execution_count": 10,
   "id": "dde5e83b",
   "metadata": {},
   "outputs": [
    {
     "data": {
      "text/plain": [
       "array([[0.72165224, 2.20574521, 0.60115749, 2.58922163, 0.19025695],\n",
       "       [1.20513343, 1.19081359, 2.55818234, 2.94918827, 1.27603794],\n",
       "       [0.38690312, 2.27756966, 2.97940587, 0.99890109, 1.19458183],\n",
       "       [1.53714275, 1.15914756, 0.08898775, 1.09646902, 0.03956097],\n",
       "       [1.89800603, 0.20376799, 0.91221215, 1.26761084, 1.85567834]])"
      ]
     },
     "execution_count": 10,
     "metadata": {},
     "output_type": "execute_result"
    }
   ],
   "source": [
    "a = 0 #low value\n",
    "b = 3 #high value\n",
    "x = rng.random(size=(5,5)) \n",
    "y = (b + a) * x + a\n",
    "y"
   ]
  },
  {
   "cell_type": "markdown",
   "id": "1c8282f9",
   "metadata": {},
   "source": [
    "Or for negative numbers between 0 (inclusive) and -1 (exclusive):"
   ]
  },
  {
   "cell_type": "code",
   "execution_count": 11,
   "id": "ea469ed7",
   "metadata": {},
   "outputs": [
    {
     "data": {
      "text/plain": [
       "array([[-0.19180012, -0.6328455 , -0.00170938, -0.59038914, -0.09891121],\n",
       "       [-0.36613203, -0.00170269, -0.56092048, -0.16827949, -0.18853912],\n",
       "       [-0.54113233, -0.76262471, -0.03823299, -0.01238565, -0.01117939],\n",
       "       [-0.89129361, -0.13107191, -0.74704358, -0.28435887, -0.26979501],\n",
       "       [-0.68125127, -0.17964238, -0.02773058, -0.75056906, -0.26571584]])"
      ]
     },
     "execution_count": 11,
     "metadata": {},
     "output_type": "execute_result"
    }
   ],
   "source": [
    "a = 0 \n",
    "b = -1 \n",
    "x = rng.random(size=(5,5)) \n",
    "y = (b + a) * x + a\n",
    "y"
   ]
  },
  {
   "cell_type": "markdown",
   "id": "3e1cb2c4",
   "metadata": {},
   "source": [
    "However, for negative numbers not including 0, the formula must be changed slightly. For example, for negative numbers between -1 (inclusive) and -2 (exclusive):"
   ]
  },
  {
   "cell_type": "code",
   "execution_count": 12,
   "id": "e0fc63bc",
   "metadata": {},
   "outputs": [
    {
     "data": {
      "text/plain": [
       "array([[-1.55313765, -1.60865374, -1.32525528, -1.50186295, -1.14332729],\n",
       "       [-1.11060462, -1.17318911, -1.10920542, -1.49618666, -1.5461771 ],\n",
       "       [-1.83103097, -1.76893232, -1.24675595, -1.60240825, -1.66458885],\n",
       "       [-1.32561826, -1.53319165, -1.13636515, -1.93211391, -1.67720914],\n",
       "       [-1.67596106, -1.64921136, -1.70471583, -1.47762469, -1.40647081]])"
      ]
     },
     "execution_count": 12,
     "metadata": {},
     "output_type": "execute_result"
    }
   ],
   "source": [
    "a = -1 \n",
    "b = -2 \n",
    "x = rng.random(size=(5,5))  \n",
    "y = (b - a) * x + a\n",
    "y"
   ]
  },
  {
   "cell_type": "markdown",
   "id": "0457ae35",
   "metadata": {},
   "source": [
    "The floats are generated by default as a continuous probability distribution. This means that there are infinite number of equally likely measurable values. (https://corporatefinanceinstitute.com/resources/knowledge/other/uniform-distribution/). "
   ]
  },
  {
   "cell_type": "code",
   "execution_count": 13,
   "id": "0fab7b01",
   "metadata": {},
   "outputs": [
    {
     "data": {
      "text/plain": [
       "<function matplotlib.pyplot.show(close=None, block=None)>"
      ]
     },
     "execution_count": 13,
     "metadata": {},
     "output_type": "execute_result"
    },
    {
     "data": {
      "image/png": "[encoded data removed]",
      "text/plain": [
       "<Figure size 432x288 with 1 Axes>"
      ]
     },
     "metadata": {
      "needs_background": "light"
     },
     "output_type": "display_data"
    }
   ],
   "source": [
    "x = rng.random(size=10000)\n",
    "plt.hist(x)\n",
    "plt.show"
   ]
  },
  {
   "cell_type": "markdown",
   "id": "46a82682",
   "metadata": {},
   "source": [
    "### 2.3 Choice"
   ]
  },
  {
   "cell_type": "markdown",
   "id": "1f8cda7a",
   "metadata": {},
   "source": [
    "The Numpy choice function generates a random sample from a given array. For example:"
   ]
  },
  {
   "cell_type": "code",
   "execution_count": 14,
   "id": "31166edc",
   "metadata": {},
   "outputs": [
    {
     "data": {
      "text/plain": [
       "array([7, 7, 8, 8, 3], dtype=int64)"
      ]
     },
     "execution_count": 14,
     "metadata": {},
     "output_type": "execute_result"
    }
   ],
   "source": [
    "rng.choice(10, 5)"
   ]
  },
  {
   "cell_type": "markdown",
   "id": "30a28ada",
   "metadata": {},
   "source": [
    "This returns an array of 5 integers between 0 and 9 (inclusive) and is the equivalent of ```rng.integers(0, 10, 5)```."
   ]
  },
  {
   "cell_type": "markdown",
   "id": "e3bfedd7",
   "metadata": {},
   "source": [
    "By default, the distribution is uniform, as shown below:"
   ]
  },
  {
   "cell_type": "code",
   "execution_count": 15,
   "id": "a40f960e",
   "metadata": {},
   "outputs": [
    {
     "data": {
      "image/png": "[encoded data removed]",
      "text/plain": [
       "<Figure size 432x288 with 1 Axes>"
      ]
     },
     "metadata": {
      "needs_background": "light"
     },
     "output_type": "display_data"
    }
   ],
   "source": [
    "x = rng.choice(100, 10000)\n",
    "plt.hist(x)\n",
    "plt.show()"
   ]
  },
  {
   "cell_type": "markdown",
   "id": "dfb7c6eb",
   "metadata": {},
   "source": [
    "A non-uniform distribution can be generated by specifying parameter ```p``` for the probabilty of a choice occuring. For example:"
   ]
  },
  {
   "cell_type": "code",
   "execution_count": 16,
   "id": "ff4ba34b",
   "metadata": {},
   "outputs": [
    {
     "data": {
      "text/plain": [
       "array([2, 3, 3], dtype=int64)"
      ]
     },
     "execution_count": 16,
     "metadata": {},
     "output_type": "execute_result"
    }
   ],
   "source": [
    "rng.choice(5, 3, p=[0.1, 0, 0.3, 0.6, 0])"
   ]
  },
  {
   "cell_type": "markdown",
   "id": "230c170c",
   "metadata": {},
   "source": [
    "In this example, there is a 10% chance of 0 occuring for any the three numbers generated, a 0% percentage chance for a 1, a 30% chance for a 2, a 60% chance for a 3, and a 0% chance for a 4. "
   ]
  },
  {
   "cell_type": "markdown",
   "id": "3de7deac",
   "metadata": {},
   "source": [
    "Specifying parameter ```replace=False``` will result in an individual number not occurring more than once in the output:"
   ]
  },
  {
   "cell_type": "code",
   "execution_count": 17,
   "id": "b099d6da",
   "metadata": {},
   "outputs": [
    {
     "data": {
      "text/plain": [
       "array([8, 4, 9, 6, 1, 3, 7, 2, 5, 0], dtype=int64)"
      ]
     },
     "execution_count": 17,
     "metadata": {},
     "output_type": "execute_result"
    }
   ],
   "source": [
    "rng.choice(10, 10, replace=False)"
   ]
  },
  {
   "cell_type": "markdown",
   "id": "e4c85779",
   "metadata": {},
   "source": [
    "The axis along which the choice is performed can also be selected. The 0 axis refers to rows, and the 1 axis refers to columns (https://www.sharpsightlabs.com/blog/numpy-axes-explained/). The default is 0 is this parameter is not set. For example: "
   ]
  },
  {
   "cell_type": "code",
   "execution_count": 18,
   "id": "3b148e84",
   "metadata": {},
   "outputs": [
    {
     "data": {
      "text/plain": [
       "array([['6', '7', '8'],\n",
       "       ['9', 'A', 'B'],\n",
       "       ['0', '1', '2'],\n",
       "       ['C', 'D', 'E'],\n",
       "       ['3', '4', '5']], dtype='<U11')"
      ]
     },
     "execution_count": 18,
     "metadata": {},
     "output_type": "execute_result"
    }
   ],
   "source": [
    "x = rng.choice([[0,1,2], [3,4,5], [6,7,8], [9,'A','B'], ['C','D','E']], 5, axis=0)\n",
    "x"
   ]
  },
  {
   "cell_type": "markdown",
   "id": "ae5721c9",
   "metadata": {},
   "source": [
    "The above output contains five rows with three elements: "
   ]
  },
  {
   "cell_type": "code",
   "execution_count": 19,
   "id": "3eb18c1f",
   "metadata": {},
   "outputs": [
    {
     "data": {
      "text/plain": [
       "(5, 3)"
      ]
     },
     "execution_count": 19,
     "metadata": {},
     "output_type": "execute_result"
    }
   ],
   "source": [
    "(x.shape)"
   ]
  },
  {
   "cell_type": "markdown",
   "id": "9af2a897",
   "metadata": {},
   "source": [
    "Setting the axis to 1:"
   ]
  },
  {
   "cell_type": "code",
   "execution_count": 20,
   "id": "bea52740",
   "metadata": {},
   "outputs": [
    {
     "data": {
      "text/plain": [
       "array([['1', '0', '2', '2', '2'],\n",
       "       ['4', '3', '5', '5', '5'],\n",
       "       ['7', '6', '8', '8', '8'],\n",
       "       ['A', '9', 'B', 'B', 'B'],\n",
       "       ['D', 'C', 'E', 'E', 'E']], dtype='<U11')"
      ]
     },
     "execution_count": 20,
     "metadata": {},
     "output_type": "execute_result"
    }
   ],
   "source": [
    "x = rng.choice([[0,1,2], [3,4,5], [6,7,8], [9,'A','B'], ['C','D','E']], 5, axis=1)\n",
    "x"
   ]
  },
  {
   "cell_type": "markdown",
   "id": "2fc00c66",
   "metadata": {},
   "source": [
    "The above output contains five rows with five columns:"
   ]
  },
  {
   "cell_type": "code",
   "execution_count": 21,
   "id": "68a07557",
   "metadata": {},
   "outputs": [
    {
     "data": {
      "text/plain": [
       "(5, 5)"
      ]
     },
     "execution_count": 21,
     "metadata": {},
     "output_type": "execute_result"
    }
   ],
   "source": [
    "(x.shape)"
   ]
  },
  {
   "cell_type": "markdown",
   "id": "3423d39f",
   "metadata": {},
   "source": [
    "The choice function is not restricted to integers. For example:"
   ]
  },
  {
   "cell_type": "code",
   "execution_count": 22,
   "id": "5727ea24",
   "metadata": {},
   "outputs": [
    {
     "data": {
      "text/plain": [
       "array(['spring', 'winter', 'winter', 'winter'], dtype='<U6')"
      ]
     },
     "execution_count": 22,
     "metadata": {},
     "output_type": "execute_result"
    }
   ],
   "source": [
    "season = ['spring', 'summer', 'autumn', 'winter']\n",
    "rng.choice(season, 4, p=[0.5, 0, 0, 0.5])"
   ]
  },
  {
   "cell_type": "markdown",
   "id": "dd942e59",
   "metadata": {},
   "source": [
    "### 2.4 Bytes"
   ]
  },
  {
   "cell_type": "markdown",
   "id": "b4b53741",
   "metadata": {},
   "source": [
    "The Numpy bytes function returns random bytes, dependent on the specified length. The following example returns 10 bytes:"
   ]
  },
  {
   "cell_type": "code",
   "execution_count": 23,
   "id": "ef4d1b45",
   "metadata": {},
   "outputs": [
    {
     "data": {
      "text/plain": [
       "b'\\xf7\\x9dI\\x07\\xed\\x97\\x05\\xb1G\\xdd'"
      ]
     },
     "execution_count": 23,
     "metadata": {},
     "output_type": "execute_result"
    }
   ],
   "source": [
    "rng.bytes(10)\n"
   ]
  },
  {
   "cell_type": "markdown",
   "id": "e58e2b98",
   "metadata": {},
   "source": [
    "The bytes are returned in hex and ASCII. Any two characters following an x character are hex characters making up 1 byte; any other characters are ASCII characters of 1 byte each. The initial b is a prefix for bytes, and the output is enclosed in matching single quotes ('). "
   ]
  },
  {
   "cell_type": "markdown",
   "id": "dabb74fa",
   "metadata": {},
   "source": [
    "For example, ```b'\\xfd\\xd7\\x17\\xac\\xa3Ig\\xf0`\\xa1'``` would be made up of the following for a total of 10 bytes:\n",
    "\n",
    "- fd (hex)\n",
    "- d7 (hex)\n",
    "- 17 (hex)\n",
    "- ac (hex)\n",
    "- a3 (hex)\n",
    "- I (ASCII)\n",
    "- g (ASCII)\n",
    "- f0 (hex)\n",
    "- ` (ASCII)\n",
    "- a1 (hex)"
   ]
  },
  {
   "cell_type": "markdown",
   "id": "ab23cecc",
   "metadata": {},
   "source": [
    "https://stackoverflow.com/questions/26802581/can-anyone-identify-this-encoding?rq=1\n",
    "https://docs.python.org/3.4/reference/lexical_analysis.html#grammar-token-shortbytesitem"
   ]
  },
  {
   "cell_type": "markdown",
   "id": "c2181e8c",
   "metadata": {},
   "source": [
    "## 3. Permutations"
   ]
  },
  {
   "cell_type": "markdown",
   "id": "c9f79271",
   "metadata": {},
   "source": [
    "The ```numpy.random``` package contains three methods for randomly permutating a sequence. These are discussed in this section. "
   ]
  },
  {
   "cell_type": "markdown",
   "id": "6c35056c",
   "metadata": {},
   "source": [
    "### 3.1 Shuffle"
   ]
  },
  {
   "cell_type": "markdown",
   "id": "3d68daa5",
   "metadata": {},
   "source": [
    "The Numpy shuffle function rearranges the order of a sequence's contents. For example, the following will return a sequence of numbers from 0 to 9 (inclusive) in a random order, as detailed in Section 2.3:"
   ]
  },
  {
   "cell_type": "code",
   "execution_count": 24,
   "id": "914c4eec",
   "metadata": {},
   "outputs": [
    {
     "data": {
      "text/plain": [
       "array([0, 9, 2, 5, 7, 3, 8, 1, 6, 4], dtype=int64)"
      ]
     },
     "execution_count": 24,
     "metadata": {},
     "output_type": "execute_result"
    }
   ],
   "source": [
    "x = rng.choice(10, 10, replace=False)\n",
    "x"
   ]
  },
  {
   "cell_type": "markdown",
   "id": "7c8579b9",
   "metadata": {},
   "source": [
    "The squence order is then rearranged using the shuffle function:"
   ]
  },
  {
   "cell_type": "code",
   "execution_count": 25,
   "id": "38b73201",
   "metadata": {},
   "outputs": [
    {
     "data": {
      "text/plain": [
       "array([7, 6, 3, 1, 0, 9, 8, 4, 2, 5], dtype=int64)"
      ]
     },
     "execution_count": 25,
     "metadata": {},
     "output_type": "execute_result"
    }
   ],
   "source": [
    "rng.shuffle(x)\n",
    "x"
   ]
  },
  {
   "cell_type": "markdown",
   "id": "c6911259",
   "metadata": {},
   "source": [
    "The shuffle function can also rearrange the sequence of arrays:"
   ]
  },
  {
   "cell_type": "code",
   "execution_count": 26,
   "id": "293c0408",
   "metadata": {},
   "outputs": [
    {
     "data": {
      "text/plain": [
       "array([[ 0,  1,  2,  3,  4],\n",
       "       [ 5,  6,  7,  8,  9],\n",
       "       [10, 11, 12, 13, 14],\n",
       "       [15, 16, 17, 18, 19],\n",
       "       [20, 21, 22, 23, 24]])"
      ]
     },
     "execution_count": 26,
     "metadata": {},
     "output_type": "execute_result"
    }
   ],
   "source": [
    "x = np.arange(0, 25).reshape(5, 5)\n",
    "x"
   ]
  },
  {
   "cell_type": "code",
   "execution_count": 27,
   "id": "23d2a918",
   "metadata": {},
   "outputs": [
    {
     "data": {
      "text/plain": [
       "array([[ 0,  1,  2,  3,  4],\n",
       "       [20, 21, 22, 23, 24],\n",
       "       [10, 11, 12, 13, 14],\n",
       "       [ 5,  6,  7,  8,  9],\n",
       "       [15, 16, 17, 18, 19]])"
      ]
     },
     "execution_count": 27,
     "metadata": {},
     "output_type": "execute_result"
    }
   ],
   "source": [
    "rng.shuffle(x)\n",
    "x"
   ]
  },
  {
   "cell_type": "markdown",
   "id": "55417436",
   "metadata": {},
   "source": [
    "By default, the axis parameter is set to zero. As can be seen in the above example, by default, the shuffle function will shuffle the order the rows, but not the order of the columns. "
   ]
  },
  {
   "cell_type": "markdown",
   "id": "7ababe00",
   "metadata": {},
   "source": [
    "In the below example, the axis is set to 1:"
   ]
  },
  {
   "cell_type": "code",
   "execution_count": 28,
   "id": "bdc4e7fe",
   "metadata": {},
   "outputs": [
    {
     "data": {
      "text/plain": [
       "array([[ 0,  1,  2,  3,  4],\n",
       "       [ 5,  6,  7,  8,  9],\n",
       "       [10, 11, 12, 13, 14],\n",
       "       [15, 16, 17, 18, 19],\n",
       "       [20, 21, 22, 23, 24]])"
      ]
     },
     "execution_count": 28,
     "metadata": {},
     "output_type": "execute_result"
    }
   ],
   "source": [
    "x = np.arange(0, 25).reshape(5, 5)\n",
    "x"
   ]
  },
  {
   "cell_type": "code",
   "execution_count": 29,
   "id": "9081f39d",
   "metadata": {},
   "outputs": [
    {
     "data": {
      "text/plain": [
       "array([[ 3,  1,  2,  0,  4],\n",
       "       [ 8,  6,  7,  5,  9],\n",
       "       [13, 11, 12, 10, 14],\n",
       "       [18, 16, 17, 15, 19],\n",
       "       [23, 21, 22, 20, 24]])"
      ]
     },
     "execution_count": 29,
     "metadata": {},
     "output_type": "execute_result"
    }
   ],
   "source": [
    "rng.shuffle(x, axis=1)\n",
    "x"
   ]
  },
  {
   "cell_type": "markdown",
   "id": "e7eeb20f",
   "metadata": {},
   "source": [
    "This results in a shuffling of the contents of the columns, but the row order remaining the same."
   ]
  },
  {
   "cell_type": "markdown",
   "id": "c9c9df93",
   "metadata": {},
   "source": [
    "### 3.2 Permutation"
   ]
  },
  {
   "cell_type": "markdown",
   "id": "e7dce34d",
   "metadata": {},
   "source": [
    "The Numpy permutation function returns either a randomly permuted sequence, as shown in the example below:"
   ]
  },
  {
   "cell_type": "code",
   "execution_count": 30,
   "id": "d4a29c31",
   "metadata": {},
   "outputs": [
    {
     "data": {
      "text/plain": [
       "array([0, 2, 3, 6, 9, 1, 4, 7, 8, 5])"
      ]
     },
     "execution_count": 30,
     "metadata": {},
     "output_type": "execute_result"
    }
   ],
   "source": [
    "rng.permutation(10)\n"
   ]
  },
  {
   "cell_type": "raw",
   "id": "18c2d60b",
   "metadata": {},
   "source": [
    "Or randomly rearranges the elements of an array, as shown in the example below:"
   ]
  },
  {
   "cell_type": "markdown",
   "id": "43cffa3e",
   "metadata": {},
   "source": [
    "Or can rearrange the sequence of arrays:"
   ]
  },
  {
   "cell_type": "code",
   "execution_count": 31,
   "id": "bad2e180",
   "metadata": {},
   "outputs": [
    {
     "data": {
      "text/plain": [
       "array([[ 0,  1,  2,  3,  4],\n",
       "       [ 5,  6,  7,  8,  9],\n",
       "       [10, 11, 12, 13, 14],\n",
       "       [15, 16, 17, 18, 19],\n",
       "       [20, 21, 22, 23, 24]])"
      ]
     },
     "execution_count": 31,
     "metadata": {},
     "output_type": "execute_result"
    }
   ],
   "source": [
    "x = np.arange(0, 25).reshape(5, 5)\n",
    "x"
   ]
  },
  {
   "cell_type": "code",
   "execution_count": 32,
   "id": "494890d0",
   "metadata": {},
   "outputs": [
    {
     "data": {
      "text/plain": [
       "array([[10, 11, 12, 13, 14],\n",
       "       [ 0,  1,  2,  3,  4],\n",
       "       [ 5,  6,  7,  8,  9],\n",
       "       [15, 16, 17, 18, 19],\n",
       "       [20, 21, 22, 23, 24]])"
      ]
     },
     "execution_count": 32,
     "metadata": {},
     "output_type": "execute_result"
    }
   ],
   "source": [
    "y = rng.permutation(x)\n",
    "y"
   ]
  },
  {
   "cell_type": "markdown",
   "id": "52ee08fd",
   "metadata": {},
   "source": [
    "By default, the axis parameter is set to zero. As can be seen in the above example, by default, the permutation function will rearrange the order the rows, but not the order of the columns. "
   ]
  },
  {
   "cell_type": "markdown",
   "id": "f180c585",
   "metadata": {},
   "source": [
    "In the below example, axis is set to 1:"
   ]
  },
  {
   "cell_type": "code",
   "execution_count": 33,
   "id": "5934e028",
   "metadata": {},
   "outputs": [
    {
     "data": {
      "text/plain": [
       "array([[ 0,  1,  2,  3,  4],\n",
       "       [ 5,  6,  7,  8,  9],\n",
       "       [10, 11, 12, 13, 14],\n",
       "       [15, 16, 17, 18, 19],\n",
       "       [20, 21, 22, 23, 24]])"
      ]
     },
     "execution_count": 33,
     "metadata": {},
     "output_type": "execute_result"
    }
   ],
   "source": [
    "x = np.arange(0, 25).reshape(5, 5)\n",
    "x"
   ]
  },
  {
   "cell_type": "code",
   "execution_count": 34,
   "id": "5fe2b530",
   "metadata": {},
   "outputs": [
    {
     "data": {
      "text/plain": [
       "array([[ 1,  2,  0,  4,  3],\n",
       "       [ 6,  7,  5,  9,  8],\n",
       "       [11, 12, 10, 14, 13],\n",
       "       [16, 17, 15, 19, 18],\n",
       "       [21, 22, 20, 24, 23]])"
      ]
     },
     "execution_count": 34,
     "metadata": {},
     "output_type": "execute_result"
    }
   ],
   "source": [
    "y = rng.permutation(x, axis=1)\n",
    "y"
   ]
  },
  {
   "cell_type": "markdown",
   "id": "3444b306",
   "metadata": {},
   "source": [
    "As with the shuffle function, this results in a shuffling of the contents of the columns but the row order remaining the same."
   ]
  },
  {
   "cell_type": "markdown",
   "id": "d2a14fca",
   "metadata": {},
   "source": [
    "### 3.2.2 Difference between Shuffle and Permutation Functions"
   ]
  },
  {
   "cell_type": "markdown",
   "id": "f93ae35f",
   "metadata": {},
   "source": [
    "At first glance, the shuffle and permutation functions appear to perform similarly - both randomly rearrage a sequence or arrays. However, the key difference is that the shuffle function operates in-place, whereas the permutation function returns a copy (https://numpy.org/doc/stable/reference/random/generator.html). (https://jman4190.medium.com/explaining-the-inplace-parameter-for-beginners-5de7ffa18d2e)."
   ]
  },
  {
   "cell_type": "markdown",
   "id": "8a75d7f2",
   "metadata": {},
   "source": [
    "The in-place operation of the shuffle function means that dataframe is overwritten with the output of the function, when it is performed, For example, a sequence of numbers 0 to 9 can be generated as the variable x:"
   ]
  },
  {
   "cell_type": "code",
   "execution_count": 35,
   "id": "cf26b2a2",
   "metadata": {},
   "outputs": [],
   "source": [
    "x = np.arange(10)"
   ]
  },
  {
   "cell_type": "markdown",
   "id": "43711af3",
   "metadata": {},
   "source": [
    "The output of x is shown as the sequence:"
   ]
  },
  {
   "cell_type": "code",
   "execution_count": 36,
   "id": "6897dc4b",
   "metadata": {},
   "outputs": [
    {
     "data": {
      "text/plain": [
       "array([0, 1, 2, 3, 4, 5, 6, 7, 8, 9])"
      ]
     },
     "execution_count": 36,
     "metadata": {},
     "output_type": "execute_result"
    }
   ],
   "source": [
    "x"
   ]
  },
  {
   "cell_type": "markdown",
   "id": "60a71b7e",
   "metadata": {},
   "source": [
    "The shuffle function can then be performed:"
   ]
  },
  {
   "cell_type": "code",
   "execution_count": 37,
   "id": "76cc48f6",
   "metadata": {},
   "outputs": [],
   "source": [
    "rng.shuffle(x)\n"
   ]
  },
  {
   "cell_type": "markdown",
   "id": "5c85b5c9",
   "metadata": {},
   "source": [
    "The variable x now contains the random sequence generated by the shuffle function:"
   ]
  },
  {
   "cell_type": "code",
   "execution_count": 38,
   "id": "18dc4e3a",
   "metadata": {},
   "outputs": [
    {
     "data": {
      "text/plain": [
       "array([2, 8, 0, 4, 9, 3, 5, 6, 1, 7])"
      ]
     },
     "execution_count": 38,
     "metadata": {},
     "output_type": "execute_result"
    }
   ],
   "source": [
    "x"
   ]
  },
  {
   "cell_type": "markdown",
   "id": "68144077",
   "metadata": {},
   "source": [
    "The original sequence contained in x has now been overwritten and calling the variable x again will produce the same output as above and the original sequence is no longer stored:"
   ]
  },
  {
   "cell_type": "code",
   "execution_count": 39,
   "id": "666cde26",
   "metadata": {},
   "outputs": [
    {
     "data": {
      "text/plain": [
       "array([2, 8, 0, 4, 9, 3, 5, 6, 1, 7])"
      ]
     },
     "execution_count": 39,
     "metadata": {},
     "output_type": "execute_result"
    }
   ],
   "source": [
    "x"
   ]
  },
  {
   "cell_type": "markdown",
   "id": "ea163b04",
   "metadata": {},
   "source": [
    "Performing the shuffle function on x a further time would overwrite x again. "
   ]
  },
  {
   "cell_type": "markdown",
   "id": "71d49c8a",
   "metadata": {},
   "source": [
    "However, the permutation function operates differently and produces a copy of the original data. For example, taking the same sequence of 0 to 9:"
   ]
  },
  {
   "cell_type": "code",
   "execution_count": 40,
   "id": "aa60fd42",
   "metadata": {},
   "outputs": [
    {
     "data": {
      "text/plain": [
       "array([0, 1, 2, 3, 4, 5, 6, 7, 8, 9])"
      ]
     },
     "execution_count": 40,
     "metadata": {},
     "output_type": "execute_result"
    }
   ],
   "source": [
    "x = np.arange(10)\n",
    "x"
   ]
  },
  {
   "cell_type": "markdown",
   "id": "8ffee8c0",
   "metadata": {},
   "source": [
    "The permutation function can be called on x to output a random sequence:"
   ]
  },
  {
   "cell_type": "code",
   "execution_count": 41,
   "id": "9d2a9c0b",
   "metadata": {},
   "outputs": [
    {
     "data": {
      "text/plain": [
       "array([3, 4, 8, 5, 7, 9, 0, 1, 6, 2])"
      ]
     },
     "execution_count": 41,
     "metadata": {},
     "output_type": "execute_result"
    }
   ],
   "source": [
    "rng.permutation(x)"
   ]
  },
  {
   "cell_type": "markdown",
   "id": "247a394f",
   "metadata": {},
   "source": [
    "However, using the permutation function, the variable x contains the original data which has not been overwritten:"
   ]
  },
  {
   "cell_type": "code",
   "execution_count": 42,
   "id": "f44abc80",
   "metadata": {},
   "outputs": [
    {
     "data": {
      "text/plain": [
       "array([0, 1, 2, 3, 4, 5, 6, 7, 8, 9])"
      ]
     },
     "execution_count": 42,
     "metadata": {},
     "output_type": "execute_result"
    }
   ],
   "source": [
    "x"
   ]
  },
  {
   "cell_type": "markdown",
   "id": "122db69b",
   "metadata": {},
   "source": [
    "This could be useful if the original data is to be kept, but also a new sequence generated. For example:"
   ]
  },
  {
   "cell_type": "code",
   "execution_count": 43,
   "id": "1abfe09c",
   "metadata": {},
   "outputs": [],
   "source": [
    "y = rng.permutation(x)"
   ]
  },
  {
   "cell_type": "code",
   "execution_count": 44,
   "id": "beb83cd4",
   "metadata": {},
   "outputs": [
    {
     "data": {
      "text/plain": [
       "(array([0, 1, 2, 3, 4, 5, 6, 7, 8, 9]), array([4, 7, 1, 5, 8, 9, 6, 2, 3, 0]))"
      ]
     },
     "execution_count": 44,
     "metadata": {},
     "output_type": "execute_result"
    }
   ],
   "source": [
    "x, y "
   ]
  },
  {
   "cell_type": "markdown",
   "id": "786431ec",
   "metadata": {},
   "source": [
    "### 3.3 Permuted"
   ]
  },
  {
   "cell_type": "markdown",
   "id": "51d86427",
   "metadata": {},
   "source": [
    "The Numpy permutated function randomly permutes an array along a given axis. This function differs from the shuffle and permutation functions in that each slice of the array is shuffled independently of the others. This can be demonstrated using a 3d-array, as in the following example:"
   ]
  },
  {
   "cell_type": "code",
   "execution_count": 45,
   "id": "79638520",
   "metadata": {},
   "outputs": [
    {
     "data": {
      "text/plain": [
       "array([[[ 0,  1],\n",
       "        [ 2,  3],\n",
       "        [ 4,  5]],\n",
       "\n",
       "       [[ 6,  7],\n",
       "        [ 8,  9],\n",
       "        [10, 11]],\n",
       "\n",
       "       [[12, 13],\n",
       "        [14, 15],\n",
       "        [16, 17]],\n",
       "\n",
       "       [[18, 19],\n",
       "        [20, 21],\n",
       "        [22, 23]]])"
      ]
     },
     "execution_count": 45,
     "metadata": {},
     "output_type": "execute_result"
    }
   ],
   "source": [
    "x = np.array([[[0, 1], [2, 3], [4, 5]], [[6, 7], [8, 9], [10, 11]], [[12, 13], [14, 15], [16, 17]], [[18, 19], [20, 21], [22,23]]])\n",
    "x"
   ]
  },
  {
   "cell_type": "markdown",
   "id": "700ef10f",
   "metadata": {},
   "source": [
    "The above array has 4 lines in axis-0, 3 lines in axis-1, and 2 lines in axis-2:"
   ]
  },
  {
   "cell_type": "code",
   "execution_count": 46,
   "id": "d84a9a29",
   "metadata": {},
   "outputs": [
    {
     "data": {
      "text/plain": [
       "(4, 3, 2)"
      ]
     },
     "execution_count": 46,
     "metadata": {},
     "output_type": "execute_result"
    }
   ],
   "source": [
    "x.shape"
   ]
  },
  {
   "cell_type": "markdown",
   "id": "6eed5d34",
   "metadata": {},
   "source": [
    "The following image gives a representation of arrays in different dimensions; the 3d-array on the right is of the same 4, 3, 2 shape. "
   ]
  },
  {
   "cell_type": "markdown",
   "id": "e40fda63",
   "metadata": {},
   "source": [
    "![numpy.org](https://miro.medium.com/max/3000/0*fr4sfcnDc0KsXA8P.png)\n"
   ]
  },
  {
   "cell_type": "markdown",
   "id": "cbb24c8f",
   "metadata": {},
   "source": [
    "#3d array (https://stackoverflow.com/questions/62734866/how-to-create-a-3d-array-in-python-with-numpy)\n",
    "#https://miro.medium.com/max/3000/0*fr4sfcnDc0KsXA8P.png\n"
   ]
  },
  {
   "cell_type": "markdown",
   "id": "036931af",
   "metadata": {},
   "source": [
    "Calling the permuted function on the default axis-0 will randomly shuffle the whole array across all axis:"
   ]
  },
  {
   "cell_type": "code",
   "execution_count": 47,
   "id": "00b294b2",
   "metadata": {},
   "outputs": [
    {
     "data": {
      "text/plain": [
       "array([[[ 3, 17],\n",
       "        [15, 18],\n",
       "        [ 4, 12]],\n",
       "\n",
       "       [[23, 21],\n",
       "        [ 7,  0],\n",
       "        [16,  1]],\n",
       "\n",
       "       [[ 6, 14],\n",
       "        [13, 19],\n",
       "        [ 9, 20]],\n",
       "\n",
       "       [[ 5,  8],\n",
       "        [22, 10],\n",
       "        [11,  2]]])"
      ]
     },
     "execution_count": 47,
     "metadata": {},
     "output_type": "execute_result"
    }
   ],
   "source": [
    "rng.permuted(x)"
   ]
  },
  {
   "cell_type": "markdown",
   "id": "f9f18279",
   "metadata": {},
   "source": [
    "This differs from permutation or shuffle whereby the rows are shuffled along axis-0, but not along axis-1 or axis-2:"
   ]
  },
  {
   "cell_type": "code",
   "execution_count": 48,
   "id": "6a8a84f3",
   "metadata": {},
   "outputs": [
    {
     "data": {
      "text/plain": [
       "array([[[18, 19],\n",
       "        [20, 21],\n",
       "        [22, 23]],\n",
       "\n",
       "       [[12, 13],\n",
       "        [14, 15],\n",
       "        [16, 17]],\n",
       "\n",
       "       [[ 6,  7],\n",
       "        [ 8,  9],\n",
       "        [10, 11]],\n",
       "\n",
       "       [[ 0,  1],\n",
       "        [ 2,  3],\n",
       "        [ 4,  5]]])"
      ]
     },
     "execution_count": 48,
     "metadata": {},
     "output_type": "execute_result"
    }
   ],
   "source": [
    "rng.permutation(x, axis=0)"
   ]
  },
  {
   "cell_type": "markdown",
   "id": "cc62aa98",
   "metadata": {},
   "source": [
    "Calling permutated or permunation on axis-1 results in a shuffling of the columns along axis-1; whilst the columns are shuffled within the rows, the row order itself is not changed. "
   ]
  },
  {
   "cell_type": "code",
   "execution_count": 49,
   "id": "58cb1947",
   "metadata": {},
   "outputs": [
    {
     "data": {
      "text/plain": [
       "array([[[ 4,  3],\n",
       "        [ 0,  5],\n",
       "        [ 2,  1]],\n",
       "\n",
       "       [[ 8,  7],\n",
       "        [ 6,  9],\n",
       "        [10, 11]],\n",
       "\n",
       "       [[14, 15],\n",
       "        [16, 13],\n",
       "        [12, 17]],\n",
       "\n",
       "       [[20, 21],\n",
       "        [18, 23],\n",
       "        [22, 19]]])"
      ]
     },
     "execution_count": 49,
     "metadata": {},
     "output_type": "execute_result"
    }
   ],
   "source": [
    "rng.permuted(x, axis=1)"
   ]
  },
  {
   "cell_type": "code",
   "execution_count": 50,
   "id": "b14cfd4a",
   "metadata": {},
   "outputs": [
    {
     "data": {
      "text/plain": [
       "array([[[ 2,  3],\n",
       "        [ 4,  5],\n",
       "        [ 0,  1]],\n",
       "\n",
       "       [[ 8,  9],\n",
       "        [10, 11],\n",
       "        [ 6,  7]],\n",
       "\n",
       "       [[14, 15],\n",
       "        [16, 17],\n",
       "        [12, 13]],\n",
       "\n",
       "       [[20, 21],\n",
       "        [22, 23],\n",
       "        [18, 19]]])"
      ]
     },
     "execution_count": 50,
     "metadata": {},
     "output_type": "execute_result"
    }
   ],
   "source": [
    "rng.permutation(x, axis=1)"
   ]
  },
  {
   "cell_type": "markdown",
   "id": "4b21c0ad",
   "metadata": {},
   "source": [
    "Calling permutated on axis-2 results in a shuffling of axis-2 independently from the other axis:"
   ]
  },
  {
   "cell_type": "code",
   "execution_count": 51,
   "id": "46950b00",
   "metadata": {},
   "outputs": [
    {
     "data": {
      "text/plain": [
       "array([[[ 0,  1],\n",
       "        [ 2,  3],\n",
       "        [ 4,  5]],\n",
       "\n",
       "       [[ 7,  6],\n",
       "        [ 9,  8],\n",
       "        [10, 11]],\n",
       "\n",
       "       [[13, 12],\n",
       "        [15, 14],\n",
       "        [16, 17]],\n",
       "\n",
       "       [[19, 18],\n",
       "        [20, 21],\n",
       "        [23, 22]]])"
      ]
     },
     "execution_count": 51,
     "metadata": {},
     "output_type": "execute_result"
    }
   ],
   "source": [
    "rng.permuted(x, axis=2)"
   ]
  },
  {
   "cell_type": "markdown",
   "id": "d03f9100",
   "metadata": {},
   "source": [
    "Whereas permutatation shuffles along axis-2 but is not idependent:"
   ]
  },
  {
   "cell_type": "code",
   "execution_count": 52,
   "id": "bdcd4fa5",
   "metadata": {
    "scrolled": true
   },
   "outputs": [
    {
     "data": {
      "text/plain": [
       "array([[[ 1,  0],\n",
       "        [ 3,  2],\n",
       "        [ 5,  4]],\n",
       "\n",
       "       [[ 7,  6],\n",
       "        [ 9,  8],\n",
       "        [11, 10]],\n",
       "\n",
       "       [[13, 12],\n",
       "        [15, 14],\n",
       "        [17, 16]],\n",
       "\n",
       "       [[19, 18],\n",
       "        [21, 20],\n",
       "        [23, 22]]])"
      ]
     },
     "execution_count": 52,
     "metadata": {},
     "output_type": "execute_result"
    }
   ],
   "source": [
    "rng.permutation(x, axis=2)"
   ]
  },
  {
   "cell_type": "markdown",
   "id": "82924db2",
   "metadata": {},
   "source": [
    "By default, the permuted function returns a shuffled copy. The above examples have not overwritten x:"
   ]
  },
  {
   "cell_type": "code",
   "execution_count": 53,
   "id": "140f8d1a",
   "metadata": {},
   "outputs": [
    {
     "data": {
      "text/plain": [
       "array([[[ 0,  1],\n",
       "        [ 2,  3],\n",
       "        [ 4,  5]],\n",
       "\n",
       "       [[ 6,  7],\n",
       "        [ 8,  9],\n",
       "        [10, 11]],\n",
       "\n",
       "       [[12, 13],\n",
       "        [14, 15],\n",
       "        [16, 17]],\n",
       "\n",
       "       [[18, 19],\n",
       "        [20, 21],\n",
       "        [22, 23]]])"
      ]
     },
     "execution_count": 53,
     "metadata": {},
     "output_type": "execute_result"
    }
   ],
   "source": [
    "x"
   ]
  },
  {
   "cell_type": "markdown",
   "id": "f84e859d",
   "metadata": {},
   "source": [
    "The permuted function can be performed in-place through use of the out function. For example:"
   ]
  },
  {
   "cell_type": "code",
   "execution_count": 54,
   "id": "1b202973",
   "metadata": {},
   "outputs": [
    {
     "data": {
      "text/plain": [
       "array([[[ 6, 13],\n",
       "        [ 2, 15],\n",
       "        [16,  5]],\n",
       "\n",
       "       [[ 0, 19],\n",
       "        [ 8,  9],\n",
       "        [10, 23]],\n",
       "\n",
       "       [[18,  1],\n",
       "        [14, 21],\n",
       "        [22, 17]],\n",
       "\n",
       "       [[12,  7],\n",
       "        [20,  3],\n",
       "        [ 4, 11]]])"
      ]
     },
     "execution_count": 54,
     "metadata": {},
     "output_type": "execute_result"
    }
   ],
   "source": [
    "y = rng.permuted(x, axis=0, out=x)\n",
    "y"
   ]
  },
  {
   "cell_type": "code",
   "execution_count": 55,
   "id": "1b772b85",
   "metadata": {},
   "outputs": [
    {
     "data": {
      "text/plain": [
       "array([[[ 6, 13],\n",
       "        [ 2, 15],\n",
       "        [16,  5]],\n",
       "\n",
       "       [[ 0, 19],\n",
       "        [ 8,  9],\n",
       "        [10, 23]],\n",
       "\n",
       "       [[18,  1],\n",
       "        [14, 21],\n",
       "        [22, 17]],\n",
       "\n",
       "       [[12,  7],\n",
       "        [20,  3],\n",
       "        [ 4, 11]]])"
      ]
     },
     "execution_count": 55,
     "metadata": {},
     "output_type": "execute_result"
    }
   ],
   "source": [
    "x"
   ]
  },
  {
   "cell_type": "markdown",
   "id": "ef76c4cf",
   "metadata": {},
   "source": [
    "## 4. Distributions "
   ]
  },
  {
   "cell_type": "markdown",
   "id": "4e33d277",
   "metadata": {},
   "source": [
    "The ```numpy.random``` package contains a wide variety of distributions which can be applied to sequences generated by the Generator. Five distributions are discussed in this section:"
   ]
  },
  {
   "cell_type": "markdown",
   "id": "762cfbf5",
   "metadata": {},
   "source": [
    "1. Normal\n",
    "2. Weibull\n",
    "3. Rayleigh\n",
    "4. Uniform\n",
    "5. Exponential"
   ]
  },
  {
   "cell_type": "markdown",
   "id": "af8a976c",
   "metadata": {},
   "source": [
    "### 4.1. Normal Distribution"
   ]
  },
  {
   "cell_type": "markdown",
   "id": "397b6348",
   "metadata": {},
   "source": [
    "Normal distribution, also known as Gaussian distribution or a Bell Curve, is a common type of probability distribution for independent, randomly generated variables (https://www.britannica.com/topic/normal-distribution). A normal distribution is symmetrical around the central mean value with half of the values to the left of mean , and half to the right (https://www.mathsisfun.com/data/standard-normal-distribution.html), as reflected in the example below (https://numpy.org/doc/stable/reference/random/generated/numpy.random.Generator.normal.html#numpy.random.Generator.normal):"
   ]
  },
  {
   "cell_type": "markdown",
   "id": "79604d51",
   "metadata": {},
   "source": [
    "![numpy.org](https://numpy.org/doc/stable/_images/numpy-random-Generator-normal-1_00_00.png)"
   ]
  },
  {
   "cell_type": "markdown",
   "id": "b0de5134",
   "metadata": {},
   "source": [
    "The y-axis is the Probability Density Function (PDF) which defines the probability distribution for a random variable. In other words, it defines the likehood of an outcome occuring (https://www.investopedia.com/terms/p/pdf.asp). The x-axis is the standard deviation which is an indication of how much the data set deviates from the mean (https://medium.com/fintechexplained/ever-wondered-why-normal-distribution-is-so-important-110a482abee3). The total area under the curve is the total probability of all the values that the variable can take; the total curve area is 100% (https://medium.com/fintechexplained/ever-wondered-why-normal-distribution-is-so-important-110a482abee3) "
   ]
  },
  {
   "cell_type": "markdown",
   "id": "f3d3740f",
   "metadata": {},
   "source": [
    "The formula for normal distribution can be written as:"
   ]
  },
  {
   "cell_type": "markdown",
   "id": "3d882541",
   "metadata": {},
   "source": [
    "![brittania.com](https://www.gstatic.com/education/formulas2/397133473/en/normal_distribution.svg)"
   ]
  },
  {
   "cell_type": "markdown",
   "id": "06195ae4",
   "metadata": {},
   "source": [
    "Where:\n",
    "\n",
    "*f(x)* is the probability density function\n",
    "\n",
    "*μ* (mu) is the mean\n",
    "\n",
    "*σ* (sigma) is the standard deviation"
   ]
  },
  {
   "cell_type": "markdown",
   "id": "7326a7e0",
   "metadata": {},
   "source": [
    "In general:\n",
    "\n",
    "- approximately 68% of values are within 1 standard deviation of the mean\n",
    "- approximately 95% of values are within 2 standard deviations of the mean\n",
    "- approximately 99.7% of values are within 3 standard deviations of the mean\n",
    "(https://www.mathsisfun.com/data/standard-normal-distribution.html)"
   ]
  },
  {
   "cell_type": "markdown",
   "id": "9c586912",
   "metadata": {},
   "source": [
    "Normal distributions appear naturaly; numpy can be used to help predict how the variables might occur in real-world situations and to help understanding the behaviour of the data set. For example, the height of population would closely follow a normal distribution. Numpy can be used to provide data on expected deviations from the mean height of the population. "
   ]
  },
  {
   "cell_type": "markdown",
   "id": "dffcd147",
   "metadata": {},
   "source": [
    "In this example the mean height and standard deviation in metres are defined in the variables mu (μ) and sigma (σ): "
   ]
  },
  {
   "cell_type": "code",
   "execution_count": 56,
   "id": "b06a5dd4",
   "metadata": {},
   "outputs": [],
   "source": [
    "mu, sigma = 1.79, 0.15 "
   ]
  },
  {
   "cell_type": "markdown",
   "id": "537da589",
   "metadata": {},
   "source": [
    "The numpy.random.Generator.normal function is used to generate a number of samples, in this case 1000, in the normal distribution:"
   ]
  },
  {
   "cell_type": "code",
   "execution_count": 79,
   "id": "1fa2db98",
   "metadata": {},
   "outputs": [
    {
     "data": {
      "text/plain": [
       "array([1.62305351, 1.64592089, 1.64274198, 1.69039129, 1.70376702,\n",
       "       2.06088999, 1.77724098, 1.59830509, 1.98470791, 2.14986652,\n",
       "       1.83502894, 1.79341118, 1.7165124 , 1.67106579, 1.77830167,\n",
       "       1.59354848, 1.65206723, 1.83182906, 1.99680209, 1.76691857,\n",
       "       1.61400389, 1.86607036, 1.54244995, 1.96084632, 1.80884974,\n",
       "       1.70767531, 1.81583069, 1.86489171, 1.63691736, 1.79982282,\n",
       "       1.57815658, 1.56809723, 1.70763667, 1.77373178, 1.60126888,\n",
       "       2.067367  , 1.62053492, 1.91367819, 1.79357515, 1.74862151,\n",
       "       2.05063201, 1.67048962, 1.7114732 , 1.46314077, 2.04756449,\n",
       "       1.90673073, 1.92894941, 1.73757551, 1.85461521, 1.74931496,\n",
       "       1.6000388 , 1.6780113 , 1.75717903, 1.80257007, 1.68210728,\n",
       "       1.69087611, 1.7915442 , 1.73967418, 1.53861604, 1.68472295,\n",
       "       1.77227353, 1.6457918 , 1.48969887, 1.70539925, 1.8485045 ,\n",
       "       1.66532009, 1.55027695, 1.77068854, 1.71335146, 1.47822497,\n",
       "       1.87789673, 1.63035507, 1.75998721, 1.81587987, 1.89740137,\n",
       "       1.55414881, 1.83863533, 1.77851642, 1.97180984, 1.76803897,\n",
       "       1.70398559, 1.87479977, 1.81949226, 1.86219701, 1.60781612,\n",
       "       1.73022162, 1.69522774, 1.59429805, 1.74628936, 1.8388095 ,\n",
       "       1.7284274 , 1.78224448, 1.75574893, 1.94571812, 1.96971469,\n",
       "       1.84092794, 1.62753718, 1.78297608, 1.83371821, 1.58496843,\n",
       "       1.58149883, 1.54790201, 1.68400974, 1.8496992 , 1.72474163,\n",
       "       1.92999053, 1.76232874, 1.77472241, 1.43128056, 1.84809078,\n",
       "       1.9280364 , 1.51859576, 1.65873592, 1.63204812, 1.80722974,\n",
       "       1.61652544, 1.89228662, 1.79844198, 1.93695288, 1.832867  ,\n",
       "       1.85783346, 1.7185202 , 1.66424542, 1.82197459, 1.71465473,\n",
       "       1.73812956, 1.84856696, 1.84204979, 2.02430651, 1.82418687,\n",
       "       1.81677387, 1.89369939, 1.90376867, 1.77566547, 1.71352577,\n",
       "       1.87244077, 1.84847516, 1.59293142, 1.63103991, 2.03047582,\n",
       "       1.65610996, 1.66683314, 1.73788511, 1.91919217, 1.95043546,\n",
       "       1.78895993, 1.70855304, 1.63406997, 1.87193763, 1.70882947,\n",
       "       1.79211643, 1.93928022, 1.60623492, 1.88822525, 1.78739948,\n",
       "       1.96507461, 1.94114199, 1.58678839, 1.58773846, 1.68386685,\n",
       "       1.61104928, 1.83946736, 1.75760389, 1.79676553, 1.73423483,\n",
       "       1.76185826, 1.81404428, 1.78464638, 1.77245878, 1.77701233,\n",
       "       1.46973251, 1.8511176 , 1.94106187, 1.93244273, 1.63221455,\n",
       "       2.06804511, 1.71301702, 2.019153  , 1.97932751, 1.81329238,\n",
       "       1.74512862, 1.80286154, 1.84051545, 1.85808007, 1.77802394,\n",
       "       1.82495596, 1.85109674, 1.88581538, 1.96409202, 1.86857462,\n",
       "       1.45901466, 1.99810647, 1.93368486, 1.82339397, 2.04867615,\n",
       "       1.81457384, 2.08949411, 1.74063008, 1.78690877, 1.72964957,\n",
       "       1.79310769, 1.95358551, 2.00506405, 1.91199578, 1.56902239,\n",
       "       1.62624434, 1.82541088, 1.5763727 , 1.61833601, 1.68055182,\n",
       "       1.60036498, 1.84289348, 1.62545802, 1.7521359 , 1.91887162,\n",
       "       1.64092653, 1.80846534, 1.47391343, 1.9090734 , 1.9012608 ,\n",
       "       1.71611573, 1.75136048, 1.78587287, 2.0608783 , 1.66270445,\n",
       "       1.71424939, 1.7595145 , 1.95648016, 1.76801853, 1.6973481 ,\n",
       "       1.97087386, 1.66687934, 1.74977739, 1.76230782, 1.98998985,\n",
       "       1.53477889, 1.86423318, 1.78665794, 1.64118272, 1.97788384,\n",
       "       1.82421097, 1.99885628, 2.01548381, 1.75673226, 1.60810217,\n",
       "       1.86844478, 1.82887224, 1.80663733, 1.67584229, 2.10481509,\n",
       "       1.7728498 , 1.75999397, 1.61306915, 1.91656499, 1.53331194,\n",
       "       2.00453035, 1.69937797, 1.47674143, 1.86242585, 1.77306101,\n",
       "       1.82958467, 1.85273151, 1.82060139, 1.58656306, 1.79836823,\n",
       "       1.81164676, 1.85458852, 1.77390788, 1.71592247, 2.02037483,\n",
       "       1.5393344 , 1.77464948, 1.91108954, 1.76250386, 2.00878882,\n",
       "       1.68617476, 1.79335097, 1.66811767, 1.98570751, 1.82766336,\n",
       "       1.82104713, 1.88924866, 1.52749559, 1.88056936, 1.98257681,\n",
       "       1.47720827, 1.63549771, 1.67809333, 1.86442306, 1.80176138,\n",
       "       1.7250804 , 1.63124854, 1.66671979, 1.89829847, 1.7397028 ,\n",
       "       1.8301695 , 1.77591266, 1.79862567, 1.84326384, 1.72840452,\n",
       "       1.89172897, 2.06384204, 1.69632972, 1.45198882, 1.82833913,\n",
       "       1.85040051, 1.78832512, 1.74859326, 1.71329193, 1.86498054,\n",
       "       1.55182023, 1.92976235, 1.73225761, 2.11297113, 1.95997072,\n",
       "       1.75311698, 1.86788441, 2.04808246, 1.78398697, 1.78444692,\n",
       "       1.71766669, 1.75279349, 1.86615507, 1.98373081, 1.87553518,\n",
       "       1.51186491, 1.7946251 , 1.8380949 , 1.91900959, 1.70991273,\n",
       "       1.75975297, 1.56122734, 1.91219352, 1.76656705, 1.85623727,\n",
       "       1.81540161, 1.81570755, 1.71038601, 1.46940989, 1.5532873 ,\n",
       "       1.50528631, 1.97699084, 1.74691105, 1.8791168 , 1.76320457,\n",
       "       1.79920821, 1.6348402 , 1.75869375, 2.13592832, 1.45496449,\n",
       "       1.87873882, 1.44635541, 1.65592441, 2.01559436, 1.94327746,\n",
       "       1.74376908, 1.87139889, 1.79844791, 1.81844032, 1.70670505,\n",
       "       1.83771234, 1.35317818, 2.06608246, 1.94067649, 1.73233083,\n",
       "       1.69564551, 1.82448956, 1.74188835, 1.76455278, 1.81998939,\n",
       "       1.81444233, 1.99117218, 1.5535316 , 1.8948234 , 1.92311593,\n",
       "       1.71464776, 1.76450567, 1.60010231, 1.70119479, 1.65733912,\n",
       "       1.89040492, 1.61779323, 1.87670115, 1.94930857, 1.6658336 ,\n",
       "       2.02279541, 2.04344957, 1.76067799, 1.7682085 , 1.59337474,\n",
       "       1.63410636, 1.72124547, 1.77020231, 1.67374429, 1.94093176,\n",
       "       1.78866809, 1.71595917, 1.79189092, 1.67267774, 1.75031552,\n",
       "       1.81757822, 1.55996151, 1.77792755, 1.94751777, 1.84400983,\n",
       "       1.81617985, 1.92477383, 1.9452705 , 1.87690838, 1.88433315,\n",
       "       1.65659723, 1.75215845, 1.73196109, 1.75103647, 1.82710462,\n",
       "       1.84573325, 2.0724655 , 1.60749094, 1.63510519, 1.79002419,\n",
       "       1.76015287, 1.85030862, 1.79802499, 1.55418449, 2.085445  ,\n",
       "       1.68420633, 1.70012497, 1.70407578, 1.91441449, 1.75442738,\n",
       "       1.85806614, 1.79285569, 1.6892744 , 1.83111763, 1.76725282,\n",
       "       1.83987222, 1.85440477, 1.90130866, 1.71675046, 1.83306278,\n",
       "       1.67997348, 1.76756538, 1.63423663, 1.84839472, 1.86728881,\n",
       "       1.4985586 , 1.86544511, 1.61160998, 1.74931486, 2.02176255,\n",
       "       1.98617048, 1.89218383, 1.73107323, 1.74421649, 1.82351138,\n",
       "       1.63311135, 1.66575276, 1.77185197, 1.75022144, 1.99147688,\n",
       "       1.93497198, 1.73615596, 1.8693462 , 2.0703355 , 1.84531428,\n",
       "       1.81520434, 1.99971302, 1.75677629, 1.69703371, 1.69191076,\n",
       "       1.90986666, 1.81661807, 1.88628464, 1.80315313, 1.81327519,\n",
       "       1.80700377, 1.65368375, 1.60648547, 1.89362757, 1.89314975,\n",
       "       1.52954931, 1.65780883, 1.76863836, 1.61646725, 1.98790888,\n",
       "       1.70906843, 2.0012336 , 1.80938961, 1.58441695, 1.88824138,\n",
       "       1.79253858, 1.61238413, 1.98644591, 2.05981137, 1.5520899 ,\n",
       "       1.67205511, 2.08276684, 1.91229028, 1.49313204, 1.89530797,\n",
       "       1.58280434, 1.86835551, 1.73216797, 1.64636087, 1.942391  ,\n",
       "       1.6636094 , 1.57400879, 1.89094354, 1.86544557, 1.695896  ,\n",
       "       1.70907974, 1.83316847, 1.58356549, 1.73949841, 1.49897574,\n",
       "       1.87034966, 1.62862713, 1.85383291, 1.76123833, 1.92501456,\n",
       "       1.96595149, 1.58624199, 1.82026405, 1.67443204, 1.89983514,\n",
       "       1.91680305, 1.81292089, 1.75456116, 1.94180563, 1.70544436,\n",
       "       1.95958946, 1.68095681, 1.80031112, 1.48283827, 1.83582131,\n",
       "       1.72183476, 1.88279109, 1.72460311, 1.76521405, 1.55104543,\n",
       "       1.67580619, 1.87105527, 1.47188303, 1.72049648, 1.72172823,\n",
       "       1.76549292, 1.78377795, 1.77872628, 1.86650869, 1.88471254,\n",
       "       1.78315555, 1.73384309, 1.85570348, 1.75784758, 1.88892026,\n",
       "       2.0709352 , 1.73474601, 1.77404845, 1.8088799 , 1.81309892,\n",
       "       1.78621265, 1.78607079, 1.75640853, 1.83096713, 1.6103909 ,\n",
       "       1.61627185, 2.0007814 , 1.93768068, 1.78611752, 1.59797444,\n",
       "       1.64968586, 1.9897331 , 1.70976809, 1.99706245, 1.92577416,\n",
       "       1.92633117, 1.84723949, 1.67521862, 1.78824277, 2.03339224,\n",
       "       1.7329555 , 1.71571325, 1.80731657, 1.55269765, 1.70012303,\n",
       "       1.94403822, 1.75470945, 1.81388485, 1.75703713, 1.8706432 ,\n",
       "       1.91950345, 1.79806135, 1.72780846, 1.94223144, 1.8632845 ,\n",
       "       1.89360039, 1.89653575, 1.57552939, 1.8428175 , 2.06610111,\n",
       "       1.64937764, 1.76463194, 1.81944592, 2.15101241, 1.50343353,\n",
       "       1.90393892, 2.20869884, 1.91732238, 1.99160006, 2.00076069,\n",
       "       2.03542311, 1.90769384, 1.95891527, 1.80906404, 1.53447609,\n",
       "       1.79597371, 1.66554091, 1.82619678, 1.90086264, 1.42203989,\n",
       "       1.93079775, 1.98350589, 1.89948879, 1.7211274 , 1.80535016,\n",
       "       1.7224265 , 2.24246755, 1.93356469, 1.48772427, 1.83877527,\n",
       "       1.74159488, 1.8692529 , 1.69649119, 1.90761601, 1.8443557 ,\n",
       "       1.50287518, 1.91125723, 1.9504707 , 1.91867637, 1.68681441,\n",
       "       1.3884049 , 1.92103956, 2.01900973, 1.66569062, 1.85439009,\n",
       "       1.5906001 , 1.63425743, 1.68673089, 1.6767334 , 1.6820648 ,\n",
       "       1.80639508, 2.05757369, 1.62435147, 1.43672789, 1.73159666,\n",
       "       1.91999195, 1.78525057, 1.91949678, 1.72062897, 1.71829398,\n",
       "       1.64703395, 1.64671608, 1.8597687 , 1.74957704, 1.89070538,\n",
       "       1.87044694, 1.64821558, 1.99073122, 1.83787006, 1.73078186,\n",
       "       1.84371592, 1.93533333, 1.76567449, 1.74721063, 1.84221302,\n",
       "       1.91052517, 1.71667445, 1.807851  , 1.82536903, 1.65995417,\n",
       "       1.7974599 , 1.99455233, 1.64057951, 1.70727541, 1.67518984,\n",
       "       1.94026131, 1.75090294, 1.79767167, 1.69771312, 1.55859477,\n",
       "       1.7156686 , 1.89060197, 1.9712428 , 1.85159591, 1.76442486,\n",
       "       1.8021498 , 2.00459059, 1.88131731, 1.92250685, 1.5629508 ,\n",
       "       1.99852346, 1.71858933, 1.64462566, 1.59465145, 1.66266447,\n",
       "       1.86301432, 1.89115169, 1.89652935, 1.76700959, 1.61842207,\n",
       "       1.82417256, 1.71365864, 1.83251918, 1.76745047, 1.75745176,\n",
       "       1.6783344 , 1.60681465, 1.92469706, 1.9571137 , 1.93528603,\n",
       "       1.79222885, 1.42260795, 1.84267611, 1.8182405 , 1.89477686,\n",
       "       1.77589854, 1.66749264, 1.88022583, 1.76153243, 1.74672167,\n",
       "       1.66413542, 1.89927987, 1.64063815, 1.99989483, 1.71128509,\n",
       "       2.12948606, 1.79459901, 1.91092913, 1.58355705, 1.73064489,\n",
       "       1.88618007, 1.58394624, 1.81273865, 1.73570646, 1.8397284 ,\n",
       "       1.85384956, 1.83315677, 1.95201538, 2.15677703, 1.95473703,\n",
       "       1.65675181, 1.98041467, 1.61927261, 1.7970507 , 1.81600665,\n",
       "       1.96757727, 1.73994703, 1.99221469, 1.75736725, 1.82280413,\n",
       "       1.95962516, 1.83558202, 1.80080665, 1.87201568, 1.96696596,\n",
       "       1.64358448, 1.80039637, 1.85176194, 1.83259427, 1.82464456,\n",
       "       1.68254966, 1.5978335 , 1.77981905, 1.73099165, 1.64653997,\n",
       "       2.09002541, 1.61199668, 1.72802065, 1.4976121 , 1.5849663 ,\n",
       "       1.997508  , 1.66025736, 1.87077509, 1.40865878, 1.79035232,\n",
       "       1.63777112, 2.04677164, 1.82649396, 1.74853057, 2.01868594,\n",
       "       1.80969671, 1.75492329, 1.75199772, 1.71456903, 1.7780222 ,\n",
       "       1.71146578, 1.6670722 , 1.74769785, 1.87334822, 1.93550972,\n",
       "       1.94540607, 1.88861674, 1.95493789, 1.58623488, 1.605445  ,\n",
       "       1.5760599 , 1.78128348, 1.83720993, 1.79796225, 1.87244507,\n",
       "       1.64861072, 1.86705407, 1.84621843, 1.87852931, 1.96115914,\n",
       "       1.79679264, 1.7796905 , 1.74702634, 2.05195692, 2.06610411,\n",
       "       1.76204216, 1.50548309, 1.64674248, 1.96286165, 1.74406923,\n",
       "       1.81708223, 1.82907685, 2.0634905 , 1.72011047, 1.99135896,\n",
       "       1.94621068, 1.85455169, 1.78372886, 1.85298725, 1.88023627,\n",
       "       1.87928528, 1.98808237, 1.78716365, 1.72314024, 1.62123434,\n",
       "       1.90226615, 1.78578395, 1.73233927, 1.99026806, 1.63463083,\n",
       "       1.87126372, 1.64493858, 1.77652747, 1.92795313, 1.69797279,\n",
       "       1.84486121, 1.60783614, 1.90359439, 1.69414877, 2.06078726,\n",
       "       1.98651621, 1.74454554, 1.75240789, 1.74820441, 1.48159044,\n",
       "       1.80177024, 1.76081238, 1.64546605, 1.97181585, 1.7966717 ,\n",
       "       1.66220239, 1.77228836, 1.81833066, 2.05100631, 1.847638  ,\n",
       "       1.9141187 , 1.78263092, 1.58584499, 1.94287573, 1.74589954,\n",
       "       1.70784695, 1.53987945, 1.71756591, 1.80583989, 1.768691  ,\n",
       "       1.76161629, 1.59925431, 1.78468835, 1.90273403, 1.69595071,\n",
       "       1.82135103, 1.54928656, 1.81886392, 1.69682778, 1.92208858,\n",
       "       1.81754652, 1.41374508, 1.86809796, 1.91779601, 1.91115493,\n",
       "       1.79391708, 1.61223857, 1.90557638, 1.92128131, 1.73176803,\n",
       "       1.84424513, 1.88161638, 1.87657411, 1.79370975, 1.95223615,\n",
       "       1.85056   , 2.1334365 , 1.85012126, 1.76484436, 1.79626576,\n",
       "       1.74634768, 1.9477135 , 1.88302823, 1.63226005, 1.75132516,\n",
       "       1.55628726, 1.92879177, 1.65490743, 2.07843226, 1.82303375,\n",
       "       1.73331051, 1.69150012, 1.6395932 , 1.71512748, 1.79758335,\n",
       "       1.99257838, 1.92174192, 1.83718568, 1.67408334, 1.7784042 ,\n",
       "       1.68771122, 1.72810344, 1.74207643, 1.92799755, 1.88941815,\n",
       "       1.6441822 , 1.91019493, 1.89121297, 1.71366461, 1.75548694,\n",
       "       1.55195909, 1.83028827, 1.7547116 , 1.61752453, 1.59446664,\n",
       "       1.74059704, 1.82424529, 1.65554214, 1.93766453, 1.91027796,\n",
       "       1.80209982, 1.5304753 , 1.56511042, 1.81462867, 1.92417442,\n",
       "       1.63668743, 1.47986182, 1.66996446, 1.81547685, 1.87025035,\n",
       "       1.91942408, 1.76627866, 2.09477848, 1.90527377, 1.62712091,\n",
       "       1.72967518, 1.64505411, 1.71213343, 1.62999079, 1.76106696,\n",
       "       1.61909083, 1.69965405, 1.54598145, 1.8677478 , 1.79243701,\n",
       "       1.69259165, 1.80730742, 1.91462393, 1.63423708, 1.99049054,\n",
       "       1.60285946, 2.03689782, 1.79256845, 1.9663609 , 1.67474931,\n",
       "       1.71667842, 1.74737674, 1.53551689, 1.71943801, 1.68457579,\n",
       "       1.57447246, 1.72552998, 1.75501317, 1.84239336, 1.85863312,\n",
       "       1.72564738, 1.69770577, 1.86013864, 1.79255324, 1.86352479])"
      ]
     },
     "execution_count": 79,
     "metadata": {},
     "output_type": "execute_result"
    }
   ],
   "source": [
    "s = np.random.default_rng().normal(mu, sigma, 1000)\n",
    "s"
   ]
  },
  {
   "cell_type": "markdown",
   "id": "b1743623",
   "metadata": {},
   "source": [
    "A histogram of the distribution is shown below, with height (metres) shown along the x-axis and PDF along the y-axis. In this example, the data is sorted into 30 'bins' which the range of data grouped into these bins."
   ]
  },
  {
   "cell_type": "code",
   "execution_count": 58,
   "id": "b6844be0",
   "metadata": {},
   "outputs": [
    {
     "data": {
      "image/png": "[encoded data removed]",
      "text/plain": [
       "<Figure size 432x288 with 1 Axes>"
      ]
     },
     "metadata": {
      "needs_background": "light"
     },
     "output_type": "display_data"
    }
   ],
   "source": [
    "count, bins, ignored = plt.hist(s, 30)\n",
    "\n",
    "plt.show()"
   ]
  },
  {
   "cell_type": "markdown",
   "id": "4d520b76",
   "metadata": {},
   "source": [
    "A line plot can be produced for the data using the formula for normal distribution:"
   ]
  },
  {
   "cell_type": "code",
   "execution_count": 59,
   "id": "f6c7ce12",
   "metadata": {},
   "outputs": [
    {
     "data": {
      "image/png": "[encoded data removed]",
      "text/plain": [
       "<Figure size 432x288 with 1 Axes>"
      ]
     },
     "metadata": {
      "needs_background": "light"
     },
     "output_type": "display_data"
    }
   ],
   "source": [
    "plt.plot(bins, 1/(sigma * np.sqrt(2 * np.pi)) *\n",
    "\n",
    "               np.exp( - (bins - mu)**2 / (2 * sigma**2) ),\n",
    "\n",
    "         linewidth=2, color='r')\n",
    "plt.show()"
   ]
  },
  {
   "cell_type": "markdown",
   "id": "a6910952",
   "metadata": {},
   "source": [
    "The two plots can be displayed together:"
   ]
  },
  {
   "cell_type": "code",
   "execution_count": 60,
   "id": "06c5f5c3",
   "metadata": {},
   "outputs": [
    {
     "data": {
      "image/png": "[encoded data removed]",
      "text/plain": [
       "<Figure size 432x288 with 1 Axes>"
      ]
     },
     "metadata": {
      "needs_background": "light"
     },
     "output_type": "display_data"
    }
   ],
   "source": [
    "count, bins, ignored = plt.hist(s, 30, density=True)\n",
    "\n",
    "plt.plot(bins, 1/(sigma * np.sqrt(2 * np.pi)) *\n",
    "\n",
    "               np.exp( - (bins - mu)**2 / (2 * sigma**2) ),\n",
    "\n",
    "         linewidth=2, color='r')\n",
    "\n",
    "plt.show()"
   ]
  },
  {
   "cell_type": "markdown",
   "id": "3fec1559",
   "metadata": {},
   "source": [
    "As can be seem, the majority of the values fall around the mean, with fewer values one, two, or three standard deviations from the mean. "
   ]
  },
  {
   "cell_type": "code",
   "execution_count": 80,
   "id": "609744af",
   "metadata": {},
   "outputs": [],
   "source": [
    "#print (bins)"
   ]
  },
  {
   "cell_type": "code",
   "execution_count": 81,
   "id": "713adb99",
   "metadata": {},
   "outputs": [],
   "source": [
    "#np.average(bins)"
   ]
  },
  {
   "cell_type": "markdown",
   "id": "3d553059",
   "metadata": {},
   "source": [
    "### 4.2. Weibull Distribution"
   ]
  },
  {
   "cell_type": "code",
   "execution_count": 200,
   "id": "0eac6d56",
   "metadata": {},
   "outputs": [
    {
     "data": {
      "image/png": "[encoded data removed]",
      "text/plain": [
       "<Figure size 432x288 with 1 Axes>"
      ]
     },
     "metadata": {
      "needs_background": "light"
     },
     "output_type": "display_data"
    }
   ],
   "source": [
    "# import numpy\n",
    "import numpy as np\n",
    "import matplotlib.pyplot as plt\n",
    "  \n",
    "# Using weibull() method\n",
    "gfg = np.random.weibull(2, 10000)\n",
    "  \n",
    "plt.hist(gfg, bins = 100, density = True)\n",
    "plt.show()"
   ]
  },
  {
   "cell_type": "code",
   "execution_count": null,
   "id": "fc1baafc",
   "metadata": {},
   "outputs": [],
   "source": []
  },
  {
   "cell_type": "code",
   "execution_count": null,
   "id": "8b20c37e",
   "metadata": {},
   "outputs": [],
   "source": []
  },
  {
   "cell_type": "code",
   "execution_count": null,
   "id": "d88b9656",
   "metadata": {},
   "outputs": [],
   "source": [
    "k = 2\n",
    "c = 4\n",
    "u = 3.54\n",
    "x = (k / c) * (u / c)**(k - 1) * np.exp(-(u / c)**k)"
   ]
  },
  {
   "cell_type": "code",
   "execution_count": 189,
   "id": "c9724ee0",
   "metadata": {},
   "outputs": [
    {
     "data": {
      "text/plain": [
       "array([0.02, 0.04, 0.06, 0.08, 0.1 , 0.12, 0.14, 0.16, 0.18, 0.2 , 0.22,\n",
       "       0.24, 0.26, 0.28, 0.3 , 0.32, 0.34, 0.36, 0.38, 0.4 , 0.42, 0.44,\n",
       "       0.46, 0.48, 0.5 , 0.52, 0.54, 0.56, 0.58, 0.6 , 0.62, 0.64, 0.66,\n",
       "       0.68, 0.7 , 0.72, 0.74, 0.76, 0.78, 0.8 , 0.82, 0.84, 0.86, 0.88,\n",
       "       0.9 , 0.92, 0.94, 0.96, 0.98, 1.  , 1.02, 1.04, 1.06, 1.08, 1.1 ,\n",
       "       1.12, 1.14, 1.16, 1.18, 1.2 , 1.22, 1.24, 1.26, 1.28, 1.3 , 1.32,\n",
       "       1.34, 1.36, 1.38, 1.4 , 1.42, 1.44, 1.46, 1.48, 1.5 , 1.52, 1.54,\n",
       "       1.56, 1.58, 1.6 , 1.62, 1.64, 1.66, 1.68, 1.7 , 1.72, 1.74, 1.76,\n",
       "       1.78, 1.8 , 1.82, 1.84, 1.86, 1.88, 1.9 , 1.92, 1.94, 1.96, 1.98])"
      ]
     },
     "execution_count": 189,
     "metadata": {},
     "output_type": "execute_result"
    }
   ],
   "source": [
    "x"
   ]
  },
  {
   "cell_type": "code",
   "execution_count": 190,
   "id": "daf100b3",
   "metadata": {},
   "outputs": [
    {
     "data": {
      "text/plain": [
       "(array([10., 10., 10., 10.,  9., 10., 10., 10., 10., 10.]),\n",
       " array([0.02 , 0.216, 0.412, 0.608, 0.804, 1.   , 1.196, 1.392, 1.588,\n",
       "        1.784, 1.98 ]),\n",
       " <BarContainer object of 10 artists>)"
      ]
     },
     "execution_count": 190,
     "metadata": {},
     "output_type": "execute_result"
    },
    {
     "data": {
      "image/png": "[encoded data removed]",
      "text/plain": [
       "<Figure size 432x288 with 1 Axes>"
      ]
     },
     "metadata": {
      "needs_background": "light"
     },
     "output_type": "display_data"
    }
   ],
   "source": [
    "plt.hist(x)"
   ]
  },
  {
   "cell_type": "code",
   "execution_count": 187,
   "id": "17e581f9",
   "metadata": {},
   "outputs": [],
   "source": [
    "rng = np.random.default_rng()\n",
    "\n",
    "k = 2 # shape\n",
    "\n",
    "s = rng.weibull(k, 25)"
   ]
  },
  {
   "cell_type": "code",
   "execution_count": 188,
   "id": "12a3410a",
   "metadata": {},
   "outputs": [
    {
     "data": {
      "text/plain": [
       "array([1.05257464, 1.35968969, 0.89730128, 0.72419484, 1.07925534,\n",
       "       1.26640556, 1.94236337, 0.9118908 , 0.95647265, 1.20701771,\n",
       "       0.45389725, 0.30619944, 0.60951925, 0.41074137, 0.25148434,\n",
       "       0.78045631, 1.31733896, 0.30723394, 0.66676029, 0.43826716,\n",
       "       1.46642877, 1.0199168 , 0.92738364, 0.94734649, 0.97250421])"
      ]
     },
     "execution_count": 188,
     "metadata": {},
     "output_type": "execute_result"
    }
   ],
   "source": [
    "s"
   ]
  },
  {
   "cell_type": "code",
   "execution_count": 164,
   "id": "65d6ffeb",
   "metadata": {},
   "outputs": [],
   "source": [
    "k = 2\n",
    "c = 4\n",
    "u = 3.54\n",
    "s = rng.weibull(25, 100)"
   ]
  },
  {
   "cell_type": "code",
   "execution_count": 165,
   "id": "b2efa4bf",
   "metadata": {},
   "outputs": [
    {
     "data": {
      "text/plain": [
       "array([0.90241601, 0.98764199, 0.98097183, 0.90813804, 0.92617923,\n",
       "       1.00415002, 1.00366825, 1.03265889, 1.02638412, 0.9933212 ,\n",
       "       1.05059796, 0.9673197 , 1.01815066, 0.86158399, 1.05399226,\n",
       "       1.02245709, 0.99843546, 0.99788612, 0.93371224, 0.98651115,\n",
       "       0.95849916, 1.02420066, 0.94657217, 0.98386436, 1.00285535,\n",
       "       0.97834107, 0.99410207, 0.97111347, 0.91266661, 1.05170499,\n",
       "       0.89544723, 1.01089749, 0.97066697, 1.00858333, 1.04046551,\n",
       "       0.98711962, 0.99856746, 0.8809231 , 0.90947609, 1.05276386,\n",
       "       1.06372193, 0.76044036, 0.9339923 , 1.04603782, 1.00147204,\n",
       "       0.99640448, 0.96430774, 0.93393792, 0.91524826, 0.92028988,\n",
       "       0.96366002, 0.97392863, 0.88883439, 1.04074719, 0.93173877,\n",
       "       0.90759772, 0.99648427, 1.01182877, 0.98890801, 1.03002833,\n",
       "       1.00771191, 1.02030219, 0.91821084, 0.94082285, 0.94914278,\n",
       "       1.04554092, 0.97518481, 1.01087701, 1.02129546, 1.01915921,\n",
       "       1.02934041, 0.9045972 , 1.02052518, 1.01187021, 1.05931053,\n",
       "       0.92688408, 0.95041953, 0.90624029, 0.91659839, 0.99466   ,\n",
       "       1.02315705, 0.96333286, 0.98183397, 1.00310814, 0.99419698,\n",
       "       1.0005227 , 0.89834426, 1.06243664, 0.99686793, 0.974029  ,\n",
       "       0.97251562, 1.03558022, 0.94362112, 0.97986469, 0.97910339,\n",
       "       0.89722819, 1.04005965, 0.91302529, 1.0130322 , 0.9424784 ])"
      ]
     },
     "execution_count": 165,
     "metadata": {},
     "output_type": "execute_result"
    }
   ],
   "source": [
    "s"
   ]
  },
  {
   "cell_type": "code",
   "execution_count": 154,
   "id": "57668fb6",
   "metadata": {},
   "outputs": [],
   "source": [
    "#def weib(c,u,k):\n",
    "#\n",
    "    return (k / c) * (u / c)**(k - 1) * np.exp(-(u / c)**k)"
   ]
  },
  {
   "cell_type": "code",
   "execution_count": 158,
   "id": "ab05aa8a",
   "metadata": {},
   "outputs": [
    {
     "data": {
      "image/png": "[encoded data removed]",
      "text/plain": [
       "<Figure size 432x288 with 1 Axes>"
      ]
     },
     "metadata": {
      "needs_background": "light"
     },
     "output_type": "display_data"
    }
   ],
   "source": [
    "count, bins, ignored = plt.hist(rng.weibull(s))\n",
    "\n",
    "x = np.arange(1,100.)/50.\n",
    "\n",
    "scale = count.max()/weib(x, 1., 5.).max()\n",
    "\n",
    "plt.plot(x, weib(x, 1., 5.)*scale)\n",
    "\n",
    "plt.show()"
   ]
  },
  {
   "cell_type": "code",
   "execution_count": null,
   "id": "258e2651",
   "metadata": {},
   "outputs": [],
   "source": []
  },
  {
   "cell_type": "code",
   "execution_count": null,
   "id": "e7c5b89b",
   "metadata": {},
   "outputs": [],
   "source": []
  },
  {
   "cell_type": "markdown",
   "id": "488bff0c",
   "metadata": {},
   "source": [
    "## 5. Seeds"
   ]
  },
  {
   "cell_type": "markdown",
   "id": "73d92da6",
   "metadata": {},
   "source": [
    "```numpy.random``` uses a seed to derive the initial state with a sequence of statistcally random numbers generated from this known starting point; the use of a known seed means that the the algorithm is repeatable. \n",
    "\n",
    "Therefore, the numbers generated are not completely random and are known as \"pseudo-random numbers\"."
   ]
  },
  {
   "cell_type": "code",
   "execution_count": null,
   "id": "401d3a27",
   "metadata": {},
   "outputs": [],
   "source": []
  },
  {
   "cell_type": "code",
   "execution_count": null,
   "id": "2f3f4389",
   "metadata": {},
   "outputs": [],
   "source": []
  },
  {
   "cell_type": "markdown",
   "id": "455d416b",
   "metadata": {},
   "source": [
    "## 6. Conclusion"
   ]
  }
 ],
 "metadata": {
  "kernelspec": {
   "display_name": "Python 3 (ipykernel)",
   "language": "python",
   "name": "python3"
  },
  "language_info": {
   "codemirror_mode": {
    "name": "ipython",
    "version": 3
   },
   "file_extension": ".py",
   "mimetype": "text/x-python",
   "name": "python",
   "nbconvert_exporter": "python",
   "pygments_lexer": "ipython3",
   "version": "3.8.11"
  }
 },
 "nbformat": 4,
 "nbformat_minor": 5
}
